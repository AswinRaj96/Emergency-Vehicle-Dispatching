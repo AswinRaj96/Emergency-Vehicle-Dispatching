{
 "cells": [
  {
   "cell_type": "markdown",
   "metadata": {},
   "source": [
    "# Artificial Bee Colony"
   ]
  }
 ],
 "metadata": {
  "interpreter": {
   "hash": "a405b721b341898b1c612734a812e53b99bd4311cd409aa0073bcfbe1e3bbb80"
  },
  "kernelspec": {
   "display_name": "Python 3.8.10 64-bit ('book-env': venv)",
   "name": "python3"
  },
  "language_info": {
   "name": "python",
   "version": "3.8.10"
  },
  "orig_nbformat": 4
 },
 "nbformat": 4,
 "nbformat_minor": 2
}
