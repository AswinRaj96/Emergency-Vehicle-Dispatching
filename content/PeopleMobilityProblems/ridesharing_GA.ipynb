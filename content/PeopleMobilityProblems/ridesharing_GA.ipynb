{
 "cells": [
  {
   "cell_type": "markdown",
   "source": [
    "# Ridesharing using Genetic Algorithms\n",
    "\n",
    "**Problem definition:**\n",
    "\n",
    "Consider the following problem:\n",
    "\n",
    "A ridesharing company operates by answering requests for rides across the city. This rides consist of a trip from point A to point B. The following are some important criteria, and our goal is to optimize at least two of them, if not all:\n",
    "\n",
    "- Minimizing the total number of vehicles required.\n",
    "- Minimizing the total travel distance/time of vehicles trips.\n",
    "- Minimizing the total travel time of passengers’ trips.\n",
    "- Maximizing the number of matched (served) requests.\n",
    "- Minimizing the cost for the vehicles' trips/loss during uncharged driving\n",
    "- Maximizing the vehicles' earning/total profit.\n",
    "- Minimizing the cost for the passengers’ trips.\n",
    "- Minimizing passenger’s waiting time.\n",
    "- Balancing the routes of vehicles' load.\n",
    "\n",
    "We can formulate this problem in mathematical terms, and apply Genetic Algorithms to find a solution."
   ],
   "metadata": {}
  },
  {
   "cell_type": "code",
   "execution_count": 22,
   "source": [
    "import pandas as pd\n",
    "import math\n",
    "import numpy as np\n",
    "import random\n",
    "import time\n",
    "import matplotlib.pyplot as plt\n",
    "import osmnx as ox\n",
    "import networkx as nx\n",
    "from tqdm.notebook import tqdm\n",
    "from smart_mobility_utilities.poi import poi, drawPOIS, drawRoute"
   ],
   "outputs": [],
   "metadata": {}
  },
  {
   "cell_type": "code",
   "execution_count": 2,
   "source": [
    "# You can use different excel data\n",
    "file_path = '../../data/rideshare_GA/rideshare_dropoff.csv'\n",
    "df = pd.read_csv(file_path)\n",
    "numberOfStops = len(df)\n",
    "df"
   ],
   "outputs": [
    {
     "output_type": "execute_result",
     "data": {
      "text/html": [
       "<div>\n",
       "<style scoped>\n",
       "    .dataframe tbody tr th:only-of-type {\n",
       "        vertical-align: middle;\n",
       "    }\n",
       "\n",
       "    .dataframe tbody tr th {\n",
       "        vertical-align: top;\n",
       "    }\n",
       "\n",
       "    .dataframe thead th {\n",
       "        text-align: right;\n",
       "    }\n",
       "</style>\n",
       "<table border=\"1\" class=\"dataframe\">\n",
       "  <thead>\n",
       "    <tr style=\"text-align: right;\">\n",
       "      <th></th>\n",
       "      <th>Longitude</th>\n",
       "      <th>Latitude</th>\n",
       "      <th>Address</th>\n",
       "    </tr>\n",
       "  </thead>\n",
       "  <tbody>\n",
       "    <tr>\n",
       "      <th>0</th>\n",
       "      <td>-79.389653</td>\n",
       "      <td>43.669624</td>\n",
       "      <td>Bay Subway Station</td>\n",
       "    </tr>\n",
       "    <tr>\n",
       "      <th>1</th>\n",
       "      <td>-79.379568</td>\n",
       "      <td>43.768544</td>\n",
       "      <td>Bessarion Subway Station</td>\n",
       "    </tr>\n",
       "    <tr>\n",
       "      <th>2</th>\n",
       "      <td>-79.368367</td>\n",
       "      <td>43.673658</td>\n",
       "      <td>Castle Frank Subway Station</td>\n",
       "    </tr>\n",
       "    <tr>\n",
       "      <th>3</th>\n",
       "      <td>-79.418020</td>\n",
       "      <td>43.663659</td>\n",
       "      <td>Christie Subway Station</td>\n",
       "    </tr>\n",
       "    <tr>\n",
       "      <th>4</th>\n",
       "      <td>-79.323692</td>\n",
       "      <td>43.683357</td>\n",
       "      <td>Coxwell Subway Station</td>\n",
       "    </tr>\n",
       "    <tr>\n",
       "      <th>5</th>\n",
       "      <td>-79.346952</td>\n",
       "      <td>43.775110</td>\n",
       "      <td>Don Mills Subway Station</td>\n",
       "    </tr>\n",
       "    <tr>\n",
       "      <th>6</th>\n",
       "      <td>-79.462910</td>\n",
       "      <td>43.750348</td>\n",
       "      <td>Downsview Subway Station</td>\n",
       "    </tr>\n",
       "    <tr>\n",
       "      <th>7</th>\n",
       "      <td>-79.380984</td>\n",
       "      <td>43.656363</td>\n",
       "      <td>Dundas Subway Station</td>\n",
       "    </tr>\n",
       "    <tr>\n",
       "      <th>8</th>\n",
       "      <td>-79.407034</td>\n",
       "      <td>43.674731</td>\n",
       "      <td>Dupont Subway Station</td>\n",
       "    </tr>\n",
       "    <tr>\n",
       "      <th>9</th>\n",
       "      <td>-79.415660</td>\n",
       "      <td>43.780174</td>\n",
       "      <td>Finch Subway Station</td>\n",
       "    </tr>\n",
       "    <tr>\n",
       "      <th>10</th>\n",
       "      <td>-79.437718</td>\n",
       "      <td>43.698421</td>\n",
       "      <td>Eglinton West Subway Station</td>\n",
       "    </tr>\n",
       "    <tr>\n",
       "      <th>11</th>\n",
       "      <td>-79.264469</td>\n",
       "      <td>43.732753</td>\n",
       "      <td>Kennedy Subway Station</td>\n",
       "    </tr>\n",
       "    <tr>\n",
       "      <th>12</th>\n",
       "      <td>-79.337468</td>\n",
       "      <td>43.680396</td>\n",
       "      <td>Donlands Subway Station</td>\n",
       "    </tr>\n",
       "    <tr>\n",
       "      <th>13</th>\n",
       "      <td>-79.534879</td>\n",
       "      <td>43.638253</td>\n",
       "      <td>Kipling Subway Station</td>\n",
       "    </tr>\n",
       "    <tr>\n",
       "      <th>14</th>\n",
       "      <td>-79.464369</td>\n",
       "      <td>43.653746</td>\n",
       "      <td>High Park Subway Station</td>\n",
       "    </tr>\n",
       "    <tr>\n",
       "      <th>15</th>\n",
       "      <td>-79.398022</td>\n",
       "      <td>43.704901</td>\n",
       "      <td>Eglinton Subway Station</td>\n",
       "    </tr>\n",
       "  </tbody>\n",
       "</table>\n",
       "</div>"
      ],
      "text/plain": [
       "    Longitude   Latitude                       Address\n",
       "0  -79.389653  43.669624            Bay Subway Station\n",
       "1  -79.379568  43.768544      Bessarion Subway Station\n",
       "2  -79.368367  43.673658   Castle Frank Subway Station\n",
       "3  -79.418020  43.663659       Christie Subway Station\n",
       "4  -79.323692  43.683357        Coxwell Subway Station\n",
       "5  -79.346952  43.775110      Don Mills Subway Station\n",
       "6  -79.462910  43.750348      Downsview Subway Station\n",
       "7  -79.380984  43.656363         Dundas Subway Station\n",
       "8  -79.407034  43.674731         Dupont Subway Station\n",
       "9  -79.415660  43.780174          Finch Subway Station\n",
       "10 -79.437718  43.698421  Eglinton West Subway Station\n",
       "11 -79.264469  43.732753        Kennedy Subway Station\n",
       "12 -79.337468  43.680396       Donlands Subway Station\n",
       "13 -79.534879  43.638253        Kipling Subway Station\n",
       "14 -79.464369  43.653746      High Park Subway Station\n",
       "15 -79.398022  43.704901       Eglinton Subway Station"
      ]
     },
     "metadata": {},
     "execution_count": 2
    }
   ],
   "metadata": {}
  },
  {
   "cell_type": "code",
   "execution_count": 3,
   "source": [
    "POIS = []\n",
    "for _ in df.itertuples():\n",
    "    POIS.append(poi(_.Address,\"canada\",_.Latitude, _.Longitude))\n",
    "POIS"
   ],
   "outputs": [
    {
     "output_type": "execute_result",
     "data": {
      "text/plain": [
       "[Name: Bay Street ID: 1601697722,\n",
       " Name: 653 ID: 76112568,\n",
       " Name: Castle Frank ID: 43804186,\n",
       " Name: 719-721 ID: 363349504,\n",
       " Name: Coxwell Avenue ID: 420539103,\n",
       " Name: Don Mills Road ID: 31653252,\n",
       " Name: 3945 ID: 76130372,\n",
       " Name: Fit for Life ID: 1561890202,\n",
       " Name: Dupont ID: 5320349317,\n",
       " Name: Finch ID: 561044357,\n",
       " Name: 1380 ID: 66246309,\n",
       " Name: Scarborough Southwest ID: 685674284,\n",
       " Name: Donlands Avenue ID: 420539141,\n",
       " Name: Kipling Station ID: 32052148,\n",
       " Name: 1870 ID: 67739333,\n",
       " Name: Canadian Tire/TVO ID: 95758198]"
      ]
     },
     "metadata": {},
     "execution_count": 3
    }
   ],
   "metadata": {}
  },
  {
   "cell_type": "code",
   "execution_count": 5,
   "source": [
    "drawPOIS(POIS, zoom=10)"
   ],
   "outputs": [
    {
     "output_type": "display_data",
     "data": {
      "application/vnd.jupyter.widget-view+json": {
       "version_major": 2,
       "version_minor": 0,
       "model_id": "4d10872910294c34972b4dd34b9d8ec0"
      },
      "text/plain": [
       "Map(center=[43.70017248810806, -79.3957161482716], close_popup_on_click=False, controls=(ZoomControl(options=[…"
      ]
     },
     "metadata": {}
    }
   ],
   "metadata": {}
  },
  {
   "cell_type": "code",
   "execution_count": 6,
   "source": [
    "G = nx.DiGraph()\n",
    "G.add_nodes_from(POIS)"
   ],
   "outputs": [],
   "metadata": {}
  },
  {
   "cell_type": "code",
   "execution_count": 12,
   "source": [
    "# this will take 1-2 minutes because you need to find\n",
    "# two routes between each pair of POIs\n",
    "durations = []\n",
    "for source in tqdm(G.nodes(), total=len(G.nodes())):\n",
    "    duration = []\n",
    "    for destination in tqdm(G.nodes(), total=len(G.nodes()), leave=False):\n",
    "        if source == destination: \n",
    "            duration.append(0)\n",
    "            continue\n",
    "        G.add_edge(source, destination, route = source.route_to(destination))\n",
    "        route = source.route_to(destination)\n",
    "        duration.append(route['duration'])\n",
    "    durations.append(duration)"
   ],
   "outputs": [
    {
     "output_type": "display_data",
     "data": {
      "application/vnd.jupyter.widget-view+json": {
       "version_major": 2,
       "version_minor": 0,
       "model_id": "c0ed0e58fcba4af6b47e6691862c01b6"
      },
      "text/plain": [
       "  0%|          | 0/16 [00:00<?, ?it/s]"
      ]
     },
     "metadata": {}
    },
    {
     "output_type": "display_data",
     "data": {
      "application/vnd.jupyter.widget-view+json": {
       "version_major": 2,
       "version_minor": 0,
       "model_id": "af37ae93a39543a8b54a5d2f0f4c6907"
      },
      "text/plain": [
       "  0%|          | 0/16 [00:00<?, ?it/s]"
      ]
     },
     "metadata": {}
    },
    {
     "output_type": "display_data",
     "data": {
      "application/vnd.jupyter.widget-view+json": {
       "version_major": 2,
       "version_minor": 0,
       "model_id": "b386f70b5a0a4839807a771a1cf53b35"
      },
      "text/plain": [
       "  0%|          | 0/16 [00:00<?, ?it/s]"
      ]
     },
     "metadata": {}
    },
    {
     "output_type": "display_data",
     "data": {
      "application/vnd.jupyter.widget-view+json": {
       "version_major": 2,
       "version_minor": 0,
       "model_id": "43f38c8687cc44f292a16d7272ca1932"
      },
      "text/plain": [
       "  0%|          | 0/16 [00:00<?, ?it/s]"
      ]
     },
     "metadata": {}
    },
    {
     "output_type": "display_data",
     "data": {
      "application/vnd.jupyter.widget-view+json": {
       "version_major": 2,
       "version_minor": 0,
       "model_id": "0ca3f42dc07a4729a8d324aa0f108167"
      },
      "text/plain": [
       "  0%|          | 0/16 [00:00<?, ?it/s]"
      ]
     },
     "metadata": {}
    },
    {
     "output_type": "display_data",
     "data": {
      "application/vnd.jupyter.widget-view+json": {
       "version_major": 2,
       "version_minor": 0,
       "model_id": "feacff047433400688cf8d15dd4c61b8"
      },
      "text/plain": [
       "  0%|          | 0/16 [00:00<?, ?it/s]"
      ]
     },
     "metadata": {}
    },
    {
     "output_type": "display_data",
     "data": {
      "application/vnd.jupyter.widget-view+json": {
       "version_major": 2,
       "version_minor": 0,
       "model_id": "91b0e45aef084005826dc6935557c923"
      },
      "text/plain": [
       "  0%|          | 0/16 [00:00<?, ?it/s]"
      ]
     },
     "metadata": {}
    },
    {
     "output_type": "display_data",
     "data": {
      "application/vnd.jupyter.widget-view+json": {
       "version_major": 2,
       "version_minor": 0,
       "model_id": "4fe7be1f4e4f46c8b7ff8c91339397f6"
      },
      "text/plain": [
       "  0%|          | 0/16 [00:00<?, ?it/s]"
      ]
     },
     "metadata": {}
    },
    {
     "output_type": "display_data",
     "data": {
      "application/vnd.jupyter.widget-view+json": {
       "version_major": 2,
       "version_minor": 0,
       "model_id": "ed2513eb1f1643659cb106d6197067fb"
      },
      "text/plain": [
       "  0%|          | 0/16 [00:00<?, ?it/s]"
      ]
     },
     "metadata": {}
    },
    {
     "output_type": "display_data",
     "data": {
      "application/vnd.jupyter.widget-view+json": {
       "version_major": 2,
       "version_minor": 0,
       "model_id": "d00d19efef3d4e598c12e44ba19bb0ba"
      },
      "text/plain": [
       "  0%|          | 0/16 [00:00<?, ?it/s]"
      ]
     },
     "metadata": {}
    },
    {
     "output_type": "display_data",
     "data": {
      "application/vnd.jupyter.widget-view+json": {
       "version_major": 2,
       "version_minor": 0,
       "model_id": "4bffbc32f16747858f894a8e6907d754"
      },
      "text/plain": [
       "  0%|          | 0/16 [00:00<?, ?it/s]"
      ]
     },
     "metadata": {}
    },
    {
     "output_type": "display_data",
     "data": {
      "application/vnd.jupyter.widget-view+json": {
       "version_major": 2,
       "version_minor": 0,
       "model_id": "5c80fd6a8efb4b978776bf5c9ff185c4"
      },
      "text/plain": [
       "  0%|          | 0/16 [00:00<?, ?it/s]"
      ]
     },
     "metadata": {}
    },
    {
     "output_type": "display_data",
     "data": {
      "application/vnd.jupyter.widget-view+json": {
       "version_major": 2,
       "version_minor": 0,
       "model_id": "c3d8c8cb97b1402d9fb4111bc9afb0b7"
      },
      "text/plain": [
       "  0%|          | 0/16 [00:00<?, ?it/s]"
      ]
     },
     "metadata": {}
    },
    {
     "output_type": "display_data",
     "data": {
      "application/vnd.jupyter.widget-view+json": {
       "version_major": 2,
       "version_minor": 0,
       "model_id": "4e35075346da4ad0959213f6e2d11326"
      },
      "text/plain": [
       "  0%|          | 0/16 [00:00<?, ?it/s]"
      ]
     },
     "metadata": {}
    },
    {
     "output_type": "display_data",
     "data": {
      "application/vnd.jupyter.widget-view+json": {
       "version_major": 2,
       "version_minor": 0,
       "model_id": "b326366501bf49b5ba8b02e81361baad"
      },
      "text/plain": [
       "  0%|          | 0/16 [00:00<?, ?it/s]"
      ]
     },
     "metadata": {}
    },
    {
     "output_type": "display_data",
     "data": {
      "application/vnd.jupyter.widget-view+json": {
       "version_major": 2,
       "version_minor": 0,
       "model_id": "088e99d193d8432a85918a31e50d2614"
      },
      "text/plain": [
       "  0%|          | 0/16 [00:00<?, ?it/s]"
      ]
     },
     "metadata": {}
    },
    {
     "output_type": "display_data",
     "data": {
      "application/vnd.jupyter.widget-view+json": {
       "version_major": 2,
       "version_minor": 0,
       "model_id": "740e9541fe354f69a424b60ca818385d"
      },
      "text/plain": [
       "  0%|          | 0/16 [00:00<?, ?it/s]"
      ]
     },
     "metadata": {}
    }
   ],
   "metadata": {}
  },
  {
   "cell_type": "code",
   "execution_count": 13,
   "source": [
    "trip = np.array(durations)\n",
    "trip"
   ],
   "outputs": [
    {
     "output_type": "execute_result",
     "data": {
      "text/plain": [
       "array([[   0. , 1244. ,  212.7,  270.3,  649.5, 1163.3, 1116.7,  192.9,\n",
       "         224.3, 1383.1,  739.7, 1298.9,  511.6, 1254.3,  728.6,  525.9],\n",
       "       [1230.5,    0. , 1169.1, 1268.4, 1125.1,  230.2,  610.7, 1349.9,\n",
       "        1221.8,  434.5,  701. ,  894.8, 1059.6, 1596.4, 1335.2,  872.3],\n",
       "       [ 215.5, 1131.5,    0. ,  485.8,  441.2,  955. , 1288.4,  341.8,\n",
       "         403.4, 1451.4,  912.1, 1090.6,  303.3, 1329.6,  944.1,  646.3],\n",
       "       [ 270.3, 1206. ,  483. ,    0. ,  919.8, 1406.4,  972.6,  463.2,\n",
       "         223.3, 1394.8,  553.8, 1569.2,  781.9, 1119.5,  458.3,  692.9],\n",
       "       [ 649.3, 1110. ,  587.9,  919.6,    0. ,  933.5, 1507.4,  765.1,\n",
       "         837.2, 1429.9, 1241.1,  854.6,  137.9, 1608. , 1332.3, 1031.7],\n",
       "       [1089.6,  230. , 1028.2, 1359.9,  984.2,    0. ,  761.3, 1209. ,\n",
       "        1277.5,  635.2,  834.5,  827.9,  918.7, 1732.7, 1471.5, 1008.6],\n",
       "       [1116.2,  628.3, 1277.8,  971.6, 1512.6,  841.3,    0. , 1309.1,\n",
       "         927.1,  620.3,  404.2, 1282.3, 1447.1, 1368.5, 1051.9,  811.6],\n",
       "       [ 192.9, 1318.8,  342. ,  463.2,  765.2, 1142.3, 1292.9,    0. ,\n",
       "         400.5, 1551.9,  915.9, 1277.9,  640.9, 1125.2,  788.9,  694.7],\n",
       "       [ 219.9, 1139.1,  400.2,  226.6,  837. , 1308.2,  928. ,  406.5,\n",
       "           0. , 1327.9,  531.7, 1443.8,  699.1, 1177. ,  612.4,  499.6],\n",
       "       [1334.4,  450.3, 1471.5, 1370.8, 1453.6,  621.5,  562.7, 1524.2,\n",
       "        1324.2,    0. ,  803.4, 1244.9, 1388.1, 1698.8, 1437.6,  952. ],\n",
       "       [ 720.4,  652.2,  888.4,  567.4, 1238.5,  852.6,  418.8,  913.3,\n",
       "         522.9,  841. ,    0. , 1293.5, 1105.7, 1108.4,  647.7,  422.2],\n",
       "       [1279. ,  994.6, 1217.6, 1549.3,  918.5,  912.8, 1391.8, 1397.9,\n",
       "        1466.9, 1314.5, 1465. ,    0. , 1056.4, 2145.9, 1870.2, 1263.3],\n",
       "       [ 511.4, 1047. ,  450. ,  781.7,  137.9,  870.5, 1444.4,  637.7,\n",
       "         699.3, 1366.9, 1106.8,  992.5,    0. , 1571.9, 1240. ,  897.4],\n",
       "       [1302.3, 1439.4, 1372.1, 1111. , 1662.6, 1652.3, 1295.3, 1176. ,\n",
       "        1178.8, 1628.2, 1104.5, 2093.2, 1621.3,    0. ,  652.7, 1432.9],\n",
       "       [ 728.6, 1293.5,  941.3,  458.3, 1352.6, 1493.9, 1060.1,  785.7,\n",
       "         611.1, 1482.3,  641.3, 1791.8, 1240.2,  661.2,    0. ,  969.7],\n",
       "       [ 509.3,  854.4,  652.5,  740.4, 1022.6, 1067.4,  801.6,  699.1,\n",
       "         530.1,  990.5,  425.3, 1223.2,  889.8, 1485.2, 1024.5,    0. ]])"
      ]
     },
     "metadata": {},
     "execution_count": 13
    }
   ],
   "metadata": {}
  },
  {
   "cell_type": "code",
   "execution_count": 14,
   "source": [
    "# define a function that can compute the fitness value of each solution in the population\n",
    "def cal_pop_objective_1(m, pop):\n",
    "    M = np.zeros([8,numberOfStops-1])\n",
    "    fitness = np.zeros(8)\n",
    "    for i in range(8):\n",
    "        for j in range(numberOfStops-1):\n",
    "            M[i,j] = m[pop[i,j]-1,pop[i,j+1]-1]\n",
    "    for k in range(8):\n",
    "        fitness[k] = np.sum(M[k])\n",
    "    return fitness\n"
   ],
   "outputs": [],
   "metadata": {}
  },
  {
   "cell_type": "code",
   "execution_count": 15,
   "source": [
    "# define a function that can select the best individuals in the current generation as the parents to produce the offsprings\n",
    "def select_mating(pop, fitness, num_parents):\n",
    "    parents = np.zeros([num_parents, pop.shape[1]])\n",
    "    for parent_num in range(num_parents):\n",
    "        min_fitness_index = np.where(fitness == np.min(fitness))\n",
    "        min_fitness_index = min_fitness_index[0][0]\n",
    "        parents[parent_num, :] = pop[min_fitness_index, :]\n",
    "        fitness[min_fitness_index] = 999999999\n",
    "    return parents\n"
   ],
   "outputs": [],
   "metadata": {}
  },
  {
   "cell_type": "code",
   "execution_count": 16,
   "source": [
    "# implementation of order 1 crossover\n",
    "def crossover(mum, dad):\n",
    "    size = len(mum)\n",
    "\n",
    "    # select random start/end position for crossover\n",
    "    alice, bob = [-1] * size, [-1] * size\n",
    "    start, end = sorted([random.randrange(size) for _ in range(2)])\n",
    "\n",
    "    # replicate mum's sequence for alice\n",
    "    alice_inherited = []\n",
    "    for i in range(start, end + 1):\n",
    "        alice[i] = mum[i]\n",
    "        alice_inherited.append(mum[i])\n",
    "\n",
    "    current_dad_position, current_mum_position = 0, 0\n",
    "\n",
    "    fixed_pos = list(range(start, end + 1))\n",
    "    i = 0\n",
    "    while i < size:\n",
    "        if i in fixed_pos:\n",
    "            i += 1\n",
    "            continue\n",
    "        test_alice = alice[i]\n",
    "        if test_alice==-1:\n",
    "            dad_trait = dad[current_dad_position]\n",
    "            while dad_trait in alice_inherited:\n",
    "                dad_trait = dad[current_dad_position]\n",
    "                current_dad_position += 1\n",
    "            alice[i] = dad_trait\n",
    "            alice_inherited.append(dad_trait)\n",
    "        i += 1\n",
    "    return alice\n"
   ],
   "outputs": [],
   "metadata": {}
  },
  {
   "cell_type": "code",
   "execution_count": 17,
   "source": [
    "# implementation of swap mutation\n",
    "def mutation(offspring_crossover):\n",
    "    a = random.randint(0,numberOfStops-1)\n",
    "    b = random.randint(0,numberOfStops-1)\n",
    "    for i in range(offspring_crossover.shape[0]):\n",
    "        mut_1 = offspring_crossover[i,a]\n",
    "        mut_2 = offspring_crossover[i,b]\n",
    "        offspring_crossover[i,a] = mut_2\n",
    "        offspring_crossover[i,b] = mut_1\n",
    "    return offspring_crossover\n"
   ],
   "outputs": [],
   "metadata": {}
  },
  {
   "cell_type": "code",
   "execution_count": 18,
   "source": [
    "\"implementation of genetic algorithm on ride sharing problem\"\n",
    "\n",
    "# ga parameters\n",
    "sol_per_pop = 8\n",
    "num_parents_mating = 4\n",
    "num_offsprings = 4\n",
    "\n",
    "# define population size and offspring size\n",
    "pop_size = (sol_per_pop, trip.shape[1])\n",
    "offspring_size = (num_offsprings, trip.shape[1])\n",
    "\n",
    "# generate the initial population\n",
    "new_population = np.zeros(pop_size)\n",
    "for i in range(8):\n",
    "    new_population[i] = np.arange(1,numberOfStops+1)\n",
    "    random.shuffle(new_population[i])\n",
    "new_population = new_population.astype(int)\n",
    "\n",
    "best_outputs = []\n",
    "num_of_generation = 50000\n",
    "\n",
    "running_time = np.zeros(num_of_generation)\n",
    "\n",
    "for generation in range(num_of_generation):\n",
    "\n",
    "    # record the starting time\n",
    "    start_time = time.time()\n",
    "\n",
    "    # compute the fitness of each individual in the population\n",
    "    fitness = cal_pop_objective_1(trip, new_population)\n",
    "\n",
    "    # record the best fitness in the current generation\n",
    "    best_outputs.append(np.min(fitness))\n",
    "\n",
    "    # select the best 4 individuals in the population as parents for mating\n",
    "    parents = select_mating(new_population, fitness, num_parents_mating)\n",
    "\n",
    "    # generate offsprings using crossover\n",
    "    offspring_crossover = np.zeros(offspring_size)\n",
    "    r_1 = np.random.random()\n",
    "    if r_1 < 0.7: # crossover probability = 0.7\n",
    "        offspring_crossover[0] = crossover(parents[0], parents[1])\n",
    "        offspring_crossover[1] = crossover(parents[1], parents[0])\n",
    "        offspring_crossover[2] = crossover(parents[2], parents[3])\n",
    "        offspring_crossover[3] = crossover(parents[3], parents[2])\n",
    "    else:\n",
    "        offspring_crossover[0] = parents[0]\n",
    "        offspring_crossover[1] = parents[1]\n",
    "        offspring_crossover[2] = parents[2]\n",
    "        offspring_crossover[3] = parents[3]\n",
    "\n",
    "    # offsprings mutation\n",
    "    r_2 = np.random.random()\n",
    "    if r_2 < 0.05: # mutation probability = 0.05\n",
    "        offspring_mutation = mutation(offspring_crossover)\n",
    "    else:\n",
    "        offspring_mutation = offspring_crossover\n",
    "\n",
    "    # generate the new population based on parents and offsprings\n",
    "    new_population[0:parents.shape[0], :] = parents\n",
    "    new_population[parents.shape[0]:, :] = offspring_mutation\n",
    "\n",
    "    # compute and store the running time\n",
    "    running_time[generation] = time.time() - start_time\n"
   ],
   "outputs": [],
   "metadata": {}
  },
  {
   "cell_type": "code",
   "execution_count": 19,
   "source": [
    "# get the best solution after iterating all the generations\n",
    "# compute the fitness of each individual in the final generation\n",
    "fitness = cal_pop_objective_1(trip, new_population)\n",
    "# return the index of the solution corresponding to the best fitness\n",
    "best_index = np.where(fitness == np.min(fitness))\n",
    "\n",
    "running_time = running_time.cumsum()\n",
    "\n",
    "# to get the index of iteration when the fitness reaches its minimum value (convergence point of the algorithm)\n",
    "convergence_index = np.where(best_outputs == np.min(best_outputs))\n",
    "convergence_time = running_time[convergence_index]\n",
    "\n",
    "print(\"Best solution:\", new_population[best_index, :])\n",
    "print(\"Best fitness:\", fitness[best_index])\n",
    "print(\"The algorithm converges in\", np.min(convergence_index), \"iterations.\")\n",
    "print(\"The algorithm converges in\", np.min(convergence_time), \"seconds.\")\n"
   ],
   "outputs": [
    {
     "output_type": "stream",
     "name": "stdout",
     "text": [
      "Best solution: [[[14 15 11  7 16  9  4  1  8  3 13  5 12  6  2 10]\n",
      "  [14 15 11  7 16  9  4  1  8  3 13  5 12  6  2 10]\n",
      "  [14 15 11  7 16  9  4  1  8  3 13  5 12  6  2 10]\n",
      "  [14 15 11  7 16  9  4  1  8  3 13  5 12  6  2 10]\n",
      "  [14 15 11  7 16  9  4  1  8  3 13  5 12  6  2 10]\n",
      "  [14 15 11  7 16  9  4  1  8  3 13  5 12  6  2 10]\n",
      "  [14 15 11  7 16  9  4  1  8  3 13  5 12  6  2 10]\n",
      "  [14 15 11  7 16  9  4  1  8  3 13  5 12  6  2 10]]]\n",
      "Best fitness: [6959.4 6959.4 6959.4 6959.4 6959.4 6959.4 6959.4 6959.4]\n",
      "The algorithm converges in 7353 iterations.\n",
      "The algorithm converges in 1.1648926734924316 seconds.\n"
     ]
    }
   ],
   "metadata": {}
  },
  {
   "cell_type": "code",
   "execution_count": 20,
   "source": [
    "fig, ax = plt.subplots(2, figsize = (8,numberOfStops-2))\n",
    "ax[0].plot(best_outputs, 'green')\n",
    "ax[0].set_xlabel(\"Iteration\", fontsize = 10)\n",
    "ax[0].set_ylabel(\"Fitness\", fontsize = 10)\n",
    "ax[0].set_title(\"GA (Fitness vs # of iterations)   1 station\", fontsize = 12)\n",
    "\n",
    "ax[1].plot(running_time, best_outputs, 'red')\n",
    "ax[1].set_xlabel(\"Running time/s\", fontsize = 10)\n",
    "ax[1].set_ylabel(\"Fitness\", fontsize = 10)\n",
    "ax[1].set_title(\"GA (Fitness vs Running time)   1 station\", fontsize = 12)\n",
    "plt.show()"
   ],
   "outputs": [
    {
     "output_type": "display_data",
     "data": {
      "image/png": "[encoded data removed]",
      "text/plain": [
       "<Figure size 576x1008 with 2 Axes>"
      ]
     },
     "metadata": {
      "needs_background": "light"
     }
    }
   ],
   "metadata": {}
  },
  {
   "cell_type": "code",
   "execution_count": 23,
   "source": [
    "#Visualization\n",
    "optimalRoute = new_population[best_index, :]\n",
    "optimalRoute = optimalRoute[0][0]\n",
    "optimalRoute[0]\n",
    "currentRoute = G[POIS[optimalRoute[0]]][POIS[optimalRoute[1]]]['route']['coords']\n",
    "for i in range(1,len(optimalRoute)-1):\n",
    "    currentRoute += G[POIS[optimalRoute[i]-1]][POIS[optimalRoute[i+1]-1]]['route']['coords']\n",
    "drawRoute(currentRoute)"
   ],
   "outputs": [
    {
     "output_type": "display_data",
     "data": {
      "application/vnd.jupyter.widget-view+json": {
       "version_major": 2,
       "version_minor": 0,
       "model_id": "c6ac20368da14dfba497fe78054c5381"
      },
      "text/plain": [
       "Map(center=[43.785017, -79.392073], controls=(ZoomControl(options=['position', 'zoom_in_text', 'zoom_in_title'…"
      ]
     },
     "metadata": {}
    }
   ],
   "metadata": {}
  }
 ],
 "metadata": {
  "kernelspec": {
   "name": "python3",
   "display_name": "Python 3.8.10 64-bit ('book-env': venv)"
  },
  "language_info": {
   "codemirror_mode": {
    "name": "ipython",
    "version": 3
   },
   "file_extension": ".py",
   "mimetype": "text/x-python",
   "name": "python",
   "nbconvert_exporter": "python",
   "pygments_lexer": "ipython3",
   "version": "3.8.10"
  },
  "interpreter": {
   "hash": "a405b721b341898b1c612734a812e53b99bd4311cd409aa0073bcfbe1e3bbb80"
  }
 },
 "nbformat": 4,
 "nbformat_minor": 4
}