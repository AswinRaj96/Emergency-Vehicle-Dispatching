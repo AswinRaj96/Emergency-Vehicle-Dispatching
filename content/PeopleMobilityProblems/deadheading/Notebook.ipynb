{
 "cells": [
  {
   "cell_type": "markdown",
   "metadata": {
    "id": "vtlJ14mvUSux"
   },
   "source": [
    "# Bio-inspired Optimization Approach to Minimize Deadheading in Shared Mobility Services\n",
    "Authors: \n",
    "- Juan Carrillo (juan.carrillo@mail.utoronto.ca), \n",
    "- Anas Mahmoud (nas.mahmoud@mail.utoronto.ca), \n",
    "- Sheran Cardoza (sheran.cardoza@mail.utoronto.ca)"
   ]
  },
  {
   "cell_type": "markdown",
   "metadata": {},
   "source": [
    "## Setting up dependencies and imports"
   ]
  },
  {
   "cell_type": "code",
   "execution_count": 1,
   "metadata": {
    "id": "RfbZuVc-cxn2"
   },
   "outputs": [],
   "source": [
    "# Packages\n",
    "!pip3 install watermark > /dev/null\n",
    "!pip3 install osmnx > /dev/null\n",
    "!pip3 install ipyleaflet > /dev/null\n",
    "!pip3 install smart_mobility_utilities > /dev/null\n",
    "!pip3 install folium > /dev/null"
   ]
  },
  {
   "cell_type": "code",
   "execution_count": 11,
   "metadata": {
    "id": "uC4itqV1aJob"
   },
   "outputs": [
    {
     "ename": "ImportError",
     "evalue": "cannot import name 'astar' from 'smart_mobility_utilities.search' (C:\\Anaconda3\\envs\\uoft\\lib\\site-packages\\smart_mobility_utilities\\search.py)",
     "output_type": "error",
     "traceback": [
      "\u001b[1;31m---------------------------------------------------------------------------\u001b[0m",
      "\u001b[1;31mImportError\u001b[0m                               Traceback (most recent call last)",
      "\u001b[1;32m<ipython-input-11-a96882905868>\u001b[0m in \u001b[0;36m<module>\u001b[1;34m\u001b[0m\n\u001b[0;32m     29\u001b[0m \u001b[1;32mfrom\u001b[0m \u001b[0msmart_mobility_utilities\u001b[0m\u001b[1;33m.\u001b[0m\u001b[0mcommon\u001b[0m \u001b[1;32mimport\u001b[0m \u001b[0mcost\u001b[0m\u001b[1;33m\u001b[0m\u001b[1;33m\u001b[0m\u001b[0m\n\u001b[0;32m     30\u001b[0m \u001b[1;32mfrom\u001b[0m \u001b[0msmart_mobility_utilities\u001b[0m\u001b[1;33m.\u001b[0m\u001b[0mviz\u001b[0m \u001b[1;32mimport\u001b[0m \u001b[0mdraw_route\u001b[0m\u001b[1;33m\u001b[0m\u001b[1;33m\u001b[0m\u001b[0m\n\u001b[1;32m---> 31\u001b[1;33m \u001b[1;32mfrom\u001b[0m \u001b[0msmart_mobility_utilities\u001b[0m\u001b[1;33m.\u001b[0m\u001b[0msearch\u001b[0m \u001b[1;32mimport\u001b[0m \u001b[0mdijkstra\u001b[0m\u001b[1;33m,\u001b[0m \u001b[0mastar\u001b[0m\u001b[1;33m\u001b[0m\u001b[1;33m\u001b[0m\u001b[0m\n\u001b[0m",
      "\u001b[1;31mImportError\u001b[0m: cannot import name 'astar' from 'smart_mobility_utilities.search' (C:\\Anaconda3\\envs\\uoft\\lib\\site-packages\\smart_mobility_utilities\\search.py)"
     ]
    }
   ],
   "source": [
    "# Imports\n",
    "\n",
    "# General\n",
    "\n",
    "import copy\n",
    "import time\n",
    "import random\n",
    "import statistics\n",
    "from math import cos\n",
    "\n",
    "from configparser import ConfigParser\n",
    "\n",
    "# Data and plotting\n",
    "\n",
    "import numpy as np\n",
    "import pandas as pd\n",
    "from pandas.io import parsers\n",
    "\n",
    "import folium\n",
    "%matplotlib inline\n",
    "import matplotlib.pyplot as plt\n",
    "from tqdm import tqdm\n",
    "\n",
    "# Mobility\n",
    "\n",
    "import osmnx\n",
    "\n",
    "from smart_mobility_utilities.common import Node\n",
    "from smart_mobility_utilities.common import cost\n",
    "from smart_mobility_utilities.viz import draw_route\n",
    "from smart_mobility_utilities.search import dijkstra, astar"
   ]
  },
  {
   "cell_type": "code",
   "execution_count": 12,
   "metadata": {
    "colab": {
     "base_uri": "https://localhost:8080/"
    },
    "id": "wKwfn5BjchJ9",
    "outputId": "4dc3ea17-4ab2-4e12-cce4-77b1c5db81a3"
   },
   "outputs": [
    {
     "ename": "ModuleNotFoundError",
     "evalue": "No module named 'watermark'",
     "output_type": "error",
     "traceback": [
      "\u001b[1;31m---------------------------------------------------------------------------\u001b[0m",
      "\u001b[1;31mModuleNotFoundError\u001b[0m                       Traceback (most recent call last)",
      "\u001b[1;32m<ipython-input-12-5f220f0f234f>\u001b[0m in \u001b[0;36m<module>\u001b[1;34m\u001b[0m\n\u001b[1;32m----> 1\u001b[1;33m \u001b[0mget_ipython\u001b[0m\u001b[1;33m(\u001b[0m\u001b[1;33m)\u001b[0m\u001b[1;33m.\u001b[0m\u001b[0mrun_line_magic\u001b[0m\u001b[1;33m(\u001b[0m\u001b[1;34m'load_ext'\u001b[0m\u001b[1;33m,\u001b[0m \u001b[1;34m'watermark'\u001b[0m\u001b[1;33m)\u001b[0m\u001b[1;33m\u001b[0m\u001b[1;33m\u001b[0m\u001b[0m\n\u001b[0m\u001b[0;32m      2\u001b[0m \u001b[0mget_ipython\u001b[0m\u001b[1;33m(\u001b[0m\u001b[1;33m)\u001b[0m\u001b[1;33m.\u001b[0m\u001b[0mrun_line_magic\u001b[0m\u001b[1;33m(\u001b[0m\u001b[1;34m'watermark'\u001b[0m\u001b[1;33m,\u001b[0m \u001b[1;34m''\u001b[0m\u001b[1;33m)\u001b[0m\u001b[1;33m\u001b[0m\u001b[1;33m\u001b[0m\u001b[0m\n",
      "\u001b[1;32mC:\\Anaconda3\\envs\\uoft\\lib\\site-packages\\IPython\\core\\interactiveshell.py\u001b[0m in \u001b[0;36mrun_line_magic\u001b[1;34m(self, magic_name, line, _stack_depth)\u001b[0m\n\u001b[0;32m   2324\u001b[0m                 \u001b[0mkwargs\u001b[0m\u001b[1;33m[\u001b[0m\u001b[1;34m'local_ns'\u001b[0m\u001b[1;33m]\u001b[0m \u001b[1;33m=\u001b[0m \u001b[0mself\u001b[0m\u001b[1;33m.\u001b[0m\u001b[0mget_local_scope\u001b[0m\u001b[1;33m(\u001b[0m\u001b[0mstack_depth\u001b[0m\u001b[1;33m)\u001b[0m\u001b[1;33m\u001b[0m\u001b[1;33m\u001b[0m\u001b[0m\n\u001b[0;32m   2325\u001b[0m             \u001b[1;32mwith\u001b[0m \u001b[0mself\u001b[0m\u001b[1;33m.\u001b[0m\u001b[0mbuiltin_trap\u001b[0m\u001b[1;33m:\u001b[0m\u001b[1;33m\u001b[0m\u001b[1;33m\u001b[0m\u001b[0m\n\u001b[1;32m-> 2326\u001b[1;33m                 \u001b[0mresult\u001b[0m \u001b[1;33m=\u001b[0m \u001b[0mfn\u001b[0m\u001b[1;33m(\u001b[0m\u001b[1;33m*\u001b[0m\u001b[0margs\u001b[0m\u001b[1;33m,\u001b[0m \u001b[1;33m**\u001b[0m\u001b[0mkwargs\u001b[0m\u001b[1;33m)\u001b[0m\u001b[1;33m\u001b[0m\u001b[1;33m\u001b[0m\u001b[0m\n\u001b[0m\u001b[0;32m   2327\u001b[0m             \u001b[1;32mreturn\u001b[0m \u001b[0mresult\u001b[0m\u001b[1;33m\u001b[0m\u001b[1;33m\u001b[0m\u001b[0m\n\u001b[0;32m   2328\u001b[0m \u001b[1;33m\u001b[0m\u001b[0m\n",
      "\u001b[1;32m<decorator-gen-65>\u001b[0m in \u001b[0;36mload_ext\u001b[1;34m(self, module_str)\u001b[0m\n",
      "\u001b[1;32mC:\\Anaconda3\\envs\\uoft\\lib\\site-packages\\IPython\\core\\magic.py\u001b[0m in \u001b[0;36m<lambda>\u001b[1;34m(f, *a, **k)\u001b[0m\n\u001b[0;32m    185\u001b[0m     \u001b[1;31m# but it's overkill for just that one bit of state.\u001b[0m\u001b[1;33m\u001b[0m\u001b[1;33m\u001b[0m\u001b[1;33m\u001b[0m\u001b[0m\n\u001b[0;32m    186\u001b[0m     \u001b[1;32mdef\u001b[0m \u001b[0mmagic_deco\u001b[0m\u001b[1;33m(\u001b[0m\u001b[0marg\u001b[0m\u001b[1;33m)\u001b[0m\u001b[1;33m:\u001b[0m\u001b[1;33m\u001b[0m\u001b[1;33m\u001b[0m\u001b[0m\n\u001b[1;32m--> 187\u001b[1;33m         \u001b[0mcall\u001b[0m \u001b[1;33m=\u001b[0m \u001b[1;32mlambda\u001b[0m \u001b[0mf\u001b[0m\u001b[1;33m,\u001b[0m \u001b[1;33m*\u001b[0m\u001b[0ma\u001b[0m\u001b[1;33m,\u001b[0m \u001b[1;33m**\u001b[0m\u001b[0mk\u001b[0m\u001b[1;33m:\u001b[0m \u001b[0mf\u001b[0m\u001b[1;33m(\u001b[0m\u001b[1;33m*\u001b[0m\u001b[0ma\u001b[0m\u001b[1;33m,\u001b[0m \u001b[1;33m**\u001b[0m\u001b[0mk\u001b[0m\u001b[1;33m)\u001b[0m\u001b[1;33m\u001b[0m\u001b[1;33m\u001b[0m\u001b[0m\n\u001b[0m\u001b[0;32m    188\u001b[0m \u001b[1;33m\u001b[0m\u001b[0m\n\u001b[0;32m    189\u001b[0m         \u001b[1;32mif\u001b[0m \u001b[0mcallable\u001b[0m\u001b[1;33m(\u001b[0m\u001b[0marg\u001b[0m\u001b[1;33m)\u001b[0m\u001b[1;33m:\u001b[0m\u001b[1;33m\u001b[0m\u001b[1;33m\u001b[0m\u001b[0m\n",
      "\u001b[1;32mC:\\Anaconda3\\envs\\uoft\\lib\\site-packages\\IPython\\core\\magics\\extension.py\u001b[0m in \u001b[0;36mload_ext\u001b[1;34m(self, module_str)\u001b[0m\n\u001b[0;32m     31\u001b[0m         \u001b[1;32mif\u001b[0m \u001b[1;32mnot\u001b[0m \u001b[0mmodule_str\u001b[0m\u001b[1;33m:\u001b[0m\u001b[1;33m\u001b[0m\u001b[1;33m\u001b[0m\u001b[0m\n\u001b[0;32m     32\u001b[0m             \u001b[1;32mraise\u001b[0m \u001b[0mUsageError\u001b[0m\u001b[1;33m(\u001b[0m\u001b[1;34m'Missing module name.'\u001b[0m\u001b[1;33m)\u001b[0m\u001b[1;33m\u001b[0m\u001b[1;33m\u001b[0m\u001b[0m\n\u001b[1;32m---> 33\u001b[1;33m         \u001b[0mres\u001b[0m \u001b[1;33m=\u001b[0m \u001b[0mself\u001b[0m\u001b[1;33m.\u001b[0m\u001b[0mshell\u001b[0m\u001b[1;33m.\u001b[0m\u001b[0mextension_manager\u001b[0m\u001b[1;33m.\u001b[0m\u001b[0mload_extension\u001b[0m\u001b[1;33m(\u001b[0m\u001b[0mmodule_str\u001b[0m\u001b[1;33m)\u001b[0m\u001b[1;33m\u001b[0m\u001b[1;33m\u001b[0m\u001b[0m\n\u001b[0m\u001b[0;32m     34\u001b[0m \u001b[1;33m\u001b[0m\u001b[0m\n\u001b[0;32m     35\u001b[0m         \u001b[1;32mif\u001b[0m \u001b[0mres\u001b[0m \u001b[1;33m==\u001b[0m \u001b[1;34m'already loaded'\u001b[0m\u001b[1;33m:\u001b[0m\u001b[1;33m\u001b[0m\u001b[1;33m\u001b[0m\u001b[0m\n",
      "\u001b[1;32mC:\\Anaconda3\\envs\\uoft\\lib\\site-packages\\IPython\\core\\extensions.py\u001b[0m in \u001b[0;36mload_extension\u001b[1;34m(self, module_str)\u001b[0m\n\u001b[0;32m     78\u001b[0m             \u001b[1;32mif\u001b[0m \u001b[0mmodule_str\u001b[0m \u001b[1;32mnot\u001b[0m \u001b[1;32min\u001b[0m \u001b[0msys\u001b[0m\u001b[1;33m.\u001b[0m\u001b[0mmodules\u001b[0m\u001b[1;33m:\u001b[0m\u001b[1;33m\u001b[0m\u001b[1;33m\u001b[0m\u001b[0m\n\u001b[0;32m     79\u001b[0m                 \u001b[1;32mwith\u001b[0m \u001b[0mprepended_to_syspath\u001b[0m\u001b[1;33m(\u001b[0m\u001b[0mself\u001b[0m\u001b[1;33m.\u001b[0m\u001b[0mipython_extension_dir\u001b[0m\u001b[1;33m)\u001b[0m\u001b[1;33m:\u001b[0m\u001b[1;33m\u001b[0m\u001b[1;33m\u001b[0m\u001b[0m\n\u001b[1;32m---> 80\u001b[1;33m                     \u001b[0mmod\u001b[0m \u001b[1;33m=\u001b[0m \u001b[0mimport_module\u001b[0m\u001b[1;33m(\u001b[0m\u001b[0mmodule_str\u001b[0m\u001b[1;33m)\u001b[0m\u001b[1;33m\u001b[0m\u001b[1;33m\u001b[0m\u001b[0m\n\u001b[0m\u001b[0;32m     81\u001b[0m                     \u001b[1;32mif\u001b[0m \u001b[0mmod\u001b[0m\u001b[1;33m.\u001b[0m\u001b[0m__file__\u001b[0m\u001b[1;33m.\u001b[0m\u001b[0mstartswith\u001b[0m\u001b[1;33m(\u001b[0m\u001b[0mself\u001b[0m\u001b[1;33m.\u001b[0m\u001b[0mipython_extension_dir\u001b[0m\u001b[1;33m)\u001b[0m\u001b[1;33m:\u001b[0m\u001b[1;33m\u001b[0m\u001b[1;33m\u001b[0m\u001b[0m\n\u001b[0;32m     82\u001b[0m                         print((\"Loading extensions from {dir} is deprecated. \"\n",
      "\u001b[1;32mC:\\Anaconda3\\envs\\uoft\\lib\\importlib\\__init__.py\u001b[0m in \u001b[0;36mimport_module\u001b[1;34m(name, package)\u001b[0m\n\u001b[0;32m    125\u001b[0m                 \u001b[1;32mbreak\u001b[0m\u001b[1;33m\u001b[0m\u001b[1;33m\u001b[0m\u001b[0m\n\u001b[0;32m    126\u001b[0m             \u001b[0mlevel\u001b[0m \u001b[1;33m+=\u001b[0m \u001b[1;36m1\u001b[0m\u001b[1;33m\u001b[0m\u001b[1;33m\u001b[0m\u001b[0m\n\u001b[1;32m--> 127\u001b[1;33m     \u001b[1;32mreturn\u001b[0m \u001b[0m_bootstrap\u001b[0m\u001b[1;33m.\u001b[0m\u001b[0m_gcd_import\u001b[0m\u001b[1;33m(\u001b[0m\u001b[0mname\u001b[0m\u001b[1;33m[\u001b[0m\u001b[0mlevel\u001b[0m\u001b[1;33m:\u001b[0m\u001b[1;33m]\u001b[0m\u001b[1;33m,\u001b[0m \u001b[0mpackage\u001b[0m\u001b[1;33m,\u001b[0m \u001b[0mlevel\u001b[0m\u001b[1;33m)\u001b[0m\u001b[1;33m\u001b[0m\u001b[1;33m\u001b[0m\u001b[0m\n\u001b[0m\u001b[0;32m    128\u001b[0m \u001b[1;33m\u001b[0m\u001b[0m\n\u001b[0;32m    129\u001b[0m \u001b[1;33m\u001b[0m\u001b[0m\n",
      "\u001b[1;32mC:\\Anaconda3\\envs\\uoft\\lib\\importlib\\_bootstrap.py\u001b[0m in \u001b[0;36m_gcd_import\u001b[1;34m(name, package, level)\u001b[0m\n",
      "\u001b[1;32mC:\\Anaconda3\\envs\\uoft\\lib\\importlib\\_bootstrap.py\u001b[0m in \u001b[0;36m_find_and_load\u001b[1;34m(name, import_)\u001b[0m\n",
      "\u001b[1;32mC:\\Anaconda3\\envs\\uoft\\lib\\importlib\\_bootstrap.py\u001b[0m in \u001b[0;36m_find_and_load_unlocked\u001b[1;34m(name, import_)\u001b[0m\n",
      "\u001b[1;31mModuleNotFoundError\u001b[0m: No module named 'watermark'"
     ]
    }
   ],
   "source": [
    "%load_ext watermark\n",
    "%watermark"
   ]
  },
  {
   "cell_type": "markdown",
   "metadata": {
    "id": "D_irOWtVZu1x"
   },
   "source": [
    "## Introduction\n",
    "\n",
    "Ridesharing is one of several on-demand mobility services gaining momentum in recent years and represents a flexible and convenient alternative for transportation. Despite its attractiveness, ridesharing also causes undesired effects such as increased traffic and emissions. In this project, we study specifically the problem of ridesharing vehicles roaming without passengers, also known as deadheading."
   ]
  },
  {
   "cell_type": "markdown",
   "metadata": {
    "id": "Pj_B8lpHVKOD"
   },
   "source": [
    "## Data\n",
    "\n",
    "Data source contains 175 delivery records for addresses in the Greater Toronto Area (GTA).\n",
    "\n",
    "First all the available coordinates provided as (latitude, longitude) are extracted and their OSM node IDs are derived. This will aid us in identifying these coordinates in the OSM graph object.\n",
    "\n",
    "Then one coordinate is assigned for each driver as their initial depot location, and two coordinates are assigned for each rider as their pickup and dropoff locations."
   ]
  },
  {
   "cell_type": "markdown",
   "metadata": {
    "id": "XA7B5_rbtxsp"
   },
   "source": [
    "### Classes representing a rider, driver, and map coordinates"
   ]
  },
  {
   "cell_type": "code",
   "execution_count": 13,
   "metadata": {
    "id": "q25bcJdVUKLP"
   },
   "outputs": [],
   "source": [
    "class Rider(object):\n",
    "    def __init__(\n",
    "    self,\n",
    "    id: int,\n",
    "    pickup_location: tuple,\n",
    "    dropoff_location: tuple,\n",
    "    pickup_map_node_id: int,\n",
    "    dropoff_map_node_id: int\n",
    "    ):\n",
    "        \"\"\" Instantiate a rider object\n",
    "        Parameters\n",
    "        ----------\n",
    "        id : A unique id for each rider\n",
    "        pickup_location: pickup lat and long\n",
    "        dropoff_location: dropoff lat and long\n",
    "        pickup_map_node_id: osmid of the nearest node to pickup_location\n",
    "        dropoff_map_node_id: osmid of the nearest node to dropoff_location\n",
    "        \"\"\"\n",
    "        self.id = id\n",
    "        self.pickup_location = pickup_location\n",
    "        self.dropoff_location = dropoff_location\n",
    "        self.pickup_map_node_id = pickup_map_node_id\n",
    "        self.dropoff_map_node_id = dropoff_map_node_id\n",
    "    def __str__(self)->str:\n",
    "        return \"ID of rider: {}\\n\".format(self.id) + \\\n",
    "               \"Pickup location of rider: {} {}\\n\".format(self.pickup_location[0], self.pickup_location[1]) + \\\n",
    "               \"Dropoff location of rider: {} {}\\n\".format(self.dropoff_location[0], self.dropoff_location[1]) + \\\n",
    "               \"Pickup node id of rider: {}\\n\".format(self.pickup_map_node_id) + \\\n",
    "               \"Dropoff node id of rider: {}\\n\".format(self.dropoff_map_node_id)\n",
    "\n",
    "class Driver(object):\n",
    "    def __init__(\n",
    "    self,\n",
    "    id,\n",
    "    initial_location: tuple,\n",
    "    initial_map_node_id: int\n",
    "    ):\n",
    "        \"\"\"Instantiate a drive object\n",
    "        Parameters\n",
    "        ----------\n",
    "        id : A unique id for each driver\n",
    "        initial_location: initial lat and long\n",
    "        initial_map_node_id: osmid of the nearest node to initial driver location\n",
    "        \"\"\"\n",
    "        self.id = id\n",
    "        self.initial_location = initial_location\n",
    "        self.initial_map_node_id = initial_map_node_id\n",
    "    def __str__(self) -> str:\n",
    "        return \"ID of driver: {}\\n\".format(self.id) + \\\n",
    "               \"Initial location of driver: {} {}\\n\".format(self.initial_location[0], self.initial_location[1]) + \\\n",
    "               \"Initial node id of driver: {}\\n\".format(self.initial_map_node_id)\n",
    "\n",
    "class Coord(object):\n",
    "    def __init__(self, lat, lng, osmid):\n",
    "        self.lat   = lat\n",
    "        self.lng   = lng\n",
    "        self.osmid = osmid\n",
    "    \n",
    "    def __repr__(self):\n",
    "        return \"[lat,lng,id]=[{},{},{}]\".format(self.lat, self.lng, self.osmid)\n",
    "    \n",
    "    def __eq__(self, other):\n",
    "        if isinstance(other, Coord):\n",
    "            return self.osmid == other.osmid\n",
    "        return False\n",
    "    \n",
    "    def __ne__(self, other):\n",
    "        return not self == other"
   ]
  },
  {
   "cell_type": "markdown",
   "metadata": {
    "id": "5heNurAyt24v"
   },
   "source": [
    "### Data Sampler class\n",
    "This handles processing raw data and storing in a convenient data format"
   ]
  },
  {
   "cell_type": "code",
   "execution_count": 14,
   "metadata": {
    "id": "KotgbouDVwIa"
   },
   "outputs": [],
   "source": [
    "class Sampler(object):\n",
    "    def __init__(self):\n",
    "        pass\n",
    "\n",
    "    def prepare_data(self, df):\n",
    "        \"\"\"Convert raw data to custom data format\n",
    "        Parameters\n",
    "        ----------\n",
    "        df : dataframe object of raw data\n",
    "        Returns\n",
    "        ----------\n",
    "        dataframe object of custom data\n",
    "        \"\"\"\n",
    "\n",
    "        df = df.drop_duplicates()\n",
    "\n",
    "        # Pick midpoint of all coordinates as the center of the graph\n",
    "        self.midpoint = (df['dropoff_lat'].mean(), df['dropoff_lng'].mean())\n",
    "\n",
    "        # Calculate radius as distance of farthest coordinate from midpoint\n",
    "        dists = [osmnx.distance.great_circle_vec(self.midpoint[0], self.midpoint[1], row['dropoff_lat'], row['dropoff_lng']) for _, row in df.iterrows()]\n",
    "        self.radius = max(dists)\n",
    "        # self.radius = 2000\n",
    "\n",
    "        # Generate graph (takes a long time)\n",
    "        graph = osmnx.graph.graph_from_point(\n",
    "            self.midpoint, dist=self.radius, clean_periphery=True, simplify=True)\n",
    "\n",
    "        # Project graph\n",
    "        #graph = osmnx.project_graph(graph, to_crs={'init': 'epsg:32617'})\n",
    "\n",
    "        # Extract coord info\n",
    "        lats   = []\n",
    "        lngs   = []\n",
    "        osmids = []\n",
    "        for index, row in df.iterrows():\n",
    "            lat   = row['dropoff_lat']\n",
    "            lng   = row['dropoff_lng']\n",
    "            osmid = osmnx.distance.nearest_nodes(graph, lng, lat)\n",
    "            lats.append(lat)\n",
    "            lngs.append(lat)\n",
    "            osmids.append(osmid)\n",
    "\n",
    "        # Create dataframe\n",
    "        new_df = pd.DataFrame(list(zip(lats, lngs, osmids)),\n",
    "                              columns=['lat','lng','osmid'])\n",
    "\n",
    "        # Debug info\n",
    "        print(\"Num coords = {}\".format(len(lats)))\n",
    "        print(\"Num nodes  = {}\".format(len(graph.nodes())))\n",
    "        print(\"Num coords with unique node id = {}\".format(len(list(set(osmids)))))\n",
    "\n",
    "        return new_df\n",
    "\n",
    "    def init_data(self, df):\n",
    "        \"\"\"Initialize Sampler class attributes with prepared data\n",
    "        Parameters\n",
    "        ----------\n",
    "        df : dataframe object of prepared data\n",
    "        \"\"\"\n",
    "\n",
    "        df = df.drop_duplicates()\n",
    "\n",
    "        # Pick midpoint of all coordinates as the center of the graph\n",
    "        self.midpoint = (df['lat'].mean(), df['lng'].mean())\n",
    "\n",
    "        # Calculate radius as distance of farthest coordinate from midpoint\n",
    "        dists = [osmnx.distance.great_circle_vec(self.midpoint[0], self.midpoint[1], row['lat'], row['lng']) for _, row in df.iterrows()]\n",
    "        self.radius = max(dists)\n",
    "\n",
    "        # Extract coords\n",
    "        self.coords = [Coord(row['lat'], row['lng'], row['osmid']) for _,row in df.iterrows()]\n",
    "\n",
    "        # Debug info\n",
    "        print(\"Num coords = {}\".format(len(self.coords)))\n",
    "        seen = set()\n",
    "        unique_ids = [seen.add(coord.osmid) or coord for coord in self.coords if coord.osmid not in seen]\n",
    "        print(\"Num coords with unique node id = {}\".format(len(unique_ids)))\n",
    "\n",
    "    def get_samples(self, n_drivers, n_riders, radius=None, midpoint=None, return_graph=True):\n",
    "        \"\"\"Return sample data containing drivers, riders, and graph\n",
    "        Parameters\n",
    "        ----------\n",
    "        n_drivers   : number of drivers\n",
    "        n_riders    : number of riders\n",
    "        radius      : radius in metres\n",
    "        midpoint    : midpoint as a tuple of (lat, lng)\n",
    "        return_graph: generate a graph based on midpoint and radius\n",
    "        Returns\n",
    "        ---------\n",
    "        drivers     : list of Driver objects\n",
    "        riders      : list of Rider objects\n",
    "        graph       : (optional) if return_graph=True, returns graph of nodes\n",
    "        \"\"\"\n",
    "        assert n_drivers < n_riders\n",
    "        midpoint = self.midpoint if midpoint is None else midpoint\n",
    "        radius = self.radius if radius is None else radius\n",
    "\n",
    "        # Find valid coords within this radius\n",
    "        coords = []\n",
    "        for coord in self.coords:\n",
    "            dist = osmnx.distance.great_circle_vec(midpoint[0], midpoint[1], coord.lat, coord.lng)\n",
    "            if dist <= radius:\n",
    "                coords.append(coord)\n",
    "\n",
    "        assert n_drivers + n_riders * \\\n",
    "            2 <= len(coords), \"Error: n_drivers={} + n_riders*2={} > available_coords={}\".format(\n",
    "                n_drivers, n_riders*2, len(coords))\n",
    "\n",
    "        # Shuffle the coords for some randomization\n",
    "        # commented for debugging purposes\n",
    "        random.shuffle(coords)\n",
    "\n",
    "        # Assign drivers\n",
    "        drivers = []\n",
    "        for i, coord in enumerate(coords):\n",
    "            if i < n_drivers:\n",
    "                drivers.append(Driver(i, (coord.lat, coord.lng), coord.osmid))\n",
    "            else:\n",
    "                # Delete the drivers\n",
    "                coords = coords[i+1:]\n",
    "                break\n",
    "\n",
    "        # Delete any excess coords we don't need\n",
    "        coords = coords[0:2*n_riders]\n",
    "\n",
    "        # Assign riders\n",
    "        riders = []\n",
    "        it = iter(coords)\n",
    "        for i, coord in enumerate(it):\n",
    "            pickup = coord\n",
    "            dropoff = next(it)\n",
    "            riders.append(Rider(i, (pickup.lat, pickup.lng),\n",
    "                          (dropoff.lat, dropoff.lng), pickup.osmid, dropoff.osmid))\n",
    "\n",
    "        if return_graph:\n",
    "            # Generate graph for this custom radius\n",
    "            graph = osmnx.graph.graph_from_point(\n",
    "                midpoint, dist=radius, clean_periphery=True, simplify=True)\n",
    "            return drivers, riders, graph\n",
    "\n",
    "        return drivers, riders"
   ]
  },
  {
   "cell_type": "markdown",
   "metadata": {
    "id": "mnTVkCu0uBsb"
   },
   "source": [
    "### Plot class\n",
    "This allows us to visualize coordinates on a map"
   ]
  },
  {
   "cell_type": "code",
   "execution_count": 15,
   "metadata": {
    "id": "4lya8C5Nrl4L"
   },
   "outputs": [],
   "source": [
    "class Plot():\n",
    "    def __init__(self, drivers, riders, graph) -> None:\n",
    "        \"\"\"Initializes a plot object\n",
    "        Args:\n",
    "            drivers (list): drivers available\n",
    "            riders (list): riders requesting service\n",
    "            graph (networkx.classes.multidigraph.MultiDiGraph): road network\n",
    "        \"\"\"\n",
    "        self.drivers = drivers\n",
    "        self.riders = riders\n",
    "        self.graph = graph\n",
    "        self.map = None\n",
    "\n",
    "    def calc_centroid(self):\n",
    "        \"\"\" calculates centroid of points to plot\n",
    "        Returns:\n",
    "            list: latitude and longitude values of the centroid\n",
    "        \"\"\"\n",
    "        avg_lat = 0\n",
    "        avg_lon = 0\n",
    "        total_coords = len(self.drivers) + 2*len(self.riders)\n",
    "\n",
    "        for driver in self.drivers:\n",
    "            driver_ini_lat, driver_ini_lon = driver.initial_location\n",
    "            avg_lat += driver_ini_lat\n",
    "            avg_lon += driver_ini_lon\n",
    "\n",
    "        for rider in self.riders:\n",
    "            rider_pic_lat, rider_pic_lon = rider.pickup_location\n",
    "            rider_dro_lat, rider_dro_lon = rider.dropoff_location\n",
    "            avg_lat += rider_pic_lat + rider_dro_lat\n",
    "            avg_lon += rider_pic_lon + rider_dro_lon\n",
    "\n",
    "        avg_lat /= total_coords\n",
    "        avg_lon /= total_coords\n",
    "\n",
    "        return [avg_lat, avg_lon]\n",
    "\n",
    "    def init_basemap(self):\n",
    "        \"\"\" initializes a folium basemap centered over drivers and riders\n",
    "        \"\"\"\n",
    "        self.map = folium.Map(location=self.calc_centroid(), zoom_start=10)\n",
    "\n",
    "    def add_pins_to_basemap(self):\n",
    "        \"\"\" adds locations to basemap\n",
    "        \"\"\"\n",
    "        # checks that a basemap is initialized\n",
    "        assert (self.map is not None), \"must initialize basemap before adding locations\"\n",
    "        for driver in self.drivers:\n",
    "            folium.Marker(location=list(driver.initial_location),\n",
    "                          popup=f'driver {driver.id}',\n",
    "                          icon=folium.map.Icon(color='orange')\n",
    "                          ).add_to(self.map)\n",
    "        for rider in self.riders:\n",
    "            folium.Marker(location=list(rider.pickup_location),\n",
    "                          popup=f'rider {rider.id}: pickup',\n",
    "                          icon=folium.map.Icon(color='blue')\n",
    "                          ).add_to(self.map)\n",
    "            folium.Marker(location=list(rider.dropoff_location),\n",
    "                          popup=f'rider {rider.id}: dropoff',\n",
    "                          icon=folium.map.Icon(color='red')\n",
    "                          ).add_to(self.map)\n",
    "\n",
    "    def basemap_to_html(self):\n",
    "        \"\"\" exports the basemap with pins to html\n",
    "        \"\"\"\n",
    "        # checks that a basemap is initialized\n",
    "        assert (self.map is not None), \"must initialize basemap before saving\"\n",
    "        self.map.save('basemap_with_pins.html')\n",
    "\n",
    "    def plot_graph_with_nodes(self):\n",
    "        \"\"\" plots the graph with nodes classified in colors\n",
    "        Args:\n",
    "            graph\n",
    "        \"\"\"\n",
    "\n",
    "        colors_dict = self.get_colors_dict()\n",
    "        all_nodes_colors = self.get_nodes_colors(colors_dict)\n",
    "\n",
    "        all_nodes_size = [50 if node_id in colors_dict.keys() else 2\n",
    "                          for node_id in self.graph.nodes]\n",
    "\n",
    "        fig, ax = osmnx.plot_graph(\n",
    "            self.graph, node_size=all_nodes_size,\n",
    "            node_color=all_nodes_colors, node_zorder=2,\n",
    "            bgcolor='#F2F3F5', edge_color='#B3B5B7',\n",
    "            save=True, filepath='graph_and_nodes.png')\n",
    "\n",
    "    def get_colors_dict(self):\n",
    "        \"\"\" generates a dictionary mapping node ids to colors\n",
    "        Returns:\n",
    "            colors_dict\n",
    "        \"\"\"\n",
    "        c_orange = '#FF8A33'  # drivers\n",
    "        c_blue = '#3AACE5'  # rider pickup\n",
    "        c_red = '#FF3352'  # rider drop off\n",
    "\n",
    "        colors_dict = {}\n",
    "\n",
    "        for driver in self.drivers:\n",
    "            colors_dict[driver.initial_map_node_id] = c_orange\n",
    "\n",
    "        for rider in self.riders:\n",
    "            colors_dict[rider.pickup_map_node_id] = c_blue\n",
    "            colors_dict[rider.dropoff_map_node_id] = c_red\n",
    "\n",
    "        return colors_dict\n",
    "\n",
    "    def get_nodes_colors(self, colors_dict):\n",
    "        \"\"\" generates a list with color for each node id in graph\n",
    "        Args:\n",
    "            colors_dict\n",
    "        Returns:\n",
    "            all_nodes_colors\n",
    "        \"\"\"\n",
    "        c_grey = '#B3B5B7'\n",
    "        all_nodes_colors = []\n",
    "        for node_id in self.graph.nodes:\n",
    "            try:\n",
    "                all_nodes_colors.append(colors_dict[node_id])\n",
    "            except:\n",
    "                all_nodes_colors.append(c_grey)\n",
    "        return all_nodes_colors"
   ]
  },
  {
   "cell_type": "markdown",
   "metadata": {
    "id": "Br6z1qKvuH3o"
   },
   "source": [
    "### Quick test\n",
    "Now lets use the Sampler class to input the data in .csv format and prepare it for use by the solver classes."
   ]
  },
  {
   "cell_type": "code",
   "execution_count": 16,
   "metadata": {
    "colab": {
     "base_uri": "https://localhost:8080/"
    },
    "id": "gVGWd51fZFfk",
    "outputId": "9640988d-1ff7-49c9-a834-6c04b14dd5f5"
   },
   "outputs": [
    {
     "name": "stdout",
     "output_type": "stream",
     "text": [
      "Num coords = 169\n",
      "Num coords with unique node id = 168\n",
      "Data init time = 0.08400225639343262 seconds\n"
     ]
    }
   ],
   "source": [
    "sampler = Sampler()\n",
    "\n",
    "# Data preparation takes a looong time.\n",
    "# Run just once and save to a CSV, then in subsequent runs\n",
    "# just use the saved CSV.\n",
    "if False:\n",
    "    start = time.time()\n",
    "    # Store original data in a dataframe\n",
    "    filename = 'OriginalData.csv'\n",
    "    #fileurl = 'https://raw.githubusercontent.com/nazMahmoud/Bio-Inspried-Algorithms/main/Project/OriginalData.csv?token=AKOURLOX65GBT4KOUOVKYHLBRWGIG'\n",
    "    df = pd.read_csv(filename)\n",
    "    df = df[['dropoff_lat', 'dropoff_lng']]\n",
    "    # Let Sampler convert to custom data format\n",
    "    new_df = sampler.prepare_data(df)\n",
    "    # Save to CSV\n",
    "    new_df.to_csv('PreparedData.csv', encoding='utf-8', index=False)\n",
    "    end = time.time()\n",
    "    print(\"Data prep time = {} seconds\".format(end - start))\n",
    "\n",
    "# Load in the data\n",
    "start = time.time()\n",
    "filename = 'PreparedData.csv'\n",
    "#fileurl = 'https://raw.githubusercontent.com/nazMahmoud/Bio-Inspried-Algorithms/main/Project/PreparedData.csv?token=AKOURLLEZPN2LSS6AYKF2IDBVPQT2'\n",
    "df = pd.read_csv(filename)\n",
    "sampler.init_data(df)\n",
    "end = time.time()\n",
    "print(\"Data init time = {} seconds\".format(end - start))"
   ]
  },
  {
   "cell_type": "markdown",
   "metadata": {
    "id": "2x37-hvdruGC"
   },
   "source": [
    "Get a sample of drivers and riders."
   ]
  },
  {
   "cell_type": "code",
   "execution_count": 17,
   "metadata": {
    "colab": {
     "base_uri": "https://localhost:8080/"
    },
    "id": "ef3H5Z26rsc_",
    "outputId": "baa66371-b322-401e-b491-3b5898013b66"
   },
   "outputs": [
    {
     "name": "stdout",
     "output_type": "stream",
     "text": [
      "Samples time = 117.45329165458679 seconds\n",
      "Samples contains the following:\n",
      "3 drivers\n",
      "7 riders\n",
      "47649 graph nodes\n"
     ]
    }
   ],
   "source": [
    "start = time.time()\n",
    "radius = 6000\n",
    "num_drivers = 3\n",
    "num_riders = 7\n",
    "dt_midpoint = (43.653225, -79.383186)\n",
    "drivers, riders, graph = sampler.get_samples(\n",
    "    num_drivers, num_riders, radius=radius, midpoint=dt_midpoint, return_graph=True)\n",
    "end = time.time()\n",
    "print(\"Samples time = {} seconds\".format(end - start))\n",
    "\n",
    "print(\"Samples contains the following:\")\n",
    "print(f'{len(drivers)} drivers')\n",
    "print(f'{len(riders)} riders')\n",
    "print(f'{len(graph.nodes())} graph nodes')"
   ]
  },
  {
   "cell_type": "markdown",
   "metadata": {
    "id": "8GV3xiuKuXP3"
   },
   "source": [
    "**Visualize the samples on a map**\n",
    "\n",
    "- **orange**: Initial location of drivers\n",
    "- **blue**: Rider pickup\n",
    "- **red**: Rider drop off\n"
   ]
  },
  {
   "cell_type": "code",
   "execution_count": 18,
   "metadata": {
    "colab": {
     "base_uri": "https://localhost:8080/",
     "height": 433
    },
    "id": "cFtTCDAtudkH",
    "outputId": "0fb9752d-7820-41bb-e6b6-e7adc7f68e6e"
   },
   "outputs": [
    {
     "data": {
      "image/png": "[encoded data removed]",
      "text/plain": [
       "<Figure size 576x576 with 1 Axes>"
      ]
     },
     "metadata": {},
     "output_type": "display_data"
    },
    {
     "name": "stdout",
     "output_type": "stream",
     "text": [
      "Plot time = 71.73920559883118 seconds\n"
     ]
    }
   ],
   "source": [
    "start = time.time()\n",
    "\n",
    "myplot = Plot(drivers, riders, graph)\n",
    "myplot.init_basemap()\n",
    "myplot.add_pins_to_basemap()\n",
    "myplot.basemap_to_html()\n",
    "\n",
    "myplot.plot_graph_with_nodes()\n",
    "\n",
    "end = time.time()\n",
    "print(\"Plot time = {} seconds\".format(end - start))"
   ]
  },
  {
   "cell_type": "markdown",
   "metadata": {
    "id": "XQFSsG0zVPSS"
   },
   "source": [
    "## Formulation\n",
    "\n",
    "Our evaluation function is a multi-objective function cost function and includes, (1) minimizing deadheading by searching for solutions that reduce miles driven without passengers, (2) maximizing fairness between independent drivers by encouraging solutions that minimize the standard deviation of the ratio between miles driven with a passenger over miles driven without a passenger, (3) maximizing fairness between wait-time of customers by minimizing the standard deviation of customer's wait time and finally (4) maximizing profit by serving higher priority customers before lower priority customer. The following is the multi-objective function that we wish to minimize:\n",
    "\n",
    "\\begin{align}\n",
    "    f =& \\underbrace{\\alpha_{dh}\\sum_{j=1}^{|D|} \\left(\\sum_{i=1}^{|d_{j}|-1} dis(c_{i, dr}, c_{i+1, cl})) \\right) + dis(d_{j,0}, c_{1, cl})}_{\\text{Deadheading cost}}+ \\nonumber\\\\\n",
    "       & \\underbrace{\\alpha_{d}\\sqrt{\\frac{\\sum_{j=1}^{|D|} \\left(\\frac{Pr_j}{Dh_j} - \\mu_{pd}\\right)^2}{|D|}}}_{\\text{Driver fairness}} +  \\underbrace{\\alpha_c\\sqrt{\\frac{ \\sum_{i=1}^{|C|} \\left(ds_i - \\mu_{ds}\\right)^2}{|C|}}}_{\\text{Customer fairness}} -  \\nonumber\\\\\n",
    "       &\\underbrace{\\alpha_p\\sum_{j=1}^{|D|} \\sum_{i=1}^{|d_{j}|} \\frac{dis(c_{i, cl}, c_{i, dr}) * p_i}{ds_i}}_{\\text{Priority}} \\nonumber\n",
    "\\end{align}\n",
    "\n",
    "Subject to:\n",
    "\\begin{align}\n",
    "     \\alpha_{dh} + \\alpha_d + \\alpha_c + \\alpha_p = 1\n",
    "\\end{align}\n",
    "\n",
    "\\begin{align}\n",
    "    \\sum_{\\substack{j=1 \\\\ c_i \\in d_j}}^{|D|} 1 = 1 \\quad \\forall c_i\n",
    "\\end{align}\n",
    "\n",
    "\\begin{align}\n",
    "    \\sum_{\\substack{j=1}}^{|D|} |d_j| = |C|\n",
    "\\end{align}\n",
    "\n",
    "\\begin{align}\n",
    "    ts_i \\leq  T_{max} \\quad \\forall c_i\n",
    "\\end{align}\n",
    "\n",
    "The first constraint shown in eq.2, ensures that the weights of each objective sums up to one. In eq.3 we ensure that every customer is assigned to only one driver and therefore also guarantees that all customers are matched, while in eq.4, we ensure that all customers are matched only once (i.e., no customer is matched to the same driver twice). Finally, the last constraint shown in eq.5 ensures that the wait time for any customer has to be less than or equal $T_{max}$ otherwise the solution would not be feasible.\n",
    "\n",
    "The design variable in this problem is the list of lists defining the order of assignments of customers to drivers and is denoted by $D$.\n",
    "\n",
    "Notations used in our formulation:\n",
    "\n",
    "- $C$: List of customers to be served.\n",
    "- $c_i$: A unique ID assigned each customer\n",
    "- $c_{i, cl}$: 2D collection point of the $i^{th}$ customer.\n",
    "- $c_{i, dr}$: 2D drop-off point of the $i^{th}$ customer.\n",
    "- $t(i, j)$: Drive time of the shortest path between node $i$ and $j$.\n",
    "- $dis(i, j)$: Distance of the shortest path between node $i$ and $j$.\n",
    "- $d_{j, 0}$: Node representing the initial 2D location of $j^{th}$ driver.\n",
    "- $D$: List of assignments for participating drivers. Each element of the list is a list of customers assigned to a driver.\n",
    "- $d_j$: Ordered list of customers assigned to $j_{th}$ driver. Order defines the sequence of service.\n",
    "- $Pr_j$: Total profitable miles driven by $j^{th}$ driver.\n",
    "- $Dh_j$: Total deadheading miles driven by $j^{th}$ driver.\n",
    "- $\\mu_{pd}$: Mean ratio between $Pr_j$ and $Dh_j$ of all drivers for a given solution.\n",
    "- $ds_i$: Distance travelled before serving $i^{th}$ customer.\n",
    "- $ts_i$: Time taken before serving $i^{th}$ customer.\n",
    "- $\\mu_{{ds}}$: Mean of distance travelled before serving any customer for a given solution.\n",
    "- $T_{max}$: Maximum wait time for any customer.\n"
   ]
  },
  {
   "cell_type": "markdown",
   "metadata": {
    "id": "zdm2ANugprri"
   },
   "source": [
    "### Evaluation class\n",
    "We capture this objective function in the below Evaluation class."
   ]
  },
  {
   "cell_type": "code",
   "execution_count": 19,
   "metadata": {
    "id": "W_E5bNWObMOA"
   },
   "outputs": [],
   "source": [
    "class DeadHeadingProblemEvaluation:\n",
    "    \"\"\"Evaluate feasiblity and Cost of a solution to the Deadheading Problem.\n",
    "    \"\"\"\n",
    "\n",
    "    def __init__(\n",
    "        self,\n",
    "        graph,\n",
    "        drivers,\n",
    "        riders,\n",
    "        alpha_deadheading=0.8,\n",
    "        alpha_driver_fairness=0.1,\n",
    "        alpha_rider_fairness=0.1\n",
    "    ):\n",
    "        \"\"\"Initialize with problem parameters and do some precomputation.\n",
    "        Parameters\n",
    "        ----------\n",
    "        graph: map consists of nodes (used to compute shortest path)\n",
    "        drivers : A list of driver objects\n",
    "        riders : A list of rider objects\n",
    "        \"\"\"\n",
    "        self.graph = graph\n",
    "        self.drivers = list(drivers)\n",
    "        self.riders = list(riders)\n",
    "\n",
    "        # weights for cost function\n",
    "        self.alpha_deadheading = alpha_deadheading\n",
    "        self.alpha_driver_fairness = alpha_driver_fairness\n",
    "        self.alpha_rider_fairness = alpha_rider_fairness\n",
    "        assert self.alpha_deadheading + self.alpha_driver_fairness + self.alpha_rider_fairness == 1\n",
    "\n",
    "        # Generate dist_matrix that is indexed by (from_osmid, to_osmid) and returns distance\n",
    "\n",
    "        self.dist_matrix = {}\n",
    "\n",
    "        def add_dist(from_id, to_id):\n",
    "            from_node = Node(graph=graph, osmid=from_id)\n",
    "            to_node = Node(graph=graph, osmid=to_id)\n",
    "            shortest_route = astar(\n",
    "                G=graph, origin=from_node, destination=to_node)\n",
    "            cost_route = cost(graph, shortest_route)\n",
    "            self.dist_matrix[(from_id, to_id)] = cost_route\n",
    "\n",
    "        # driver initial -> rider pickup\n",
    "        for driver in drivers:\n",
    "            for rider in riders:\n",
    "                add_dist(driver.initial_map_node_id, rider.pickup_map_node_id)\n",
    "        # rider dropoff -> rider pickup\n",
    "        for rider1 in riders:\n",
    "            for rider2 in riders:\n",
    "                if rider1 is not rider2:\n",
    "                    add_dist(rider1.dropoff_map_node_id,\n",
    "                             rider2.pickup_map_node_id)\n",
    "        # rider pickup -> dropoff\n",
    "        for rider in riders:\n",
    "            add_dist(rider.pickup_map_node_id, rider.dropoff_map_node_id)\n",
    "\n",
    "    def set_solution(self, solution):\n",
    "        \"\"\"Add solution to evaluate, and do some precomputation.\n",
    "        Parameters\n",
    "        ----------\n",
    "        solution: A list of lists\n",
    "        \"\"\"\n",
    "        self.solution = solution\n",
    "        # constraints\n",
    "        assert len(self.solution) == len(self.drivers)\n",
    "        self.unique_assignment_constraint()\n",
    "        self.match_all_riders_constraint()\n",
    "        # compute distances once to speed up evaluation\n",
    "        self.deadheading_miles, self.profitable_mile, self.prearrival_miles = self.get_driver_deadhead_profit()\n",
    "\n",
    "    def evaluate_cost_func(self):\n",
    "        return self.alpha_deadheading * self.evaluate_deadheading_cost() + \\\n",
    "               self.alpha_driver_fairness * self.evaluate_driver_fairness() + \\\n",
    "               self.alpha_rider_fairness * self.evaluate_rider_fairness()\n",
    "\n",
    "    def evaluate_deadheading_cost(self):\n",
    "        return sum(self.deadheading_miles)\n",
    "\n",
    "    def evaluate_driver_fairness(self):\n",
    "        delta_pr_dh = [abs(pr-dh) for dh,\n",
    "                       pr in zip(self.deadheading_miles, self.profitable_mile)]\n",
    "        return statistics.stdev(delta_pr_dh)\n",
    "\n",
    "    def evaluate_rider_fairness(self):\n",
    "        # Flatten prearrival times into a 1D list\n",
    "        all_prearrival_miles = sum(self.prearrival_miles, [])\n",
    "        return statistics.stdev(all_prearrival_miles)\n",
    "\n",
    "    # return deadhing miles and profitable miles for each driver\n",
    "    def get_driver_deadhead_profit(self):\n",
    "        deadheading_miles = []  # deadheading miles for each driver\n",
    "        profitable_miles = []  # profitable miles for each driver\n",
    "        prearrival_miles = []  # same format as solution, represents driver miles travelled before reaching this rider\n",
    "        # loop over drivers\n",
    "        for driver_idx, riders in enumerate(self.solution):\n",
    "            driver = self.drivers[driver_idx]\n",
    "            dh_miles = 0\n",
    "            pr_miles = 0\n",
    "            pa_miles = []\n",
    "            # loop over riders of current driver\n",
    "            for rider_idx, rider in enumerate(riders):\n",
    "                # deadheading\n",
    "                if rider_idx == 0:\n",
    "                    dh_miles += self.dist(osmid_a=driver.initial_map_node_id,\n",
    "                                          osmid_b=rider.pickup_map_node_id)\n",
    "                else:\n",
    "                    prev_rider = riders[rider_idx-1]\n",
    "                    dh_miles += self.dist(osmid_a=prev_rider.dropoff_map_node_id,\n",
    "                                          osmid_b=rider.pickup_map_node_id)\n",
    "                # prearrival\n",
    "                pa_miles.append(pr_miles + dh_miles)\n",
    "                # profit\n",
    "                pr_miles += self.dist(osmid_a=rider.pickup_map_node_id,\n",
    "                                      osmid_b=rider.dropoff_map_node_id)\n",
    "            # populate total deadhing and profitable miles for current driver\n",
    "            deadheading_miles.append(dh_miles)\n",
    "            profitable_miles.append(pr_miles)  \n",
    "            prearrival_miles.append(pa_miles)\n",
    "        return deadheading_miles, profitable_miles, prearrival_miles\n",
    "\n",
    "    def unique_assignment_constraint(self):\n",
    "        # loop over riders\n",
    "        for rider in self.riders:\n",
    "            # loop over assiment list of each driver\n",
    "            num_of_assignments = 0\n",
    "            for driver_solution in self.solution:\n",
    "                current_ids = [rider.id for rider in driver_solution]\n",
    "                if rider.id in current_ids:\n",
    "                    num_of_assignments += 1\n",
    "            assert num_of_assignments == 1, \"Error: Number of assignments for Rider: {} is {}, Expected assignment \\\n",
    "            is 1\".format(rider.id, num_of_assignments)\n",
    "\n",
    "    def match_all_riders_constraint(self):\n",
    "        number_of_assignments = sum(\n",
    "            [len(driver_assigment) for driver_assigment in self.solution])\n",
    "        assert number_of_assignments == len(\n",
    "            self.riders), \"Number of assigned riders greater than number of riders!\"\n",
    "\n",
    "    # Compute shortest path between two nodes on a graph\n",
    "    def dist(self, osmid_a: int, osmid_b: int):\n",
    "        return self.dist_matrix[(osmid_a, osmid_b)]"
   ]
  },
  {
   "cell_type": "markdown",
   "metadata": {
    "id": "0D_Lfv3n9XC_"
   },
   "source": [
    "### Quick Test"
   ]
  },
  {
   "cell_type": "code",
   "execution_count": 20,
   "metadata": {
    "colab": {
     "base_uri": "https://localhost:8080/"
    },
    "id": "acIKWY899bQI",
    "outputId": "b51fc6f2-501d-4602-82db-3dc5ce9e337e"
   },
   "outputs": [
    {
     "ename": "NameError",
     "evalue": "name 'astar' is not defined",
     "output_type": "error",
     "traceback": [
      "\u001b[1;31m---------------------------------------------------------------------------\u001b[0m",
      "\u001b[1;31mNameError\u001b[0m                                 Traceback (most recent call last)",
      "\u001b[1;32m<ipython-input-20-18b92c7d7128>\u001b[0m in \u001b[0;36m<module>\u001b[1;34m\u001b[0m\n\u001b[0;32m      1\u001b[0m \u001b[0mstart\u001b[0m \u001b[1;33m=\u001b[0m \u001b[0mtime\u001b[0m\u001b[1;33m.\u001b[0m\u001b[0mtime\u001b[0m\u001b[1;33m(\u001b[0m\u001b[1;33m)\u001b[0m\u001b[1;33m\u001b[0m\u001b[1;33m\u001b[0m\u001b[0m\n\u001b[1;32m----> 2\u001b[1;33m \u001b[0meval_obj\u001b[0m \u001b[1;33m=\u001b[0m \u001b[0mDeadHeadingProblemEvaluation\u001b[0m\u001b[1;33m(\u001b[0m\u001b[0mgraph\u001b[0m\u001b[1;33m,\u001b[0m \u001b[0mdrivers\u001b[0m\u001b[1;33m,\u001b[0m \u001b[0mriders\u001b[0m\u001b[1;33m)\u001b[0m\u001b[1;33m\u001b[0m\u001b[1;33m\u001b[0m\u001b[0m\n\u001b[0m\u001b[0;32m      3\u001b[0m \u001b[0mend\u001b[0m \u001b[1;33m=\u001b[0m \u001b[0mtime\u001b[0m\u001b[1;33m.\u001b[0m\u001b[0mtime\u001b[0m\u001b[1;33m(\u001b[0m\u001b[1;33m)\u001b[0m\u001b[1;33m\u001b[0m\u001b[1;33m\u001b[0m\u001b[0m\n\u001b[0;32m      4\u001b[0m \u001b[0mprint\u001b[0m\u001b[1;33m(\u001b[0m\u001b[1;34m\"Eval init time = {} seconds\"\u001b[0m\u001b[1;33m.\u001b[0m\u001b[0mformat\u001b[0m\u001b[1;33m(\u001b[0m\u001b[0mend\u001b[0m \u001b[1;33m-\u001b[0m \u001b[0mstart\u001b[0m\u001b[1;33m)\u001b[0m\u001b[1;33m)\u001b[0m\u001b[1;33m\u001b[0m\u001b[1;33m\u001b[0m\u001b[0m\n",
      "\u001b[1;32m<ipython-input-19-005179f5afda>\u001b[0m in \u001b[0;36m__init__\u001b[1;34m(self, graph, drivers, riders, alpha_deadheading, alpha_driver_fairness, alpha_rider_fairness)\u001b[0m\n\u001b[0;32m     44\u001b[0m         \u001b[1;32mfor\u001b[0m \u001b[0mdriver\u001b[0m \u001b[1;32min\u001b[0m \u001b[0mdrivers\u001b[0m\u001b[1;33m:\u001b[0m\u001b[1;33m\u001b[0m\u001b[1;33m\u001b[0m\u001b[0m\n\u001b[0;32m     45\u001b[0m             \u001b[1;32mfor\u001b[0m \u001b[0mrider\u001b[0m \u001b[1;32min\u001b[0m \u001b[0mriders\u001b[0m\u001b[1;33m:\u001b[0m\u001b[1;33m\u001b[0m\u001b[1;33m\u001b[0m\u001b[0m\n\u001b[1;32m---> 46\u001b[1;33m                 \u001b[0madd_dist\u001b[0m\u001b[1;33m(\u001b[0m\u001b[0mdriver\u001b[0m\u001b[1;33m.\u001b[0m\u001b[0minitial_map_node_id\u001b[0m\u001b[1;33m,\u001b[0m \u001b[0mrider\u001b[0m\u001b[1;33m.\u001b[0m\u001b[0mpickup_map_node_id\u001b[0m\u001b[1;33m)\u001b[0m\u001b[1;33m\u001b[0m\u001b[1;33m\u001b[0m\u001b[0m\n\u001b[0m\u001b[0;32m     47\u001b[0m         \u001b[1;31m# rider dropoff -> rider pickup\u001b[0m\u001b[1;33m\u001b[0m\u001b[1;33m\u001b[0m\u001b[1;33m\u001b[0m\u001b[0m\n\u001b[0;32m     48\u001b[0m         \u001b[1;32mfor\u001b[0m \u001b[0mrider1\u001b[0m \u001b[1;32min\u001b[0m \u001b[0mriders\u001b[0m\u001b[1;33m:\u001b[0m\u001b[1;33m\u001b[0m\u001b[1;33m\u001b[0m\u001b[0m\n",
      "\u001b[1;32m<ipython-input-19-005179f5afda>\u001b[0m in \u001b[0;36madd_dist\u001b[1;34m(from_id, to_id)\u001b[0m\n\u001b[0;32m     36\u001b[0m             \u001b[0mfrom_node\u001b[0m \u001b[1;33m=\u001b[0m \u001b[0mNode\u001b[0m\u001b[1;33m(\u001b[0m\u001b[0mgraph\u001b[0m\u001b[1;33m=\u001b[0m\u001b[0mgraph\u001b[0m\u001b[1;33m,\u001b[0m \u001b[0mosmid\u001b[0m\u001b[1;33m=\u001b[0m\u001b[0mfrom_id\u001b[0m\u001b[1;33m)\u001b[0m\u001b[1;33m\u001b[0m\u001b[1;33m\u001b[0m\u001b[0m\n\u001b[0;32m     37\u001b[0m             \u001b[0mto_node\u001b[0m \u001b[1;33m=\u001b[0m \u001b[0mNode\u001b[0m\u001b[1;33m(\u001b[0m\u001b[0mgraph\u001b[0m\u001b[1;33m=\u001b[0m\u001b[0mgraph\u001b[0m\u001b[1;33m,\u001b[0m \u001b[0mosmid\u001b[0m\u001b[1;33m=\u001b[0m\u001b[0mto_id\u001b[0m\u001b[1;33m)\u001b[0m\u001b[1;33m\u001b[0m\u001b[1;33m\u001b[0m\u001b[0m\n\u001b[1;32m---> 38\u001b[1;33m             shortest_route = astar(\n\u001b[0m\u001b[0;32m     39\u001b[0m                 G=graph, origin=from_node, destination=to_node)\n\u001b[0;32m     40\u001b[0m             \u001b[0mcost_route\u001b[0m \u001b[1;33m=\u001b[0m \u001b[0mcost\u001b[0m\u001b[1;33m(\u001b[0m\u001b[0mgraph\u001b[0m\u001b[1;33m,\u001b[0m \u001b[0mshortest_route\u001b[0m\u001b[1;33m)\u001b[0m\u001b[1;33m\u001b[0m\u001b[1;33m\u001b[0m\u001b[0m\n",
      "\u001b[1;31mNameError\u001b[0m: name 'astar' is not defined"
     ]
    }
   ],
   "source": [
    "start = time.time()\n",
    "eval_obj = DeadHeadingProblemEvaluation(graph, drivers, riders)\n",
    "end = time.time()\n",
    "print(\"Eval init time = {} seconds\".format(end - start))"
   ]
  },
  {
   "cell_type": "markdown",
   "metadata": {
    "id": "YhiDM0zIbPQK"
   },
   "source": [
    "## Bio-inspired algorithms\n",
    "\n",
    "We experiment with three main methods for minimizing the dead-heading cost function.\n",
    "- Simulated Annealing*\n",
    "- Genetic Algorithm*\n",
    "- Grey Wolf\n",
    "\n",
    "\\* Also adaptive versions for these methods\n"
   ]
  },
  {
   "cell_type": "markdown",
   "metadata": {
    "id": "vGssZgvEyUil"
   },
   "source": [
    "### Simulated Annealing"
   ]
  },
  {
   "cell_type": "markdown",
   "metadata": {
    "id": "cbxZVbiIwFGX"
   },
   "source": [
    "#### Helper classes"
   ]
  },
  {
   "cell_type": "code",
   "execution_count": 12,
   "metadata": {
    "id": "7e7PIJ9fwHYG"
   },
   "outputs": [],
   "source": [
    "class RandomSolution():\n",
    "    def __init__(self, drivers, riders):\n",
    "        self.drivers = drivers\n",
    "        self.riders = riders\n",
    "\n",
    "        # setting random seed from config file\n",
    "        config = ConfigParser()\n",
    "        config.read('config.ini')\n",
    "        #random.seed(config.get('main', 'seed'))\n",
    "\n",
    "    def get_random_sol(self):\n",
    "        # init random solution\n",
    "        rs = []\n",
    "        # add empty list for each driver\n",
    "        for i in range(len(self.drivers)):\n",
    "            rs.append([])\n",
    "        # add each rider to one driver\n",
    "        for rider in self.riders:\n",
    "            # random index within drivers list\n",
    "            r_idx = random.sample(range(len(self.drivers)), 1)[0]\n",
    "            rs[r_idx].append(rider)\n",
    "        return rs\n",
    "\n",
    "\n",
    "class NeighborSolutions():\n",
    "    def __init__(self) -> None:\n",
    "        self.s = None\n",
    "\n",
    "    def set_solution(self, s):\n",
    "        self.s = s\n",
    "\n",
    "    def get_neigbors(self):\n",
    "        assert (self.s is not None), 'Must set solution first'\n",
    "        # driver swap\n",
    "        ds_sol = self.driver_swap(copy.deepcopy(self.s))\n",
    "        # rider reassign\n",
    "        rr_sol = self.rider_reassign(copy.deepcopy(self.s))\n",
    "        # rider shuffle\n",
    "        rs_sol = self.rider_shuffle(copy.deepcopy(self.s))\n",
    "        return [ds_sol, rr_sol, rs_sol]\n",
    "\n",
    "    def get_or_sol(self):\n",
    "        \"\"\" gets original variable \"\"\"\n",
    "        return self.or_sol\n",
    "\n",
    "    def get_ds_sol(self):\n",
    "        \"\"\" gets driver swap \"\"\"\n",
    "        return self.ds_sol\n",
    "\n",
    "    def get_rr_sol(self):\n",
    "        \"\"\" gets rider reassign \"\"\"\n",
    "        return self.rr_sol\n",
    "\n",
    "    def get_rs_sol(self):\n",
    "        \"\"\" gets rider shuffle \"\"\"\n",
    "        return self.rs_sol\n",
    "\n",
    "    def driver_swap(self, s):\n",
    "        \"\"\" swaps all riders  between two drivers\n",
    "\n",
    "        Args:\n",
    "            s (list): original solution\n",
    "\n",
    "        Returns:\n",
    "            list: new solution\n",
    "        \"\"\"\n",
    "        num_drivers = len(s)\n",
    "        idx_swap = random.sample(range(num_drivers), 2)\n",
    "        temp_data = s[idx_swap[0]]\n",
    "        s[idx_swap[0]] = s[idx_swap[1]]\n",
    "        s[idx_swap[1]] = temp_data\n",
    "        return s\n",
    "\n",
    "    def rider_reassign(self, s):\n",
    "        \"\"\" reassigns one rider to another driver]\n",
    "\n",
    "        Args:\n",
    "            s (list): original solution\n",
    "\n",
    "        Returns:\n",
    "            list: new solution\n",
    "        \"\"\"\n",
    "        num_drivers = len(s)\n",
    "        while True:\n",
    "            # a driver giving one rider\n",
    "            d_giving = random.sample(range(num_drivers), 1)[0]\n",
    "            # checks the giving driver has at least one rider\n",
    "            if len(s[d_giving]) > 0:\n",
    "                break\n",
    "        r_available = len(s[d_giving])  # available number of riders\n",
    "        # index of moving rider\n",
    "        idx_moving = random.sample(range(r_available), 1)[0]\n",
    "        r_moving = s[d_giving].pop(idx_moving)  # rider moving\n",
    "        while True:\n",
    "            d_receiving = random.sample(range(num_drivers), 1)[0]\n",
    "            # checks receiving driver is not giving driver\n",
    "            if d_giving != d_receiving:\n",
    "                c_riders = len(s[d_receiving])\n",
    "                if c_riders > 0:\n",
    "                    idx_moving = random.sample(range(c_riders), 1)[0]\n",
    "                    s[d_receiving].insert(idx_moving, r_moving)\n",
    "                else:\n",
    "                    s[d_receiving].append(r_moving)\n",
    "                break\n",
    "        return s\n",
    "\n",
    "    def rider_shuffle(self, s):\n",
    "        \"\"\" shuffles riders of one driver\n",
    "\n",
    "        Args:\n",
    "            s (list): original solution\n",
    "\n",
    "        Returns:\n",
    "            list: new solution\n",
    "        \"\"\"\n",
    "        num_drivers = len(s)\n",
    "        while True:\n",
    "            # driver shuffling its riders\n",
    "            d_shuffling = random.sample(range(num_drivers), 1)[0]\n",
    "            if len(s[d_shuffling]) > 1:\n",
    "                random.shuffle(s[d_shuffling])\n",
    "                break\n",
    "        return s"
   ]
  },
  {
   "cell_type": "markdown",
   "metadata": {
    "id": "MSZhT-JVvjUu"
   },
   "source": [
    "#### Solver class"
   ]
  },
  {
   "cell_type": "code",
   "execution_count": 13,
   "metadata": {
    "id": "No3wPWR8vl9J"
   },
   "outputs": [],
   "source": [
    "class SAnnealingSolver():\n",
    "    def __init__(self, drivers, riders, graph, eval_obj, k, lam, adaptive=False) -> None:\n",
    "        # problem setup\n",
    "        self.drivers = drivers\n",
    "        self.riders = riders\n",
    "        self.graph = graph\n",
    "        self.iteration = 0\n",
    "        # parameters of temperature schedule\n",
    "        self.schedule = self.exp_schedule(k, lam)\n",
    "        # simulated annealing variables\n",
    "        self.current_s = copy.deepcopy(RandomSolution(\n",
    "            drivers, riders).get_random_sol())\n",
    "        self.next_s = []\n",
    "        self.eval_obj = eval_obj\n",
    "        self.cost_current_s = self.get_cost(self.current_s)\n",
    "        self.neighbors = []\n",
    "        self.ns_generator = NeighborSolutions()\n",
    "        self.adaptive = adaptive\n",
    "        self.best_seen = copy.deepcopy(self.current_s)\n",
    "\n",
    "    # from https://smartmobilityalgorithms.github.io/book/content/TrajectoryAlgorithms/SimulatedAnnealing.html\n",
    "    def exp_schedule(self, k, lam):\n",
    "        # i corresponds to the iteration\n",
    "        def function(i): return (k * np.exp(-lam*i))\n",
    "        return function\n",
    "\n",
    "    def obtain_neighbors(self):\n",
    "        self.ns_generator.set_solution(copy.deepcopy(self.current_s))\n",
    "        self.neighbors = copy.deepcopy(self.ns_generator.get_neigbors())\n",
    "\n",
    "    def pick_solution(self):\n",
    "        # ------- adaptive part -------\n",
    "        if self.adaptive:\n",
    "            if self.get_cost(self.current_s) < self.get_cost(self.best_seen):\n",
    "                self.best_seen = self.current_s\n",
    "            candidate_from_neighbors = copy.deepcopy(\n",
    "                random.choice(self.neighbors))\n",
    "            self.next_s = copy.deepcopy(random.choice(\n",
    "                [candidate_from_neighbors, self.best_seen]))\n",
    "        else:\n",
    "            self.next_s = copy.deepcopy(random.choice(self.neighbors))\n",
    "\n",
    "    def get_cost(self, s):\n",
    "        self.eval_obj.set_solution(s)\n",
    "        return self.eval_obj.evaluate_cost_func()\n",
    "\n",
    "    def get_T(self, iteration):\n",
    "        return self.schedule(iteration)\n",
    "\n",
    "    # from https://github.com/SmartMobilityAlgorithms/smart_mobility_utilities/blob/master/smart_mobility_utilities/common.py\n",
    "    def probability(self, p):\n",
    "        return p > random.uniform(0.0, 1.0)\n",
    "\n",
    "    # from https://smartmobilityalgorithms.github.io/book/content/TrajectoryAlgorithms/SimulatedAnnealing.html\n",
    "    def determine_next_solution(self):\n",
    "        self.cost_current_s = self.get_cost(self.current_s)\n",
    "        cost_next_s = self.get_cost(self.next_s)\n",
    "        delta_e = cost_next_s - self.cost_current_s\n",
    "        self.iteration += 1\n",
    "        T = self.get_T(self.iteration)\n",
    "        if delta_e < 0 or self.probability(np.exp(-1 * delta_e/T)):\n",
    "            #coin = random.choice([1, 1, 1, 0, 0, 0, 0, 0])\n",
    "            # if delta_e < 0 or coin:\n",
    "            self.current_s = copy.deepcopy(self.next_s)\n",
    "\n",
    "    def get_status(self):\n",
    "        return self.current_s, self.cost_current_s"
   ]
  },
  {
   "cell_type": "markdown",
   "metadata": {
    "id": "Gjj9lB3pv2WH"
   },
   "source": [
    "#### Helper functions"
   ]
  },
  {
   "cell_type": "code",
   "execution_count": 14,
   "metadata": {
    "id": "4m_A6oVRvx-s"
   },
   "outputs": [],
   "source": [
    "def get_SA_parameters(drivers, riders, eval_obj, iterations, adaptive):\n",
    "    \"\"\" function that determines proper parameters for the SA method\n",
    "\n",
    "    Args:\n",
    "        drivers ([type]): [description]\n",
    "        riders ([type]): [description]\n",
    "        eval_obj ([type]): [description]\n",
    "        iterations ([type]): [description]\n",
    "\n",
    "    Returns:\n",
    "        [type]: [description]\n",
    "    \"\"\"\n",
    "    # number of random samples to get statistics from\n",
    "    num_samples = 100\n",
    "    # store cost of sample solutions\n",
    "    sample_sol_c = []\n",
    "    for i in range(num_samples):\n",
    "        # random solution\n",
    "        s = copy.deepcopy(RandomSolution(\n",
    "            drivers, riders).get_random_sol())\n",
    "        eval_obj.set_solution(s)\n",
    "        # cost of random solution\n",
    "        c = eval_obj.evaluate_cost_func()\n",
    "        sample_sol_c.append(c)\n",
    "    # average and standard deviation of cost\n",
    "    avg_c = np.array(sample_sol_c).mean()\n",
    "    std_c = np.array(sample_sol_c).std()\n",
    "    # setting initial temperature as\n",
    "    # 3.5 or 1.0 of the std of the cost of 100 random solutions\n",
    "    if adaptive:\n",
    "        k = 3.5 * std_c  # encourage more exploration in adaptive version\n",
    "    else:\n",
    "        k = 1.5 * std_c\n",
    "    # final temperature is set to 0.1 std of cost\n",
    "    t_final = 0.1 * std_c\n",
    "    # extracting lambda from temperature equation\n",
    "    lam = -1 * (np.log(t_final/k)) / iterations\n",
    "    return (k, lam)\n",
    "\n",
    "\n",
    "def runSA(drivers, riders, graph, eval_obj, k, lam, iterations, adaptive):\n",
    "    hist_solutions = []\n",
    "    hist_costs = []\n",
    "    sa_solver = SAnnealingSolver(\n",
    "        drivers, riders, graph, eval_obj, k, lam, adaptive)\n",
    "    solution_i, cost_i = sa_solver.get_status()\n",
    "    hist_solutions.append(solution_i)\n",
    "    hist_costs.append(cost_i)\n",
    "    for i in tqdm(range(iterations)):\n",
    "        sa_solver.obtain_neighbors()\n",
    "        sa_solver.pick_solution()\n",
    "        sa_solver.determine_next_solution()\n",
    "        solution_i, cost_i = sa_solver.get_status()\n",
    "        hist_solutions.append(solution_i)\n",
    "        hist_costs.append(cost_i)\n",
    "    return hist_solutions, hist_costs\n",
    "\n",
    "\n",
    "def print_SA_states(states):\n",
    "    for i, value in enumerate(states):\n",
    "        print('--------------------------------------------')\n",
    "        print(f'Solution {i} cost -> {value[1]}')\n",
    "\n",
    "\n",
    "def print_best(hist_costs):\n",
    "    best = np.array(hist_costs).min()\n",
    "    print('--------------------------------------------')\n",
    "    print('--------------------------------------------')\n",
    "    print(f'Best solution cost -> {best}')\n",
    "    print('--------------------------------------------')\n",
    "    print('--------------------------------------------')"
   ]
  },
  {
   "cell_type": "markdown",
   "metadata": {
    "id": "6tGGpX1iwRZh"
   },
   "source": [
    "#### Quick Test"
   ]
  },
  {
   "cell_type": "code",
   "execution_count": 15,
   "metadata": {
    "colab": {
     "base_uri": "https://localhost:8080/"
    },
    "id": "n4dyTb_wxDLA",
    "outputId": "b6b7c2d3-b03c-4f28-e993-44385144cf5d"
   },
   "outputs": [
    {
     "name": "stdout",
     "output_type": "stream",
     "text": [
      "Eval init time = 10.817538976669312 seconds\n"
     ]
    }
   ],
   "source": [
    "start = time.time()\n",
    "eval_obj = DeadHeadingProblemEvaluation(graph, drivers, riders)\n",
    "end = time.time()\n",
    "print(\"Eval init time = {} seconds\".format(end - start))"
   ]
  },
  {
   "cell_type": "code",
   "execution_count": 16,
   "metadata": {
    "colab": {
     "base_uri": "https://localhost:8080/"
    },
    "id": "etY9jpVSxGna",
    "outputId": "a7a2572d-40a8-45ac-dc5f-2197c99aa23d",
    "scrolled": false
   },
   "outputs": [
    {
     "name": "stderr",
     "output_type": "stream",
     "text": [
      "100%|█████████████████████████████████████████████████████████████████████████████████████████████████| 500/500 [00:00<00:00, 789.66it/s]"
     ]
    },
    {
     "name": "stdout",
     "output_type": "stream",
     "text": [
      "\n",
      "SA time = 0.6352057456970215 seconds\n"
     ]
    },
    {
     "name": "stderr",
     "output_type": "stream",
     "text": [
      "\n"
     ]
    }
   ],
   "source": [
    "# Simulated Annealing part for evaluation script\n",
    "iterations = 500\n",
    "k, lam = get_SA_parameters(drivers, riders, eval_obj, iterations, adaptive=False)\n",
    "start = time.time()\n",
    "hist_solutions, hist_costs = runSA(\n",
    "    drivers, riders, graph, eval_obj, k, lam, iterations, adaptive=False)\n",
    "end = time.time()\n",
    "print(\"\")\n",
    "print(\"SA time = {} seconds\".format(end - start))"
   ]
  },
  {
   "cell_type": "markdown",
   "metadata": {
    "id": "Z8pUg83AykhZ"
   },
   "source": [
    "### Genetic Algorithm"
   ]
  },
  {
   "cell_type": "markdown",
   "metadata": {
    "id": "yxNdkixtywXP"
   },
   "source": [
    "#### Solver class"
   ]
  },
  {
   "cell_type": "code",
   "execution_count": 17,
   "metadata": {
    "id": "CQuNJk4_yyMe"
   },
   "outputs": [],
   "source": [
    "class GeneticSolver():\n",
    "    def __init__(self, drivers, riders, graph, evaluation, pop_size, crossover_rate=0.9, mutation_rate=0.1) -> None:\n",
    "        self.pop_size = pop_size\n",
    "        self.crossover_rate = crossover_rate\n",
    "        self.mutation_rate = mutation_rate\n",
    "        self.drivers = list(drivers)\n",
    "        self.riders = list(riders)\n",
    "        self.graph = graph\n",
    "        self.evaluation_obj = evaluation\n",
    "        self.debug = False\n",
    "        self.population = self.initialize_population()\n",
    "        self.best_score = float(\"inf\")\n",
    "        \n",
    "\n",
    "    def initialize_population(self):\n",
    "        population = list()\n",
    "        # generate solutions\n",
    "        for i in range(0, self.pop_size):\n",
    "            sol = self.generate_solution()\n",
    "            population.append(sol)\n",
    "        return population\n",
    "\n",
    "    def crossover(self):\n",
    "        max_num_children = self.pop_size//2\n",
    "        for i in range(0, max_num_children):\n",
    "            if random.uniform(0, 1) < self.crossover_rate:\n",
    "                p1, p2 = random.sample(self.population, 2)\n",
    "                # init child\n",
    "                num_drivers = len(self.drivers)\n",
    "                \n",
    "                child1 = [list() for dr in range(0, num_drivers)]\n",
    "                # Take permutation from P1 and driver assignment structure from P2\n",
    "                # permutation of P1 - flatten\n",
    "                permutation_p1 = [item for sublist in p1 for item in sublist]\n",
    "                # Assign based on P2\n",
    "                assignments = 0\n",
    "                for driver_idx, driver_list in enumerate(p2):\n",
    "                    child1[driver_idx] = permutation_p1[assignments:assignments + len(driver_list)]\n",
    "                    assignments += len(driver_list)\n",
    "                # check\n",
    "                if self.debug:\n",
    "                    flat_list = [item for sublist in child1 for item in sublist]\n",
    "                    assert len(flat_list) == len(self.riders)\n",
    "                self.population.append(child1)\n",
    "\n",
    "                child2 = [list() for dr in range(0, num_drivers)]\n",
    "                # Take permutation from P2 and driver assignment structure from P1\n",
    "                # permutation of P2 - flatten\n",
    "                permutation_p2 = [item for sublist in p2 for item in sublist]\n",
    "                # Assign based on P2\n",
    "                assignments = 0\n",
    "                for driver_idx, driver_list in enumerate(p1):\n",
    "                    child2[driver_idx] = permutation_p2[assignments:assignments + len(driver_list)]\n",
    "                    assignments += len(driver_list)\n",
    "                # check\n",
    "                if self.debug:\n",
    "                    flat_list = [item for sublist in child2 for item in sublist]\n",
    "                    assert len(flat_list) == len(self.riders)\n",
    "                self.population.append(child2)\n",
    "\n",
    "    # inplace switch two driver assignments\n",
    "    def mutate_driver_assignment(self):\n",
    "        for p in self.population:\n",
    "            if random.uniform(0, 1) < self.mutation_rate:\n",
    "                selected_drivers = random.sample(range(0, len(self.drivers)), 2)\n",
    "                driver_a_idx = selected_drivers[0]\n",
    "                driver_b_idx = selected_drivers[1]\n",
    "                driver_a = p[driver_a_idx][:]\n",
    "                driver_b = p[driver_b_idx][:]\n",
    "                p[driver_a_idx] = driver_b\n",
    "                p[driver_b_idx] = driver_a\n",
    "\n",
    "    # inplace switch two riders\n",
    "    def mutate_rider_sequence(self):\n",
    "        for p in self.population:\n",
    "            if random.uniform(0, 1) < self.mutation_rate:\n",
    "                permutations = [item for sublist in p for item in sublist]\n",
    "                selected_riders = random.sample(range(0, len(self.riders)), 2)\n",
    "                rider_1_idx = selected_riders[0]\n",
    "                rider_2_idx = selected_riders[1]\n",
    "                rider_id_1 = permutations[rider_1_idx]\n",
    "                rider_id_2 = permutations[rider_2_idx] \n",
    "                mutated_permutations = permutations\n",
    "                mutated_permutations[rider_1_idx] = rider_id_2\n",
    "                mutated_permutations[rider_2_idx] = rider_id_1\n",
    "                assignments = 0\n",
    "                for driver_idx, driver_list in enumerate(p):\n",
    "                    p[driver_idx] = mutated_permutations[assignments:assignments + len(driver_list)]\n",
    "                    assignments += len(driver_list)\n",
    "    \n",
    "    def fitness_func(self):\n",
    "        best_score = float(\"inf\")\n",
    "        cost_per_solution = []\n",
    "        for sol in self.population:\n",
    "            sol_obj = self.index_to_objects(sol)\n",
    "            self.evaluation_obj.set_solution(sol_obj)\n",
    "            cost = self.evaluation_obj.evaluate_cost_func()\n",
    "            cost_per_solution.append(cost)\n",
    "            if best_score > cost:\n",
    "                best_score = cost              \n",
    "        \n",
    "        # update best score\n",
    "        if self.best_score > best_score:\n",
    "            self.best_score = best_score\n",
    "        # sorted population based on cost per solution\n",
    "        self.population = [sorted_solution for _, sorted_solution in sorted(zip(cost_per_solution, self.population))]\n",
    "    \n",
    "    # update population to be top 50% that minimize objective - Elitism\n",
    "    def select_parent(self):\n",
    "        # survival of the fittest\n",
    "        num_parents = self.pop_size//2\n",
    "        self.population = self.population[0:num_parents]\n",
    "\n",
    "    def index_to_objects(self, idx_sol):\n",
    "        sol_obj = list()\n",
    "        for driver_assignment in idx_sol:\n",
    "            driver_assignment_obj = []\n",
    "            for rider_idx in driver_assignment:\n",
    "                driver_assignment_obj.append(self.riders[rider_idx])\n",
    "            sol_obj.append(driver_assignment_obj)\n",
    "        return sol_obj\n",
    "\n",
    "    # returns a list of lists of indices representing assignments for each driver\n",
    "    def generate_solution(self):\n",
    "        num_riders = len(self.riders)\n",
    "        num_drivers = len(self.drivers)\n",
    "        # create list of empty lists\n",
    "        sol = [list() for dr in range(0, num_drivers)]\n",
    "        # generate random permutation of riders\n",
    "        riders_permutation = list(range(num_riders))\n",
    "        random.shuffle(riders_permutation)\n",
    "        # Getting N (drivers) random numbers whose sum is M (riders)\n",
    "        #https://stackoverflow.com/questions/2640053/getting-n-random-numbers-whose-sum-is-m/2640079#2640079\n",
    "        # Generate N-1 random numbers between 0 and 1\n",
    "        x = list(np.random.uniform(low = 0.0, high = 1.0, size = num_drivers-1))\n",
    "        # Add the numbers 0 and 1 themselves to the list and then sort them\n",
    "        x.extend([0, 1])\n",
    "        x.sort()\n",
    "        # Take the differences of adjacent numbers\n",
    "        diff = [x[i]-x[i-1] for i in range(1, len(x))]\n",
    "        driver_assigment = [int(item * num_riders) for item in diff]\n",
    "        sum_assignment = sum(driver_assigment)\n",
    "        # \n",
    "        num_unassigned = num_riders - sum_assignment\n",
    "        for i in range(0, num_unassigned):\n",
    "            driver_idx = random.randint(0, num_drivers-1)\n",
    "            driver_assigment[driver_idx]+=1\n",
    "        assert sum(driver_assigment) == num_riders\n",
    "        assert len(driver_assigment) == num_drivers\n",
    "        for driver_idx, s in enumerate(sol):\n",
    "            if driver_idx == 0:\n",
    "                s.extend(riders_permutation[0:driver_assigment[0]])\n",
    "            else:\n",
    "                assignments_so_far = sum(driver_assigment[0:driver_idx])\n",
    "                s.extend(riders_permutation[assignments_so_far:assignments_so_far + driver_assigment[driver_idx]])\n",
    "        \n",
    "        if self.debug:\n",
    "            flat_list = [item for sublist in sol for item in sublist]\n",
    "            flat_list = list(set(flat_list))\n",
    "            assert len(flat_list) == num_riders\n",
    "        return sol"
   ]
  },
  {
   "cell_type": "markdown",
   "metadata": {
    "id": "Ifw3YPziyz98"
   },
   "source": [
    "#### Helper functions"
   ]
  },
  {
   "cell_type": "code",
   "execution_count": 18,
   "metadata": {
    "id": "1owFAyi-y1aD"
   },
   "outputs": [],
   "source": [
    "def run_GA(evaluation_object, drivers, riders, graph, initial_pop_size, iterations, crossover_rate=0.9, mutation_rate=0.5, adaptive=False):\n",
    "    scores = []\n",
    "    gs_solver = GeneticSolver(drivers, riders, graph, evaluation_object, \n",
    "                             pop_size=initial_pop_size, \n",
    "                             crossover_rate=crossover_rate, mutation_rate=mutation_rate)\n",
    "    initial_crossover_rate = gs_solver.crossover_rate\n",
    "    initial_mutation_rate = gs_solver.mutation_rate\n",
    "    final_crossover_rate = 0.6\n",
    "    final_mutation_rate = 0.2\n",
    "    if adaptive: \n",
    "        assert final_crossover_rate <= crossover_rate\n",
    "        assert final_mutation_rate <= mutation_rate\n",
    "    for i in tqdm(range(iterations)):\n",
    "        gs_solver.fitness_func()\n",
    "        gs_solver.select_parent()\n",
    "        gs_solver.crossover()\n",
    "        gs_solver.mutate_rider_sequence()\n",
    "        gs_solver.mutate_driver_assignment()\n",
    "        scores.append(gs_solver.best_score)\n",
    "        if adaptive:\n",
    "            gs_solver.crossover_rate -= (initial_crossover_rate - final_crossover_rate)/iterations\n",
    "            gs_solver.mutation_rate -= (initial_mutation_rate - final_mutation_rate)/iterations\n",
    "    gs_solver = None\n",
    "    return scores"
   ]
  },
  {
   "cell_type": "markdown",
   "metadata": {
    "id": "CCHq_nicy4Km"
   },
   "source": [
    "#### Quick Test"
   ]
  },
  {
   "cell_type": "code",
   "execution_count": 19,
   "metadata": {
    "colab": {
     "base_uri": "https://localhost:8080/"
    },
    "id": "SSJpomISy3Xx",
    "outputId": "b715cb1f-b8c5-4cea-ef30-49684077d315"
   },
   "outputs": [
    {
     "name": "stderr",
     "output_type": "stream",
     "text": [
      "100%|██████████████████████████████████████████████████████████████████████████████████████████████████| 500/500 [00:35<00:00, 14.16it/s]"
     ]
    },
    {
     "name": "stdout",
     "output_type": "stream",
     "text": [
      "\n",
      "GA time = 35.312554359436035 seconds\n"
     ]
    },
    {
     "name": "stderr",
     "output_type": "stream",
     "text": [
      "\n"
     ]
    }
   ],
   "source": [
    "start = time.time()\n",
    "run_GA(eval_obj, drivers, riders, graph, initial_pop_size=300, iterations=500, crossover_rate=0.9, mutation_rate=0.4)\n",
    "end = time.time()\n",
    "print(\"\")\n",
    "print(\"GA time = {} seconds\".format(end - start))"
   ]
  },
  {
   "cell_type": "markdown",
   "metadata": {},
   "source": [
    "### Grey Wolf Algorithm"
   ]
  },
  {
   "cell_type": "markdown",
   "metadata": {},
   "source": [
    "#### Wolf class"
   ]
  },
  {
   "cell_type": "code",
   "execution_count": 20,
   "metadata": {},
   "outputs": [],
   "source": [
    "class Wolf():\n",
    "    def __init__(self, solution, eval_obj) -> None:\n",
    "        self._solution = solution\n",
    "        self._eval_obj = eval_obj\n",
    "        self._cost = None\n",
    "        self.update_cost()\n",
    "\n",
    "    @property\n",
    "    def solution(self):\n",
    "        return self._solution\n",
    "\n",
    "    @solution.setter\n",
    "    def solution(self, new_solution):\n",
    "        self._solution = new_solution\n",
    "\n",
    "    @property\n",
    "    def cost(self):\n",
    "        return self._cost\n",
    "\n",
    "    @cost.setter\n",
    "    def cost(self, new_cost):\n",
    "        self._cost = new_cost\n",
    "\n",
    "    def update_cost(self):\n",
    "        self._eval_obj.set_solution(self._solution)\n",
    "        self.cost = int(self._eval_obj.evaluate_cost_func())\n",
    "\n",
    "    def __eq__(self, other):\n",
    "        return self.cost == other.cost\n",
    "\n",
    "    def __lt__(self, other):\n",
    "        return self.cost < other.cost\n",
    "\n",
    "    def __repr__(self) -> str:\n",
    "        return f'This wolf\\'s cost is {self._cost}'"
   ]
  },
  {
   "cell_type": "markdown",
   "metadata": {},
   "source": [
    "#### Solver class"
   ]
  },
  {
   "cell_type": "code",
   "execution_count": 21,
   "metadata": {},
   "outputs": [],
   "source": [
    "class GWSolver():\n",
    "\n",
    "    def __init__(self, drivers, riders, graph, eval_obj, pack_size, max_hunt_range, iterations) -> None:\n",
    "\n",
    "        # validations\n",
    "        if pack_size <= 3:\n",
    "            raise ValueError('Pack size must be greater than 3')\n",
    "        if max_hunt_range < 1:\n",
    "            raise ValueError('Maximum hunting range must be >= 1')\n",
    "\n",
    "        # problem setup\n",
    "        self.drivers = drivers\n",
    "        self.riders = riders\n",
    "        self.graph = graph\n",
    "        self.eval_obj = eval_obj\n",
    "        self.iterations = iterations\n",
    "        self.iteration = 0\n",
    "        # grey wolf data\n",
    "        self.pack = []\n",
    "        self.leads = []\n",
    "        # pack_size determines the number of wolves in the pack\n",
    "        self.pack_size = pack_size\n",
    "        # max_hunt_range determines how many moves a wolf makes at an iteration\n",
    "        # begins high and reduces to very few moves at the end\n",
    "        self.max_hunt_range = max_hunt_range\n",
    "        self.current_hunt_range = max_hunt_range\n",
    "        # attack_rate determines how many wolves attack at a given iteration\n",
    "        # begins low and rises to all wolves attacking at the end\n",
    "        self.attack_rate = 3  # three leading wolves\n",
    "        # utilities\n",
    "        self.ns_generator = NeighborSolutions()\n",
    "\n",
    "    def generate_wolves_pack(self):\n",
    "        for i in range(self.pack_size):\n",
    "            rand_sol = copy.deepcopy(RandomSolution(\n",
    "                self.drivers, self.riders).get_random_sol())\n",
    "            a_wolf = Wolf(rand_sol, self.eval_obj)\n",
    "            self.pack.append(a_wolf)\n",
    "\n",
    "    def identify_lead_wolves(self):\n",
    "        self.pack.sort()\n",
    "        self.leads = self.pack[:3]\n",
    "\n",
    "    def update_hunting_range(self):\n",
    "        progress = self.iteration/self.iterations\n",
    "        num_moves = int((1-(progress))\n",
    "                        * self.max_hunt_range)\n",
    "        self.current_hunt_range = num_moves\n",
    "        self.iteration += 1\n",
    "\n",
    "    def update_attack_rate(self):\n",
    "        progress = self.iteration/self.iterations\n",
    "        # three leading wolves\n",
    "        self.attack_rate = 3 + int(progress * (self.pack_size - 3))\n",
    "\n",
    "    def pack_hunts(self):\n",
    "        for i in range(self.attack_rate, self.pack_size):\n",
    "            # current wolf's solution\n",
    "            new_solution = copy.deepcopy(random.choice(self.leads).solution)\n",
    "            move = 0\n",
    "            while move <= self.current_hunt_range:\n",
    "                self.ns_generator.set_solution(new_solution)\n",
    "                new_solution = copy.deepcopy(random.choice(\n",
    "                    self.ns_generator.get_neigbors()))\n",
    "                move += 1\n",
    "            self.pack[i] = Wolf(new_solution, self.eval_obj)\n",
    "\n",
    "    def get_status(self):\n",
    "        avg_cost = 0\n",
    "        for a_wolf in self.pack:\n",
    "            avg_cost += a_wolf.cost\n",
    "        avg_cost = avg_cost / self.pack_size\n",
    "        return avg_cost"
   ]
  },
  {
   "cell_type": "markdown",
   "metadata": {},
   "source": [
    "#### Helper functions"
   ]
  },
  {
   "cell_type": "code",
   "execution_count": 22,
   "metadata": {},
   "outputs": [],
   "source": [
    "def runGW(drivers, riders, graph, eval_obj, pack_size, max_hunt_range, iterations):\n",
    "    hist_costs = []\n",
    "    gw_solver = GWSolver(drivers, riders, graph, eval_obj,\n",
    "                         pack_size, max_hunt_range, iterations)\n",
    "    gw_solver.generate_wolves_pack()\n",
    "    cost_i = gw_solver.get_status()\n",
    "    hist_costs.append(cost_i)\n",
    "    for i in tqdm(range(iterations)):\n",
    "        gw_solver.identify_lead_wolves()\n",
    "        gw_solver.update_hunting_range()\n",
    "        gw_solver.update_attack_rate()\n",
    "        gw_solver.pack_hunts()\n",
    "        cost_i = gw_solver.get_status()\n",
    "        hist_costs.append(cost_i)\n",
    "    return hist_costs"
   ]
  },
  {
   "cell_type": "markdown",
   "metadata": {},
   "source": [
    "#### Quick test"
   ]
  },
  {
   "cell_type": "code",
   "execution_count": 23,
   "metadata": {},
   "outputs": [
    {
     "name": "stderr",
     "output_type": "stream",
     "text": [
      "100%|██████████████████████████████████████████████████████████████████████████████████████████████████| 500/500 [00:05<00:00, 94.00it/s]"
     ]
    },
    {
     "name": "stdout",
     "output_type": "stream",
     "text": [
      "grey wolf time = 5\"\n",
      "grey wolf min cost 16272.3\n"
     ]
    },
    {
     "name": "stderr",
     "output_type": "stream",
     "text": [
      "\n"
     ]
    }
   ],
   "source": [
    "# Grey Wolf parameters\n",
    "iterations = 500\n",
    "pack_size = 10\n",
    "max_hunt_range = 8\n",
    "\n",
    "# Running GW\n",
    "start = time.time()\n",
    "hist_costs = runGW(drivers, riders, graph, eval_obj, pack_size, max_hunt_range, iterations)\n",
    "end = time.time()\n",
    "print(f'grey wolf time = {int(end - start)}\"')\n",
    "print(f'grey wolf min cost {min(hist_costs)}')"
   ]
  },
  {
   "cell_type": "markdown",
   "metadata": {
    "id": "ELI4N5lj7012"
   },
   "source": [
    "### Batch functions"
   ]
  },
  {
   "cell_type": "code",
   "execution_count": 29,
   "metadata": {
    "id": "t6lex4v77yMe"
   },
   "outputs": [],
   "source": [
    "def batchSA(drivers, riders, graph, eval_obj, iterations, batch_size, adaptive):\n",
    "    experiments_best_score = []\n",
    "    time_per_experiment = []\n",
    "    for i in range(0, batch_size):\n",
    "        print('SA Experiment Number: {}'.format(i))\n",
    "        starttime = time.time()\n",
    "        k, lam = get_SA_parameters(drivers, riders, eval_obj, iterations, adaptive)\n",
    "        hist_solutions, hist_costs =  runSA(drivers, riders, graph, eval_obj, k, lam, iterations, adaptive)\n",
    "        endtime = time.time()\n",
    "        experiments_best_score.append(min(hist_costs))\n",
    "        time_per_experiment.append(endtime-starttime)\n",
    "    print('SA Mean Scores: {}'.format(statistics.mean(experiments_best_score))) \n",
    "    print('SA Median Scores: {}'.format(statistics.median(experiments_best_score))) \n",
    "    print('SA STD Scores: {}'.format(statistics.stdev(experiments_best_score))) \n",
    "    print('SA Time: {}'.format(statistics.median(time_per_experiment))) \n",
    "\n",
    "\n",
    "def batchGA(drivers, riders, graph, eval_obj, initial_pop_size, iterations, batch_size, adaptive=False):\n",
    "    experiments_best_score = []\n",
    "    time_per_experiment = []\n",
    "    for i in range(0, batch_size):\n",
    "        print('GA Experiment Number: {}'.format(i))\n",
    "        starttime = time.time()\n",
    "        best_score =  run_GA(eval_obj, drivers, riders, graph, initial_pop_size, iterations, adaptive=adaptive)\n",
    "        endtime = time.time()\n",
    "        experiments_best_score.append(min(best_score))\n",
    "        time_per_experiment.append(endtime-starttime)\n",
    "    print('GA Mean Scores: {}'.format(statistics.mean(experiments_best_score))) \n",
    "    print('GA Median Scores: {}'.format(statistics.median(experiments_best_score))) \n",
    "    print('GA STD Scores: {}'.format(statistics.stdev(experiments_best_score)))   \n",
    "    print('GA Time: {}'.format(statistics.median(time_per_experiment)))  \n",
    "\n",
    "def batchGA_ablate_crossoverrate(drivers, riders, graph, eval_obj, initial_pop_size, iterations, batch_size=10):\n",
    "    rates = list(np.arange(0, 1.1, 0.1))\n",
    "    performance_per_rate = []\n",
    "    for cor in rates:\n",
    "        print('Current Crossover rate {}\\n'.format(cor))\n",
    "        experiments_best_score = []\n",
    "        for i in range(0, batch_size):\n",
    "            best_score =  run_GA(eval_obj, drivers, riders, graph, initial_pop_size, iterations, crossover_rate=cor)\n",
    "            experiments_best_score.append(min(best_score))\n",
    "        performance_per_rate.append(statistics.mean(experiments_best_score))\n",
    "    plt.xlabel('Crossover Rate')\n",
    "    plt.ylabel('Cost')\n",
    "    plt.plot(rates, performance_per_rate)\n",
    "    plt.show()\n",
    "\n",
    "def batchGA_ablate_mutationrate(drivers, riders, graph, eval_obj, initial_pop_size, iterations, batch_size=10):\n",
    "    rates = list(np.arange(0, 1.1, 0.1))\n",
    "    performance_per_rate = []\n",
    "    for mr in rates:\n",
    "        print('Current Mutation rate {}\\n'.format(mr))\n",
    "        experiments_best_score = []\n",
    "        for i in range(0, batch_size):\n",
    "            best_score =  run_GA(eval_obj, drivers, riders, graph, initial_pop_size, iterations, mutation_rate=mr)\n",
    "            experiments_best_score.append(min(best_score))\n",
    "        performance_per_rate.append(statistics.mean(experiments_best_score))\n",
    "    plt.xlabel('Mutation Rate')\n",
    "    plt.ylabel('Cost')\n",
    "    plt.plot(rates, performance_per_rate)\n",
    "    plt.show()\n",
    "\n",
    "def batchGA_ablate_populationsize(drivers, riders, graph, eval_obj, iterations, batch_size=10):\n",
    "    population_size = list(np.arange(100, 500, 100))\n",
    "    performance_per_pop_size = []\n",
    "    for pop_size in population_size:\n",
    "        print('Current Population Size: {}\\n'.format(pop_size))\n",
    "        experiments_best_score = []\n",
    "        for i in range(0, batch_size):\n",
    "            best_score =  run_GA(eval_obj, drivers, riders, graph, pop_size, iterations, adaptive=False)\n",
    "            experiments_best_score.append(min(best_score))\n",
    "        performance_per_pop_size.append(statistics.mean(experiments_best_score))\n",
    "    plt.xlabel('Population Size')\n",
    "    plt.ylabel('Cost')\n",
    "    plt.plot(population_size, performance_per_pop_size)\n",
    "    plt.show()\n",
    "\n",
    "def ablate_GA(drivers, riders, graph, eval_obj, initial_pop_size, ablate='cross'):\n",
    "    #### crossover/mutation rate and population size ablation\n",
    "    search_iterations = 200\n",
    "    batch_size = 30\n",
    "    \n",
    "    if ablate == 'cross':\n",
    "        batchGA_ablate_crossoverrate(drivers, riders, graph, eval_obj, initial_pop_size, iterations=search_iterations, batch_size=batch_size)\n",
    "    \n",
    "    if ablate == 'mutate':\n",
    "        batchGA_ablate_mutationrate(drivers, riders, graph, eval_obj, initial_pop_size, iterations=search_iterations, batch_size=batch_size)\n",
    "    \n",
    "    if ablate == 'pop':\n",
    "        batchGA_ablate_populationsize(drivers, riders, graph, eval_obj, iterations=search_iterations, batch_size=batch_size)\n",
    "\n",
    "def batchGW(drivers, riders, graph, eval_obj, pack_size, max_hunt_range, iterations, batch_size):\n",
    "    experiments_best_score = []\n",
    "    time_per_experiment = []\n",
    "    for i in range(0, batch_size):\n",
    "        print('GW Experiment Number: {}'.format(i))\n",
    "        starttime = time.time()\n",
    "        hist_costs = runGW(drivers, riders, graph, eval_obj, pack_size, max_hunt_range, iterations)\n",
    "        endtime = time.time()\n",
    "        experiments_best_score.append(min(hist_costs))\n",
    "        time_per_experiment.append(endtime-starttime)\n",
    "    print('GW Mean Scores: {}'.format(statistics.mean(experiments_best_score))) \n",
    "    print('GW Median Scores: {}'.format(statistics.median(experiments_best_score))) \n",
    "    print('GW STD Scores: {}'.format(statistics.stdev(experiments_best_score))) \n",
    "    print('GW Time: {}'.format(statistics.median(time_per_experiment))) "
   ]
  },
  {
   "cell_type": "markdown",
   "metadata": {
    "id": "Jc28LjJt77TJ"
   },
   "source": [
    "## Experiments"
   ]
  },
  {
   "cell_type": "code",
   "execution_count": 25,
   "metadata": {
    "id": "CIcHeFiY76EO"
   },
   "outputs": [],
   "source": [
    "random.seed(10)"
   ]
  },
  {
   "cell_type": "code",
   "execution_count": 26,
   "metadata": {
    "id": "AEhyahsQ8GRA"
   },
   "outputs": [],
   "source": [
    "# Parameters\n",
    "def set_experiment_parameters(small_set=True):\n",
    "    if small_set:\n",
    "        radius = 6000\n",
    "        num_drivers = 3\n",
    "        num_riders = 7\n",
    "        # GA parameters\n",
    "        ga_population = 200\n",
    "        # Grey Wolf parameters\n",
    "        pack_size = 10\n",
    "        max_hunt_range = 8\n",
    "\n",
    "    else:\n",
    "        radius = 15000\n",
    "        num_drivers = 5\n",
    "        num_riders = 20\n",
    "        # GA parameters\n",
    "        ga_population = 50\n",
    "        # Grey Wolf parameters\n",
    "        pack_size = 25\n",
    "        max_hunt_range = 10\n",
    "    return radius, num_drivers, num_riders, ga_population, pack_size, max_hunt_range\n",
    "\n",
    "dt_midpoint = (43.653225, -79.383186) "
   ]
  },
  {
   "cell_type": "markdown",
   "metadata": {},
   "source": [
    "### Ablate GA\n",
    "In this section, we study the effect of the hyper-parameters of the Genetic Algorithm on the quality of the solution. We mainly focus on three hyperparameters; (1) crossover rate, (2) mutation rate and (3) initial population size. For the following three experiments, the number of iterations is set to 200. To address the stochasticity of the GA algorithm, the number of runs per hyperparameter setting is set to 30 and the best score per run is averaged over the number of runs. To reduce the running time, a small sized problem is sampled from the Toronto Delivery Service Provider dataset. Here, we sample 3 drivers and 7 riders within 6 km from downtown area."
   ]
  },
  {
   "cell_type": "code",
   "execution_count": 27,
   "metadata": {},
   "outputs": [
    {
     "name": "stdout",
     "output_type": "stream",
     "text": [
      "samples time=24.969759702682495\n",
      "Distance matrix time=12.29915738105774\n"
     ]
    }
   ],
   "source": [
    "# sample\n",
    "start = time.time()\n",
    "drivers, riders, graph = sampler.get_samples(\n",
    "        num_drivers, num_riders, radius=radius, midpoint=dt_midpoint, return_graph=True)\n",
    "end = time.time()\n",
    "print(\"samples time={}\".format(end - start))\n",
    "# compute distance matrix\n",
    "start = time.time()\n",
    "eval_obj = DeadHeadingProblemEvaluation(graph, drivers, riders)\n",
    "end = time.time()\n",
    "print(\"Distance matrix time={}\".format(end - start))"
   ]
  },
  {
   "cell_type": "code",
   "execution_count": 30,
   "metadata": {
    "scrolled": true
   },
   "outputs": [
    {
     "name": "stdout",
     "output_type": "stream",
     "text": [
      "Current Crossover rate 0.0\n",
      "\n"
     ]
    },
    {
     "name": "stderr",
     "output_type": "stream",
     "text": [
      "100%|██████████████████████████████████████████████████████████████████████████████████████████████████| 200/200 [00:03<00:00, 58.30it/s]\n",
      "100%|██████████████████████████████████████████████████████████████████████████████████████████████████| 200/200 [00:03<00:00, 58.12it/s]\n",
      "100%|██████████████████████████████████████████████████████████████████████████████████████████████████| 200/200 [00:03<00:00, 57.94it/s]\n",
      "100%|██████████████████████████████████████████████████████████████████████████████████████████████████| 200/200 [00:03<00:00, 58.61it/s]\n",
      "100%|██████████████████████████████████████████████████████████████████████████████████████████████████| 200/200 [00:03<00:00, 59.86it/s]\n",
      "100%|██████████████████████████████████████████████████████████████████████████████████████████████████| 200/200 [00:03<00:00, 59.99it/s]\n",
      "100%|██████████████████████████████████████████████████████████████████████████████████████████████████| 200/200 [00:03<00:00, 59.22it/s]\n",
      "100%|██████████████████████████████████████████████████████████████████████████████████████████████████| 200/200 [00:03<00:00, 59.36it/s]\n",
      "100%|██████████████████████████████████████████████████████████████████████████████████████████████████| 200/200 [00:03<00:00, 59.79it/s]\n",
      "100%|██████████████████████████████████████████████████████████████████████████████████████████████████| 200/200 [00:03<00:00, 59.60it/s]\n",
      "100%|██████████████████████████████████████████████████████████████████████████████████████████████████| 200/200 [00:03<00:00, 58.29it/s]\n",
      "100%|██████████████████████████████████████████████████████████████████████████████████████████████████| 200/200 [00:03<00:00, 59.82it/s]\n",
      "100%|██████████████████████████████████████████████████████████████████████████████████████████████████| 200/200 [00:03<00:00, 60.05it/s]\n",
      "100%|██████████████████████████████████████████████████████████████████████████████████████████████████| 200/200 [00:03<00:00, 60.54it/s]\n",
      "100%|██████████████████████████████████████████████████████████████████████████████████████████████████| 200/200 [00:03<00:00, 60.57it/s]\n",
      "100%|██████████████████████████████████████████████████████████████████████████████████████████████████| 200/200 [00:03<00:00, 60.82it/s]\n",
      "100%|██████████████████████████████████████████████████████████████████████████████████████████████████| 200/200 [00:03<00:00, 60.74it/s]\n",
      "100%|██████████████████████████████████████████████████████████████████████████████████████████████████| 200/200 [00:03<00:00, 60.61it/s]\n",
      "100%|██████████████████████████████████████████████████████████████████████████████████████████████████| 200/200 [00:03<00:00, 60.41it/s]\n",
      "100%|██████████████████████████████████████████████████████████████████████████████████████████████████| 200/200 [00:03<00:00, 60.61it/s]\n",
      "100%|██████████████████████████████████████████████████████████████████████████████████████████████████| 200/200 [00:03<00:00, 60.51it/s]\n",
      "100%|██████████████████████████████████████████████████████████████████████████████████████████████████| 200/200 [00:03<00:00, 60.45it/s]\n",
      "100%|██████████████████████████████████████████████████████████████████████████████████████████████████| 200/200 [00:03<00:00, 60.47it/s]\n",
      "100%|██████████████████████████████████████████████████████████████████████████████████████████████████| 200/200 [00:03<00:00, 60.37it/s]\n",
      "100%|██████████████████████████████████████████████████████████████████████████████████████████████████| 200/200 [00:03<00:00, 60.12it/s]\n",
      "100%|██████████████████████████████████████████████████████████████████████████████████████████████████| 200/200 [00:03<00:00, 60.27it/s]\n",
      "100%|██████████████████████████████████████████████████████████████████████████████████████████████████| 200/200 [00:03<00:00, 60.32it/s]\n",
      "100%|██████████████████████████████████████████████████████████████████████████████████████████████████| 200/200 [00:03<00:00, 60.43it/s]\n",
      "100%|██████████████████████████████████████████████████████████████████████████████████████████████████| 200/200 [00:03<00:00, 59.99it/s]\n",
      "100%|██████████████████████████████████████████████████████████████████████████████████████████████████| 200/200 [00:03<00:00, 59.43it/s]\n"
     ]
    },
    {
     "name": "stdout",
     "output_type": "stream",
     "text": [
      "Current Crossover rate 0.1\n",
      "\n"
     ]
    },
    {
     "name": "stderr",
     "output_type": "stream",
     "text": [
      "100%|██████████████████████████████████████████████████████████████████████████████████████████████████| 200/200 [00:04<00:00, 49.95it/s]\n",
      "100%|██████████████████████████████████████████████████████████████████████████████████████████████████| 200/200 [00:03<00:00, 50.71it/s]\n",
      "100%|██████████████████████████████████████████████████████████████████████████████████████████████████| 200/200 [00:03<00:00, 51.33it/s]\n",
      "100%|██████████████████████████████████████████████████████████████████████████████████████████████████| 200/200 [00:03<00:00, 51.27it/s]\n",
      "100%|██████████████████████████████████████████████████████████████████████████████████████████████████| 200/200 [00:03<00:00, 51.60it/s]\n",
      "100%|██████████████████████████████████████████████████████████████████████████████████████████████████| 200/200 [00:03<00:00, 51.22it/s]\n",
      "100%|██████████████████████████████████████████████████████████████████████████████████████████████████| 200/200 [00:03<00:00, 50.81it/s]\n",
      "100%|██████████████████████████████████████████████████████████████████████████████████████████████████| 200/200 [00:04<00:00, 49.59it/s]\n",
      "100%|██████████████████████████████████████████████████████████████████████████████████████████████████| 200/200 [00:04<00:00, 48.24it/s]\n",
      "100%|██████████████████████████████████████████████████████████████████████████████████████████████████| 200/200 [00:04<00:00, 49.30it/s]\n",
      "100%|██████████████████████████████████████████████████████████████████████████████████████████████████| 200/200 [00:03<00:00, 50.09it/s]\n",
      "100%|██████████████████████████████████████████████████████████████████████████████████████████████████| 200/200 [00:04<00:00, 49.48it/s]\n",
      "100%|██████████████████████████████████████████████████████████████████████████████████████████████████| 200/200 [00:04<00:00, 49.53it/s]\n",
      "100%|██████████████████████████████████████████████████████████████████████████████████████████████████| 200/200 [00:04<00:00, 49.54it/s]\n",
      "100%|██████████████████████████████████████████████████████████████████████████████████████████████████| 200/200 [00:04<00:00, 49.21it/s]\n",
      "100%|██████████████████████████████████████████████████████████████████████████████████████████████████| 200/200 [00:04<00:00, 49.60it/s]\n",
      "100%|██████████████████████████████████████████████████████████████████████████████████████████████████| 200/200 [00:04<00:00, 49.65it/s]\n",
      "100%|██████████████████████████████████████████████████████████████████████████████████████████████████| 200/200 [00:04<00:00, 49.22it/s]\n",
      "100%|██████████████████████████████████████████████████████████████████████████████████████████████████| 200/200 [00:04<00:00, 49.17it/s]\n",
      "100%|██████████████████████████████████████████████████████████████████████████████████████████████████| 200/200 [00:04<00:00, 49.50it/s]\n",
      "100%|██████████████████████████████████████████████████████████████████████████████████████████████████| 200/200 [00:04<00:00, 49.96it/s]\n",
      "100%|██████████████████████████████████████████████████████████████████████████████████████████████████| 200/200 [00:03<00:00, 50.52it/s]\n",
      "100%|██████████████████████████████████████████████████████████████████████████████████████████████████| 200/200 [00:03<00:00, 50.29it/s]\n",
      "100%|██████████████████████████████████████████████████████████████████████████████████████████████████| 200/200 [00:04<00:00, 49.65it/s]\n",
      "100%|██████████████████████████████████████████████████████████████████████████████████████████████████| 200/200 [00:04<00:00, 49.83it/s]\n",
      "100%|██████████████████████████████████████████████████████████████████████████████████████████████████| 200/200 [00:03<00:00, 50.13it/s]\n",
      "100%|██████████████████████████████████████████████████████████████████████████████████████████████████| 200/200 [00:04<00:00, 49.76it/s]\n",
      "100%|██████████████████████████████████████████████████████████████████████████████████████████████████| 200/200 [00:04<00:00, 49.98it/s]\n",
      "100%|██████████████████████████████████████████████████████████████████████████████████████████████████| 200/200 [00:04<00:00, 49.41it/s]\n",
      "100%|██████████████████████████████████████████████████████████████████████████████████████████████████| 200/200 [00:04<00:00, 49.29it/s]\n"
     ]
    },
    {
     "name": "stdout",
     "output_type": "stream",
     "text": [
      "Current Crossover rate 0.2\n",
      "\n"
     ]
    },
    {
     "name": "stderr",
     "output_type": "stream",
     "text": [
      "100%|██████████████████████████████████████████████████████████████████████████████████████████████████| 200/200 [00:04<00:00, 41.85it/s]\n",
      "100%|██████████████████████████████████████████████████████████████████████████████████████████████████| 200/200 [00:04<00:00, 43.22it/s]\n",
      "100%|██████████████████████████████████████████████████████████████████████████████████████████████████| 200/200 [00:04<00:00, 42.40it/s]\n",
      "100%|██████████████████████████████████████████████████████████████████████████████████████████████████| 200/200 [00:04<00:00, 42.04it/s]\n",
      "100%|██████████████████████████████████████████████████████████████████████████████████████████████████| 200/200 [00:04<00:00, 42.66it/s]\n",
      "100%|██████████████████████████████████████████████████████████████████████████████████████████████████| 200/200 [00:04<00:00, 42.57it/s]\n",
      "100%|██████████████████████████████████████████████████████████████████████████████████████████████████| 200/200 [00:04<00:00, 42.74it/s]\n",
      "100%|██████████████████████████████████████████████████████████████████████████████████████████████████| 200/200 [00:04<00:00, 42.73it/s]\n",
      "100%|██████████████████████████████████████████████████████████████████████████████████████████████████| 200/200 [00:04<00:00, 43.06it/s]\n",
      "100%|██████████████████████████████████████████████████████████████████████████████████████████████████| 200/200 [00:04<00:00, 43.04it/s]\n",
      "100%|██████████████████████████████████████████████████████████████████████████████████████████████████| 200/200 [00:04<00:00, 42.23it/s]\n",
      "100%|██████████████████████████████████████████████████████████████████████████████████████████████████| 200/200 [00:04<00:00, 42.33it/s]\n",
      "100%|██████████████████████████████████████████████████████████████████████████████████████████████████| 200/200 [00:04<00:00, 42.30it/s]\n",
      "100%|██████████████████████████████████████████████████████████████████████████████████████████████████| 200/200 [00:04<00:00, 42.71it/s]\n",
      "100%|██████████████████████████████████████████████████████████████████████████████████████████████████| 200/200 [00:04<00:00, 43.02it/s]\n",
      "100%|██████████████████████████████████████████████████████████████████████████████████████████████████| 200/200 [00:04<00:00, 43.27it/s]\n",
      "100%|██████████████████████████████████████████████████████████████████████████████████████████████████| 200/200 [00:04<00:00, 43.22it/s]\n",
      "100%|██████████████████████████████████████████████████████████████████████████████████████████████████| 200/200 [00:04<00:00, 42.61it/s]\n",
      "100%|██████████████████████████████████████████████████████████████████████████████████████████████████| 200/200 [00:04<00:00, 41.50it/s]\n",
      "100%|██████████████████████████████████████████████████████████████████████████████████████████████████| 200/200 [00:04<00:00, 42.32it/s]\n",
      "100%|██████████████████████████████████████████████████████████████████████████████████████████████████| 200/200 [00:04<00:00, 42.49it/s]\n",
      "100%|██████████████████████████████████████████████████████████████████████████████████████████████████| 200/200 [00:04<00:00, 43.27it/s]\n",
      "100%|██████████████████████████████████████████████████████████████████████████████████████████████████| 200/200 [00:04<00:00, 43.35it/s]\n",
      "100%|██████████████████████████████████████████████████████████████████████████████████████████████████| 200/200 [00:04<00:00, 43.07it/s]\n",
      "100%|██████████████████████████████████████████████████████████████████████████████████████████████████| 200/200 [00:04<00:00, 43.03it/s]\n",
      "100%|██████████████████████████████████████████████████████████████████████████████████████████████████| 200/200 [00:04<00:00, 43.20it/s]\n",
      "100%|██████████████████████████████████████████████████████████████████████████████████████████████████| 200/200 [00:04<00:00, 43.23it/s]\n",
      "100%|██████████████████████████████████████████████████████████████████████████████████████████████████| 200/200 [00:04<00:00, 43.47it/s]\n",
      "100%|██████████████████████████████████████████████████████████████████████████████████████████████████| 200/200 [00:04<00:00, 43.13it/s]\n",
      "100%|██████████████████████████████████████████████████████████████████████████████████████████████████| 200/200 [00:04<00:00, 43.12it/s]\n"
     ]
    },
    {
     "name": "stdout",
     "output_type": "stream",
     "text": [
      "Current Crossover rate 0.30000000000000004\n",
      "\n"
     ]
    },
    {
     "name": "stderr",
     "output_type": "stream",
     "text": [
      "100%|██████████████████████████████████████████████████████████████████████████████████████████████████| 200/200 [00:05<00:00, 37.65it/s]\n",
      "100%|██████████████████████████████████████████████████████████████████████████████████████████████████| 200/200 [00:05<00:00, 37.64it/s]\n",
      "100%|██████████████████████████████████████████████████████████████████████████████████████████████████| 200/200 [00:05<00:00, 37.85it/s]\n",
      "100%|██████████████████████████████████████████████████████████████████████████████████████████████████| 200/200 [00:05<00:00, 38.36it/s]\n",
      "100%|██████████████████████████████████████████████████████████████████████████████████████████████████| 200/200 [00:05<00:00, 37.88it/s]\n",
      "100%|██████████████████████████████████████████████████████████████████████████████████████████████████| 200/200 [00:05<00:00, 37.77it/s]\n",
      "100%|██████████████████████████████████████████████████████████████████████████████████████████████████| 200/200 [00:05<00:00, 37.69it/s]\n",
      "100%|██████████████████████████████████████████████████████████████████████████████████████████████████| 200/200 [00:05<00:00, 38.16it/s]\n",
      "100%|██████████████████████████████████████████████████████████████████████████████████████████████████| 200/200 [00:05<00:00, 37.59it/s]\n",
      "100%|██████████████████████████████████████████████████████████████████████████████████████████████████| 200/200 [00:05<00:00, 36.62it/s]\n",
      "100%|██████████████████████████████████████████████████████████████████████████████████████████████████| 200/200 [00:05<00:00, 36.30it/s]\n",
      "100%|██████████████████████████████████████████████████████████████████████████████████████████████████| 200/200 [00:05<00:00, 36.57it/s]\n",
      "100%|██████████████████████████████████████████████████████████████████████████████████████████████████| 200/200 [00:05<00:00, 37.87it/s]\n",
      "100%|██████████████████████████████████████████████████████████████████████████████████████████████████| 200/200 [00:05<00:00, 36.83it/s]\n",
      "100%|██████████████████████████████████████████████████████████████████████████████████████████████████| 200/200 [00:05<00:00, 36.82it/s]\n",
      "100%|██████████████████████████████████████████████████████████████████████████████████████████████████| 200/200 [00:05<00:00, 36.24it/s]\n",
      "100%|██████████████████████████████████████████████████████████████████████████████████████████████████| 200/200 [00:05<00:00, 37.79it/s]\n",
      "100%|██████████████████████████████████████████████████████████████████████████████████████████████████| 200/200 [00:05<00:00, 37.92it/s]\n",
      "100%|██████████████████████████████████████████████████████████████████████████████████████████████████| 200/200 [00:05<00:00, 37.38it/s]\n",
      "100%|██████████████████████████████████████████████████████████████████████████████████████████████████| 200/200 [00:05<00:00, 36.30it/s]\n",
      "100%|██████████████████████████████████████████████████████████████████████████████████████████████████| 200/200 [00:05<00:00, 37.45it/s]\n",
      "100%|██████████████████████████████████████████████████████████████████████████████████████████████████| 200/200 [00:05<00:00, 37.54it/s]\n",
      "100%|██████████████████████████████████████████████████████████████████████████████████████████████████| 200/200 [00:05<00:00, 37.57it/s]\n",
      "100%|██████████████████████████████████████████████████████████████████████████████████████████████████| 200/200 [00:05<00:00, 37.15it/s]\n",
      "100%|██████████████████████████████████████████████████████████████████████████████████████████████████| 200/200 [00:05<00:00, 37.75it/s]\n",
      "100%|██████████████████████████████████████████████████████████████████████████████████████████████████| 200/200 [00:05<00:00, 36.84it/s]\n",
      "100%|██████████████████████████████████████████████████████████████████████████████████████████████████| 200/200 [00:05<00:00, 36.16it/s]\n",
      "100%|██████████████████████████████████████████████████████████████████████████████████████████████████| 200/200 [00:05<00:00, 36.71it/s]\n",
      "100%|██████████████████████████████████████████████████████████████████████████████████████████████████| 200/200 [00:05<00:00, 36.87it/s]\n",
      "100%|██████████████████████████████████████████████████████████████████████████████████████████████████| 200/200 [00:05<00:00, 37.73it/s]\n"
     ]
    },
    {
     "name": "stdout",
     "output_type": "stream",
     "text": [
      "Current Crossover rate 0.4\n",
      "\n"
     ]
    },
    {
     "name": "stderr",
     "output_type": "stream",
     "text": [
      "100%|██████████████████████████████████████████████████████████████████████████████████████████████████| 200/200 [00:05<00:00, 33.70it/s]\n",
      "100%|██████████████████████████████████████████████████████████████████████████████████████████████████| 200/200 [00:05<00:00, 33.34it/s]\n",
      "100%|██████████████████████████████████████████████████████████████████████████████████████████████████| 200/200 [00:05<00:00, 33.43it/s]\n",
      "100%|██████████████████████████████████████████████████████████████████████████████████████████████████| 200/200 [00:05<00:00, 33.63it/s]\n",
      "100%|██████████████████████████████████████████████████████████████████████████████████████████████████| 200/200 [00:05<00:00, 33.44it/s]\n",
      "100%|██████████████████████████████████████████████████████████████████████████████████████████████████| 200/200 [00:05<00:00, 33.74it/s]\n",
      "100%|██████████████████████████████████████████████████████████████████████████████████████████████████| 200/200 [00:05<00:00, 33.87it/s]\n",
      "100%|██████████████████████████████████████████████████████████████████████████████████████████████████| 200/200 [00:05<00:00, 33.71it/s]\n",
      "100%|██████████████████████████████████████████████████████████████████████████████████████████████████| 200/200 [00:05<00:00, 33.96it/s]\n",
      "100%|██████████████████████████████████████████████████████████████████████████████████████████████████| 200/200 [00:06<00:00, 33.13it/s]\n",
      "100%|██████████████████████████████████████████████████████████████████████████████████████████████████| 200/200 [00:06<00:00, 32.96it/s]\n",
      "100%|██████████████████████████████████████████████████████████████████████████████████████████████████| 200/200 [00:06<00:00, 32.74it/s]\n",
      "100%|██████████████████████████████████████████████████████████████████████████████████████████████████| 200/200 [00:06<00:00, 33.14it/s]\n",
      "100%|██████████████████████████████████████████████████████████████████████████████████████████████████| 200/200 [00:05<00:00, 33.93it/s]\n",
      "100%|██████████████████████████████████████████████████████████████████████████████████████████████████| 200/200 [00:05<00:00, 33.76it/s]\n",
      "100%|██████████████████████████████████████████████████████████████████████████████████████████████████| 200/200 [00:05<00:00, 33.46it/s]\n",
      "100%|██████████████████████████████████████████████████████████████████████████████████████████████████| 200/200 [00:06<00:00, 33.24it/s]\n",
      "100%|██████████████████████████████████████████████████████████████████████████████████████████████████| 200/200 [00:06<00:00, 33.25it/s]\n",
      "100%|██████████████████████████████████████████████████████████████████████████████████████████████████| 200/200 [00:05<00:00, 33.74it/s]\n",
      "100%|██████████████████████████████████████████████████████████████████████████████████████████████████| 200/200 [00:05<00:00, 33.83it/s]\n",
      "100%|██████████████████████████████████████████████████████████████████████████████████████████████████| 200/200 [00:06<00:00, 33.21it/s]\n",
      "100%|██████████████████████████████████████████████████████████████████████████████████████████████████| 200/200 [00:05<00:00, 33.36it/s]\n",
      "100%|██████████████████████████████████████████████████████████████████████████████████████████████████| 200/200 [00:06<00:00, 33.22it/s]\n",
      "100%|██████████████████████████████████████████████████████████████████████████████████████████████████| 200/200 [00:05<00:00, 33.36it/s]\n",
      "100%|██████████████████████████████████████████████████████████████████████████████████████████████████| 200/200 [00:06<00:00, 33.26it/s]\n",
      "100%|██████████████████████████████████████████████████████████████████████████████████████████████████| 200/200 [00:06<00:00, 33.14it/s]\n",
      "100%|██████████████████████████████████████████████████████████████████████████████████████████████████| 200/200 [00:06<00:00, 32.85it/s]\n",
      "100%|██████████████████████████████████████████████████████████████████████████████████████████████████| 200/200 [00:06<00:00, 33.13it/s]\n",
      "100%|██████████████████████████████████████████████████████████████████████████████████████████████████| 200/200 [00:06<00:00, 33.30it/s]\n",
      "100%|██████████████████████████████████████████████████████████████████████████████████████████████████| 200/200 [00:06<00:00, 32.86it/s]\n"
     ]
    },
    {
     "name": "stdout",
     "output_type": "stream",
     "text": [
      "Current Crossover rate 0.5\n",
      "\n"
     ]
    },
    {
     "name": "stderr",
     "output_type": "stream",
     "text": [
      "100%|██████████████████████████████████████████████████████████████████████████████████████████████████| 200/200 [00:06<00:00, 29.60it/s]\n",
      "100%|██████████████████████████████████████████████████████████████████████████████████████████████████| 200/200 [00:06<00:00, 30.08it/s]\n",
      "100%|██████████████████████████████████████████████████████████████████████████████████████████████████| 200/200 [00:06<00:00, 29.87it/s]\n",
      "100%|██████████████████████████████████████████████████████████████████████████████████████████████████| 200/200 [00:06<00:00, 30.03it/s]\n",
      "100%|██████████████████████████████████████████████████████████████████████████████████████████████████| 200/200 [00:06<00:00, 30.03it/s]\n",
      "100%|██████████████████████████████████████████████████████████████████████████████████████████████████| 200/200 [00:06<00:00, 30.07it/s]\n",
      "100%|██████████████████████████████████████████████████████████████████████████████████████████████████| 200/200 [00:06<00:00, 29.23it/s]\n",
      "100%|██████████████████████████████████████████████████████████████████████████████████████████████████| 200/200 [00:06<00:00, 29.70it/s]\n",
      "100%|██████████████████████████████████████████████████████████████████████████████████████████████████| 200/200 [00:06<00:00, 29.79it/s]\n",
      "100%|██████████████████████████████████████████████████████████████████████████████████████████████████| 200/200 [00:06<00:00, 30.40it/s]\n",
      "100%|██████████████████████████████████████████████████████████████████████████████████████████████████| 200/200 [00:06<00:00, 30.24it/s]\n",
      "100%|██████████████████████████████████████████████████████████████████████████████████████████████████| 200/200 [00:06<00:00, 30.61it/s]\n",
      "100%|██████████████████████████████████████████████████████████████████████████████████████████████████| 200/200 [00:06<00:00, 30.70it/s]\n",
      "100%|██████████████████████████████████████████████████████████████████████████████████████████████████| 200/200 [00:06<00:00, 29.95it/s]\n",
      "100%|██████████████████████████████████████████████████████████████████████████████████████████████████| 200/200 [00:06<00:00, 29.76it/s]\n",
      "100%|██████████████████████████████████████████████████████████████████████████████████████████████████| 200/200 [00:06<00:00, 30.17it/s]\n",
      "100%|██████████████████████████████████████████████████████████████████████████████████████████████████| 200/200 [00:06<00:00, 30.26it/s]\n",
      "100%|██████████████████████████████████████████████████████████████████████████████████████████████████| 200/200 [00:06<00:00, 30.80it/s]\n",
      "100%|██████████████████████████████████████████████████████████████████████████████████████████████████| 200/200 [00:06<00:00, 30.25it/s]\n",
      "100%|██████████████████████████████████████████████████████████████████████████████████████████████████| 200/200 [00:06<00:00, 30.34it/s]\n",
      "100%|██████████████████████████████████████████████████████████████████████████████████████████████████| 200/200 [00:06<00:00, 29.19it/s]\n",
      "100%|██████████████████████████████████████████████████████████████████████████████████████████████████| 200/200 [00:06<00:00, 29.99it/s]\n",
      "100%|██████████████████████████████████████████████████████████████████████████████████████████████████| 200/200 [00:06<00:00, 30.40it/s]\n",
      "100%|██████████████████████████████████████████████████████████████████████████████████████████████████| 200/200 [00:06<00:00, 30.24it/s]\n",
      "100%|██████████████████████████████████████████████████████████████████████████████████████████████████| 200/200 [00:06<00:00, 30.39it/s]\n",
      "100%|██████████████████████████████████████████████████████████████████████████████████████████████████| 200/200 [00:06<00:00, 30.10it/s]\n",
      "100%|██████████████████████████████████████████████████████████████████████████████████████████████████| 200/200 [00:06<00:00, 30.25it/s]\n",
      "100%|██████████████████████████████████████████████████████████████████████████████████████████████████| 200/200 [00:06<00:00, 30.06it/s]\n",
      "100%|██████████████████████████████████████████████████████████████████████████████████████████████████| 200/200 [00:06<00:00, 29.87it/s]\n",
      "100%|██████████████████████████████████████████████████████████████████████████████████████████████████| 200/200 [00:06<00:00, 30.17it/s]\n"
     ]
    },
    {
     "name": "stdout",
     "output_type": "stream",
     "text": [
      "Current Crossover rate 0.6000000000000001\n",
      "\n"
     ]
    },
    {
     "name": "stderr",
     "output_type": "stream",
     "text": [
      "100%|██████████████████████████████████████████████████████████████████████████████████████████████████| 200/200 [00:07<00:00, 27.48it/s]\n",
      "100%|██████████████████████████████████████████████████████████████████████████████████████████████████| 200/200 [00:07<00:00, 26.60it/s]\n",
      "100%|██████████████████████████████████████████████████████████████████████████████████████████████████| 200/200 [00:07<00:00, 27.13it/s]\n",
      "100%|██████████████████████████████████████████████████████████████████████████████████████████████████| 200/200 [00:07<00:00, 27.11it/s]\n",
      "100%|██████████████████████████████████████████████████████████████████████████████████████████████████| 200/200 [00:07<00:00, 27.70it/s]\n",
      "100%|██████████████████████████████████████████████████████████████████████████████████████████████████| 200/200 [00:07<00:00, 27.29it/s]\n",
      "100%|██████████████████████████████████████████████████████████████████████████████████████████████████| 200/200 [00:07<00:00, 27.02it/s]\n",
      "100%|██████████████████████████████████████████████████████████████████████████████████████████████████| 200/200 [00:07<00:00, 26.85it/s]\n",
      "100%|██████████████████████████████████████████████████████████████████████████████████████████████████| 200/200 [00:07<00:00, 27.29it/s]\n",
      "100%|██████████████████████████████████████████████████████████████████████████████████████████████████| 200/200 [00:07<00:00, 27.28it/s]\n",
      "100%|██████████████████████████████████████████████████████████████████████████████████████████████████| 200/200 [00:07<00:00, 27.32it/s]\n",
      "100%|██████████████████████████████████████████████████████████████████████████████████████████████████| 200/200 [00:07<00:00, 27.26it/s]\n",
      "100%|██████████████████████████████████████████████████████████████████████████████████████████████████| 200/200 [00:07<00:00, 27.59it/s]\n",
      "100%|██████████████████████████████████████████████████████████████████████████████████████████████████| 200/200 [00:07<00:00, 27.47it/s]\n",
      "100%|██████████████████████████████████████████████████████████████████████████████████████████████████| 200/200 [00:07<00:00, 27.40it/s]\n",
      "100%|██████████████████████████████████████████████████████████████████████████████████████████████████| 200/200 [00:07<00:00, 27.54it/s]\n",
      "100%|██████████████████████████████████████████████████████████████████████████████████████████████████| 200/200 [00:07<00:00, 27.74it/s]\n",
      "100%|██████████████████████████████████████████████████████████████████████████████████████████████████| 200/200 [00:07<00:00, 27.85it/s]\n",
      "100%|██████████████████████████████████████████████████████████████████████████████████████████████████| 200/200 [00:07<00:00, 27.53it/s]\n",
      "100%|██████████████████████████████████████████████████████████████████████████████████████████████████| 200/200 [00:07<00:00, 27.78it/s]\n",
      "100%|██████████████████████████████████████████████████████████████████████████████████████████████████| 200/200 [00:07<00:00, 27.62it/s]\n",
      "100%|██████████████████████████████████████████████████████████████████████████████████████████████████| 200/200 [00:07<00:00, 27.54it/s]\n",
      "100%|██████████████████████████████████████████████████████████████████████████████████████████████████| 200/200 [00:07<00:00, 26.84it/s]\n",
      "100%|██████████████████████████████████████████████████████████████████████████████████████████████████| 200/200 [00:07<00:00, 27.06it/s]\n",
      "100%|██████████████████████████████████████████████████████████████████████████████████████████████████| 200/200 [00:07<00:00, 27.17it/s]\n",
      "100%|██████████████████████████████████████████████████████████████████████████████████████████████████| 200/200 [00:07<00:00, 27.21it/s]\n",
      "100%|██████████████████████████████████████████████████████████████████████████████████████████████████| 200/200 [00:07<00:00, 27.13it/s]\n",
      "100%|██████████████████████████████████████████████████████████████████████████████████████████████████| 200/200 [00:07<00:00, 27.32it/s]\n",
      "100%|██████████████████████████████████████████████████████████████████████████████████████████████████| 200/200 [00:07<00:00, 27.52it/s]\n",
      "100%|██████████████████████████████████████████████████████████████████████████████████████████████████| 200/200 [00:07<00:00, 27.77it/s]\n"
     ]
    },
    {
     "name": "stdout",
     "output_type": "stream",
     "text": [
      "Current Crossover rate 0.7000000000000001\n",
      "\n"
     ]
    },
    {
     "name": "stderr",
     "output_type": "stream",
     "text": [
      "100%|██████████████████████████████████████████████████████████████████████████████████████████████████| 200/200 [00:07<00:00, 25.42it/s]\n",
      "100%|██████████████████████████████████████████████████████████████████████████████████████████████████| 200/200 [00:07<00:00, 25.45it/s]\n",
      "100%|██████████████████████████████████████████████████████████████████████████████████████████████████| 200/200 [00:07<00:00, 25.37it/s]\n",
      "100%|██████████████████████████████████████████████████████████████████████████████████████████████████| 200/200 [00:07<00:00, 25.05it/s]\n",
      "100%|██████████████████████████████████████████████████████████████████████████████████████████████████| 200/200 [00:08<00:00, 24.96it/s]\n",
      "100%|██████████████████████████████████████████████████████████████████████████████████████████████████| 200/200 [00:08<00:00, 24.92it/s]\n",
      "100%|██████████████████████████████████████████████████████████████████████████████████████████████████| 200/200 [00:08<00:00, 24.79it/s]\n",
      "100%|██████████████████████████████████████████████████████████████████████████████████████████████████| 200/200 [00:08<00:00, 24.88it/s]\n",
      "100%|██████████████████████████████████████████████████████████████████████████████████████████████████| 200/200 [00:08<00:00, 24.27it/s]\n",
      "100%|██████████████████████████████████████████████████████████████████████████████████████████████████| 200/200 [00:08<00:00, 24.59it/s]\n",
      "100%|██████████████████████████████████████████████████████████████████████████████████████████████████| 200/200 [00:07<00:00, 25.02it/s]\n",
      "100%|██████████████████████████████████████████████████████████████████████████████████████████████████| 200/200 [00:08<00:00, 24.92it/s]\n",
      "100%|██████████████████████████████████████████████████████████████████████████████████████████████████| 200/200 [00:08<00:00, 24.70it/s]\n",
      "100%|██████████████████████████████████████████████████████████████████████████████████████████████████| 200/200 [00:08<00:00, 24.29it/s]\n",
      "100%|██████████████████████████████████████████████████████████████████████████████████████████████████| 200/200 [00:08<00:00, 24.34it/s]\n",
      "100%|██████████████████████████████████████████████████████████████████████████████████████████████████| 200/200 [00:08<00:00, 24.67it/s]\n",
      "100%|██████████████████████████████████████████████████████████████████████████████████████████████████| 200/200 [00:07<00:00, 25.04it/s]\n",
      "100%|██████████████████████████████████████████████████████████████████████████████████████████████████| 200/200 [00:08<00:00, 24.69it/s]\n",
      "100%|██████████████████████████████████████████████████████████████████████████████████████████████████| 200/200 [00:08<00:00, 24.62it/s]\n",
      "100%|██████████████████████████████████████████████████████████████████████████████████████████████████| 200/200 [00:07<00:00, 25.22it/s]\n",
      "100%|██████████████████████████████████████████████████████████████████████████████████████████████████| 200/200 [00:08<00:00, 24.57it/s]\n",
      "100%|██████████████████████████████████████████████████████████████████████████████████████████████████| 200/200 [00:08<00:00, 24.91it/s]\n",
      "100%|██████████████████████████████████████████████████████████████████████████████████████████████████| 200/200 [00:07<00:00, 25.22it/s]\n",
      "100%|██████████████████████████████████████████████████████████████████████████████████████████████████| 200/200 [00:07<00:00, 25.34it/s]\n",
      "100%|██████████████████████████████████████████████████████████████████████████████████████████████████| 200/200 [00:07<00:00, 25.02it/s]\n",
      "100%|██████████████████████████████████████████████████████████████████████████████████████████████████| 200/200 [00:07<00:00, 25.26it/s]\n",
      "100%|██████████████████████████████████████████████████████████████████████████████████████████████████| 200/200 [00:07<00:00, 25.13it/s]\n",
      "100%|██████████████████████████████████████████████████████████████████████████████████████████████████| 200/200 [00:07<00:00, 25.23it/s]\n",
      "100%|██████████████████████████████████████████████████████████████████████████████████████████████████| 200/200 [00:07<00:00, 25.23it/s]\n",
      "100%|██████████████████████████████████████████████████████████████████████████████████████████████████| 200/200 [00:07<00:00, 25.40it/s]\n"
     ]
    },
    {
     "name": "stdout",
     "output_type": "stream",
     "text": [
      "Current Crossover rate 0.8\n",
      "\n"
     ]
    },
    {
     "name": "stderr",
     "output_type": "stream",
     "text": [
      "100%|██████████████████████████████████████████████████████████████████████████████████████████████████| 200/200 [00:08<00:00, 23.58it/s]\n",
      "100%|██████████████████████████████████████████████████████████████████████████████████████████████████| 200/200 [00:08<00:00, 23.38it/s]\n",
      "100%|██████████████████████████████████████████████████████████████████████████████████████████████████| 200/200 [00:08<00:00, 23.50it/s]\n",
      "100%|██████████████████████████████████████████████████████████████████████████████████████████████████| 200/200 [00:08<00:00, 23.48it/s]\n",
      "100%|██████████████████████████████████████████████████████████████████████████████████████████████████| 200/200 [00:08<00:00, 23.48it/s]\n",
      "100%|██████████████████████████████████████████████████████████████████████████████████████████████████| 200/200 [00:08<00:00, 23.56it/s]\n",
      "100%|██████████████████████████████████████████████████████████████████████████████████████████████████| 200/200 [00:08<00:00, 23.73it/s]\n",
      "100%|██████████████████████████████████████████████████████████████████████████████████████████████████| 200/200 [00:08<00:00, 22.96it/s]\n",
      "100%|██████████████████████████████████████████████████████████████████████████████████████████████████| 200/200 [00:08<00:00, 22.84it/s]\n",
      "100%|██████████████████████████████████████████████████████████████████████████████████████████████████| 200/200 [00:08<00:00, 22.90it/s]\n",
      "100%|██████████████████████████████████████████████████████████████████████████████████████████████████| 200/200 [00:08<00:00, 22.97it/s]\n",
      "100%|██████████████████████████████████████████████████████████████████████████████████████████████████| 200/200 [00:08<00:00, 22.69it/s]\n",
      "100%|██████████████████████████████████████████████████████████████████████████████████████████████████| 200/200 [00:08<00:00, 22.94it/s]\n",
      "100%|██████████████████████████████████████████████████████████████████████████████████████████████████| 200/200 [00:08<00:00, 23.00it/s]\n",
      "100%|██████████████████████████████████████████████████████████████████████████████████████████████████| 200/200 [00:08<00:00, 23.14it/s]\n",
      "100%|██████████████████████████████████████████████████████████████████████████████████████████████████| 200/200 [00:08<00:00, 23.04it/s]\n",
      "100%|██████████████████████████████████████████████████████████████████████████████████████████████████| 200/200 [00:08<00:00, 23.01it/s]\n",
      "100%|██████████████████████████████████████████████████████████████████████████████████████████████████| 200/200 [00:08<00:00, 23.03it/s]\n",
      "100%|██████████████████████████████████████████████████████████████████████████████████████████████████| 200/200 [00:08<00:00, 22.65it/s]\n",
      "100%|██████████████████████████████████████████████████████████████████████████████████████████████████| 200/200 [00:08<00:00, 22.76it/s]\n",
      "100%|██████████████████████████████████████████████████████████████████████████████████████████████████| 200/200 [00:08<00:00, 22.74it/s]\n",
      "100%|██████████████████████████████████████████████████████████████████████████████████████████████████| 200/200 [00:08<00:00, 22.64it/s]\n",
      "100%|██████████████████████████████████████████████████████████████████████████████████████████████████| 200/200 [00:08<00:00, 22.67it/s]\n",
      "100%|██████████████████████████████████████████████████████████████████████████████████████████████████| 200/200 [00:08<00:00, 22.37it/s]\n",
      "100%|██████████████████████████████████████████████████████████████████████████████████████████████████| 200/200 [00:08<00:00, 22.65it/s]\n",
      "100%|██████████████████████████████████████████████████████████████████████████████████████████████████| 200/200 [00:08<00:00, 23.11it/s]\n",
      "100%|██████████████████████████████████████████████████████████████████████████████████████████████████| 200/200 [00:08<00:00, 23.27it/s]\n",
      "100%|██████████████████████████████████████████████████████████████████████████████████████████████████| 200/200 [00:08<00:00, 23.23it/s]\n",
      "100%|██████████████████████████████████████████████████████████████████████████████████████████████████| 200/200 [00:08<00:00, 22.95it/s]\n",
      "100%|██████████████████████████████████████████████████████████████████████████████████████████████████| 200/200 [00:08<00:00, 22.72it/s]\n"
     ]
    },
    {
     "name": "stdout",
     "output_type": "stream",
     "text": [
      "Current Crossover rate 0.9\n",
      "\n"
     ]
    },
    {
     "name": "stderr",
     "output_type": "stream",
     "text": [
      "100%|██████████████████████████████████████████████████████████████████████████████████████████████████| 200/200 [00:09<00:00, 21.33it/s]\n",
      "100%|██████████████████████████████████████████████████████████████████████████████████████████████████| 200/200 [00:09<00:00, 21.70it/s]\n",
      "100%|██████████████████████████████████████████████████████████████████████████████████████████████████| 200/200 [00:09<00:00, 21.50it/s]\n",
      "100%|██████████████████████████████████████████████████████████████████████████████████████████████████| 200/200 [00:09<00:00, 21.42it/s]\n",
      "100%|██████████████████████████████████████████████████████████████████████████████████████████████████| 200/200 [00:09<00:00, 21.31it/s]\n",
      "100%|██████████████████████████████████████████████████████████████████████████████████████████████████| 200/200 [00:09<00:00, 21.71it/s]\n",
      "100%|██████████████████████████████████████████████████████████████████████████████████████████████████| 200/200 [00:09<00:00, 21.50it/s]\n",
      "100%|██████████████████████████████████████████████████████████████████████████████████████████████████| 200/200 [00:09<00:00, 21.67it/s]\n",
      "100%|██████████████████████████████████████████████████████████████████████████████████████████████████| 200/200 [00:09<00:00, 21.36it/s]\n",
      "100%|██████████████████████████████████████████████████████████████████████████████████████████████████| 200/200 [00:09<00:00, 21.62it/s]\n",
      "100%|██████████████████████████████████████████████████████████████████████████████████████████████████| 200/200 [00:09<00:00, 21.61it/s]\n",
      "100%|██████████████████████████████████████████████████████████████████████████████████████████████████| 200/200 [00:09<00:00, 21.99it/s]\n",
      "100%|██████████████████████████████████████████████████████████████████████████████████████████████████| 200/200 [00:09<00:00, 21.21it/s]\n",
      "100%|██████████████████████████████████████████████████████████████████████████████████████████████████| 200/200 [00:09<00:00, 21.82it/s]\n",
      "100%|██████████████████████████████████████████████████████████████████████████████████████████████████| 200/200 [00:09<00:00, 21.50it/s]\n",
      "100%|██████████████████████████████████████████████████████████████████████████████████████████████████| 200/200 [00:09<00:00, 21.38it/s]\n",
      "100%|██████████████████████████████████████████████████████████████████████████████████████████████████| 200/200 [00:09<00:00, 21.06it/s]\n",
      "100%|██████████████████████████████████████████████████████████████████████████████████████████████████| 200/200 [00:09<00:00, 21.73it/s]\n",
      "100%|██████████████████████████████████████████████████████████████████████████████████████████████████| 200/200 [00:09<00:00, 21.35it/s]\n",
      "100%|██████████████████████████████████████████████████████████████████████████████████████████████████| 200/200 [00:09<00:00, 21.50it/s]\n",
      "100%|██████████████████████████████████████████████████████████████████████████████████████████████████| 200/200 [00:09<00:00, 21.09it/s]\n",
      "100%|██████████████████████████████████████████████████████████████████████████████████████████████████| 200/200 [00:09<00:00, 21.41it/s]\n",
      "100%|██████████████████████████████████████████████████████████████████████████████████████████████████| 200/200 [00:09<00:00, 21.67it/s]\n",
      "100%|██████████████████████████████████████████████████████████████████████████████████████████████████| 200/200 [00:09<00:00, 20.97it/s]\n",
      "100%|██████████████████████████████████████████████████████████████████████████████████████████████████| 200/200 [00:09<00:00, 21.13it/s]\n",
      "100%|██████████████████████████████████████████████████████████████████████████████████████████████████| 200/200 [00:09<00:00, 20.90it/s]\n",
      "100%|██████████████████████████████████████████████████████████████████████████████████████████████████| 200/200 [00:09<00:00, 21.50it/s]\n",
      "100%|██████████████████████████████████████████████████████████████████████████████████████████████████| 200/200 [00:09<00:00, 21.73it/s]\n",
      "100%|██████████████████████████████████████████████████████████████████████████████████████████████████| 200/200 [00:09<00:00, 21.47it/s]\n",
      "100%|██████████████████████████████████████████████████████████████████████████████████████████████████| 200/200 [00:09<00:00, 21.65it/s]\n"
     ]
    },
    {
     "name": "stdout",
     "output_type": "stream",
     "text": [
      "Current Crossover rate 1.0\n",
      "\n"
     ]
    },
    {
     "name": "stderr",
     "output_type": "stream",
     "text": [
      "100%|██████████████████████████████████████████████████████████████████████████████████████████████████| 200/200 [00:10<00:00, 19.94it/s]\n",
      "100%|██████████████████████████████████████████████████████████████████████████████████████████████████| 200/200 [00:09<00:00, 20.04it/s]\n",
      "100%|██████████████████████████████████████████████████████████████████████████████████████████████████| 200/200 [00:09<00:00, 20.02it/s]\n",
      "100%|██████████████████████████████████████████████████████████████████████████████████████████████████| 200/200 [00:09<00:00, 20.01it/s]\n",
      "100%|██████████████████████████████████████████████████████████████████████████████████████████████████| 200/200 [00:09<00:00, 20.05it/s]\n",
      "100%|██████████████████████████████████████████████████████████████████████████████████████████████████| 200/200 [00:09<00:00, 20.10it/s]\n",
      "100%|██████████████████████████████████████████████████████████████████████████████████████████████████| 200/200 [00:09<00:00, 20.26it/s]\n",
      "100%|██████████████████████████████████████████████████████████████████████████████████████████████████| 200/200 [00:10<00:00, 19.84it/s]\n",
      "100%|██████████████████████████████████████████████████████████████████████████████████████████████████| 200/200 [00:09<00:00, 20.47it/s]\n",
      "100%|██████████████████████████████████████████████████████████████████████████████████████████████████| 200/200 [00:09<00:00, 20.28it/s]\n",
      "100%|██████████████████████████████████████████████████████████████████████████████████████████████████| 200/200 [00:09<00:00, 20.40it/s]\n",
      "100%|██████████████████████████████████████████████████████████████████████████████████████████████████| 200/200 [00:09<00:00, 20.46it/s]\n",
      "100%|██████████████████████████████████████████████████████████████████████████████████████████████████| 200/200 [00:09<00:00, 20.30it/s]\n",
      "100%|██████████████████████████████████████████████████████████████████████████████████████████████████| 200/200 [00:09<00:00, 20.37it/s]\n",
      "100%|██████████████████████████████████████████████████████████████████████████████████████████████████| 200/200 [00:09<00:00, 20.38it/s]\n",
      "100%|██████████████████████████████████████████████████████████████████████████████████████████████████| 200/200 [00:09<00:00, 20.33it/s]\n",
      "100%|██████████████████████████████████████████████████████████████████████████████████████████████████| 200/200 [00:09<00:00, 20.14it/s]\n",
      "100%|██████████████████████████████████████████████████████████████████████████████████████████████████| 200/200 [00:09<00:00, 20.49it/s]\n",
      "100%|██████████████████████████████████████████████████████████████████████████████████████████████████| 200/200 [00:10<00:00, 19.86it/s]\n",
      "100%|██████████████████████████████████████████████████████████████████████████████████████████████████| 200/200 [00:09<00:00, 20.39it/s]\n",
      "100%|██████████████████████████████████████████████████████████████████████████████████████████████████| 200/200 [00:09<00:00, 20.35it/s]\n",
      "100%|██████████████████████████████████████████████████████████████████████████████████████████████████| 200/200 [00:09<00:00, 20.48it/s]\n",
      "100%|██████████████████████████████████████████████████████████████████████████████████████████████████| 200/200 [00:09<00:00, 20.34it/s]\n",
      "100%|██████████████████████████████████████████████████████████████████████████████████████████████████| 200/200 [00:09<00:00, 20.30it/s]\n",
      "100%|██████████████████████████████████████████████████████████████████████████████████████████████████| 200/200 [00:09<00:00, 20.29it/s]\n",
      "100%|██████████████████████████████████████████████████████████████████████████████████████████████████| 200/200 [00:09<00:00, 20.32it/s]\n",
      "100%|██████████████████████████████████████████████████████████████████████████████████████████████████| 200/200 [00:09<00:00, 20.31it/s]\n",
      "100%|██████████████████████████████████████████████████████████████████████████████████████████████████| 200/200 [00:09<00:00, 20.29it/s]\n",
      "100%|██████████████████████████████████████████████████████████████████████████████████████████████████| 200/200 [00:09<00:00, 20.01it/s]\n",
      "100%|██████████████████████████████████████████████████████████████████████████████████████████████████| 200/200 [00:10<00:00, 19.59it/s]\n"
     ]
    },
    {
     "data": {
      "image/png": "[encoded data removed]",
      "text/plain": [
       "<Figure size 432x288 with 1 Axes>"
      ]
     },
     "metadata": {
      "needs_background": "light"
     },
     "output_type": "display_data"
    }
   ],
   "source": [
    "### crossover\n",
    "ablate_GA(drivers, riders, graph, eval_obj, initial_pop_size=200, ablate='cross')"
   ]
  },
  {
   "cell_type": "markdown",
   "metadata": {},
   "source": [
    "To study the effect of the crossover rate on GA solution, we vary the rate in the range [0.0, 1.0] with a step of 0.1. The initial population is set to 200 for all experiments. A key ingredient for the success of GA is having a diverse set of solutions within the population. This is implemented by the prposed crossover operator. At very low crossover rates, the cost of the optimal solution found by GA is very high, this can be attributed to low diversity of the population of solutions. By increasing the rate, the cost falls sharply upto a rate of 0.6. A very high crossover rate might also be harmful as good solutions might not survive the elitism-based parent select process. "
   ]
  },
  {
   "cell_type": "code",
   "execution_count": 31,
   "metadata": {},
   "outputs": [
    {
     "name": "stdout",
     "output_type": "stream",
     "text": [
      "Current Mutation rate 0.0\n",
      "\n"
     ]
    },
    {
     "name": "stderr",
     "output_type": "stream",
     "text": [
      "100%|██████████████████████████████████████████████████████████████████████████████████████████████████| 200/200 [00:08<00:00, 23.07it/s]\n",
      "100%|██████████████████████████████████████████████████████████████████████████████████████████████████| 200/200 [00:08<00:00, 22.77it/s]\n",
      "100%|██████████████████████████████████████████████████████████████████████████████████████████████████| 200/200 [00:08<00:00, 22.47it/s]\n",
      "100%|██████████████████████████████████████████████████████████████████████████████████████████████████| 200/200 [00:08<00:00, 22.91it/s]\n",
      "100%|██████████████████████████████████████████████████████████████████████████████████████████████████| 200/200 [00:08<00:00, 23.61it/s]\n",
      "100%|██████████████████████████████████████████████████████████████████████████████████████████████████| 200/200 [00:08<00:00, 22.46it/s]\n",
      "100%|██████████████████████████████████████████████████████████████████████████████████████████████████| 200/200 [00:08<00:00, 23.36it/s]\n",
      "100%|██████████████████████████████████████████████████████████████████████████████████████████████████| 200/200 [00:09<00:00, 22.10it/s]\n",
      "100%|██████████████████████████████████████████████████████████████████████████████████████████████████| 200/200 [00:08<00:00, 22.33it/s]\n",
      "100%|██████████████████████████████████████████████████████████████████████████████████████████████████| 200/200 [00:08<00:00, 23.67it/s]\n",
      "100%|██████████████████████████████████████████████████████████████████████████████████████████████████| 200/200 [00:08<00:00, 22.46it/s]\n",
      "100%|██████████████████████████████████████████████████████████████████████████████████████████████████| 200/200 [00:08<00:00, 22.71it/s]\n",
      "100%|██████████████████████████████████████████████████████████████████████████████████████████████████| 200/200 [00:09<00:00, 21.64it/s]\n",
      "100%|██████████████████████████████████████████████████████████████████████████████████████████████████| 200/200 [00:09<00:00, 22.13it/s]\n",
      "100%|██████████████████████████████████████████████████████████████████████████████████████████████████| 200/200 [00:08<00:00, 23.44it/s]\n",
      "100%|██████████████████████████████████████████████████████████████████████████████████████████████████| 200/200 [00:08<00:00, 23.31it/s]\n",
      "100%|██████████████████████████████████████████████████████████████████████████████████████████████████| 200/200 [00:08<00:00, 22.89it/s]\n",
      "100%|██████████████████████████████████████████████████████████████████████████████████████████████████| 200/200 [00:09<00:00, 20.96it/s]\n",
      "100%|██████████████████████████████████████████████████████████████████████████████████████████████████| 200/200 [00:08<00:00, 22.98it/s]\n",
      "100%|██████████████████████████████████████████████████████████████████████████████████████████████████| 200/200 [00:09<00:00, 21.26it/s]\n",
      "100%|██████████████████████████████████████████████████████████████████████████████████████████████████| 200/200 [00:09<00:00, 21.90it/s]\n",
      "100%|██████████████████████████████████████████████████████████████████████████████████████████████████| 200/200 [00:09<00:00, 21.26it/s]\n",
      "100%|██████████████████████████████████████████████████████████████████████████████████████████████████| 200/200 [00:08<00:00, 22.28it/s]\n",
      "100%|██████████████████████████████████████████████████████████████████████████████████████████████████| 200/200 [00:09<00:00, 21.34it/s]\n",
      "100%|██████████████████████████████████████████████████████████████████████████████████████████████████| 200/200 [00:09<00:00, 22.14it/s]\n",
      "100%|██████████████████████████████████████████████████████████████████████████████████████████████████| 200/200 [00:09<00:00, 21.38it/s]\n",
      "100%|██████████████████████████████████████████████████████████████████████████████████████████████████| 200/200 [00:08<00:00, 22.64it/s]\n",
      "100%|██████████████████████████████████████████████████████████████████████████████████████████████████| 200/200 [00:08<00:00, 23.84it/s]\n",
      "100%|██████████████████████████████████████████████████████████████████████████████████████████████████| 200/200 [00:08<00:00, 22.69it/s]\n",
      "100%|██████████████████████████████████████████████████████████████████████████████████████████████████| 200/200 [00:09<00:00, 21.69it/s]\n"
     ]
    },
    {
     "name": "stdout",
     "output_type": "stream",
     "text": [
      "Current Mutation rate 0.1\n",
      "\n"
     ]
    },
    {
     "name": "stderr",
     "output_type": "stream",
     "text": [
      "100%|██████████████████████████████████████████████████████████████████████████████████████████████████| 200/200 [00:09<00:00, 22.00it/s]\n",
      "100%|██████████████████████████████████████████████████████████████████████████████████████████████████| 200/200 [00:09<00:00, 21.48it/s]\n",
      "100%|██████████████████████████████████████████████████████████████████████████████████████████████████| 200/200 [00:08<00:00, 22.43it/s]\n",
      "100%|██████████████████████████████████████████████████████████████████████████████████████████████████| 200/200 [00:09<00:00, 21.87it/s]\n",
      "100%|██████████████████████████████████████████████████████████████████████████████████████████████████| 200/200 [00:09<00:00, 21.44it/s]\n",
      "100%|██████████████████████████████████████████████████████████████████████████████████████████████████| 200/200 [00:08<00:00, 22.43it/s]\n",
      "100%|██████████████████████████████████████████████████████████████████████████████████████████████████| 200/200 [00:09<00:00, 22.02it/s]\n",
      "100%|██████████████████████████████████████████████████████████████████████████████████████████████████| 200/200 [00:09<00:00, 21.97it/s]\n",
      "100%|██████████████████████████████████████████████████████████████████████████████████████████████████| 200/200 [00:09<00:00, 21.57it/s]\n",
      "100%|██████████████████████████████████████████████████████████████████████████████████████████████████| 200/200 [00:08<00:00, 22.96it/s]\n",
      "100%|██████████████████████████████████████████████████████████████████████████████████████████████████| 200/200 [00:09<00:00, 21.60it/s]\n",
      "100%|██████████████████████████████████████████████████████████████████████████████████████████████████| 200/200 [00:08<00:00, 23.11it/s]\n",
      "100%|██████████████████████████████████████████████████████████████████████████████████████████████████| 200/200 [00:09<00:00, 21.50it/s]\n",
      "100%|██████████████████████████████████████████████████████████████████████████████████████████████████| 200/200 [00:09<00:00, 21.05it/s]\n",
      "100%|██████████████████████████████████████████████████████████████████████████████████████████████████| 200/200 [00:09<00:00, 21.11it/s]\n",
      "100%|██████████████████████████████████████████████████████████████████████████████████████████████████| 200/200 [00:08<00:00, 22.46it/s]\n",
      "100%|██████████████████████████████████████████████████████████████████████████████████████████████████| 200/200 [00:09<00:00, 21.93it/s]\n",
      "100%|██████████████████████████████████████████████████████████████████████████████████████████████████| 200/200 [00:09<00:00, 21.42it/s]\n",
      "100%|██████████████████████████████████████████████████████████████████████████████████████████████████| 200/200 [00:09<00:00, 21.91it/s]\n",
      "100%|██████████████████████████████████████████████████████████████████████████████████████████████████| 200/200 [00:09<00:00, 21.75it/s]\n",
      "100%|██████████████████████████████████████████████████████████████████████████████████████████████████| 200/200 [00:09<00:00, 21.24it/s]\n",
      "100%|██████████████████████████████████████████████████████████████████████████████████████████████████| 200/200 [00:09<00:00, 21.33it/s]\n",
      "100%|██████████████████████████████████████████████████████████████████████████████████████████████████| 200/200 [00:08<00:00, 22.69it/s]\n",
      "100%|██████████████████████████████████████████████████████████████████████████████████████████████████| 200/200 [00:08<00:00, 22.46it/s]\n",
      "100%|██████████████████████████████████████████████████████████████████████████████████████████████████| 200/200 [00:09<00:00, 22.02it/s]\n",
      "100%|██████████████████████████████████████████████████████████████████████████████████████████████████| 200/200 [00:09<00:00, 21.49it/s]\n",
      "100%|██████████████████████████████████████████████████████████████████████████████████████████████████| 200/200 [00:09<00:00, 20.86it/s]\n",
      "100%|██████████████████████████████████████████████████████████████████████████████████████████████████| 200/200 [00:09<00:00, 22.13it/s]\n",
      "100%|██████████████████████████████████████████████████████████████████████████████████████████████████| 200/200 [00:08<00:00, 22.67it/s]\n",
      "100%|██████████████████████████████████████████████████████████████████████████████████████████████████| 200/200 [00:09<00:00, 21.19it/s]\n"
     ]
    },
    {
     "name": "stdout",
     "output_type": "stream",
     "text": [
      "Current Mutation rate 0.2\n",
      "\n"
     ]
    },
    {
     "name": "stderr",
     "output_type": "stream",
     "text": [
      "100%|██████████████████████████████████████████████████████████████████████████████████████████████████| 200/200 [00:09<00:00, 21.77it/s]\n",
      "100%|██████████████████████████████████████████████████████████████████████████████████████████████████| 200/200 [00:09<00:00, 22.16it/s]\n",
      "100%|██████████████████████████████████████████████████████████████████████████████████████████████████| 200/200 [00:09<00:00, 21.58it/s]\n",
      "100%|██████████████████████████████████████████████████████████████████████████████████████████████████| 200/200 [00:09<00:00, 21.30it/s]\n",
      "100%|██████████████████████████████████████████████████████████████████████████████████████████████████| 200/200 [00:09<00:00, 21.83it/s]\n",
      "100%|██████████████████████████████████████████████████████████████████████████████████████████████████| 200/200 [00:09<00:00, 22.07it/s]\n",
      "100%|██████████████████████████████████████████████████████████████████████████████████████████████████| 200/200 [00:09<00:00, 21.64it/s]\n",
      "100%|██████████████████████████████████████████████████████████████████████████████████████████████████| 200/200 [00:09<00:00, 21.93it/s]\n",
      "100%|██████████████████████████████████████████████████████████████████████████████████████████████████| 200/200 [00:09<00:00, 21.26it/s]\n",
      "100%|██████████████████████████████████████████████████████████████████████████████████████████████████| 200/200 [00:09<00:00, 22.21it/s]\n",
      "100%|██████████████████████████████████████████████████████████████████████████████████████████████████| 200/200 [00:09<00:00, 21.07it/s]\n",
      "100%|██████████████████████████████████████████████████████████████████████████████████████████████████| 200/200 [00:09<00:00, 21.30it/s]\n",
      "100%|██████████████████████████████████████████████████████████████████████████████████████████████████| 200/200 [00:09<00:00, 20.82it/s]\n",
      "100%|██████████████████████████████████████████████████████████████████████████████████████████████████| 200/200 [00:09<00:00, 20.97it/s]\n",
      "100%|██████████████████████████████████████████████████████████████████████████████████████████████████| 200/200 [00:09<00:00, 21.21it/s]\n",
      "100%|██████████████████████████████████████████████████████████████████████████████████████████████████| 200/200 [00:09<00:00, 20.67it/s]\n",
      "100%|██████████████████████████████████████████████████████████████████████████████████████████████████| 200/200 [00:09<00:00, 21.86it/s]\n",
      "100%|██████████████████████████████████████████████████████████████████████████████████████████████████| 200/200 [00:08<00:00, 22.59it/s]\n",
      "100%|██████████████████████████████████████████████████████████████████████████████████████████████████| 200/200 [00:08<00:00, 22.42it/s]\n",
      "100%|██████████████████████████████████████████████████████████████████████████████████████████████████| 200/200 [00:09<00:00, 21.13it/s]\n",
      "100%|██████████████████████████████████████████████████████████████████████████████████████████████████| 200/200 [00:09<00:00, 21.21it/s]\n",
      "100%|██████████████████████████████████████████████████████████████████████████████████████████████████| 200/200 [00:09<00:00, 22.14it/s]\n",
      "100%|██████████████████████████████████████████████████████████████████████████████████████████████████| 200/200 [00:09<00:00, 21.68it/s]\n",
      "100%|██████████████████████████████████████████████████████████████████████████████████████████████████| 200/200 [00:08<00:00, 22.74it/s]\n",
      "100%|██████████████████████████████████████████████████████████████████████████████████████████████████| 200/200 [00:09<00:00, 21.28it/s]\n",
      "100%|██████████████████████████████████████████████████████████████████████████████████████████████████| 200/200 [00:09<00:00, 20.86it/s]\n",
      "100%|██████████████████████████████████████████████████████████████████████████████████████████████████| 200/200 [00:09<00:00, 21.68it/s]\n",
      "100%|██████████████████████████████████████████████████████████████████████████████████████████████████| 200/200 [00:09<00:00, 21.97it/s]\n",
      "100%|██████████████████████████████████████████████████████████████████████████████████████████████████| 200/200 [00:09<00:00, 20.93it/s]\n",
      "100%|██████████████████████████████████████████████████████████████████████████████████████████████████| 200/200 [00:09<00:00, 20.85it/s]\n"
     ]
    },
    {
     "name": "stdout",
     "output_type": "stream",
     "text": [
      "Current Mutation rate 0.30000000000000004\n",
      "\n"
     ]
    },
    {
     "name": "stderr",
     "output_type": "stream",
     "text": [
      "100%|██████████████████████████████████████████████████████████████████████████████████████████████████| 200/200 [00:09<00:00, 20.63it/s]\n",
      "100%|██████████████████████████████████████████████████████████████████████████████████████████████████| 200/200 [00:09<00:00, 21.50it/s]\n",
      "100%|██████████████████████████████████████████████████████████████████████████████████████████████████| 200/200 [00:08<00:00, 22.27it/s]\n",
      "100%|██████████████████████████████████████████████████████████████████████████████████████████████████| 200/200 [00:09<00:00, 21.70it/s]\n",
      "100%|██████████████████████████████████████████████████████████████████████████████████████████████████| 200/200 [00:09<00:00, 22.21it/s]\n",
      "100%|██████████████████████████████████████████████████████████████████████████████████████████████████| 200/200 [00:09<00:00, 22.10it/s]\n",
      "100%|██████████████████████████████████████████████████████████████████████████████████████████████████| 200/200 [00:09<00:00, 21.15it/s]\n",
      "100%|██████████████████████████████████████████████████████████████████████████████████████████████████| 200/200 [00:09<00:00, 20.30it/s]\n",
      "100%|██████████████████████████████████████████████████████████████████████████████████████████████████| 200/200 [00:09<00:00, 21.84it/s]\n",
      "100%|██████████████████████████████████████████████████████████████████████████████████████████████████| 200/200 [00:09<00:00, 21.17it/s]\n",
      "100%|██████████████████████████████████████████████████████████████████████████████████████████████████| 200/200 [00:09<00:00, 22.10it/s]\n",
      "100%|██████████████████████████████████████████████████████████████████████████████████████████████████| 200/200 [00:09<00:00, 20.53it/s]\n",
      "100%|██████████████████████████████████████████████████████████████████████████████████████████████████| 200/200 [00:09<00:00, 20.85it/s]\n",
      "100%|██████████████████████████████████████████████████████████████████████████████████████████████████| 200/200 [00:09<00:00, 21.59it/s]\n",
      "100%|██████████████████████████████████████████████████████████████████████████████████████████████████| 200/200 [00:09<00:00, 21.14it/s]\n",
      "100%|██████████████████████████████████████████████████████████████████████████████████████████████████| 200/200 [00:09<00:00, 21.50it/s]\n",
      "100%|██████████████████████████████████████████████████████████████████████████████████████████████████| 200/200 [00:09<00:00, 21.06it/s]\n",
      "100%|██████████████████████████████████████████████████████████████████████████████████████████████████| 200/200 [00:09<00:00, 22.12it/s]\n",
      "100%|██████████████████████████████████████████████████████████████████████████████████████████████████| 200/200 [00:09<00:00, 21.34it/s]\n",
      "100%|██████████████████████████████████████████████████████████████████████████████████████████████████| 200/200 [00:09<00:00, 20.53it/s]\n",
      "100%|██████████████████████████████████████████████████████████████████████████████████████████████████| 200/200 [00:09<00:00, 20.95it/s]\n",
      "100%|██████████████████████████████████████████████████████████████████████████████████████████████████| 200/200 [00:09<00:00, 20.94it/s]\n",
      "100%|██████████████████████████████████████████████████████████████████████████████████████████████████| 200/200 [00:09<00:00, 21.30it/s]\n",
      "100%|██████████████████████████████████████████████████████████████████████████████████████████████████| 200/200 [00:09<00:00, 21.10it/s]\n",
      "100%|██████████████████████████████████████████████████████████████████████████████████████████████████| 200/200 [00:09<00:00, 20.67it/s]\n",
      "100%|██████████████████████████████████████████████████████████████████████████████████████████████████| 200/200 [00:09<00:00, 21.79it/s]\n",
      "100%|██████████████████████████████████████████████████████████████████████████████████████████████████| 200/200 [00:09<00:00, 20.78it/s]\n",
      "100%|██████████████████████████████████████████████████████████████████████████████████████████████████| 200/200 [00:09<00:00, 21.62it/s]\n",
      "100%|██████████████████████████████████████████████████████████████████████████████████████████████████| 200/200 [00:09<00:00, 21.60it/s]\n",
      "100%|██████████████████████████████████████████████████████████████████████████████████████████████████| 200/200 [00:09<00:00, 21.96it/s]\n"
     ]
    },
    {
     "name": "stdout",
     "output_type": "stream",
     "text": [
      "Current Mutation rate 0.4\n",
      "\n"
     ]
    },
    {
     "name": "stderr",
     "output_type": "stream",
     "text": [
      "100%|██████████████████████████████████████████████████████████████████████████████████████████████████| 200/200 [00:09<00:00, 21.54it/s]\n",
      "100%|██████████████████████████████████████████████████████████████████████████████████████████████████| 200/200 [00:09<00:00, 21.46it/s]\n",
      "100%|██████████████████████████████████████████████████████████████████████████████████████████████████| 200/200 [00:09<00:00, 21.02it/s]\n",
      "100%|██████████████████████████████████████████████████████████████████████████████████████████████████| 200/200 [00:09<00:00, 20.79it/s]\n",
      "100%|██████████████████████████████████████████████████████████████████████████████████████████████████| 200/200 [00:09<00:00, 20.45it/s]\n",
      "100%|██████████████████████████████████████████████████████████████████████████████████████████████████| 200/200 [00:09<00:00, 20.80it/s]\n",
      "100%|██████████████████████████████████████████████████████████████████████████████████████████████████| 200/200 [00:09<00:00, 20.94it/s]\n",
      "100%|██████████████████████████████████████████████████████████████████████████████████████████████████| 200/200 [00:09<00:00, 21.06it/s]\n",
      "100%|██████████████████████████████████████████████████████████████████████████████████████████████████| 200/200 [00:09<00:00, 20.92it/s]\n",
      "100%|██████████████████████████████████████████████████████████████████████████████████████████████████| 200/200 [00:09<00:00, 20.98it/s]\n",
      "100%|██████████████████████████████████████████████████████████████████████████████████████████████████| 200/200 [00:09<00:00, 20.88it/s]\n",
      "100%|██████████████████████████████████████████████████████████████████████████████████████████████████| 200/200 [00:09<00:00, 21.44it/s]\n",
      "100%|██████████████████████████████████████████████████████████████████████████████████████████████████| 200/200 [00:09<00:00, 21.10it/s]\n",
      "100%|██████████████████████████████████████████████████████████████████████████████████████████████████| 200/200 [00:09<00:00, 21.14it/s]\n",
      "100%|██████████████████████████████████████████████████████████████████████████████████████████████████| 200/200 [00:09<00:00, 21.50it/s]\n",
      "100%|██████████████████████████████████████████████████████████████████████████████████████████████████| 200/200 [00:09<00:00, 21.27it/s]\n",
      "100%|██████████████████████████████████████████████████████████████████████████████████████████████████| 200/200 [00:09<00:00, 20.68it/s]\n",
      "100%|██████████████████████████████████████████████████████████████████████████████████████████████████| 200/200 [00:09<00:00, 21.49it/s]\n",
      "100%|██████████████████████████████████████████████████████████████████████████████████████████████████| 200/200 [00:09<00:00, 21.70it/s]\n",
      "100%|██████████████████████████████████████████████████████████████████████████████████████████████████| 200/200 [00:09<00:00, 21.33it/s]\n",
      "100%|██████████████████████████████████████████████████████████████████████████████████████████████████| 200/200 [00:09<00:00, 20.82it/s]\n",
      "100%|██████████████████████████████████████████████████████████████████████████████████████████████████| 200/200 [00:09<00:00, 21.00it/s]\n",
      "100%|██████████████████████████████████████████████████████████████████████████████████████████████████| 200/200 [00:09<00:00, 21.75it/s]\n",
      "100%|██████████████████████████████████████████████████████████████████████████████████████████████████| 200/200 [00:09<00:00, 21.54it/s]\n",
      "100%|██████████████████████████████████████████████████████████████████████████████████████████████████| 200/200 [00:09<00:00, 21.30it/s]\n",
      "100%|██████████████████████████████████████████████████████████████████████████████████████████████████| 200/200 [00:09<00:00, 21.16it/s]\n",
      "100%|██████████████████████████████████████████████████████████████████████████████████████████████████| 200/200 [00:09<00:00, 20.94it/s]\n",
      "100%|██████████████████████████████████████████████████████████████████████████████████████████████████| 200/200 [00:09<00:00, 21.31it/s]\n",
      "100%|██████████████████████████████████████████████████████████████████████████████████████████████████| 200/200 [00:09<00:00, 21.04it/s]\n",
      "100%|██████████████████████████████████████████████████████████████████████████████████████████████████| 200/200 [00:09<00:00, 21.20it/s]\n"
     ]
    },
    {
     "name": "stdout",
     "output_type": "stream",
     "text": [
      "Current Mutation rate 0.5\n",
      "\n"
     ]
    },
    {
     "name": "stderr",
     "output_type": "stream",
     "text": [
      "100%|██████████████████████████████████████████████████████████████████████████████████████████████████| 200/200 [00:09<00:00, 21.35it/s]\n",
      "100%|██████████████████████████████████████████████████████████████████████████████████████████████████| 200/200 [00:09<00:00, 21.33it/s]\n",
      "100%|██████████████████████████████████████████████████████████████████████████████████████████████████| 200/200 [00:09<00:00, 21.41it/s]\n",
      "100%|██████████████████████████████████████████████████████████████████████████████████████████████████| 200/200 [00:09<00:00, 21.31it/s]\n",
      "100%|██████████████████████████████████████████████████████████████████████████████████████████████████| 200/200 [00:09<00:00, 21.21it/s]\n",
      "100%|██████████████████████████████████████████████████████████████████████████████████████████████████| 200/200 [00:09<00:00, 21.33it/s]\n",
      "100%|██████████████████████████████████████████████████████████████████████████████████████████████████| 200/200 [00:09<00:00, 21.15it/s]\n",
      "100%|██████████████████████████████████████████████████████████████████████████████████████████████████| 200/200 [00:09<00:00, 21.09it/s]\n",
      "100%|██████████████████████████████████████████████████████████████████████████████████████████████████| 200/200 [00:09<00:00, 21.36it/s]\n",
      "100%|██████████████████████████████████████████████████████████████████████████████████████████████████| 200/200 [00:09<00:00, 21.54it/s]\n",
      "100%|██████████████████████████████████████████████████████████████████████████████████████████████████| 200/200 [00:09<00:00, 21.40it/s]\n",
      "100%|██████████████████████████████████████████████████████████████████████████████████████████████████| 200/200 [00:09<00:00, 20.65it/s]\n",
      "100%|██████████████████████████████████████████████████████████████████████████████████████████████████| 200/200 [00:09<00:00, 21.32it/s]\n",
      "100%|██████████████████████████████████████████████████████████████████████████████████████████████████| 200/200 [00:09<00:00, 21.08it/s]\n",
      "100%|██████████████████████████████████████████████████████████████████████████████████████████████████| 200/200 [00:09<00:00, 21.15it/s]\n",
      "100%|██████████████████████████████████████████████████████████████████████████████████████████████████| 200/200 [00:09<00:00, 21.36it/s]\n",
      "100%|██████████████████████████████████████████████████████████████████████████████████████████████████| 200/200 [00:09<00:00, 21.20it/s]\n",
      "100%|██████████████████████████████████████████████████████████████████████████████████████████████████| 200/200 [00:09<00:00, 21.53it/s]\n",
      "100%|██████████████████████████████████████████████████████████████████████████████████████████████████| 200/200 [00:09<00:00, 21.56it/s]\n",
      "100%|██████████████████████████████████████████████████████████████████████████████████████████████████| 200/200 [00:09<00:00, 21.38it/s]\n",
      "100%|██████████████████████████████████████████████████████████████████████████████████████████████████| 200/200 [00:09<00:00, 21.41it/s]\n",
      "100%|██████████████████████████████████████████████████████████████████████████████████████████████████| 200/200 [00:09<00:00, 21.34it/s]\n",
      "100%|██████████████████████████████████████████████████████████████████████████████████████████████████| 200/200 [00:09<00:00, 21.05it/s]\n",
      "100%|██████████████████████████████████████████████████████████████████████████████████████████████████| 200/200 [00:09<00:00, 21.17it/s]\n",
      "100%|██████████████████████████████████████████████████████████████████████████████████████████████████| 200/200 [00:09<00:00, 20.84it/s]\n",
      "100%|██████████████████████████████████████████████████████████████████████████████████████████████████| 200/200 [00:09<00:00, 21.38it/s]\n",
      "100%|██████████████████████████████████████████████████████████████████████████████████████████████████| 200/200 [00:09<00:00, 21.16it/s]\n",
      "100%|██████████████████████████████████████████████████████████████████████████████████████████████████| 200/200 [00:09<00:00, 21.10it/s]\n",
      "100%|██████████████████████████████████████████████████████████████████████████████████████████████████| 200/200 [00:09<00:00, 21.09it/s]\n",
      "100%|██████████████████████████████████████████████████████████████████████████████████████████████████| 200/200 [00:09<00:00, 21.23it/s]\n"
     ]
    },
    {
     "name": "stdout",
     "output_type": "stream",
     "text": [
      "Current Mutation rate 0.6000000000000001\n",
      "\n"
     ]
    },
    {
     "name": "stderr",
     "output_type": "stream",
     "text": [
      "100%|██████████████████████████████████████████████████████████████████████████████████████████████████| 200/200 [00:09<00:00, 20.83it/s]\n",
      "100%|██████████████████████████████████████████████████████████████████████████████████████████████████| 200/200 [00:09<00:00, 20.92it/s]\n",
      "100%|██████████████████████████████████████████████████████████████████████████████████████████████████| 200/200 [00:09<00:00, 21.35it/s]\n",
      "100%|██████████████████████████████████████████████████████████████████████████████████████████████████| 200/200 [00:09<00:00, 21.24it/s]\n",
      "100%|██████████████████████████████████████████████████████████████████████████████████████████████████| 200/200 [00:09<00:00, 21.15it/s]\n",
      "100%|██████████████████████████████████████████████████████████████████████████████████████████████████| 200/200 [00:09<00:00, 20.78it/s]\n",
      "100%|██████████████████████████████████████████████████████████████████████████████████████████████████| 200/200 [00:09<00:00, 20.81it/s]\n",
      "100%|██████████████████████████████████████████████████████████████████████████████████████████████████| 200/200 [00:09<00:00, 20.42it/s]\n",
      "100%|██████████████████████████████████████████████████████████████████████████████████████████████████| 200/200 [00:09<00:00, 21.10it/s]\n",
      "100%|██████████████████████████████████████████████████████████████████████████████████████████████████| 200/200 [00:09<00:00, 21.06it/s]\n",
      "100%|██████████████████████████████████████████████████████████████████████████████████████████████████| 200/200 [00:09<00:00, 20.99it/s]\n",
      "100%|██████████████████████████████████████████████████████████████████████████████████████████████████| 200/200 [00:09<00:00, 21.49it/s]\n",
      "100%|██████████████████████████████████████████████████████████████████████████████████████████████████| 200/200 [00:09<00:00, 20.92it/s]\n",
      "100%|██████████████████████████████████████████████████████████████████████████████████████████████████| 200/200 [00:09<00:00, 20.85it/s]\n",
      "100%|██████████████████████████████████████████████████████████████████████████████████████████████████| 200/200 [00:09<00:00, 21.31it/s]\n",
      "100%|██████████████████████████████████████████████████████████████████████████████████████████████████| 200/200 [00:09<00:00, 21.09it/s]\n",
      "100%|██████████████████████████████████████████████████████████████████████████████████████████████████| 200/200 [00:09<00:00, 20.97it/s]\n",
      "100%|██████████████████████████████████████████████████████████████████████████████████████████████████| 200/200 [00:09<00:00, 21.00it/s]\n",
      "100%|██████████████████████████████████████████████████████████████████████████████████████████████████| 200/200 [00:09<00:00, 20.69it/s]\n",
      "100%|██████████████████████████████████████████████████████████████████████████████████████████████████| 200/200 [00:09<00:00, 21.08it/s]\n",
      "100%|██████████████████████████████████████████████████████████████████████████████████████████████████| 200/200 [00:09<00:00, 20.37it/s]\n",
      "100%|██████████████████████████████████████████████████████████████████████████████████████████████████| 200/200 [00:09<00:00, 21.58it/s]\n",
      "100%|██████████████████████████████████████████████████████████████████████████████████████████████████| 200/200 [00:09<00:00, 21.36it/s]\n",
      "100%|██████████████████████████████████████████████████████████████████████████████████████████████████| 200/200 [00:09<00:00, 21.56it/s]\n",
      "100%|██████████████████████████████████████████████████████████████████████████████████████████████████| 200/200 [00:09<00:00, 21.45it/s]\n",
      "100%|██████████████████████████████████████████████████████████████████████████████████████████████████| 200/200 [00:09<00:00, 21.43it/s]\n",
      "100%|██████████████████████████████████████████████████████████████████████████████████████████████████| 200/200 [00:09<00:00, 21.38it/s]\n",
      "100%|██████████████████████████████████████████████████████████████████████████████████████████████████| 200/200 [00:09<00:00, 21.23it/s]\n",
      "100%|██████████████████████████████████████████████████████████████████████████████████████████████████| 200/200 [00:09<00:00, 21.28it/s]\n",
      "100%|██████████████████████████████████████████████████████████████████████████████████████████████████| 200/200 [00:09<00:00, 21.46it/s]\n"
     ]
    },
    {
     "name": "stdout",
     "output_type": "stream",
     "text": [
      "Current Mutation rate 0.7000000000000001\n",
      "\n"
     ]
    },
    {
     "name": "stderr",
     "output_type": "stream",
     "text": [
      "100%|██████████████████████████████████████████████████████████████████████████████████████████████████| 200/200 [00:09<00:00, 21.27it/s]\n",
      "100%|██████████████████████████████████████████████████████████████████████████████████████████████████| 200/200 [00:09<00:00, 21.10it/s]\n",
      "100%|██████████████████████████████████████████████████████████████████████████████████████████████████| 200/200 [00:09<00:00, 20.38it/s]\n",
      "100%|██████████████████████████████████████████████████████████████████████████████████████████████████| 200/200 [00:09<00:00, 20.84it/s]\n",
      "100%|██████████████████████████████████████████████████████████████████████████████████████████████████| 200/200 [00:09<00:00, 20.85it/s]\n",
      "100%|██████████████████████████████████████████████████████████████████████████████████████████████████| 200/200 [00:09<00:00, 21.18it/s]\n",
      "100%|██████████████████████████████████████████████████████████████████████████████████████████████████| 200/200 [00:09<00:00, 21.03it/s]\n",
      "100%|██████████████████████████████████████████████████████████████████████████████████████████████████| 200/200 [00:09<00:00, 21.44it/s]\n",
      "100%|██████████████████████████████████████████████████████████████████████████████████████████████████| 200/200 [00:09<00:00, 21.22it/s]\n",
      "100%|██████████████████████████████████████████████████████████████████████████████████████████████████| 200/200 [00:09<00:00, 21.40it/s]\n",
      "100%|██████████████████████████████████████████████████████████████████████████████████████████████████| 200/200 [00:09<00:00, 21.34it/s]\n",
      "100%|██████████████████████████████████████████████████████████████████████████████████████████████████| 200/200 [00:09<00:00, 21.52it/s]\n",
      "100%|██████████████████████████████████████████████████████████████████████████████████████████████████| 200/200 [00:09<00:00, 21.31it/s]\n",
      "100%|██████████████████████████████████████████████████████████████████████████████████████████████████| 200/200 [00:09<00:00, 21.33it/s]\n",
      "100%|██████████████████████████████████████████████████████████████████████████████████████████████████| 200/200 [00:09<00:00, 21.63it/s]\n",
      "100%|██████████████████████████████████████████████████████████████████████████████████████████████████| 200/200 [00:09<00:00, 20.91it/s]\n",
      "100%|██████████████████████████████████████████████████████████████████████████████████████████████████| 200/200 [00:09<00:00, 21.18it/s]\n",
      "100%|██████████████████████████████████████████████████████████████████████████████████████████████████| 200/200 [00:09<00:00, 21.71it/s]\n",
      "100%|██████████████████████████████████████████████████████████████████████████████████████████████████| 200/200 [00:09<00:00, 21.60it/s]\n",
      "100%|██████████████████████████████████████████████████████████████████████████████████████████████████| 200/200 [00:09<00:00, 21.21it/s]\n",
      "100%|██████████████████████████████████████████████████████████████████████████████████████████████████| 200/200 [00:09<00:00, 21.09it/s]\n",
      "100%|██████████████████████████████████████████████████████████████████████████████████████████████████| 200/200 [00:09<00:00, 21.05it/s]\n",
      "100%|██████████████████████████████████████████████████████████████████████████████████████████████████| 200/200 [00:09<00:00, 20.78it/s]\n",
      "100%|██████████████████████████████████████████████████████████████████████████████████████████████████| 200/200 [00:09<00:00, 20.98it/s]\n",
      "100%|██████████████████████████████████████████████████████████████████████████████████████████████████| 200/200 [00:09<00:00, 21.39it/s]\n",
      "100%|██████████████████████████████████████████████████████████████████████████████████████████████████| 200/200 [00:09<00:00, 21.22it/s]\n",
      "100%|██████████████████████████████████████████████████████████████████████████████████████████████████| 200/200 [00:09<00:00, 21.23it/s]\n",
      "100%|██████████████████████████████████████████████████████████████████████████████████████████████████| 200/200 [00:09<00:00, 20.97it/s]\n",
      "100%|██████████████████████████████████████████████████████████████████████████████████████████████████| 200/200 [00:09<00:00, 20.41it/s]\n",
      "100%|██████████████████████████████████████████████████████████████████████████████████████████████████| 200/200 [00:09<00:00, 21.26it/s]\n"
     ]
    },
    {
     "name": "stdout",
     "output_type": "stream",
     "text": [
      "Current Mutation rate 0.8\n",
      "\n"
     ]
    },
    {
     "name": "stderr",
     "output_type": "stream",
     "text": [
      "100%|██████████████████████████████████████████████████████████████████████████████████████████████████| 200/200 [00:09<00:00, 21.37it/s]\n",
      "100%|██████████████████████████████████████████████████████████████████████████████████████████████████| 200/200 [00:09<00:00, 21.39it/s]\n",
      "100%|██████████████████████████████████████████████████████████████████████████████████████████████████| 200/200 [00:09<00:00, 21.11it/s]\n",
      "100%|██████████████████████████████████████████████████████████████████████████████████████████████████| 200/200 [00:09<00:00, 21.12it/s]\n",
      "100%|██████████████████████████████████████████████████████████████████████████████████████████████████| 200/200 [00:09<00:00, 21.41it/s]\n",
      "100%|██████████████████████████████████████████████████████████████████████████████████████████████████| 200/200 [00:09<00:00, 21.25it/s]\n",
      "100%|██████████████████████████████████████████████████████████████████████████████████████████████████| 200/200 [00:09<00:00, 21.02it/s]\n",
      "100%|██████████████████████████████████████████████████████████████████████████████████████████████████| 200/200 [00:09<00:00, 21.24it/s]\n",
      "100%|██████████████████████████████████████████████████████████████████████████████████████████████████| 200/200 [00:09<00:00, 21.24it/s]\n",
      "100%|██████████████████████████████████████████████████████████████████████████████████████████████████| 200/200 [00:09<00:00, 21.08it/s]\n",
      "100%|██████████████████████████████████████████████████████████████████████████████████████████████████| 200/200 [00:09<00:00, 20.77it/s]\n",
      "100%|██████████████████████████████████████████████████████████████████████████████████████████████████| 200/200 [00:09<00:00, 20.27it/s]\n",
      "100%|██████████████████████████████████████████████████████████████████████████████████████████████████| 200/200 [00:09<00:00, 20.74it/s]\n",
      "100%|██████████████████████████████████████████████████████████████████████████████████████████████████| 200/200 [00:09<00:00, 21.16it/s]\n",
      "100%|██████████████████████████████████████████████████████████████████████████████████████████████████| 200/200 [00:09<00:00, 21.02it/s]\n",
      "100%|██████████████████████████████████████████████████████████████████████████████████████████████████| 200/200 [00:09<00:00, 21.11it/s]\n",
      "100%|██████████████████████████████████████████████████████████████████████████████████████████████████| 200/200 [00:09<00:00, 21.28it/s]\n",
      "100%|██████████████████████████████████████████████████████████████████████████████████████████████████| 200/200 [00:09<00:00, 21.22it/s]\n",
      "100%|██████████████████████████████████████████████████████████████████████████████████████████████████| 200/200 [00:09<00:00, 21.36it/s]\n",
      "100%|██████████████████████████████████████████████████████████████████████████████████████████████████| 200/200 [00:09<00:00, 20.83it/s]\n",
      "100%|██████████████████████████████████████████████████████████████████████████████████████████████████| 200/200 [00:09<00:00, 21.12it/s]\n",
      "100%|██████████████████████████████████████████████████████████████████████████████████████████████████| 200/200 [00:09<00:00, 21.54it/s]\n",
      "100%|██████████████████████████████████████████████████████████████████████████████████████████████████| 200/200 [00:09<00:00, 21.50it/s]\n",
      "100%|██████████████████████████████████████████████████████████████████████████████████████████████████| 200/200 [00:09<00:00, 21.38it/s]\n",
      "100%|██████████████████████████████████████████████████████████████████████████████████████████████████| 200/200 [00:09<00:00, 20.90it/s]\n",
      "100%|██████████████████████████████████████████████████████████████████████████████████████████████████| 200/200 [00:09<00:00, 20.70it/s]\n",
      "100%|██████████████████████████████████████████████████████████████████████████████████████████████████| 200/200 [00:09<00:00, 20.99it/s]\n",
      "100%|██████████████████████████████████████████████████████████████████████████████████████████████████| 200/200 [00:09<00:00, 20.40it/s]\n",
      "100%|██████████████████████████████████████████████████████████████████████████████████████████████████| 200/200 [00:09<00:00, 20.74it/s]\n",
      "100%|██████████████████████████████████████████████████████████████████████████████████████████████████| 200/200 [00:09<00:00, 20.81it/s]\n"
     ]
    },
    {
     "name": "stdout",
     "output_type": "stream",
     "text": [
      "Current Mutation rate 0.9\n",
      "\n"
     ]
    },
    {
     "name": "stderr",
     "output_type": "stream",
     "text": [
      "100%|██████████████████████████████████████████████████████████████████████████████████████████████████| 200/200 [00:09<00:00, 20.60it/s]\n",
      "100%|██████████████████████████████████████████████████████████████████████████████████████████████████| 200/200 [00:09<00:00, 20.60it/s]\n",
      "100%|██████████████████████████████████████████████████████████████████████████████████████████████████| 200/200 [00:09<00:00, 20.82it/s]\n",
      "100%|██████████████████████████████████████████████████████████████████████████████████████████████████| 200/200 [00:09<00:00, 20.91it/s]\n",
      "100%|██████████████████████████████████████████████████████████████████████████████████████████████████| 200/200 [00:09<00:00, 20.83it/s]\n",
      "100%|██████████████████████████████████████████████████████████████████████████████████████████████████| 200/200 [00:09<00:00, 20.81it/s]\n",
      "100%|██████████████████████████████████████████████████████████████████████████████████████████████████| 200/200 [00:09<00:00, 20.36it/s]\n",
      "100%|██████████████████████████████████████████████████████████████████████████████████████████████████| 200/200 [00:09<00:00, 21.07it/s]\n",
      "100%|██████████████████████████████████████████████████████████████████████████████████████████████████| 200/200 [00:09<00:00, 21.17it/s]\n",
      "100%|██████████████████████████████████████████████████████████████████████████████████████████████████| 200/200 [00:09<00:00, 20.81it/s]\n",
      "100%|██████████████████████████████████████████████████████████████████████████████████████████████████| 200/200 [00:09<00:00, 20.77it/s]\n",
      "100%|██████████████████████████████████████████████████████████████████████████████████████████████████| 200/200 [00:09<00:00, 21.18it/s]\n",
      "100%|██████████████████████████████████████████████████████████████████████████████████████████████████| 200/200 [00:09<00:00, 21.36it/s]\n",
      "100%|██████████████████████████████████████████████████████████████████████████████████████████████████| 200/200 [00:09<00:00, 21.37it/s]\n",
      "100%|██████████████████████████████████████████████████████████████████████████████████████████████████| 200/200 [00:09<00:00, 21.31it/s]\n",
      "100%|██████████████████████████████████████████████████████████████████████████████████████████████████| 200/200 [00:09<00:00, 21.21it/s]\n",
      "100%|██████████████████████████████████████████████████████████████████████████████████████████████████| 200/200 [00:09<00:00, 21.14it/s]\n",
      "100%|██████████████████████████████████████████████████████████████████████████████████████████████████| 200/200 [00:09<00:00, 21.08it/s]\n",
      "100%|██████████████████████████████████████████████████████████████████████████████████████████████████| 200/200 [00:09<00:00, 20.96it/s]\n",
      "100%|██████████████████████████████████████████████████████████████████████████████████████████████████| 200/200 [00:09<00:00, 20.35it/s]\n",
      "100%|██████████████████████████████████████████████████████████████████████████████████████████████████| 200/200 [00:09<00:00, 21.11it/s]\n",
      "100%|██████████████████████████████████████████████████████████████████████████████████████████████████| 200/200 [00:09<00:00, 21.25it/s]\n",
      "100%|██████████████████████████████████████████████████████████████████████████████████████████████████| 200/200 [00:09<00:00, 21.36it/s]\n",
      "100%|██████████████████████████████████████████████████████████████████████████████████████████████████| 200/200 [00:09<00:00, 21.12it/s]\n",
      "100%|██████████████████████████████████████████████████████████████████████████████████████████████████| 200/200 [00:09<00:00, 21.05it/s]\n",
      "100%|██████████████████████████████████████████████████████████████████████████████████████████████████| 200/200 [00:09<00:00, 21.05it/s]\n",
      "100%|██████████████████████████████████████████████████████████████████████████████████████████████████| 200/200 [00:09<00:00, 20.77it/s]\n",
      "100%|██████████████████████████████████████████████████████████████████████████████████████████████████| 200/200 [00:09<00:00, 20.76it/s]\n",
      "100%|██████████████████████████████████████████████████████████████████████████████████████████████████| 200/200 [00:09<00:00, 21.08it/s]\n",
      "100%|██████████████████████████████████████████████████████████████████████████████████████████████████| 200/200 [00:09<00:00, 20.99it/s]\n"
     ]
    },
    {
     "name": "stdout",
     "output_type": "stream",
     "text": [
      "Current Mutation rate 1.0\n",
      "\n"
     ]
    },
    {
     "name": "stderr",
     "output_type": "stream",
     "text": [
      "100%|██████████████████████████████████████████████████████████████████████████████████████████████████| 200/200 [00:09<00:00, 20.70it/s]\n",
      "100%|██████████████████████████████████████████████████████████████████████████████████████████████████| 200/200 [00:09<00:00, 20.82it/s]\n",
      "100%|██████████████████████████████████████████████████████████████████████████████████████████████████| 200/200 [00:09<00:00, 20.73it/s]\n",
      "100%|██████████████████████████████████████████████████████████████████████████████████████████████████| 200/200 [00:09<00:00, 21.20it/s]\n",
      "100%|██████████████████████████████████████████████████████████████████████████████████████████████████| 200/200 [00:09<00:00, 21.16it/s]\n",
      "100%|██████████████████████████████████████████████████████████████████████████████████████████████████| 200/200 [00:09<00:00, 21.42it/s]\n",
      "100%|██████████████████████████████████████████████████████████████████████████████████████████████████| 200/200 [00:09<00:00, 21.24it/s]\n",
      "100%|██████████████████████████████████████████████████████████████████████████████████████████████████| 200/200 [00:09<00:00, 21.25it/s]\n",
      "100%|██████████████████████████████████████████████████████████████████████████████████████████████████| 200/200 [00:09<00:00, 21.38it/s]\n",
      "100%|██████████████████████████████████████████████████████████████████████████████████████████████████| 200/200 [00:09<00:00, 21.19it/s]\n",
      "100%|██████████████████████████████████████████████████████████████████████████████████████████████████| 200/200 [00:09<00:00, 20.75it/s]\n",
      "100%|██████████████████████████████████████████████████████████████████████████████████████████████████| 200/200 [00:09<00:00, 20.61it/s]\n",
      "100%|██████████████████████████████████████████████████████████████████████████████████████████████████| 200/200 [00:09<00:00, 20.85it/s]\n",
      "100%|██████████████████████████████████████████████████████████████████████████████████████████████████| 200/200 [00:09<00:00, 21.02it/s]\n",
      "100%|██████████████████████████████████████████████████████████████████████████████████████████████████| 200/200 [00:09<00:00, 21.36it/s]\n",
      "100%|██████████████████████████████████████████████████████████████████████████████████████████████████| 200/200 [00:09<00:00, 20.78it/s]\n",
      "100%|██████████████████████████████████████████████████████████████████████████████████████████████████| 200/200 [00:09<00:00, 21.26it/s]\n",
      "100%|██████████████████████████████████████████████████████████████████████████████████████████████████| 200/200 [00:09<00:00, 21.22it/s]\n",
      "100%|██████████████████████████████████████████████████████████████████████████████████████████████████| 200/200 [00:09<00:00, 20.95it/s]\n",
      "100%|██████████████████████████████████████████████████████████████████████████████████████████████████| 200/200 [00:09<00:00, 21.42it/s]\n",
      "100%|██████████████████████████████████████████████████████████████████████████████████████████████████| 200/200 [00:09<00:00, 21.16it/s]\n",
      "100%|██████████████████████████████████████████████████████████████████████████████████████████████████| 200/200 [00:09<00:00, 21.04it/s]\n",
      "100%|██████████████████████████████████████████████████████████████████████████████████████████████████| 200/200 [00:09<00:00, 20.85it/s]\n",
      "100%|██████████████████████████████████████████████████████████████████████████████████████████████████| 200/200 [00:09<00:00, 20.89it/s]\n",
      "100%|██████████████████████████████████████████████████████████████████████████████████████████████████| 200/200 [00:09<00:00, 20.96it/s]\n",
      "100%|██████████████████████████████████████████████████████████████████████████████████████████████████| 200/200 [00:09<00:00, 20.93it/s]\n",
      "100%|██████████████████████████████████████████████████████████████████████████████████████████████████| 200/200 [00:09<00:00, 20.99it/s]\n",
      "100%|██████████████████████████████████████████████████████████████████████████████████████████████████| 200/200 [00:09<00:00, 20.94it/s]\n",
      "100%|██████████████████████████████████████████████████████████████████████████████████████████████████| 200/200 [00:09<00:00, 20.41it/s]\n",
      "100%|██████████████████████████████████████████████████████████████████████████████████████████████████| 200/200 [00:09<00:00, 21.22it/s]\n"
     ]
    },
    {
     "data": {
      "image/png": "[encoded data removed]",
      "text/plain": [
       "<Figure size 432x288 with 1 Axes>"
      ]
     },
     "metadata": {
      "needs_background": "light"
     },
     "output_type": "display_data"
    }
   ],
   "source": [
    "## mutation\n",
    "ablate_GA(drivers, riders, graph, eval_obj, initial_pop_size=200, ablate='mutate')"
   ]
  },
  {
   "cell_type": "markdown",
   "metadata": {},
   "source": [
    "To study the effect of the mutation rate on GA solution, we vary the rate in the range [0.0, 1.0] with a step of 0.1. The initial population is set to 200 for all experiments. A key ingredient for the success of GA is having the ability to explore unvisited solutions. This is implemented by rider permutation and driver re-assignment mutation operators. At very low mutation rates, the cost of the optimal solution found by GA is very high, this can be attributed to GA mostly exploiting existing solutions rather than exploring mutated unvisited solutions. By increasing the rate, the cost falls sharply showing that mutation operators enable exploration of new solutions and prevent the collapsing of the population of solutions to a small set of unique solutions. On the other hand, a very high mutation rate can be harmful as the probability of good solutions being retained from one generation to the next reduces dramatically."
   ]
  },
  {
   "cell_type": "code",
   "execution_count": 32,
   "metadata": {},
   "outputs": [
    {
     "name": "stdout",
     "output_type": "stream",
     "text": [
      "Current Population Size: 100\n",
      "\n"
     ]
    },
    {
     "name": "stderr",
     "output_type": "stream",
     "text": [
      "100%|██████████████████████████████████████████████████████████████████████████████████████████████████| 200/200 [00:04<00:00, 42.81it/s]\n",
      "100%|██████████████████████████████████████████████████████████████████████████████████████████████████| 200/200 [00:04<00:00, 43.00it/s]\n",
      "100%|██████████████████████████████████████████████████████████████████████████████████████████████████| 200/200 [00:04<00:00, 42.82it/s]\n",
      "100%|██████████████████████████████████████████████████████████████████████████████████████████████████| 200/200 [00:04<00:00, 43.06it/s]\n",
      "100%|██████████████████████████████████████████████████████████████████████████████████████████████████| 200/200 [00:04<00:00, 42.86it/s]\n",
      "100%|██████████████████████████████████████████████████████████████████████████████████████████████████| 200/200 [00:04<00:00, 43.25it/s]\n",
      "100%|██████████████████████████████████████████████████████████████████████████████████████████████████| 200/200 [00:04<00:00, 43.35it/s]\n",
      "100%|██████████████████████████████████████████████████████████████████████████████████████████████████| 200/200 [00:04<00:00, 42.80it/s]\n",
      "100%|██████████████████████████████████████████████████████████████████████████████████████████████████| 200/200 [00:04<00:00, 42.92it/s]\n",
      "100%|██████████████████████████████████████████████████████████████████████████████████████████████████| 200/200 [00:04<00:00, 42.39it/s]\n",
      "100%|██████████████████████████████████████████████████████████████████████████████████████████████████| 200/200 [00:04<00:00, 43.32it/s]\n",
      "100%|██████████████████████████████████████████████████████████████████████████████████████████████████| 200/200 [00:04<00:00, 42.89it/s]\n",
      "100%|██████████████████████████████████████████████████████████████████████████████████████████████████| 200/200 [00:04<00:00, 42.98it/s]\n",
      "100%|██████████████████████████████████████████████████████████████████████████████████████████████████| 200/200 [00:04<00:00, 42.78it/s]\n",
      "100%|██████████████████████████████████████████████████████████████████████████████████████████████████| 200/200 [00:04<00:00, 41.96it/s]\n",
      "100%|██████████████████████████████████████████████████████████████████████████████████████████████████| 200/200 [00:04<00:00, 41.84it/s]\n",
      "100%|██████████████████████████████████████████████████████████████████████████████████████████████████| 200/200 [00:04<00:00, 43.06it/s]\n",
      "100%|██████████████████████████████████████████████████████████████████████████████████████████████████| 200/200 [00:04<00:00, 42.90it/s]\n",
      "100%|██████████████████████████████████████████████████████████████████████████████████████████████████| 200/200 [00:04<00:00, 42.56it/s]\n",
      "100%|██████████████████████████████████████████████████████████████████████████████████████████████████| 200/200 [00:04<00:00, 43.45it/s]\n",
      "100%|██████████████████████████████████████████████████████████████████████████████████████████████████| 200/200 [00:04<00:00, 42.91it/s]\n",
      "100%|██████████████████████████████████████████████████████████████████████████████████████████████████| 200/200 [00:04<00:00, 43.48it/s]\n",
      "100%|██████████████████████████████████████████████████████████████████████████████████████████████████| 200/200 [00:04<00:00, 43.28it/s]\n",
      "100%|██████████████████████████████████████████████████████████████████████████████████████████████████| 200/200 [00:04<00:00, 43.56it/s]\n",
      "100%|██████████████████████████████████████████████████████████████████████████████████████████████████| 200/200 [00:04<00:00, 43.74it/s]\n",
      "100%|██████████████████████████████████████████████████████████████████████████████████████████████████| 200/200 [00:04<00:00, 43.46it/s]\n",
      "100%|██████████████████████████████████████████████████████████████████████████████████████████████████| 200/200 [00:04<00:00, 42.81it/s]\n",
      "100%|██████████████████████████████████████████████████████████████████████████████████████████████████| 200/200 [00:04<00:00, 42.60it/s]\n",
      "100%|██████████████████████████████████████████████████████████████████████████████████████████████████| 200/200 [00:04<00:00, 42.02it/s]\n",
      "100%|██████████████████████████████████████████████████████████████████████████████████████████████████| 200/200 [00:04<00:00, 42.52it/s]\n"
     ]
    },
    {
     "name": "stdout",
     "output_type": "stream",
     "text": [
      "Current Population Size: 200\n",
      "\n"
     ]
    },
    {
     "name": "stderr",
     "output_type": "stream",
     "text": [
      "100%|██████████████████████████████████████████████████████████████████████████████████████████████████| 200/200 [00:09<00:00, 21.32it/s]\n",
      "100%|██████████████████████████████████████████████████████████████████████████████████████████████████| 200/200 [00:09<00:00, 21.74it/s]\n",
      "100%|██████████████████████████████████████████████████████████████████████████████████████████████████| 200/200 [00:09<00:00, 21.52it/s]\n",
      "100%|██████████████████████████████████████████████████████████████████████████████████████████████████| 200/200 [00:09<00:00, 21.49it/s]\n",
      "100%|██████████████████████████████████████████████████████████████████████████████████████████████████| 200/200 [00:09<00:00, 21.59it/s]\n",
      "100%|██████████████████████████████████████████████████████████████████████████████████████████████████| 200/200 [00:09<00:00, 21.75it/s]\n",
      "100%|██████████████████████████████████████████████████████████████████████████████████████████████████| 200/200 [00:09<00:00, 21.64it/s]\n",
      "100%|██████████████████████████████████████████████████████████████████████████████████████████████████| 200/200 [00:09<00:00, 21.39it/s]\n",
      "100%|██████████████████████████████████████████████████████████████████████████████████████████████████| 200/200 [00:09<00:00, 21.35it/s]\n",
      "100%|██████████████████████████████████████████████████████████████████████████████████████████████████| 200/200 [00:09<00:00, 21.25it/s]\n",
      "100%|██████████████████████████████████████████████████████████████████████████████████████████████████| 200/200 [00:09<00:00, 20.43it/s]\n",
      "100%|██████████████████████████████████████████████████████████████████████████████████████████████████| 200/200 [00:09<00:00, 21.34it/s]\n",
      "100%|██████████████████████████████████████████████████████████████████████████████████████████████████| 200/200 [00:09<00:00, 21.11it/s]\n",
      "100%|██████████████████████████████████████████████████████████████████████████████████████████████████| 200/200 [00:09<00:00, 20.87it/s]\n",
      "100%|██████████████████████████████████████████████████████████████████████████████████████████████████| 200/200 [00:09<00:00, 20.84it/s]\n",
      "100%|██████████████████████████████████████████████████████████████████████████████████████████████████| 200/200 [00:09<00:00, 20.93it/s]\n",
      "100%|██████████████████████████████████████████████████████████████████████████████████████████████████| 200/200 [00:09<00:00, 21.16it/s]\n",
      "100%|██████████████████████████████████████████████████████████████████████████████████████████████████| 200/200 [00:09<00:00, 21.27it/s]\n",
      "100%|██████████████████████████████████████████████████████████████████████████████████████████████████| 200/200 [00:09<00:00, 21.48it/s]\n",
      "100%|██████████████████████████████████████████████████████████████████████████████████████████████████| 200/200 [00:09<00:00, 21.39it/s]\n",
      "100%|██████████████████████████████████████████████████████████████████████████████████████████████████| 200/200 [00:09<00:00, 21.35it/s]\n",
      "100%|██████████████████████████████████████████████████████████████████████████████████████████████████| 200/200 [00:09<00:00, 21.44it/s]\n",
      "100%|██████████████████████████████████████████████████████████████████████████████████████████████████| 200/200 [00:09<00:00, 20.90it/s]\n",
      "100%|██████████████████████████████████████████████████████████████████████████████████████████████████| 200/200 [00:09<00:00, 20.24it/s]\n",
      "100%|██████████████████████████████████████████████████████████████████████████████████████████████████| 200/200 [00:09<00:00, 21.19it/s]\n",
      "100%|██████████████████████████████████████████████████████████████████████████████████████████████████| 200/200 [00:09<00:00, 21.46it/s]\n",
      "100%|██████████████████████████████████████████████████████████████████████████████████████████████████| 200/200 [00:09<00:00, 21.14it/s]\n",
      "100%|██████████████████████████████████████████████████████████████████████████████████████████████████| 200/200 [00:09<00:00, 21.40it/s]\n",
      "100%|██████████████████████████████████████████████████████████████████████████████████████████████████| 200/200 [00:09<00:00, 21.76it/s]\n",
      "100%|██████████████████████████████████████████████████████████████████████████████████████████████████| 200/200 [00:09<00:00, 21.52it/s]\n"
     ]
    },
    {
     "name": "stdout",
     "output_type": "stream",
     "text": [
      "Current Population Size: 300\n",
      "\n"
     ]
    },
    {
     "name": "stderr",
     "output_type": "stream",
     "text": [
      "100%|██████████████████████████████████████████████████████████████████████████████████████████████████| 200/200 [00:14<00:00, 14.18it/s]\n",
      "100%|██████████████████████████████████████████████████████████████████████████████████████████████████| 200/200 [00:13<00:00, 14.39it/s]\n",
      "100%|██████████████████████████████████████████████████████████████████████████████████████████████████| 200/200 [00:14<00:00, 14.04it/s]\n",
      "100%|██████████████████████████████████████████████████████████████████████████████████████████████████| 200/200 [00:14<00:00, 13.95it/s]\n",
      "100%|██████████████████████████████████████████████████████████████████████████████████████████████████| 200/200 [00:14<00:00, 14.04it/s]\n",
      "100%|██████████████████████████████████████████████████████████████████████████████████████████████████| 200/200 [00:13<00:00, 14.38it/s]\n",
      "100%|██████████████████████████████████████████████████████████████████████████████████████████████████| 200/200 [00:13<00:00, 14.52it/s]\n",
      "100%|██████████████████████████████████████████████████████████████████████████████████████████████████| 200/200 [00:13<00:00, 14.40it/s]\n",
      "100%|██████████████████████████████████████████████████████████████████████████████████████████████████| 200/200 [00:13<00:00, 14.29it/s]\n",
      "100%|██████████████████████████████████████████████████████████████████████████████████████████████████| 200/200 [00:14<00:00, 14.09it/s]\n",
      "100%|██████████████████████████████████████████████████████████████████████████████████████████████████| 200/200 [00:13<00:00, 14.30it/s]\n",
      "100%|██████████████████████████████████████████████████████████████████████████████████████████████████| 200/200 [00:13<00:00, 14.43it/s]\n",
      "100%|██████████████████████████████████████████████████████████████████████████████████████████████████| 200/200 [00:14<00:00, 14.22it/s]\n",
      "100%|██████████████████████████████████████████████████████████████████████████████████████████████████| 200/200 [00:14<00:00, 14.25it/s]\n",
      "100%|██████████████████████████████████████████████████████████████████████████████████████████████████| 200/200 [00:14<00:00, 13.82it/s]\n",
      "100%|██████████████████████████████████████████████████████████████████████████████████████████████████| 200/200 [00:13<00:00, 14.36it/s]\n",
      "100%|██████████████████████████████████████████████████████████████████████████████████████████████████| 200/200 [00:14<00:00, 14.28it/s]\n",
      "100%|██████████████████████████████████████████████████████████████████████████████████████████████████| 200/200 [00:14<00:00, 14.29it/s]\n",
      "100%|██████████████████████████████████████████████████████████████████████████████████████████████████| 200/200 [00:13<00:00, 14.30it/s]\n",
      "100%|██████████████████████████████████████████████████████████████████████████████████████████████████| 200/200 [00:13<00:00, 14.29it/s]\n",
      "100%|██████████████████████████████████████████████████████████████████████████████████████████████████| 200/200 [00:14<00:00, 14.13it/s]\n",
      "100%|██████████████████████████████████████████████████████████████████████████████████████████████████| 200/200 [00:13<00:00, 14.34it/s]\n",
      "100%|██████████████████████████████████████████████████████████████████████████████████████████████████| 200/200 [00:14<00:00, 14.20it/s]\n",
      "100%|██████████████████████████████████████████████████████████████████████████████████████████████████| 200/200 [00:14<00:00, 13.92it/s]\n",
      "100%|██████████████████████████████████████████████████████████████████████████████████████████████████| 200/200 [00:14<00:00, 14.13it/s]\n",
      "100%|██████████████████████████████████████████████████████████████████████████████████████████████████| 200/200 [00:13<00:00, 14.51it/s]\n",
      "100%|██████████████████████████████████████████████████████████████████████████████████████████████████| 200/200 [00:14<00:00, 13.92it/s]\n",
      "100%|██████████████████████████████████████████████████████████████████████████████████████████████████| 200/200 [00:13<00:00, 14.33it/s]\n",
      "100%|██████████████████████████████████████████████████████████████████████████████████████████████████| 200/200 [00:13<00:00, 14.31it/s]\n",
      "100%|██████████████████████████████████████████████████████████████████████████████████████████████████| 200/200 [00:13<00:00, 14.31it/s]\n"
     ]
    },
    {
     "name": "stdout",
     "output_type": "stream",
     "text": [
      "Current Population Size: 400\n",
      "\n"
     ]
    },
    {
     "name": "stderr",
     "output_type": "stream",
     "text": [
      "100%|██████████████████████████████████████████████████████████████████████████████████████████████████| 200/200 [00:18<00:00, 10.77it/s]\n",
      "100%|██████████████████████████████████████████████████████████████████████████████████████████████████| 200/200 [00:18<00:00, 10.69it/s]\n",
      "100%|██████████████████████████████████████████████████████████████████████████████████████████████████| 200/200 [00:18<00:00, 10.65it/s]\n",
      "100%|██████████████████████████████████████████████████████████████████████████████████████████████████| 200/200 [00:18<00:00, 10.80it/s]\n",
      "100%|██████████████████████████████████████████████████████████████████████████████████████████████████| 200/200 [00:18<00:00, 10.71it/s]\n",
      "100%|██████████████████████████████████████████████████████████████████████████████████████████████████| 200/200 [00:18<00:00, 10.97it/s]\n",
      "100%|██████████████████████████████████████████████████████████████████████████████████████████████████| 200/200 [00:18<00:00, 10.86it/s]\n",
      "100%|██████████████████████████████████████████████████████████████████████████████████████████████████| 200/200 [00:19<00:00, 10.50it/s]\n",
      "100%|██████████████████████████████████████████████████████████████████████████████████████████████████| 200/200 [00:18<00:00, 10.61it/s]\n",
      "100%|██████████████████████████████████████████████████████████████████████████████████████████████████| 200/200 [00:18<00:00, 10.78it/s]\n",
      "100%|██████████████████████████████████████████████████████████████████████████████████████████████████| 200/200 [00:18<00:00, 10.88it/s]\n",
      "100%|██████████████████████████████████████████████████████████████████████████████████████████████████| 200/200 [00:18<00:00, 10.56it/s]\n",
      "100%|██████████████████████████████████████████████████████████████████████████████████████████████████| 200/200 [00:18<00:00, 10.63it/s]\n",
      "100%|██████████████████████████████████████████████████████████████████████████████████████████████████| 200/200 [00:18<00:00, 10.81it/s]\n",
      "100%|██████████████████████████████████████████████████████████████████████████████████████████████████| 200/200 [00:18<00:00, 10.92it/s]\n",
      "100%|██████████████████████████████████████████████████████████████████████████████████████████████████| 200/200 [00:18<00:00, 10.91it/s]\n",
      "100%|██████████████████████████████████████████████████████████████████████████████████████████████████| 200/200 [00:18<00:00, 10.90it/s]\n",
      "100%|██████████████████████████████████████████████████████████████████████████████████████████████████| 200/200 [00:18<00:00, 10.78it/s]\n",
      "100%|██████████████████████████████████████████████████████████████████████████████████████████████████| 200/200 [00:18<00:00, 10.72it/s]\n",
      "100%|██████████████████████████████████████████████████████████████████████████████████████████████████| 200/200 [00:18<00:00, 10.62it/s]\n",
      "100%|██████████████████████████████████████████████████████████████████████████████████████████████████| 200/200 [00:18<00:00, 10.74it/s]\n",
      "100%|██████████████████████████████████████████████████████████████████████████████████████████████████| 200/200 [00:18<00:00, 10.78it/s]\n",
      "100%|██████████████████████████████████████████████████████████████████████████████████████████████████| 200/200 [00:18<00:00, 10.73it/s]\n",
      "100%|██████████████████████████████████████████████████████████████████████████████████████████████████| 200/200 [00:18<00:00, 10.78it/s]\n",
      "100%|██████████████████████████████████████████████████████████████████████████████████████████████████| 200/200 [00:18<00:00, 10.74it/s]\n",
      "100%|██████████████████████████████████████████████████████████████████████████████████████████████████| 200/200 [00:18<00:00, 10.71it/s]\n",
      "100%|██████████████████████████████████████████████████████████████████████████████████████████████████| 200/200 [00:19<00:00, 10.52it/s]\n",
      "100%|██████████████████████████████████████████████████████████████████████████████████████████████████| 200/200 [00:18<00:00, 10.70it/s]\n",
      "100%|██████████████████████████████████████████████████████████████████████████████████████████████████| 200/200 [00:18<00:00, 10.83it/s]\n",
      "100%|██████████████████████████████████████████████████████████████████████████████████████████████████| 200/200 [00:18<00:00, 10.71it/s]\n"
     ]
    },
    {
     "data": {
      "image/png": "[encoded data removed]",
      "text/plain": [
       "<Figure size 432x288 with 1 Axes>"
      ]
     },
     "metadata": {
      "needs_background": "light"
     },
     "output_type": "display_data"
    }
   ],
   "source": [
    "## population size\n",
    "ablate_GA(drivers, riders, graph, eval_obj, initial_pop_size=200, ablate='pop')"
   ]
  },
  {
   "cell_type": "markdown",
   "metadata": {},
   "source": [
    "To study the effect of the initial population size on GA solution, we run experiments with 100, 200, 300 and 400 inital solutions. For each run of a population setting, a new set of random solutions are generated as the initial population of the run. By randomizing the initial population generation between runs, we ensure the decoupling of the effect of a specific set of inital solutions, and focus on the influence of the initial population size on the optimality of the GA solution. Looking at the graph, we observe a clear trend where increasing the population size leads to a relatively optimal solution. It is important to note that the runtime of the GA algorithm is linearly proportional to the size of the initial population. In addition, the initial size of the population times the number of iterations should be a small fraction of the solution search space of the problem, otherwise, using GA solver is not justified over a brute-force solution."
   ]
  },
  {
   "cell_type": "markdown",
   "metadata": {},
   "source": [
    "### Batch solvers\n",
    "- Simulated Annealing\n",
    "- Genetic Algorithm\n",
    "- Grey Wolf"
   ]
  },
  {
   "cell_type": "markdown",
   "metadata": {},
   "source": [
    "#### Small dataset"
   ]
  },
  {
   "cell_type": "code",
   "execution_count": 33,
   "metadata": {},
   "outputs": [
    {
     "name": "stdout",
     "output_type": "stream",
     "text": [
      "samples time=26.005483388900757\n",
      "Distance matrix time=12.391935586929321\n"
     ]
    }
   ],
   "source": [
    "# small set sampling and distance computation\n",
    "radius, num_drivers, num_riders, ga_population, pack_size, max_hunt_range = set_experiment_parameters(small_set=True)\n",
    "# sample\n",
    "random.seed(10)\n",
    "start = time.time()\n",
    "drivers, riders, graph = sampler.get_samples(\n",
    "        num_drivers, num_riders, radius=radius, midpoint=dt_midpoint, return_graph=True)\n",
    "end = time.time()\n",
    "print(\"samples time={}\".format(end - start))\n",
    "# compute distance matrix\n",
    "start = time.time()\n",
    "eval_obj = DeadHeadingProblemEvaluation(graph, drivers, riders)\n",
    "end = time.time()\n",
    "print(\"Distance matrix time={}\".format(end - start))"
   ]
  },
  {
   "cell_type": "code",
   "execution_count": 34,
   "metadata": {},
   "outputs": [
    {
     "name": "stdout",
     "output_type": "stream",
     "text": [
      "SA Experiment Number: 0\n"
     ]
    },
    {
     "name": "stderr",
     "output_type": "stream",
     "text": [
      "100%|█████████████████████████████████████████████████████████████████████████████████████████████████| 500/500 [00:00<00:00, 794.23it/s]\n"
     ]
    },
    {
     "name": "stdout",
     "output_type": "stream",
     "text": [
      "SA Experiment Number: 1\n"
     ]
    },
    {
     "name": "stderr",
     "output_type": "stream",
     "text": [
      "100%|█████████████████████████████████████████████████████████████████████████████████████████████████| 500/500 [00:00<00:00, 787.71it/s]\n"
     ]
    },
    {
     "name": "stdout",
     "output_type": "stream",
     "text": [
      "SA Experiment Number: 2\n"
     ]
    },
    {
     "name": "stderr",
     "output_type": "stream",
     "text": [
      "100%|█████████████████████████████████████████████████████████████████████████████████████████████████| 500/500 [00:00<00:00, 790.59it/s]\n"
     ]
    },
    {
     "name": "stdout",
     "output_type": "stream",
     "text": [
      "SA Experiment Number: 3\n"
     ]
    },
    {
     "name": "stderr",
     "output_type": "stream",
     "text": [
      "100%|█████████████████████████████████████████████████████████████████████████████████████████████████| 500/500 [00:00<00:00, 799.53it/s]\n"
     ]
    },
    {
     "name": "stdout",
     "output_type": "stream",
     "text": [
      "SA Experiment Number: 4\n"
     ]
    },
    {
     "name": "stderr",
     "output_type": "stream",
     "text": [
      "100%|█████████████████████████████████████████████████████████████████████████████████████████████████| 500/500 [00:00<00:00, 803.28it/s]\n"
     ]
    },
    {
     "name": "stdout",
     "output_type": "stream",
     "text": [
      "SA Experiment Number: 5\n"
     ]
    },
    {
     "name": "stderr",
     "output_type": "stream",
     "text": [
      "100%|█████████████████████████████████████████████████████████████████████████████████████████████████| 500/500 [00:00<00:00, 807.30it/s]\n"
     ]
    },
    {
     "name": "stdout",
     "output_type": "stream",
     "text": [
      "SA Experiment Number: 6\n"
     ]
    },
    {
     "name": "stderr",
     "output_type": "stream",
     "text": [
      "100%|█████████████████████████████████████████████████████████████████████████████████████████████████| 500/500 [00:00<00:00, 796.65it/s]\n"
     ]
    },
    {
     "name": "stdout",
     "output_type": "stream",
     "text": [
      "SA Experiment Number: 7\n"
     ]
    },
    {
     "name": "stderr",
     "output_type": "stream",
     "text": [
      "100%|█████████████████████████████████████████████████████████████████████████████████████████████████| 500/500 [00:00<00:00, 792.55it/s]\n"
     ]
    },
    {
     "name": "stdout",
     "output_type": "stream",
     "text": [
      "SA Experiment Number: 8\n"
     ]
    },
    {
     "name": "stderr",
     "output_type": "stream",
     "text": [
      "100%|█████████████████████████████████████████████████████████████████████████████████████████████████| 500/500 [00:00<00:00, 793.09it/s]\n"
     ]
    },
    {
     "name": "stdout",
     "output_type": "stream",
     "text": [
      "SA Experiment Number: 9\n"
     ]
    },
    {
     "name": "stderr",
     "output_type": "stream",
     "text": [
      "100%|█████████████████████████████████████████████████████████████████████████████████████████████████| 500/500 [00:00<00:00, 800.12it/s]\n"
     ]
    },
    {
     "name": "stdout",
     "output_type": "stream",
     "text": [
      "SA Experiment Number: 10\n"
     ]
    },
    {
     "name": "stderr",
     "output_type": "stream",
     "text": [
      "100%|█████████████████████████████████████████████████████████████████████████████████████████████████| 500/500 [00:00<00:00, 796.09it/s]\n"
     ]
    },
    {
     "name": "stdout",
     "output_type": "stream",
     "text": [
      "SA Experiment Number: 11\n"
     ]
    },
    {
     "name": "stderr",
     "output_type": "stream",
     "text": [
      "100%|█████████████████████████████████████████████████████████████████████████████████████████████████| 500/500 [00:00<00:00, 797.68it/s]\n"
     ]
    },
    {
     "name": "stdout",
     "output_type": "stream",
     "text": [
      "SA Experiment Number: 12\n"
     ]
    },
    {
     "name": "stderr",
     "output_type": "stream",
     "text": [
      "100%|█████████████████████████████████████████████████████████████████████████████████████████████████| 500/500 [00:00<00:00, 794.68it/s]\n"
     ]
    },
    {
     "name": "stdout",
     "output_type": "stream",
     "text": [
      "SA Experiment Number: 13\n"
     ]
    },
    {
     "name": "stderr",
     "output_type": "stream",
     "text": [
      "100%|█████████████████████████████████████████████████████████████████████████████████████████████████| 500/500 [00:00<00:00, 788.92it/s]\n"
     ]
    },
    {
     "name": "stdout",
     "output_type": "stream",
     "text": [
      "SA Experiment Number: 14\n"
     ]
    },
    {
     "name": "stderr",
     "output_type": "stream",
     "text": [
      "100%|█████████████████████████████████████████████████████████████████████████████████████████████████| 500/500 [00:00<00:00, 796.13it/s]\n"
     ]
    },
    {
     "name": "stdout",
     "output_type": "stream",
     "text": [
      "SA Experiment Number: 15\n"
     ]
    },
    {
     "name": "stderr",
     "output_type": "stream",
     "text": [
      "100%|█████████████████████████████████████████████████████████████████████████████████████████████████| 500/500 [00:00<00:00, 794.16it/s]\n"
     ]
    },
    {
     "name": "stdout",
     "output_type": "stream",
     "text": [
      "SA Experiment Number: 16\n"
     ]
    },
    {
     "name": "stderr",
     "output_type": "stream",
     "text": [
      "100%|█████████████████████████████████████████████████████████████████████████████████████████████████| 500/500 [00:00<00:00, 791.17it/s]\n"
     ]
    },
    {
     "name": "stdout",
     "output_type": "stream",
     "text": [
      "SA Experiment Number: 17\n"
     ]
    },
    {
     "name": "stderr",
     "output_type": "stream",
     "text": [
      "100%|█████████████████████████████████████████████████████████████████████████████████████████████████| 500/500 [00:00<00:00, 799.10it/s]\n"
     ]
    },
    {
     "name": "stdout",
     "output_type": "stream",
     "text": [
      "SA Experiment Number: 18\n"
     ]
    },
    {
     "name": "stderr",
     "output_type": "stream",
     "text": [
      "100%|█████████████████████████████████████████████████████████████████████████████████████████████████| 500/500 [00:00<00:00, 773.19it/s]\n"
     ]
    },
    {
     "name": "stdout",
     "output_type": "stream",
     "text": [
      "SA Experiment Number: 19\n"
     ]
    },
    {
     "name": "stderr",
     "output_type": "stream",
     "text": [
      "100%|█████████████████████████████████████████████████████████████████████████████████████████████████| 500/500 [00:00<00:00, 794.15it/s]\n"
     ]
    },
    {
     "name": "stdout",
     "output_type": "stream",
     "text": [
      "SA Experiment Number: 20\n"
     ]
    },
    {
     "name": "stderr",
     "output_type": "stream",
     "text": [
      "100%|█████████████████████████████████████████████████████████████████████████████████████████████████| 500/500 [00:00<00:00, 797.38it/s]\n"
     ]
    },
    {
     "name": "stdout",
     "output_type": "stream",
     "text": [
      "SA Experiment Number: 21\n"
     ]
    },
    {
     "name": "stderr",
     "output_type": "stream",
     "text": [
      "100%|█████████████████████████████████████████████████████████████████████████████████████████████████| 500/500 [00:00<00:00, 790.71it/s]\n"
     ]
    },
    {
     "name": "stdout",
     "output_type": "stream",
     "text": [
      "SA Experiment Number: 22\n"
     ]
    },
    {
     "name": "stderr",
     "output_type": "stream",
     "text": [
      "100%|█████████████████████████████████████████████████████████████████████████████████████████████████| 500/500 [00:00<00:00, 787.50it/s]\n"
     ]
    },
    {
     "name": "stdout",
     "output_type": "stream",
     "text": [
      "SA Experiment Number: 23\n"
     ]
    },
    {
     "name": "stderr",
     "output_type": "stream",
     "text": [
      "100%|█████████████████████████████████████████████████████████████████████████████████████████████████| 500/500 [00:00<00:00, 789.21it/s]\n"
     ]
    },
    {
     "name": "stdout",
     "output_type": "stream",
     "text": [
      "SA Experiment Number: 24\n"
     ]
    },
    {
     "name": "stderr",
     "output_type": "stream",
     "text": [
      "100%|█████████████████████████████████████████████████████████████████████████████████████████████████| 500/500 [00:00<00:00, 789.48it/s]\n"
     ]
    },
    {
     "name": "stdout",
     "output_type": "stream",
     "text": [
      "SA Experiment Number: 25\n"
     ]
    },
    {
     "name": "stderr",
     "output_type": "stream",
     "text": [
      "100%|█████████████████████████████████████████████████████████████████████████████████████████████████| 500/500 [00:00<00:00, 791.48it/s]\n"
     ]
    },
    {
     "name": "stdout",
     "output_type": "stream",
     "text": [
      "SA Experiment Number: 26\n"
     ]
    },
    {
     "name": "stderr",
     "output_type": "stream",
     "text": [
      "100%|█████████████████████████████████████████████████████████████████████████████████████████████████| 500/500 [00:00<00:00, 785.14it/s]\n"
     ]
    },
    {
     "name": "stdout",
     "output_type": "stream",
     "text": [
      "SA Experiment Number: 27\n"
     ]
    },
    {
     "name": "stderr",
     "output_type": "stream",
     "text": [
      "100%|█████████████████████████████████████████████████████████████████████████████████████████████████| 500/500 [00:00<00:00, 789.86it/s]\n"
     ]
    },
    {
     "name": "stdout",
     "output_type": "stream",
     "text": [
      "SA Experiment Number: 28\n"
     ]
    },
    {
     "name": "stderr",
     "output_type": "stream",
     "text": [
      "100%|█████████████████████████████████████████████████████████████████████████████████████████████████| 500/500 [00:00<00:00, 794.02it/s]\n"
     ]
    },
    {
     "name": "stdout",
     "output_type": "stream",
     "text": [
      "SA Experiment Number: 29\n"
     ]
    },
    {
     "name": "stderr",
     "output_type": "stream",
     "text": [
      "100%|█████████████████████████████████████████████████████████████████████████████████████████████████| 500/500 [00:00<00:00, 779.36it/s]\n"
     ]
    },
    {
     "name": "stdout",
     "output_type": "stream",
     "text": [
      "SA Mean Scores: 19568.284095556908\n",
      "SA Median Scores: 19395.469022686848\n",
      "SA STD Scores: 1166.274200066039\n",
      "SA Time: 0.6753215789794922\n",
      "Simulated Annealing Concluded\n",
      "\n",
      "SA Experiment Number: 0\n"
     ]
    },
    {
     "name": "stderr",
     "output_type": "stream",
     "text": [
      "100%|█████████████████████████████████████████████████████████████████████████████████████████████████| 500/500 [00:00<00:00, 567.99it/s]\n"
     ]
    },
    {
     "name": "stdout",
     "output_type": "stream",
     "text": [
      "SA Experiment Number: 1\n"
     ]
    },
    {
     "name": "stderr",
     "output_type": "stream",
     "text": [
      "100%|█████████████████████████████████████████████████████████████████████████████████████████████████| 500/500 [00:00<00:00, 574.96it/s]\n"
     ]
    },
    {
     "name": "stdout",
     "output_type": "stream",
     "text": [
      "SA Experiment Number: 2\n"
     ]
    },
    {
     "name": "stderr",
     "output_type": "stream",
     "text": [
      "100%|█████████████████████████████████████████████████████████████████████████████████████████████████| 500/500 [00:00<00:00, 573.55it/s]\n"
     ]
    },
    {
     "name": "stdout",
     "output_type": "stream",
     "text": [
      "SA Experiment Number: 3\n"
     ]
    },
    {
     "name": "stderr",
     "output_type": "stream",
     "text": [
      "100%|█████████████████████████████████████████████████████████████████████████████████████████████████| 500/500 [00:00<00:00, 581.02it/s]\n"
     ]
    },
    {
     "name": "stdout",
     "output_type": "stream",
     "text": [
      "SA Experiment Number: 4\n"
     ]
    },
    {
     "name": "stderr",
     "output_type": "stream",
     "text": [
      "100%|█████████████████████████████████████████████████████████████████████████████████████████████████| 500/500 [00:00<00:00, 573.19it/s]\n"
     ]
    },
    {
     "name": "stdout",
     "output_type": "stream",
     "text": [
      "SA Experiment Number: 5\n"
     ]
    },
    {
     "name": "stderr",
     "output_type": "stream",
     "text": [
      "100%|█████████████████████████████████████████████████████████████████████████████████████████████████| 500/500 [00:00<00:00, 581.23it/s]\n"
     ]
    },
    {
     "name": "stdout",
     "output_type": "stream",
     "text": [
      "SA Experiment Number: 6\n"
     ]
    },
    {
     "name": "stderr",
     "output_type": "stream",
     "text": [
      "100%|█████████████████████████████████████████████████████████████████████████████████████████████████| 500/500 [00:00<00:00, 567.84it/s]\n"
     ]
    },
    {
     "name": "stdout",
     "output_type": "stream",
     "text": [
      "SA Experiment Number: 7\n"
     ]
    },
    {
     "name": "stderr",
     "output_type": "stream",
     "text": [
      "100%|█████████████████████████████████████████████████████████████████████████████████████████████████| 500/500 [00:00<00:00, 586.29it/s]\n"
     ]
    },
    {
     "name": "stdout",
     "output_type": "stream",
     "text": [
      "SA Experiment Number: 8\n"
     ]
    },
    {
     "name": "stderr",
     "output_type": "stream",
     "text": [
      "100%|█████████████████████████████████████████████████████████████████████████████████████████████████| 500/500 [00:00<00:00, 568.68it/s]\n"
     ]
    },
    {
     "name": "stdout",
     "output_type": "stream",
     "text": [
      "SA Experiment Number: 9\n"
     ]
    },
    {
     "name": "stderr",
     "output_type": "stream",
     "text": [
      "100%|█████████████████████████████████████████████████████████████████████████████████████████████████| 500/500 [00:00<00:00, 584.32it/s]\n"
     ]
    },
    {
     "name": "stdout",
     "output_type": "stream",
     "text": [
      "SA Experiment Number: 10\n"
     ]
    },
    {
     "name": "stderr",
     "output_type": "stream",
     "text": [
      "100%|█████████████████████████████████████████████████████████████████████████████████████████████████| 500/500 [00:00<00:00, 572.66it/s]\n"
     ]
    },
    {
     "name": "stdout",
     "output_type": "stream",
     "text": [
      "SA Experiment Number: 11\n"
     ]
    },
    {
     "name": "stderr",
     "output_type": "stream",
     "text": [
      "100%|█████████████████████████████████████████████████████████████████████████████████████████████████| 500/500 [00:00<00:00, 584.85it/s]\n"
     ]
    },
    {
     "name": "stdout",
     "output_type": "stream",
     "text": [
      "SA Experiment Number: 12\n"
     ]
    },
    {
     "name": "stderr",
     "output_type": "stream",
     "text": [
      "100%|█████████████████████████████████████████████████████████████████████████████████████████████████| 500/500 [00:00<00:00, 567.20it/s]\n"
     ]
    },
    {
     "name": "stdout",
     "output_type": "stream",
     "text": [
      "SA Experiment Number: 13\n"
     ]
    },
    {
     "name": "stderr",
     "output_type": "stream",
     "text": [
      "100%|█████████████████████████████████████████████████████████████████████████████████████████████████| 500/500 [00:00<00:00, 572.65it/s]\n"
     ]
    },
    {
     "name": "stdout",
     "output_type": "stream",
     "text": [
      "SA Experiment Number: 14\n"
     ]
    },
    {
     "name": "stderr",
     "output_type": "stream",
     "text": [
      "100%|█████████████████████████████████████████████████████████████████████████████████████████████████| 500/500 [00:00<00:00, 573.73it/s]\n"
     ]
    },
    {
     "name": "stdout",
     "output_type": "stream",
     "text": [
      "SA Experiment Number: 15\n"
     ]
    },
    {
     "name": "stderr",
     "output_type": "stream",
     "text": [
      "100%|█████████████████████████████████████████████████████████████████████████████████████████████████| 500/500 [00:00<00:00, 580.79it/s]\n"
     ]
    },
    {
     "name": "stdout",
     "output_type": "stream",
     "text": [
      "SA Experiment Number: 16\n"
     ]
    },
    {
     "name": "stderr",
     "output_type": "stream",
     "text": [
      "100%|█████████████████████████████████████████████████████████████████████████████████████████████████| 500/500 [00:00<00:00, 572.24it/s]\n"
     ]
    },
    {
     "name": "stdout",
     "output_type": "stream",
     "text": [
      "SA Experiment Number: 17\n"
     ]
    },
    {
     "name": "stderr",
     "output_type": "stream",
     "text": [
      "100%|█████████████████████████████████████████████████████████████████████████████████████████████████| 500/500 [00:00<00:00, 579.87it/s]\n"
     ]
    },
    {
     "name": "stdout",
     "output_type": "stream",
     "text": [
      "SA Experiment Number: 18\n"
     ]
    },
    {
     "name": "stderr",
     "output_type": "stream",
     "text": [
      "100%|█████████████████████████████████████████████████████████████████████████████████████████████████| 500/500 [00:00<00:00, 574.92it/s]\n"
     ]
    },
    {
     "name": "stdout",
     "output_type": "stream",
     "text": [
      "SA Experiment Number: 19\n"
     ]
    },
    {
     "name": "stderr",
     "output_type": "stream",
     "text": [
      "100%|█████████████████████████████████████████████████████████████████████████████████████████████████| 500/500 [00:00<00:00, 582.13it/s]\n"
     ]
    },
    {
     "name": "stdout",
     "output_type": "stream",
     "text": [
      "SA Experiment Number: 20\n"
     ]
    },
    {
     "name": "stderr",
     "output_type": "stream",
     "text": [
      "100%|█████████████████████████████████████████████████████████████████████████████████████████████████| 500/500 [00:00<00:00, 573.00it/s]\n"
     ]
    },
    {
     "name": "stdout",
     "output_type": "stream",
     "text": [
      "SA Experiment Number: 21\n"
     ]
    },
    {
     "name": "stderr",
     "output_type": "stream",
     "text": [
      "100%|█████████████████████████████████████████████████████████████████████████████████████████████████| 500/500 [00:00<00:00, 570.56it/s]\n"
     ]
    },
    {
     "name": "stdout",
     "output_type": "stream",
     "text": [
      "SA Experiment Number: 22\n"
     ]
    },
    {
     "name": "stderr",
     "output_type": "stream",
     "text": [
      "100%|█████████████████████████████████████████████████████████████████████████████████████████████████| 500/500 [00:00<00:00, 567.62it/s]\n"
     ]
    },
    {
     "name": "stdout",
     "output_type": "stream",
     "text": [
      "SA Experiment Number: 23\n"
     ]
    },
    {
     "name": "stderr",
     "output_type": "stream",
     "text": [
      "100%|█████████████████████████████████████████████████████████████████████████████████████████████████| 500/500 [00:00<00:00, 588.42it/s]\n"
     ]
    },
    {
     "name": "stdout",
     "output_type": "stream",
     "text": [
      "SA Experiment Number: 24\n"
     ]
    },
    {
     "name": "stderr",
     "output_type": "stream",
     "text": [
      "100%|█████████████████████████████████████████████████████████████████████████████████████████████████| 500/500 [00:00<00:00, 569.34it/s]\n"
     ]
    },
    {
     "name": "stdout",
     "output_type": "stream",
     "text": [
      "SA Experiment Number: 25\n"
     ]
    },
    {
     "name": "stderr",
     "output_type": "stream",
     "text": [
      "100%|█████████████████████████████████████████████████████████████████████████████████████████████████| 500/500 [00:00<00:00, 571.02it/s]\n"
     ]
    },
    {
     "name": "stdout",
     "output_type": "stream",
     "text": [
      "SA Experiment Number: 26\n"
     ]
    },
    {
     "name": "stderr",
     "output_type": "stream",
     "text": [
      "100%|█████████████████████████████████████████████████████████████████████████████████████████████████| 500/500 [00:00<00:00, 576.62it/s]\n"
     ]
    },
    {
     "name": "stdout",
     "output_type": "stream",
     "text": [
      "SA Experiment Number: 27\n"
     ]
    },
    {
     "name": "stderr",
     "output_type": "stream",
     "text": [
      "100%|█████████████████████████████████████████████████████████████████████████████████████████████████| 500/500 [00:00<00:00, 580.77it/s]\n"
     ]
    },
    {
     "name": "stdout",
     "output_type": "stream",
     "text": [
      "SA Experiment Number: 28\n"
     ]
    },
    {
     "name": "stderr",
     "output_type": "stream",
     "text": [
      "100%|█████████████████████████████████████████████████████████████████████████████████████████████████| 500/500 [00:00<00:00, 567.18it/s]\n"
     ]
    },
    {
     "name": "stdout",
     "output_type": "stream",
     "text": [
      "SA Experiment Number: 29\n"
     ]
    },
    {
     "name": "stderr",
     "output_type": "stream",
     "text": [
      "100%|█████████████████████████████████████████████████████████████████████████████████████████████████| 500/500 [00:00<00:00, 573.21it/s]\n"
     ]
    },
    {
     "name": "stdout",
     "output_type": "stream",
     "text": [
      "SA Mean Scores: 21114.383612547463\n",
      "SA Median Scores: 20707.322204662236\n",
      "SA STD Scores: 2260.199452756367\n",
      "SA Time: 0.9173672199249268\n",
      "Adaptive Simulated Annealing Concluded\n",
      "\n",
      "GA Experiment Number: 0\n"
     ]
    },
    {
     "name": "stderr",
     "output_type": "stream",
     "text": [
      "100%|██████████████████████████████████████████████████████████████████████████████████████████████████| 500/500 [00:23<00:00, 21.58it/s]\n"
     ]
    },
    {
     "name": "stdout",
     "output_type": "stream",
     "text": [
      "GA Experiment Number: 1\n"
     ]
    },
    {
     "name": "stderr",
     "output_type": "stream",
     "text": [
      "100%|██████████████████████████████████████████████████████████████████████████████████████████████████| 500/500 [00:22<00:00, 21.77it/s]\n"
     ]
    },
    {
     "name": "stdout",
     "output_type": "stream",
     "text": [
      "GA Experiment Number: 2\n"
     ]
    },
    {
     "name": "stderr",
     "output_type": "stream",
     "text": [
      "100%|██████████████████████████████████████████████████████████████████████████████████████████████████| 500/500 [00:23<00:00, 21.25it/s]\n"
     ]
    },
    {
     "name": "stdout",
     "output_type": "stream",
     "text": [
      "GA Experiment Number: 3\n"
     ]
    },
    {
     "name": "stderr",
     "output_type": "stream",
     "text": [
      "100%|██████████████████████████████████████████████████████████████████████████████████████████████████| 500/500 [00:23<00:00, 21.42it/s]\n"
     ]
    },
    {
     "name": "stdout",
     "output_type": "stream",
     "text": [
      "GA Experiment Number: 4\n"
     ]
    },
    {
     "name": "stderr",
     "output_type": "stream",
     "text": [
      "100%|██████████████████████████████████████████████████████████████████████████████████████████████████| 500/500 [00:23<00:00, 21.01it/s]\n"
     ]
    },
    {
     "name": "stdout",
     "output_type": "stream",
     "text": [
      "GA Experiment Number: 5\n"
     ]
    },
    {
     "name": "stderr",
     "output_type": "stream",
     "text": [
      "100%|██████████████████████████████████████████████████████████████████████████████████████████████████| 500/500 [00:23<00:00, 21.18it/s]\n"
     ]
    },
    {
     "name": "stdout",
     "output_type": "stream",
     "text": [
      "GA Experiment Number: 6\n"
     ]
    },
    {
     "name": "stderr",
     "output_type": "stream",
     "text": [
      "100%|██████████████████████████████████████████████████████████████████████████████████████████████████| 500/500 [00:23<00:00, 21.35it/s]\n"
     ]
    },
    {
     "name": "stdout",
     "output_type": "stream",
     "text": [
      "GA Experiment Number: 7\n"
     ]
    },
    {
     "name": "stderr",
     "output_type": "stream",
     "text": [
      "100%|██████████████████████████████████████████████████████████████████████████████████████████████████| 500/500 [00:23<00:00, 21.49it/s]\n"
     ]
    },
    {
     "name": "stdout",
     "output_type": "stream",
     "text": [
      "GA Experiment Number: 8\n"
     ]
    },
    {
     "name": "stderr",
     "output_type": "stream",
     "text": [
      "100%|██████████████████████████████████████████████████████████████████████████████████████████████████| 500/500 [00:23<00:00, 21.38it/s]\n"
     ]
    },
    {
     "name": "stdout",
     "output_type": "stream",
     "text": [
      "GA Experiment Number: 9\n"
     ]
    },
    {
     "name": "stderr",
     "output_type": "stream",
     "text": [
      "100%|██████████████████████████████████████████████████████████████████████████████████████████████████| 500/500 [00:23<00:00, 21.04it/s]\n"
     ]
    },
    {
     "name": "stdout",
     "output_type": "stream",
     "text": [
      "GA Experiment Number: 10\n"
     ]
    },
    {
     "name": "stderr",
     "output_type": "stream",
     "text": [
      "100%|██████████████████████████████████████████████████████████████████████████████████████████████████| 500/500 [00:23<00:00, 21.52it/s]\n"
     ]
    },
    {
     "name": "stdout",
     "output_type": "stream",
     "text": [
      "GA Experiment Number: 11\n"
     ]
    },
    {
     "name": "stderr",
     "output_type": "stream",
     "text": [
      "100%|██████████████████████████████████████████████████████████████████████████████████████████████████| 500/500 [00:23<00:00, 21.66it/s]\n"
     ]
    },
    {
     "name": "stdout",
     "output_type": "stream",
     "text": [
      "GA Experiment Number: 12\n"
     ]
    },
    {
     "name": "stderr",
     "output_type": "stream",
     "text": [
      "100%|██████████████████████████████████████████████████████████████████████████████████████████████████| 500/500 [00:23<00:00, 21.27it/s]\n"
     ]
    },
    {
     "name": "stdout",
     "output_type": "stream",
     "text": [
      "GA Experiment Number: 13\n"
     ]
    },
    {
     "name": "stderr",
     "output_type": "stream",
     "text": [
      "100%|██████████████████████████████████████████████████████████████████████████████████████████████████| 500/500 [00:23<00:00, 21.42it/s]\n"
     ]
    },
    {
     "name": "stdout",
     "output_type": "stream",
     "text": [
      "GA Experiment Number: 14\n"
     ]
    },
    {
     "name": "stderr",
     "output_type": "stream",
     "text": [
      "100%|██████████████████████████████████████████████████████████████████████████████████████████████████| 500/500 [00:23<00:00, 21.37it/s]\n"
     ]
    },
    {
     "name": "stdout",
     "output_type": "stream",
     "text": [
      "GA Experiment Number: 15\n"
     ]
    },
    {
     "name": "stderr",
     "output_type": "stream",
     "text": [
      "100%|██████████████████████████████████████████████████████████████████████████████████████████████████| 500/500 [00:23<00:00, 21.60it/s]\n"
     ]
    },
    {
     "name": "stdout",
     "output_type": "stream",
     "text": [
      "GA Experiment Number: 16\n"
     ]
    },
    {
     "name": "stderr",
     "output_type": "stream",
     "text": [
      "100%|██████████████████████████████████████████████████████████████████████████████████████████████████| 500/500 [00:23<00:00, 21.05it/s]\n"
     ]
    },
    {
     "name": "stdout",
     "output_type": "stream",
     "text": [
      "GA Experiment Number: 17\n"
     ]
    },
    {
     "name": "stderr",
     "output_type": "stream",
     "text": [
      "100%|██████████████████████████████████████████████████████████████████████████████████████████████████| 500/500 [00:23<00:00, 21.30it/s]\n"
     ]
    },
    {
     "name": "stdout",
     "output_type": "stream",
     "text": [
      "GA Experiment Number: 18\n"
     ]
    },
    {
     "name": "stderr",
     "output_type": "stream",
     "text": [
      "100%|██████████████████████████████████████████████████████████████████████████████████████████████████| 500/500 [00:23<00:00, 21.45it/s]\n"
     ]
    },
    {
     "name": "stdout",
     "output_type": "stream",
     "text": [
      "GA Experiment Number: 19\n"
     ]
    },
    {
     "name": "stderr",
     "output_type": "stream",
     "text": [
      "100%|██████████████████████████████████████████████████████████████████████████████████████████████████| 500/500 [00:23<00:00, 21.36it/s]\n"
     ]
    },
    {
     "name": "stdout",
     "output_type": "stream",
     "text": [
      "GA Experiment Number: 20\n"
     ]
    },
    {
     "name": "stderr",
     "output_type": "stream",
     "text": [
      "100%|██████████████████████████████████████████████████████████████████████████████████████████████████| 500/500 [00:23<00:00, 21.49it/s]\n"
     ]
    },
    {
     "name": "stdout",
     "output_type": "stream",
     "text": [
      "GA Experiment Number: 21\n"
     ]
    },
    {
     "name": "stderr",
     "output_type": "stream",
     "text": [
      "100%|██████████████████████████████████████████████████████████████████████████████████████████████████| 500/500 [00:23<00:00, 21.48it/s]\n"
     ]
    },
    {
     "name": "stdout",
     "output_type": "stream",
     "text": [
      "GA Experiment Number: 22\n"
     ]
    },
    {
     "name": "stderr",
     "output_type": "stream",
     "text": [
      "100%|██████████████████████████████████████████████████████████████████████████████████████████████████| 500/500 [00:23<00:00, 21.48it/s]\n"
     ]
    },
    {
     "name": "stdout",
     "output_type": "stream",
     "text": [
      "GA Experiment Number: 23\n"
     ]
    },
    {
     "name": "stderr",
     "output_type": "stream",
     "text": [
      "100%|██████████████████████████████████████████████████████████████████████████████████████████████████| 500/500 [00:23<00:00, 21.16it/s]\n"
     ]
    },
    {
     "name": "stdout",
     "output_type": "stream",
     "text": [
      "GA Experiment Number: 24\n"
     ]
    },
    {
     "name": "stderr",
     "output_type": "stream",
     "text": [
      "100%|██████████████████████████████████████████████████████████████████████████████████████████████████| 500/500 [00:23<00:00, 21.70it/s]\n"
     ]
    },
    {
     "name": "stdout",
     "output_type": "stream",
     "text": [
      "GA Experiment Number: 25\n"
     ]
    },
    {
     "name": "stderr",
     "output_type": "stream",
     "text": [
      "100%|██████████████████████████████████████████████████████████████████████████████████████████████████| 500/500 [00:23<00:00, 21.31it/s]\n"
     ]
    },
    {
     "name": "stdout",
     "output_type": "stream",
     "text": [
      "GA Experiment Number: 26\n"
     ]
    },
    {
     "name": "stderr",
     "output_type": "stream",
     "text": [
      "100%|██████████████████████████████████████████████████████████████████████████████████████████████████| 500/500 [00:23<00:00, 21.29it/s]\n"
     ]
    },
    {
     "name": "stdout",
     "output_type": "stream",
     "text": [
      "GA Experiment Number: 27\n"
     ]
    },
    {
     "name": "stderr",
     "output_type": "stream",
     "text": [
      "100%|██████████████████████████████████████████████████████████████████████████████████████████████████| 500/500 [00:23<00:00, 21.53it/s]\n"
     ]
    },
    {
     "name": "stdout",
     "output_type": "stream",
     "text": [
      "GA Experiment Number: 28\n"
     ]
    },
    {
     "name": "stderr",
     "output_type": "stream",
     "text": [
      "100%|██████████████████████████████████████████████████████████████████████████████████████████████████| 500/500 [00:23<00:00, 21.72it/s]\n"
     ]
    },
    {
     "name": "stdout",
     "output_type": "stream",
     "text": [
      "GA Experiment Number: 29\n"
     ]
    },
    {
     "name": "stderr",
     "output_type": "stream",
     "text": [
      "100%|██████████████████████████████████████████████████████████████████████████████████████████████████| 500/500 [00:23<00:00, 21.38it/s]\n"
     ]
    },
    {
     "name": "stdout",
     "output_type": "stream",
     "text": [
      "GA Mean Scores: 18761.469659812545\n",
      "GA Median Scores: 18581.877257347853\n",
      "GA STD Scores: 576.2345744092312\n",
      "GA Time: 23.36894965171814\n",
      "Genetic Algorithm Concluded\n",
      "\n",
      "GA Experiment Number: 0\n"
     ]
    },
    {
     "name": "stderr",
     "output_type": "stream",
     "text": [
      "100%|██████████████████████████████████████████████████████████████████████████████████████████████████| 500/500 [00:21<00:00, 23.79it/s]\n"
     ]
    },
    {
     "name": "stdout",
     "output_type": "stream",
     "text": [
      "GA Experiment Number: 1\n"
     ]
    },
    {
     "name": "stderr",
     "output_type": "stream",
     "text": [
      "100%|██████████████████████████████████████████████████████████████████████████████████████████████████| 500/500 [00:21<00:00, 23.81it/s]\n"
     ]
    },
    {
     "name": "stdout",
     "output_type": "stream",
     "text": [
      "GA Experiment Number: 2\n"
     ]
    },
    {
     "name": "stderr",
     "output_type": "stream",
     "text": [
      "100%|██████████████████████████████████████████████████████████████████████████████████████████████████| 500/500 [00:20<00:00, 24.17it/s]\n"
     ]
    },
    {
     "name": "stdout",
     "output_type": "stream",
     "text": [
      "GA Experiment Number: 3\n"
     ]
    },
    {
     "name": "stderr",
     "output_type": "stream",
     "text": [
      "100%|██████████████████████████████████████████████████████████████████████████████████████████████████| 500/500 [00:21<00:00, 23.71it/s]\n"
     ]
    },
    {
     "name": "stdout",
     "output_type": "stream",
     "text": [
      "GA Experiment Number: 4\n"
     ]
    },
    {
     "name": "stderr",
     "output_type": "stream",
     "text": [
      "100%|██████████████████████████████████████████████████████████████████████████████████████████████████| 500/500 [00:21<00:00, 23.80it/s]\n"
     ]
    },
    {
     "name": "stdout",
     "output_type": "stream",
     "text": [
      "GA Experiment Number: 5\n"
     ]
    },
    {
     "name": "stderr",
     "output_type": "stream",
     "text": [
      "100%|██████████████████████████████████████████████████████████████████████████████████████████████████| 500/500 [00:20<00:00, 23.92it/s]\n"
     ]
    },
    {
     "name": "stdout",
     "output_type": "stream",
     "text": [
      "GA Experiment Number: 6\n"
     ]
    },
    {
     "name": "stderr",
     "output_type": "stream",
     "text": [
      "100%|██████████████████████████████████████████████████████████████████████████████████████████████████| 500/500 [00:20<00:00, 23.88it/s]\n"
     ]
    },
    {
     "name": "stdout",
     "output_type": "stream",
     "text": [
      "GA Experiment Number: 7\n"
     ]
    },
    {
     "name": "stderr",
     "output_type": "stream",
     "text": [
      "100%|██████████████████████████████████████████████████████████████████████████████████████████████████| 500/500 [00:21<00:00, 23.57it/s]\n"
     ]
    },
    {
     "name": "stdout",
     "output_type": "stream",
     "text": [
      "GA Experiment Number: 8\n"
     ]
    },
    {
     "name": "stderr",
     "output_type": "stream",
     "text": [
      "100%|██████████████████████████████████████████████████████████████████████████████████████████████████| 500/500 [00:20<00:00, 23.82it/s]\n"
     ]
    },
    {
     "name": "stdout",
     "output_type": "stream",
     "text": [
      "GA Experiment Number: 9\n"
     ]
    },
    {
     "name": "stderr",
     "output_type": "stream",
     "text": [
      "100%|██████████████████████████████████████████████████████████████████████████████████████████████████| 500/500 [00:20<00:00, 24.08it/s]\n"
     ]
    },
    {
     "name": "stdout",
     "output_type": "stream",
     "text": [
      "GA Experiment Number: 10\n"
     ]
    },
    {
     "name": "stderr",
     "output_type": "stream",
     "text": [
      "100%|██████████████████████████████████████████████████████████████████████████████████████████████████| 500/500 [00:20<00:00, 24.50it/s]\n"
     ]
    },
    {
     "name": "stdout",
     "output_type": "stream",
     "text": [
      "GA Experiment Number: 11\n"
     ]
    },
    {
     "name": "stderr",
     "output_type": "stream",
     "text": [
      "100%|██████████████████████████████████████████████████████████████████████████████████████████████████| 500/500 [00:21<00:00, 23.43it/s]\n"
     ]
    },
    {
     "name": "stdout",
     "output_type": "stream",
     "text": [
      "GA Experiment Number: 12\n"
     ]
    },
    {
     "name": "stderr",
     "output_type": "stream",
     "text": [
      "100%|██████████████████████████████████████████████████████████████████████████████████████████████████| 500/500 [00:21<00:00, 23.58it/s]\n"
     ]
    },
    {
     "name": "stdout",
     "output_type": "stream",
     "text": [
      "GA Experiment Number: 13\n"
     ]
    },
    {
     "name": "stderr",
     "output_type": "stream",
     "text": [
      "100%|██████████████████████████████████████████████████████████████████████████████████████████████████| 500/500 [00:20<00:00, 24.31it/s]\n"
     ]
    },
    {
     "name": "stdout",
     "output_type": "stream",
     "text": [
      "GA Experiment Number: 14\n"
     ]
    },
    {
     "name": "stderr",
     "output_type": "stream",
     "text": [
      "100%|██████████████████████████████████████████████████████████████████████████████████████████████████| 500/500 [00:20<00:00, 23.89it/s]\n"
     ]
    },
    {
     "name": "stdout",
     "output_type": "stream",
     "text": [
      "GA Experiment Number: 15\n"
     ]
    },
    {
     "name": "stderr",
     "output_type": "stream",
     "text": [
      "100%|██████████████████████████████████████████████████████████████████████████████████████████████████| 500/500 [00:20<00:00, 24.21it/s]\n"
     ]
    },
    {
     "name": "stdout",
     "output_type": "stream",
     "text": [
      "GA Experiment Number: 16\n"
     ]
    },
    {
     "name": "stderr",
     "output_type": "stream",
     "text": [
      "100%|██████████████████████████████████████████████████████████████████████████████████████████████████| 500/500 [00:20<00:00, 23.92it/s]\n"
     ]
    },
    {
     "name": "stdout",
     "output_type": "stream",
     "text": [
      "GA Experiment Number: 17\n"
     ]
    },
    {
     "name": "stderr",
     "output_type": "stream",
     "text": [
      "100%|██████████████████████████████████████████████████████████████████████████████████████████████████| 500/500 [00:20<00:00, 24.19it/s]\n"
     ]
    },
    {
     "name": "stdout",
     "output_type": "stream",
     "text": [
      "GA Experiment Number: 18\n"
     ]
    },
    {
     "name": "stderr",
     "output_type": "stream",
     "text": [
      "100%|██████████████████████████████████████████████████████████████████████████████████████████████████| 500/500 [00:20<00:00, 24.26it/s]\n"
     ]
    },
    {
     "name": "stdout",
     "output_type": "stream",
     "text": [
      "GA Experiment Number: 19\n"
     ]
    },
    {
     "name": "stderr",
     "output_type": "stream",
     "text": [
      "100%|██████████████████████████████████████████████████████████████████████████████████████████████████| 500/500 [00:20<00:00, 24.39it/s]\n"
     ]
    },
    {
     "name": "stdout",
     "output_type": "stream",
     "text": [
      "GA Experiment Number: 20\n"
     ]
    },
    {
     "name": "stderr",
     "output_type": "stream",
     "text": [
      "100%|██████████████████████████████████████████████████████████████████████████████████████████████████| 500/500 [00:20<00:00, 24.07it/s]\n"
     ]
    },
    {
     "name": "stdout",
     "output_type": "stream",
     "text": [
      "GA Experiment Number: 21\n"
     ]
    },
    {
     "name": "stderr",
     "output_type": "stream",
     "text": [
      "100%|██████████████████████████████████████████████████████████████████████████████████████████████████| 500/500 [00:20<00:00, 23.95it/s]\n"
     ]
    },
    {
     "name": "stdout",
     "output_type": "stream",
     "text": [
      "GA Experiment Number: 22\n"
     ]
    },
    {
     "name": "stderr",
     "output_type": "stream",
     "text": [
      "100%|██████████████████████████████████████████████████████████████████████████████████████████████████| 500/500 [00:20<00:00, 24.38it/s]\n"
     ]
    },
    {
     "name": "stdout",
     "output_type": "stream",
     "text": [
      "GA Experiment Number: 23\n"
     ]
    },
    {
     "name": "stderr",
     "output_type": "stream",
     "text": [
      "100%|██████████████████████████████████████████████████████████████████████████████████████████████████| 500/500 [00:20<00:00, 24.70it/s]\n"
     ]
    },
    {
     "name": "stdout",
     "output_type": "stream",
     "text": [
      "GA Experiment Number: 24\n"
     ]
    },
    {
     "name": "stderr",
     "output_type": "stream",
     "text": [
      "100%|██████████████████████████████████████████████████████████████████████████████████████████████████| 500/500 [00:20<00:00, 24.11it/s]\n"
     ]
    },
    {
     "name": "stdout",
     "output_type": "stream",
     "text": [
      "GA Experiment Number: 25\n"
     ]
    },
    {
     "name": "stderr",
     "output_type": "stream",
     "text": [
      "100%|██████████████████████████████████████████████████████████████████████████████████████████████████| 500/500 [00:20<00:00, 24.88it/s]\n"
     ]
    },
    {
     "name": "stdout",
     "output_type": "stream",
     "text": [
      "GA Experiment Number: 26\n"
     ]
    },
    {
     "name": "stderr",
     "output_type": "stream",
     "text": [
      "100%|██████████████████████████████████████████████████████████████████████████████████████████████████| 500/500 [00:20<00:00, 24.18it/s]\n"
     ]
    },
    {
     "name": "stdout",
     "output_type": "stream",
     "text": [
      "GA Experiment Number: 27\n"
     ]
    },
    {
     "name": "stderr",
     "output_type": "stream",
     "text": [
      "100%|██████████████████████████████████████████████████████████████████████████████████████████████████| 500/500 [00:20<00:00, 24.26it/s]\n"
     ]
    },
    {
     "name": "stdout",
     "output_type": "stream",
     "text": [
      "GA Experiment Number: 28\n"
     ]
    },
    {
     "name": "stderr",
     "output_type": "stream",
     "text": [
      "100%|██████████████████████████████████████████████████████████████████████████████████████████████████| 500/500 [00:20<00:00, 24.26it/s]\n"
     ]
    },
    {
     "name": "stdout",
     "output_type": "stream",
     "text": [
      "GA Experiment Number: 29\n"
     ]
    },
    {
     "name": "stderr",
     "output_type": "stream",
     "text": [
      "100%|██████████████████████████████████████████████████████████████████████████████████████████████████| 500/500 [00:20<00:00, 24.18it/s]\n"
     ]
    },
    {
     "name": "stdout",
     "output_type": "stream",
     "text": [
      "GA Mean Scores: 18837.650919058106\n",
      "GA Median Scores: 19050.183168180574\n",
      "GA STD Scores: 624.2635109160615\n",
      "GA Time: 20.754490971565247\n",
      "Adaptive Genetic Algorithm Concluded\n",
      "\n",
      "GW Experiment Number: 0\n"
     ]
    },
    {
     "name": "stderr",
     "output_type": "stream",
     "text": [
      "100%|██████████████████████████████████████████████████████████████████████████████████████████████████| 500/500 [00:05<00:00, 93.24it/s]\n"
     ]
    },
    {
     "name": "stdout",
     "output_type": "stream",
     "text": [
      "GW Experiment Number: 1\n"
     ]
    },
    {
     "name": "stderr",
     "output_type": "stream",
     "text": [
      "100%|██████████████████████████████████████████████████████████████████████████████████████████████████| 500/500 [00:05<00:00, 93.15it/s]\n"
     ]
    },
    {
     "name": "stdout",
     "output_type": "stream",
     "text": [
      "GW Experiment Number: 2\n"
     ]
    },
    {
     "name": "stderr",
     "output_type": "stream",
     "text": [
      "100%|██████████████████████████████████████████████████████████████████████████████████████████████████| 500/500 [00:05<00:00, 93.21it/s]\n"
     ]
    },
    {
     "name": "stdout",
     "output_type": "stream",
     "text": [
      "GW Experiment Number: 3\n"
     ]
    },
    {
     "name": "stderr",
     "output_type": "stream",
     "text": [
      "100%|██████████████████████████████████████████████████████████████████████████████████████████████████| 500/500 [00:05<00:00, 92.88it/s]\n"
     ]
    },
    {
     "name": "stdout",
     "output_type": "stream",
     "text": [
      "GW Experiment Number: 4\n"
     ]
    },
    {
     "name": "stderr",
     "output_type": "stream",
     "text": [
      "100%|██████████████████████████████████████████████████████████████████████████████████████████████████| 500/500 [00:05<00:00, 93.09it/s]\n"
     ]
    },
    {
     "name": "stdout",
     "output_type": "stream",
     "text": [
      "GW Experiment Number: 5\n"
     ]
    },
    {
     "name": "stderr",
     "output_type": "stream",
     "text": [
      "100%|██████████████████████████████████████████████████████████████████████████████████████████████████| 500/500 [00:05<00:00, 93.18it/s]\n"
     ]
    },
    {
     "name": "stdout",
     "output_type": "stream",
     "text": [
      "GW Experiment Number: 6\n"
     ]
    },
    {
     "name": "stderr",
     "output_type": "stream",
     "text": [
      "100%|██████████████████████████████████████████████████████████████████████████████████████████████████| 500/500 [00:05<00:00, 92.70it/s]\n"
     ]
    },
    {
     "name": "stdout",
     "output_type": "stream",
     "text": [
      "GW Experiment Number: 7\n"
     ]
    },
    {
     "name": "stderr",
     "output_type": "stream",
     "text": [
      "100%|██████████████████████████████████████████████████████████████████████████████████████████████████| 500/500 [00:05<00:00, 91.74it/s]\n"
     ]
    },
    {
     "name": "stdout",
     "output_type": "stream",
     "text": [
      "GW Experiment Number: 8\n"
     ]
    },
    {
     "name": "stderr",
     "output_type": "stream",
     "text": [
      "100%|██████████████████████████████████████████████████████████████████████████████████████████████████| 500/500 [00:05<00:00, 91.25it/s]\n"
     ]
    },
    {
     "name": "stdout",
     "output_type": "stream",
     "text": [
      "GW Experiment Number: 9\n"
     ]
    },
    {
     "name": "stderr",
     "output_type": "stream",
     "text": [
      "100%|██████████████████████████████████████████████████████████████████████████████████████████████████| 500/500 [00:05<00:00, 90.95it/s]\n"
     ]
    },
    {
     "name": "stdout",
     "output_type": "stream",
     "text": [
      "GW Experiment Number: 10\n"
     ]
    },
    {
     "name": "stderr",
     "output_type": "stream",
     "text": [
      "100%|██████████████████████████████████████████████████████████████████████████████████████████████████| 500/500 [00:05<00:00, 91.11it/s]\n"
     ]
    },
    {
     "name": "stdout",
     "output_type": "stream",
     "text": [
      "GW Experiment Number: 11\n"
     ]
    },
    {
     "name": "stderr",
     "output_type": "stream",
     "text": [
      "100%|██████████████████████████████████████████████████████████████████████████████████████████████████| 500/500 [00:05<00:00, 91.45it/s]\n"
     ]
    },
    {
     "name": "stdout",
     "output_type": "stream",
     "text": [
      "GW Experiment Number: 12\n"
     ]
    },
    {
     "name": "stderr",
     "output_type": "stream",
     "text": [
      "100%|██████████████████████████████████████████████████████████████████████████████████████████████████| 500/500 [00:05<00:00, 92.50it/s]\n"
     ]
    },
    {
     "name": "stdout",
     "output_type": "stream",
     "text": [
      "GW Experiment Number: 13\n"
     ]
    },
    {
     "name": "stderr",
     "output_type": "stream",
     "text": [
      "100%|██████████████████████████████████████████████████████████████████████████████████████████████████| 500/500 [00:05<00:00, 93.21it/s]\n"
     ]
    },
    {
     "name": "stdout",
     "output_type": "stream",
     "text": [
      "GW Experiment Number: 14\n"
     ]
    },
    {
     "name": "stderr",
     "output_type": "stream",
     "text": [
      "100%|██████████████████████████████████████████████████████████████████████████████████████████████████| 500/500 [00:05<00:00, 92.65it/s]\n"
     ]
    },
    {
     "name": "stdout",
     "output_type": "stream",
     "text": [
      "GW Experiment Number: 15\n"
     ]
    },
    {
     "name": "stderr",
     "output_type": "stream",
     "text": [
      "100%|██████████████████████████████████████████████████████████████████████████████████████████████████| 500/500 [00:05<00:00, 90.67it/s]\n"
     ]
    },
    {
     "name": "stdout",
     "output_type": "stream",
     "text": [
      "GW Experiment Number: 16\n"
     ]
    },
    {
     "name": "stderr",
     "output_type": "stream",
     "text": [
      "100%|██████████████████████████████████████████████████████████████████████████████████████████████████| 500/500 [00:05<00:00, 90.24it/s]\n"
     ]
    },
    {
     "name": "stdout",
     "output_type": "stream",
     "text": [
      "GW Experiment Number: 17\n"
     ]
    },
    {
     "name": "stderr",
     "output_type": "stream",
     "text": [
      "100%|██████████████████████████████████████████████████████████████████████████████████████████████████| 500/500 [00:05<00:00, 90.32it/s]\n"
     ]
    },
    {
     "name": "stdout",
     "output_type": "stream",
     "text": [
      "GW Experiment Number: 18\n"
     ]
    },
    {
     "name": "stderr",
     "output_type": "stream",
     "text": [
      "100%|██████████████████████████████████████████████████████████████████████████████████████████████████| 500/500 [00:05<00:00, 89.18it/s]\n"
     ]
    },
    {
     "name": "stdout",
     "output_type": "stream",
     "text": [
      "GW Experiment Number: 19\n"
     ]
    },
    {
     "name": "stderr",
     "output_type": "stream",
     "text": [
      "100%|██████████████████████████████████████████████████████████████████████████████████████████████████| 500/500 [00:05<00:00, 89.37it/s]\n"
     ]
    },
    {
     "name": "stdout",
     "output_type": "stream",
     "text": [
      "GW Experiment Number: 20\n"
     ]
    },
    {
     "name": "stderr",
     "output_type": "stream",
     "text": [
      "100%|██████████████████████████████████████████████████████████████████████████████████████████████████| 500/500 [00:05<00:00, 90.36it/s]\n"
     ]
    },
    {
     "name": "stdout",
     "output_type": "stream",
     "text": [
      "GW Experiment Number: 21\n"
     ]
    },
    {
     "name": "stderr",
     "output_type": "stream",
     "text": [
      "100%|██████████████████████████████████████████████████████████████████████████████████████████████████| 500/500 [00:05<00:00, 89.38it/s]\n"
     ]
    },
    {
     "name": "stdout",
     "output_type": "stream",
     "text": [
      "GW Experiment Number: 22\n"
     ]
    },
    {
     "name": "stderr",
     "output_type": "stream",
     "text": [
      "100%|██████████████████████████████████████████████████████████████████████████████████████████████████| 500/500 [00:05<00:00, 89.91it/s]\n"
     ]
    },
    {
     "name": "stdout",
     "output_type": "stream",
     "text": [
      "GW Experiment Number: 23\n"
     ]
    },
    {
     "name": "stderr",
     "output_type": "stream",
     "text": [
      "100%|██████████████████████████████████████████████████████████████████████████████████████████████████| 500/500 [00:05<00:00, 90.58it/s]\n"
     ]
    },
    {
     "name": "stdout",
     "output_type": "stream",
     "text": [
      "GW Experiment Number: 24\n"
     ]
    },
    {
     "name": "stderr",
     "output_type": "stream",
     "text": [
      "100%|██████████████████████████████████████████████████████████████████████████████████████████████████| 500/500 [00:05<00:00, 90.83it/s]\n"
     ]
    },
    {
     "name": "stdout",
     "output_type": "stream",
     "text": [
      "GW Experiment Number: 25\n"
     ]
    },
    {
     "name": "stderr",
     "output_type": "stream",
     "text": [
      "100%|██████████████████████████████████████████████████████████████████████████████████████████████████| 500/500 [00:05<00:00, 90.76it/s]\n"
     ]
    },
    {
     "name": "stdout",
     "output_type": "stream",
     "text": [
      "GW Experiment Number: 26\n"
     ]
    },
    {
     "name": "stderr",
     "output_type": "stream",
     "text": [
      "100%|██████████████████████████████████████████████████████████████████████████████████████████████████| 500/500 [00:05<00:00, 90.29it/s]\n"
     ]
    },
    {
     "name": "stdout",
     "output_type": "stream",
     "text": [
      "GW Experiment Number: 27\n"
     ]
    },
    {
     "name": "stderr",
     "output_type": "stream",
     "text": [
      "100%|██████████████████████████████████████████████████████████████████████████████████████████████████| 500/500 [00:05<00:00, 87.01it/s]\n"
     ]
    },
    {
     "name": "stdout",
     "output_type": "stream",
     "text": [
      "GW Experiment Number: 28\n"
     ]
    },
    {
     "name": "stderr",
     "output_type": "stream",
     "text": [
      "100%|██████████████████████████████████████████████████████████████████████████████████████████████████| 500/500 [00:05<00:00, 87.51it/s]\n"
     ]
    },
    {
     "name": "stdout",
     "output_type": "stream",
     "text": [
      "GW Experiment Number: 29\n"
     ]
    },
    {
     "name": "stderr",
     "output_type": "stream",
     "text": [
      "100%|██████████████████████████████████████████████████████████████████████████████████████████████████| 500/500 [00:05<00:00, 90.41it/s]"
     ]
    },
    {
     "name": "stdout",
     "output_type": "stream",
     "text": [
      "GW Mean Scores: 19034.033333333333\n",
      "GW Median Scores: 19245.75\n",
      "GW STD Scores: 803.2146745007421\n",
      "GW Time: 5.507001996040344\n",
      "Grey Wolf Algorithm Concluded\n",
      "\n"
     ]
    },
    {
     "name": "stderr",
     "output_type": "stream",
     "text": [
      "\n"
     ]
    }
   ],
   "source": [
    "search_iterations = 500\n",
    "batch_size = 30\n",
    "batchSA(drivers, riders, graph, eval_obj, search_iterations, batch_size, adaptive=False)\n",
    "print('Simulated Annealing Concluded\\n')\n",
    "batchSA(drivers, riders, graph, eval_obj, search_iterations, batch_size, adaptive=True)\n",
    "print('Adaptive Simulated Annealing Concluded\\n')\n",
    "batchGA(drivers, riders, graph, eval_obj, initial_pop_size=ga_population, iterations=search_iterations, \n",
    "        batch_size=batch_size, adaptive=False)\n",
    "print('Genetic Algorithm Concluded\\n')\n",
    "batchGA(drivers, riders, graph, eval_obj, initial_pop_size=ga_population, iterations=search_iterations, \n",
    "        batch_size=batch_size, adaptive=True)\n",
    "print('Adaptive Genetic Algorithm Concluded\\n')\n",
    "batchGW(drivers, riders, graph, eval_obj, pack_size=pack_size, max_hunt_range=max_hunt_range, iterations=search_iterations, batch_size=batch_size)\n",
    "print('Grey Wolf Algorithm Concluded\\n')"
   ]
  },
  {
   "cell_type": "markdown",
   "metadata": {},
   "source": [
    "#### Large dataset"
   ]
  },
  {
   "cell_type": "code",
   "execution_count": 36,
   "metadata": {},
   "outputs": [
    {
     "name": "stdout",
     "output_type": "stream",
     "text": [
      "samples time=95.6382064819336\n",
      "Distance matrix time=323.9270508289337\n"
     ]
    }
   ],
   "source": [
    "# large set sampling and distance computation\n",
    "radius, num_drivers, num_riders, ga_population, pack_size, max_hunt_range = set_experiment_parameters(small_set=False)\n",
    "# sample\n",
    "random.seed(10)\n",
    "start = time.time()\n",
    "drivers, riders, graph = sampler.get_samples(\n",
    "        num_drivers, num_riders, radius=radius, midpoint=dt_midpoint, return_graph=True)\n",
    "end = time.time()\n",
    "print(\"samples time={}\".format(end - start))\n",
    "# compute distance matrix\n",
    "start = time.time()\n",
    "eval_obj = DeadHeadingProblemEvaluation(graph, drivers, riders)\n",
    "end = time.time()\n",
    "print(\"Distance matrix time={}\".format(end - start))"
   ]
  },
  {
   "cell_type": "code",
   "execution_count": 38,
   "metadata": {},
   "outputs": [
    {
     "name": "stdout",
     "output_type": "stream",
     "text": [
      "SA Experiment Number: 0\n"
     ]
    },
    {
     "name": "stderr",
     "output_type": "stream",
     "text": [
      "100%|█████████████████████████████████████████████████████████████████████████████████████████████████| 500/500 [00:01<00:00, 333.91it/s]\n"
     ]
    },
    {
     "name": "stdout",
     "output_type": "stream",
     "text": [
      "SA Experiment Number: 1\n"
     ]
    },
    {
     "name": "stderr",
     "output_type": "stream",
     "text": [
      "100%|█████████████████████████████████████████████████████████████████████████████████████████████████| 500/500 [00:01<00:00, 331.20it/s]\n"
     ]
    },
    {
     "name": "stdout",
     "output_type": "stream",
     "text": [
      "SA Experiment Number: 2\n"
     ]
    },
    {
     "name": "stderr",
     "output_type": "stream",
     "text": [
      "100%|█████████████████████████████████████████████████████████████████████████████████████████████████| 500/500 [00:01<00:00, 330.83it/s]\n"
     ]
    },
    {
     "name": "stdout",
     "output_type": "stream",
     "text": [
      "SA Experiment Number: 3\n"
     ]
    },
    {
     "name": "stderr",
     "output_type": "stream",
     "text": [
      "100%|█████████████████████████████████████████████████████████████████████████████████████████████████| 500/500 [00:01<00:00, 332.53it/s]\n"
     ]
    },
    {
     "name": "stdout",
     "output_type": "stream",
     "text": [
      "SA Experiment Number: 4\n"
     ]
    },
    {
     "name": "stderr",
     "output_type": "stream",
     "text": [
      "100%|█████████████████████████████████████████████████████████████████████████████████████████████████| 500/500 [00:01<00:00, 337.84it/s]\n"
     ]
    },
    {
     "name": "stdout",
     "output_type": "stream",
     "text": [
      "SA Experiment Number: 5\n"
     ]
    },
    {
     "name": "stderr",
     "output_type": "stream",
     "text": [
      "100%|█████████████████████████████████████████████████████████████████████████████████████████████████| 500/500 [00:01<00:00, 336.91it/s]\n"
     ]
    },
    {
     "name": "stdout",
     "output_type": "stream",
     "text": [
      "SA Experiment Number: 6\n"
     ]
    },
    {
     "name": "stderr",
     "output_type": "stream",
     "text": [
      "100%|█████████████████████████████████████████████████████████████████████████████████████████████████| 500/500 [00:01<00:00, 334.67it/s]\n"
     ]
    },
    {
     "name": "stdout",
     "output_type": "stream",
     "text": [
      "SA Experiment Number: 7\n"
     ]
    },
    {
     "name": "stderr",
     "output_type": "stream",
     "text": [
      "100%|█████████████████████████████████████████████████████████████████████████████████████████████████| 500/500 [00:01<00:00, 330.41it/s]\n"
     ]
    },
    {
     "name": "stdout",
     "output_type": "stream",
     "text": [
      "SA Experiment Number: 8\n"
     ]
    },
    {
     "name": "stderr",
     "output_type": "stream",
     "text": [
      "100%|█████████████████████████████████████████████████████████████████████████████████████████████████| 500/500 [00:01<00:00, 320.84it/s]\n"
     ]
    },
    {
     "name": "stdout",
     "output_type": "stream",
     "text": [
      "SA Experiment Number: 9\n"
     ]
    },
    {
     "name": "stderr",
     "output_type": "stream",
     "text": [
      "100%|█████████████████████████████████████████████████████████████████████████████████████████████████| 500/500 [00:01<00:00, 336.70it/s]\n"
     ]
    },
    {
     "name": "stdout",
     "output_type": "stream",
     "text": [
      "SA Experiment Number: 10\n"
     ]
    },
    {
     "name": "stderr",
     "output_type": "stream",
     "text": [
      "100%|█████████████████████████████████████████████████████████████████████████████████████████████████| 500/500 [00:01<00:00, 339.47it/s]\n"
     ]
    },
    {
     "name": "stdout",
     "output_type": "stream",
     "text": [
      "SA Experiment Number: 11\n"
     ]
    },
    {
     "name": "stderr",
     "output_type": "stream",
     "text": [
      "100%|█████████████████████████████████████████████████████████████████████████████████████████████████| 500/500 [00:01<00:00, 330.15it/s]\n"
     ]
    },
    {
     "name": "stdout",
     "output_type": "stream",
     "text": [
      "SA Experiment Number: 12\n"
     ]
    },
    {
     "name": "stderr",
     "output_type": "stream",
     "text": [
      "100%|█████████████████████████████████████████████████████████████████████████████████████████████████| 500/500 [00:01<00:00, 340.95it/s]\n"
     ]
    },
    {
     "name": "stdout",
     "output_type": "stream",
     "text": [
      "SA Experiment Number: 13\n"
     ]
    },
    {
     "name": "stderr",
     "output_type": "stream",
     "text": [
      "100%|█████████████████████████████████████████████████████████████████████████████████████████████████| 500/500 [00:01<00:00, 336.06it/s]\n"
     ]
    },
    {
     "name": "stdout",
     "output_type": "stream",
     "text": [
      "SA Experiment Number: 14\n"
     ]
    },
    {
     "name": "stderr",
     "output_type": "stream",
     "text": [
      "100%|█████████████████████████████████████████████████████████████████████████████████████████████████| 500/500 [00:01<00:00, 342.43it/s]\n"
     ]
    },
    {
     "name": "stdout",
     "output_type": "stream",
     "text": [
      "SA Experiment Number: 15\n"
     ]
    },
    {
     "name": "stderr",
     "output_type": "stream",
     "text": [
      "100%|█████████████████████████████████████████████████████████████████████████████████████████████████| 500/500 [00:01<00:00, 344.72it/s]\n"
     ]
    },
    {
     "name": "stdout",
     "output_type": "stream",
     "text": [
      "SA Experiment Number: 16\n"
     ]
    },
    {
     "name": "stderr",
     "output_type": "stream",
     "text": [
      "100%|█████████████████████████████████████████████████████████████████████████████████████████████████| 500/500 [00:01<00:00, 340.04it/s]\n"
     ]
    },
    {
     "name": "stdout",
     "output_type": "stream",
     "text": [
      "SA Experiment Number: 17\n"
     ]
    },
    {
     "name": "stderr",
     "output_type": "stream",
     "text": [
      "100%|█████████████████████████████████████████████████████████████████████████████████████████████████| 500/500 [00:01<00:00, 336.22it/s]\n"
     ]
    },
    {
     "name": "stdout",
     "output_type": "stream",
     "text": [
      "SA Experiment Number: 18\n"
     ]
    },
    {
     "name": "stderr",
     "output_type": "stream",
     "text": [
      "100%|█████████████████████████████████████████████████████████████████████████████████████████████████| 500/500 [00:01<00:00, 334.37it/s]\n"
     ]
    },
    {
     "name": "stdout",
     "output_type": "stream",
     "text": [
      "SA Experiment Number: 19\n"
     ]
    },
    {
     "name": "stderr",
     "output_type": "stream",
     "text": [
      "100%|█████████████████████████████████████████████████████████████████████████████████████████████████| 500/500 [00:01<00:00, 339.14it/s]\n"
     ]
    },
    {
     "name": "stdout",
     "output_type": "stream",
     "text": [
      "SA Experiment Number: 20\n"
     ]
    },
    {
     "name": "stderr",
     "output_type": "stream",
     "text": [
      "100%|█████████████████████████████████████████████████████████████████████████████████████████████████| 500/500 [00:01<00:00, 339.11it/s]\n"
     ]
    },
    {
     "name": "stdout",
     "output_type": "stream",
     "text": [
      "SA Experiment Number: 21\n"
     ]
    },
    {
     "name": "stderr",
     "output_type": "stream",
     "text": [
      "100%|█████████████████████████████████████████████████████████████████████████████████████████████████| 500/500 [00:01<00:00, 339.36it/s]\n"
     ]
    },
    {
     "name": "stdout",
     "output_type": "stream",
     "text": [
      "SA Experiment Number: 22\n"
     ]
    },
    {
     "name": "stderr",
     "output_type": "stream",
     "text": [
      "100%|█████████████████████████████████████████████████████████████████████████████████████████████████| 500/500 [00:01<00:00, 342.84it/s]\n"
     ]
    },
    {
     "name": "stdout",
     "output_type": "stream",
     "text": [
      "SA Experiment Number: 23\n"
     ]
    },
    {
     "name": "stderr",
     "output_type": "stream",
     "text": [
      "100%|█████████████████████████████████████████████████████████████████████████████████████████████████| 500/500 [00:01<00:00, 341.42it/s]\n"
     ]
    },
    {
     "name": "stdout",
     "output_type": "stream",
     "text": [
      "SA Experiment Number: 24\n"
     ]
    },
    {
     "name": "stderr",
     "output_type": "stream",
     "text": [
      "100%|█████████████████████████████████████████████████████████████████████████████████████████████████| 500/500 [00:01<00:00, 340.39it/s]\n"
     ]
    },
    {
     "name": "stdout",
     "output_type": "stream",
     "text": [
      "SA Experiment Number: 25\n"
     ]
    },
    {
     "name": "stderr",
     "output_type": "stream",
     "text": [
      "100%|█████████████████████████████████████████████████████████████████████████████████████████████████| 500/500 [00:01<00:00, 342.41it/s]\n"
     ]
    },
    {
     "name": "stdout",
     "output_type": "stream",
     "text": [
      "SA Experiment Number: 26\n"
     ]
    },
    {
     "name": "stderr",
     "output_type": "stream",
     "text": [
      "100%|█████████████████████████████████████████████████████████████████████████████████████████████████| 500/500 [00:01<00:00, 343.32it/s]\n"
     ]
    },
    {
     "name": "stdout",
     "output_type": "stream",
     "text": [
      "SA Experiment Number: 27\n"
     ]
    },
    {
     "name": "stderr",
     "output_type": "stream",
     "text": [
      "100%|█████████████████████████████████████████████████████████████████████████████████████████████████| 500/500 [00:01<00:00, 342.80it/s]\n"
     ]
    },
    {
     "name": "stdout",
     "output_type": "stream",
     "text": [
      "SA Experiment Number: 28\n"
     ]
    },
    {
     "name": "stderr",
     "output_type": "stream",
     "text": [
      "100%|█████████████████████████████████████████████████████████████████████████████████████████████████| 500/500 [00:01<00:00, 338.31it/s]\n"
     ]
    },
    {
     "name": "stdout",
     "output_type": "stream",
     "text": [
      "SA Experiment Number: 29\n"
     ]
    },
    {
     "name": "stderr",
     "output_type": "stream",
     "text": [
      "100%|█████████████████████████████████████████████████████████████████████████████████████████████████| 500/500 [00:01<00:00, 337.26it/s]\n"
     ]
    },
    {
     "name": "stdout",
     "output_type": "stream",
     "text": [
      "SA Mean Scores: 129087.7450168844\n",
      "SA Median Scores: 127880.04597054771\n",
      "SA STD Scores: 11681.21683137401\n",
      "SA Time: 1.556307077407837\n",
      "Simulated Annealing Concluded\n",
      "\n",
      "SA Experiment Number: 0\n"
     ]
    },
    {
     "name": "stderr",
     "output_type": "stream",
     "text": [
      "100%|█████████████████████████████████████████████████████████████████████████████████████████████████| 500/500 [00:02<00:00, 208.05it/s]\n"
     ]
    },
    {
     "name": "stdout",
     "output_type": "stream",
     "text": [
      "SA Experiment Number: 1\n"
     ]
    },
    {
     "name": "stderr",
     "output_type": "stream",
     "text": [
      "100%|█████████████████████████████████████████████████████████████████████████████████████████████████| 500/500 [00:01<00:00, 260.94it/s]\n"
     ]
    },
    {
     "name": "stdout",
     "output_type": "stream",
     "text": [
      "SA Experiment Number: 2\n"
     ]
    },
    {
     "name": "stderr",
     "output_type": "stream",
     "text": [
      "100%|█████████████████████████████████████████████████████████████████████████████████████████████████| 500/500 [00:02<00:00, 249.49it/s]\n"
     ]
    },
    {
     "name": "stdout",
     "output_type": "stream",
     "text": [
      "SA Experiment Number: 3\n"
     ]
    },
    {
     "name": "stderr",
     "output_type": "stream",
     "text": [
      "100%|█████████████████████████████████████████████████████████████████████████████████████████████████| 500/500 [00:01<00:00, 252.75it/s]\n"
     ]
    },
    {
     "name": "stdout",
     "output_type": "stream",
     "text": [
      "SA Experiment Number: 4\n"
     ]
    },
    {
     "name": "stderr",
     "output_type": "stream",
     "text": [
      "100%|█████████████████████████████████████████████████████████████████████████████████████████████████| 500/500 [00:01<00:00, 251.61it/s]\n"
     ]
    },
    {
     "name": "stdout",
     "output_type": "stream",
     "text": [
      "SA Experiment Number: 5\n"
     ]
    },
    {
     "name": "stderr",
     "output_type": "stream",
     "text": [
      "100%|█████████████████████████████████████████████████████████████████████████████████████████████████| 500/500 [00:01<00:00, 256.83it/s]\n"
     ]
    },
    {
     "name": "stdout",
     "output_type": "stream",
     "text": [
      "SA Experiment Number: 6\n"
     ]
    },
    {
     "name": "stderr",
     "output_type": "stream",
     "text": [
      "100%|█████████████████████████████████████████████████████████████████████████████████████████████████| 500/500 [00:01<00:00, 257.66it/s]\n"
     ]
    },
    {
     "name": "stdout",
     "output_type": "stream",
     "text": [
      "SA Experiment Number: 7\n"
     ]
    },
    {
     "name": "stderr",
     "output_type": "stream",
     "text": [
      "100%|█████████████████████████████████████████████████████████████████████████████████████████████████| 500/500 [00:01<00:00, 255.58it/s]\n"
     ]
    },
    {
     "name": "stdout",
     "output_type": "stream",
     "text": [
      "SA Experiment Number: 8\n"
     ]
    },
    {
     "name": "stderr",
     "output_type": "stream",
     "text": [
      "100%|█████████████████████████████████████████████████████████████████████████████████████████████████| 500/500 [00:01<00:00, 252.00it/s]\n"
     ]
    },
    {
     "name": "stdout",
     "output_type": "stream",
     "text": [
      "SA Experiment Number: 9\n"
     ]
    },
    {
     "name": "stderr",
     "output_type": "stream",
     "text": [
      "100%|█████████████████████████████████████████████████████████████████████████████████████████████████| 500/500 [00:01<00:00, 259.41it/s]\n"
     ]
    },
    {
     "name": "stdout",
     "output_type": "stream",
     "text": [
      "SA Experiment Number: 10\n"
     ]
    },
    {
     "name": "stderr",
     "output_type": "stream",
     "text": [
      "100%|█████████████████████████████████████████████████████████████████████████████████████████████████| 500/500 [00:01<00:00, 260.01it/s]\n"
     ]
    },
    {
     "name": "stdout",
     "output_type": "stream",
     "text": [
      "SA Experiment Number: 11\n"
     ]
    },
    {
     "name": "stderr",
     "output_type": "stream",
     "text": [
      "100%|█████████████████████████████████████████████████████████████████████████████████████████████████| 500/500 [00:01<00:00, 259.59it/s]\n"
     ]
    },
    {
     "name": "stdout",
     "output_type": "stream",
     "text": [
      "SA Experiment Number: 12\n"
     ]
    },
    {
     "name": "stderr",
     "output_type": "stream",
     "text": [
      "100%|█████████████████████████████████████████████████████████████████████████████████████████████████| 500/500 [00:01<00:00, 259.77it/s]\n"
     ]
    },
    {
     "name": "stdout",
     "output_type": "stream",
     "text": [
      "SA Experiment Number: 13\n"
     ]
    },
    {
     "name": "stderr",
     "output_type": "stream",
     "text": [
      "100%|█████████████████████████████████████████████████████████████████████████████████████████████████| 500/500 [00:01<00:00, 262.52it/s]\n"
     ]
    },
    {
     "name": "stdout",
     "output_type": "stream",
     "text": [
      "SA Experiment Number: 14\n"
     ]
    },
    {
     "name": "stderr",
     "output_type": "stream",
     "text": [
      "100%|█████████████████████████████████████████████████████████████████████████████████████████████████| 500/500 [00:01<00:00, 259.01it/s]\n"
     ]
    },
    {
     "name": "stdout",
     "output_type": "stream",
     "text": [
      "SA Experiment Number: 15\n"
     ]
    },
    {
     "name": "stderr",
     "output_type": "stream",
     "text": [
      "100%|█████████████████████████████████████████████████████████████████████████████████████████████████| 500/500 [00:01<00:00, 263.26it/s]\n"
     ]
    },
    {
     "name": "stdout",
     "output_type": "stream",
     "text": [
      "SA Experiment Number: 16\n"
     ]
    },
    {
     "name": "stderr",
     "output_type": "stream",
     "text": [
      "100%|█████████████████████████████████████████████████████████████████████████████████████████████████| 500/500 [00:01<00:00, 260.77it/s]\n"
     ]
    },
    {
     "name": "stdout",
     "output_type": "stream",
     "text": [
      "SA Experiment Number: 17\n"
     ]
    },
    {
     "name": "stderr",
     "output_type": "stream",
     "text": [
      "100%|█████████████████████████████████████████████████████████████████████████████████████████████████| 500/500 [00:01<00:00, 263.22it/s]\n"
     ]
    },
    {
     "name": "stdout",
     "output_type": "stream",
     "text": [
      "SA Experiment Number: 18\n"
     ]
    },
    {
     "name": "stderr",
     "output_type": "stream",
     "text": [
      "100%|█████████████████████████████████████████████████████████████████████████████████████████████████| 500/500 [00:01<00:00, 262.03it/s]\n"
     ]
    },
    {
     "name": "stdout",
     "output_type": "stream",
     "text": [
      "SA Experiment Number: 19\n"
     ]
    },
    {
     "name": "stderr",
     "output_type": "stream",
     "text": [
      "100%|█████████████████████████████████████████████████████████████████████████████████████████████████| 500/500 [00:02<00:00, 211.58it/s]\n"
     ]
    },
    {
     "name": "stdout",
     "output_type": "stream",
     "text": [
      "SA Experiment Number: 20\n"
     ]
    },
    {
     "name": "stderr",
     "output_type": "stream",
     "text": [
      "100%|█████████████████████████████████████████████████████████████████████████████████████████████████| 500/500 [00:01<00:00, 260.82it/s]\n"
     ]
    },
    {
     "name": "stdout",
     "output_type": "stream",
     "text": [
      "SA Experiment Number: 21\n"
     ]
    },
    {
     "name": "stderr",
     "output_type": "stream",
     "text": [
      "100%|█████████████████████████████████████████████████████████████████████████████████████████████████| 500/500 [00:01<00:00, 260.37it/s]\n"
     ]
    },
    {
     "name": "stdout",
     "output_type": "stream",
     "text": [
      "SA Experiment Number: 22\n"
     ]
    },
    {
     "name": "stderr",
     "output_type": "stream",
     "text": [
      "100%|█████████████████████████████████████████████████████████████████████████████████████████████████| 500/500 [00:01<00:00, 259.46it/s]\n"
     ]
    },
    {
     "name": "stdout",
     "output_type": "stream",
     "text": [
      "SA Experiment Number: 23\n"
     ]
    },
    {
     "name": "stderr",
     "output_type": "stream",
     "text": [
      "100%|█████████████████████████████████████████████████████████████████████████████████████████████████| 500/500 [00:01<00:00, 263.02it/s]\n"
     ]
    },
    {
     "name": "stdout",
     "output_type": "stream",
     "text": [
      "SA Experiment Number: 24\n"
     ]
    },
    {
     "name": "stderr",
     "output_type": "stream",
     "text": [
      "100%|█████████████████████████████████████████████████████████████████████████████████████████████████| 500/500 [00:01<00:00, 260.94it/s]\n"
     ]
    },
    {
     "name": "stdout",
     "output_type": "stream",
     "text": [
      "SA Experiment Number: 25\n"
     ]
    },
    {
     "name": "stderr",
     "output_type": "stream",
     "text": [
      "100%|█████████████████████████████████████████████████████████████████████████████████████████████████| 500/500 [00:01<00:00, 260.59it/s]\n"
     ]
    },
    {
     "name": "stdout",
     "output_type": "stream",
     "text": [
      "SA Experiment Number: 26\n"
     ]
    },
    {
     "name": "stderr",
     "output_type": "stream",
     "text": [
      "100%|█████████████████████████████████████████████████████████████████████████████████████████████████| 500/500 [00:01<00:00, 258.67it/s]\n"
     ]
    },
    {
     "name": "stdout",
     "output_type": "stream",
     "text": [
      "SA Experiment Number: 27\n"
     ]
    },
    {
     "name": "stderr",
     "output_type": "stream",
     "text": [
      "100%|█████████████████████████████████████████████████████████████████████████████████████████████████| 500/500 [00:01<00:00, 261.81it/s]\n"
     ]
    },
    {
     "name": "stdout",
     "output_type": "stream",
     "text": [
      "SA Experiment Number: 28\n"
     ]
    },
    {
     "name": "stderr",
     "output_type": "stream",
     "text": [
      "100%|█████████████████████████████████████████████████████████████████████████████████████████████████| 500/500 [00:01<00:00, 261.98it/s]\n"
     ]
    },
    {
     "name": "stdout",
     "output_type": "stream",
     "text": [
      "SA Experiment Number: 29\n"
     ]
    },
    {
     "name": "stderr",
     "output_type": "stream",
     "text": [
      "100%|█████████████████████████████████████████████████████████████████████████████████████████████████| 500/500 [00:01<00:00, 257.67it/s]\n"
     ]
    },
    {
     "name": "stdout",
     "output_type": "stream",
     "text": [
      "SA Mean Scores: 128050.15611070114\n",
      "SA Median Scores: 128110.37906267858\n",
      "SA STD Scores: 11691.880632840877\n",
      "SA Time: 2.0018081665039062\n",
      "Adaptive Simulated Annealing Concluded\n",
      "\n",
      "GA Experiment Number: 0\n"
     ]
    },
    {
     "name": "stderr",
     "output_type": "stream",
     "text": [
      "100%|██████████████████████████████████████████████████████████████████████████████████████████████████| 500/500 [00:09<00:00, 51.36it/s]\n"
     ]
    },
    {
     "name": "stdout",
     "output_type": "stream",
     "text": [
      "GA Experiment Number: 1\n"
     ]
    },
    {
     "name": "stderr",
     "output_type": "stream",
     "text": [
      "100%|██████████████████████████████████████████████████████████████████████████████████████████████████| 500/500 [00:09<00:00, 52.44it/s]\n"
     ]
    },
    {
     "name": "stdout",
     "output_type": "stream",
     "text": [
      "GA Experiment Number: 2\n"
     ]
    },
    {
     "name": "stderr",
     "output_type": "stream",
     "text": [
      "100%|██████████████████████████████████████████████████████████████████████████████████████████████████| 500/500 [00:09<00:00, 51.48it/s]\n"
     ]
    },
    {
     "name": "stdout",
     "output_type": "stream",
     "text": [
      "GA Experiment Number: 3\n"
     ]
    },
    {
     "name": "stderr",
     "output_type": "stream",
     "text": [
      "100%|██████████████████████████████████████████████████████████████████████████████████████████████████| 500/500 [00:09<00:00, 51.83it/s]\n"
     ]
    },
    {
     "name": "stdout",
     "output_type": "stream",
     "text": [
      "GA Experiment Number: 4\n"
     ]
    },
    {
     "name": "stderr",
     "output_type": "stream",
     "text": [
      "100%|██████████████████████████████████████████████████████████████████████████████████████████████████| 500/500 [00:09<00:00, 52.25it/s]\n"
     ]
    },
    {
     "name": "stdout",
     "output_type": "stream",
     "text": [
      "GA Experiment Number: 5\n"
     ]
    },
    {
     "name": "stderr",
     "output_type": "stream",
     "text": [
      "100%|██████████████████████████████████████████████████████████████████████████████████████████████████| 500/500 [00:09<00:00, 50.86it/s]\n"
     ]
    },
    {
     "name": "stdout",
     "output_type": "stream",
     "text": [
      "GA Experiment Number: 6\n"
     ]
    },
    {
     "name": "stderr",
     "output_type": "stream",
     "text": [
      "100%|██████████████████████████████████████████████████████████████████████████████████████████████████| 500/500 [00:09<00:00, 51.96it/s]\n"
     ]
    },
    {
     "name": "stdout",
     "output_type": "stream",
     "text": [
      "GA Experiment Number: 7\n"
     ]
    },
    {
     "name": "stderr",
     "output_type": "stream",
     "text": [
      "100%|██████████████████████████████████████████████████████████████████████████████████████████████████| 500/500 [00:09<00:00, 50.44it/s]\n"
     ]
    },
    {
     "name": "stdout",
     "output_type": "stream",
     "text": [
      "GA Experiment Number: 8\n"
     ]
    },
    {
     "name": "stderr",
     "output_type": "stream",
     "text": [
      "100%|██████████████████████████████████████████████████████████████████████████████████████████████████| 500/500 [00:09<00:00, 51.02it/s]\n"
     ]
    },
    {
     "name": "stdout",
     "output_type": "stream",
     "text": [
      "GA Experiment Number: 9\n"
     ]
    },
    {
     "name": "stderr",
     "output_type": "stream",
     "text": [
      "100%|██████████████████████████████████████████████████████████████████████████████████████████████████| 500/500 [00:09<00:00, 52.49it/s]\n"
     ]
    },
    {
     "name": "stdout",
     "output_type": "stream",
     "text": [
      "GA Experiment Number: 10\n"
     ]
    },
    {
     "name": "stderr",
     "output_type": "stream",
     "text": [
      "100%|██████████████████████████████████████████████████████████████████████████████████████████████████| 500/500 [00:09<00:00, 52.03it/s]\n"
     ]
    },
    {
     "name": "stdout",
     "output_type": "stream",
     "text": [
      "GA Experiment Number: 11\n"
     ]
    },
    {
     "name": "stderr",
     "output_type": "stream",
     "text": [
      "100%|██████████████████████████████████████████████████████████████████████████████████████████████████| 500/500 [00:09<00:00, 51.76it/s]\n"
     ]
    },
    {
     "name": "stdout",
     "output_type": "stream",
     "text": [
      "GA Experiment Number: 12\n"
     ]
    },
    {
     "name": "stderr",
     "output_type": "stream",
     "text": [
      "100%|██████████████████████████████████████████████████████████████████████████████████████████████████| 500/500 [00:09<00:00, 52.56it/s]\n"
     ]
    },
    {
     "name": "stdout",
     "output_type": "stream",
     "text": [
      "GA Experiment Number: 13\n"
     ]
    },
    {
     "name": "stderr",
     "output_type": "stream",
     "text": [
      "100%|██████████████████████████████████████████████████████████████████████████████████████████████████| 500/500 [00:09<00:00, 53.01it/s]\n"
     ]
    },
    {
     "name": "stdout",
     "output_type": "stream",
     "text": [
      "GA Experiment Number: 14\n"
     ]
    },
    {
     "name": "stderr",
     "output_type": "stream",
     "text": [
      "100%|██████████████████████████████████████████████████████████████████████████████████████████████████| 500/500 [00:09<00:00, 51.90it/s]\n"
     ]
    },
    {
     "name": "stdout",
     "output_type": "stream",
     "text": [
      "GA Experiment Number: 15\n"
     ]
    },
    {
     "name": "stderr",
     "output_type": "stream",
     "text": [
      "100%|██████████████████████████████████████████████████████████████████████████████████████████████████| 500/500 [00:09<00:00, 50.96it/s]\n"
     ]
    },
    {
     "name": "stdout",
     "output_type": "stream",
     "text": [
      "GA Experiment Number: 16\n"
     ]
    },
    {
     "name": "stderr",
     "output_type": "stream",
     "text": [
      "100%|██████████████████████████████████████████████████████████████████████████████████████████████████| 500/500 [00:09<00:00, 51.45it/s]\n"
     ]
    },
    {
     "name": "stdout",
     "output_type": "stream",
     "text": [
      "GA Experiment Number: 17\n"
     ]
    },
    {
     "name": "stderr",
     "output_type": "stream",
     "text": [
      "100%|██████████████████████████████████████████████████████████████████████████████████████████████████| 500/500 [00:09<00:00, 50.80it/s]\n"
     ]
    },
    {
     "name": "stdout",
     "output_type": "stream",
     "text": [
      "GA Experiment Number: 18\n"
     ]
    },
    {
     "name": "stderr",
     "output_type": "stream",
     "text": [
      "100%|██████████████████████████████████████████████████████████████████████████████████████████████████| 500/500 [00:09<00:00, 51.29it/s]\n"
     ]
    },
    {
     "name": "stdout",
     "output_type": "stream",
     "text": [
      "GA Experiment Number: 19\n"
     ]
    },
    {
     "name": "stderr",
     "output_type": "stream",
     "text": [
      "100%|██████████████████████████████████████████████████████████████████████████████████████████████████| 500/500 [00:09<00:00, 52.28it/s]\n"
     ]
    },
    {
     "name": "stdout",
     "output_type": "stream",
     "text": [
      "GA Experiment Number: 20\n"
     ]
    },
    {
     "name": "stderr",
     "output_type": "stream",
     "text": [
      "100%|██████████████████████████████████████████████████████████████████████████████████████████████████| 500/500 [00:09<00:00, 51.61it/s]\n"
     ]
    },
    {
     "name": "stdout",
     "output_type": "stream",
     "text": [
      "GA Experiment Number: 21\n"
     ]
    },
    {
     "name": "stderr",
     "output_type": "stream",
     "text": [
      "100%|██████████████████████████████████████████████████████████████████████████████████████████████████| 500/500 [00:09<00:00, 50.58it/s]\n"
     ]
    },
    {
     "name": "stdout",
     "output_type": "stream",
     "text": [
      "GA Experiment Number: 22\n"
     ]
    },
    {
     "name": "stderr",
     "output_type": "stream",
     "text": [
      "100%|██████████████████████████████████████████████████████████████████████████████████████████████████| 500/500 [00:09<00:00, 52.84it/s]\n"
     ]
    },
    {
     "name": "stdout",
     "output_type": "stream",
     "text": [
      "GA Experiment Number: 23\n"
     ]
    },
    {
     "name": "stderr",
     "output_type": "stream",
     "text": [
      "100%|██████████████████████████████████████████████████████████████████████████████████████████████████| 500/500 [00:09<00:00, 53.59it/s]\n"
     ]
    },
    {
     "name": "stdout",
     "output_type": "stream",
     "text": [
      "GA Experiment Number: 24\n"
     ]
    },
    {
     "name": "stderr",
     "output_type": "stream",
     "text": [
      "100%|██████████████████████████████████████████████████████████████████████████████████████████████████| 500/500 [00:09<00:00, 52.24it/s]\n"
     ]
    },
    {
     "name": "stdout",
     "output_type": "stream",
     "text": [
      "GA Experiment Number: 25\n"
     ]
    },
    {
     "name": "stderr",
     "output_type": "stream",
     "text": [
      "100%|██████████████████████████████████████████████████████████████████████████████████████████████████| 500/500 [00:09<00:00, 52.09it/s]\n"
     ]
    },
    {
     "name": "stdout",
     "output_type": "stream",
     "text": [
      "GA Experiment Number: 26\n"
     ]
    },
    {
     "name": "stderr",
     "output_type": "stream",
     "text": [
      "100%|██████████████████████████████████████████████████████████████████████████████████████████████████| 500/500 [00:09<00:00, 53.08it/s]\n"
     ]
    },
    {
     "name": "stdout",
     "output_type": "stream",
     "text": [
      "GA Experiment Number: 27\n"
     ]
    },
    {
     "name": "stderr",
     "output_type": "stream",
     "text": [
      "100%|██████████████████████████████████████████████████████████████████████████████████████████████████| 500/500 [00:09<00:00, 51.99it/s]\n"
     ]
    },
    {
     "name": "stdout",
     "output_type": "stream",
     "text": [
      "GA Experiment Number: 28\n"
     ]
    },
    {
     "name": "stderr",
     "output_type": "stream",
     "text": [
      "100%|██████████████████████████████████████████████████████████████████████████████████████████████████| 500/500 [00:09<00:00, 51.52it/s]\n"
     ]
    },
    {
     "name": "stdout",
     "output_type": "stream",
     "text": [
      "GA Experiment Number: 29\n"
     ]
    },
    {
     "name": "stderr",
     "output_type": "stream",
     "text": [
      "100%|██████████████████████████████████████████████████████████████████████████████████████████████████| 500/500 [00:09<00:00, 51.30it/s]\n"
     ]
    },
    {
     "name": "stdout",
     "output_type": "stream",
     "text": [
      "GA Mean Scores: 101020.7808443678\n",
      "GA Median Scores: 101024.74491903557\n",
      "GA STD Scores: 5161.287993834187\n",
      "GA Time: 9.64231026172638\n",
      "Genetic Algorithm Concluded\n",
      "\n",
      "GA Experiment Number: 0\n"
     ]
    },
    {
     "name": "stderr",
     "output_type": "stream",
     "text": [
      "100%|██████████████████████████████████████████████████████████████████████████████████████████████████| 500/500 [00:08<00:00, 58.35it/s]\n"
     ]
    },
    {
     "name": "stdout",
     "output_type": "stream",
     "text": [
      "GA Experiment Number: 1\n"
     ]
    },
    {
     "name": "stderr",
     "output_type": "stream",
     "text": [
      "100%|██████████████████████████████████████████████████████████████████████████████████████████████████| 500/500 [00:08<00:00, 56.36it/s]\n"
     ]
    },
    {
     "name": "stdout",
     "output_type": "stream",
     "text": [
      "GA Experiment Number: 2\n"
     ]
    },
    {
     "name": "stderr",
     "output_type": "stream",
     "text": [
      "100%|██████████████████████████████████████████████████████████████████████████████████████████████████| 500/500 [00:08<00:00, 55.84it/s]\n"
     ]
    },
    {
     "name": "stdout",
     "output_type": "stream",
     "text": [
      "GA Experiment Number: 3\n"
     ]
    },
    {
     "name": "stderr",
     "output_type": "stream",
     "text": [
      "100%|██████████████████████████████████████████████████████████████████████████████████████████████████| 500/500 [00:08<00:00, 58.15it/s]\n"
     ]
    },
    {
     "name": "stdout",
     "output_type": "stream",
     "text": [
      "GA Experiment Number: 4\n"
     ]
    },
    {
     "name": "stderr",
     "output_type": "stream",
     "text": [
      "100%|██████████████████████████████████████████████████████████████████████████████████████████████████| 500/500 [00:08<00:00, 57.43it/s]\n"
     ]
    },
    {
     "name": "stdout",
     "output_type": "stream",
     "text": [
      "GA Experiment Number: 5\n"
     ]
    },
    {
     "name": "stderr",
     "output_type": "stream",
     "text": [
      "100%|██████████████████████████████████████████████████████████████████████████████████████████████████| 500/500 [00:08<00:00, 58.08it/s]\n"
     ]
    },
    {
     "name": "stdout",
     "output_type": "stream",
     "text": [
      "GA Experiment Number: 6\n"
     ]
    },
    {
     "name": "stderr",
     "output_type": "stream",
     "text": [
      "100%|██████████████████████████████████████████████████████████████████████████████████████████████████| 500/500 [00:08<00:00, 57.29it/s]\n"
     ]
    },
    {
     "name": "stdout",
     "output_type": "stream",
     "text": [
      "GA Experiment Number: 7\n"
     ]
    },
    {
     "name": "stderr",
     "output_type": "stream",
     "text": [
      "100%|██████████████████████████████████████████████████████████████████████████████████████████████████| 500/500 [00:08<00:00, 57.80it/s]\n"
     ]
    },
    {
     "name": "stdout",
     "output_type": "stream",
     "text": [
      "GA Experiment Number: 8\n"
     ]
    },
    {
     "name": "stderr",
     "output_type": "stream",
     "text": [
      "100%|██████████████████████████████████████████████████████████████████████████████████████████████████| 500/500 [00:08<00:00, 57.60it/s]\n"
     ]
    },
    {
     "name": "stdout",
     "output_type": "stream",
     "text": [
      "GA Experiment Number: 9\n"
     ]
    },
    {
     "name": "stderr",
     "output_type": "stream",
     "text": [
      "100%|██████████████████████████████████████████████████████████████████████████████████████████████████| 500/500 [00:08<00:00, 58.45it/s]\n"
     ]
    },
    {
     "name": "stdout",
     "output_type": "stream",
     "text": [
      "GA Experiment Number: 10\n"
     ]
    },
    {
     "name": "stderr",
     "output_type": "stream",
     "text": [
      "100%|██████████████████████████████████████████████████████████████████████████████████████████████████| 500/500 [00:08<00:00, 57.88it/s]\n"
     ]
    },
    {
     "name": "stdout",
     "output_type": "stream",
     "text": [
      "GA Experiment Number: 11\n"
     ]
    },
    {
     "name": "stderr",
     "output_type": "stream",
     "text": [
      "100%|██████████████████████████████████████████████████████████████████████████████████████████████████| 500/500 [00:08<00:00, 56.99it/s]\n"
     ]
    },
    {
     "name": "stdout",
     "output_type": "stream",
     "text": [
      "GA Experiment Number: 12\n"
     ]
    },
    {
     "name": "stderr",
     "output_type": "stream",
     "text": [
      "100%|██████████████████████████████████████████████████████████████████████████████████████████████████| 500/500 [00:08<00:00, 59.76it/s]\n"
     ]
    },
    {
     "name": "stdout",
     "output_type": "stream",
     "text": [
      "GA Experiment Number: 13\n"
     ]
    },
    {
     "name": "stderr",
     "output_type": "stream",
     "text": [
      "100%|██████████████████████████████████████████████████████████████████████████████████████████████████| 500/500 [00:08<00:00, 58.61it/s]\n"
     ]
    },
    {
     "name": "stdout",
     "output_type": "stream",
     "text": [
      "GA Experiment Number: 14\n"
     ]
    },
    {
     "name": "stderr",
     "output_type": "stream",
     "text": [
      "100%|██████████████████████████████████████████████████████████████████████████████████████████████████| 500/500 [00:08<00:00, 57.99it/s]\n"
     ]
    },
    {
     "name": "stdout",
     "output_type": "stream",
     "text": [
      "GA Experiment Number: 15\n"
     ]
    },
    {
     "name": "stderr",
     "output_type": "stream",
     "text": [
      "100%|██████████████████████████████████████████████████████████████████████████████████████████████████| 500/500 [00:08<00:00, 59.99it/s]\n"
     ]
    },
    {
     "name": "stdout",
     "output_type": "stream",
     "text": [
      "GA Experiment Number: 16\n"
     ]
    },
    {
     "name": "stderr",
     "output_type": "stream",
     "text": [
      "100%|██████████████████████████████████████████████████████████████████████████████████████████████████| 500/500 [00:08<00:00, 59.13it/s]\n"
     ]
    },
    {
     "name": "stdout",
     "output_type": "stream",
     "text": [
      "GA Experiment Number: 17\n"
     ]
    },
    {
     "name": "stderr",
     "output_type": "stream",
     "text": [
      "100%|██████████████████████████████████████████████████████████████████████████████████████████████████| 500/500 [00:08<00:00, 58.52it/s]\n"
     ]
    },
    {
     "name": "stdout",
     "output_type": "stream",
     "text": [
      "GA Experiment Number: 18\n"
     ]
    },
    {
     "name": "stderr",
     "output_type": "stream",
     "text": [
      "100%|██████████████████████████████████████████████████████████████████████████████████████████████████| 500/500 [00:08<00:00, 58.57it/s]\n"
     ]
    },
    {
     "name": "stdout",
     "output_type": "stream",
     "text": [
      "GA Experiment Number: 19\n"
     ]
    },
    {
     "name": "stderr",
     "output_type": "stream",
     "text": [
      "100%|██████████████████████████████████████████████████████████████████████████████████████████████████| 500/500 [00:08<00:00, 58.14it/s]\n"
     ]
    },
    {
     "name": "stdout",
     "output_type": "stream",
     "text": [
      "GA Experiment Number: 20\n"
     ]
    },
    {
     "name": "stderr",
     "output_type": "stream",
     "text": [
      "100%|██████████████████████████████████████████████████████████████████████████████████████████████████| 500/500 [00:08<00:00, 59.22it/s]\n"
     ]
    },
    {
     "name": "stdout",
     "output_type": "stream",
     "text": [
      "GA Experiment Number: 21\n"
     ]
    },
    {
     "name": "stderr",
     "output_type": "stream",
     "text": [
      "100%|██████████████████████████████████████████████████████████████████████████████████████████████████| 500/500 [00:08<00:00, 58.37it/s]\n"
     ]
    },
    {
     "name": "stdout",
     "output_type": "stream",
     "text": [
      "GA Experiment Number: 22\n"
     ]
    },
    {
     "name": "stderr",
     "output_type": "stream",
     "text": [
      "100%|██████████████████████████████████████████████████████████████████████████████████████████████████| 500/500 [00:08<00:00, 58.88it/s]\n"
     ]
    },
    {
     "name": "stdout",
     "output_type": "stream",
     "text": [
      "GA Experiment Number: 23\n"
     ]
    },
    {
     "name": "stderr",
     "output_type": "stream",
     "text": [
      "100%|██████████████████████████████████████████████████████████████████████████████████████████████████| 500/500 [00:08<00:00, 57.96it/s]\n"
     ]
    },
    {
     "name": "stdout",
     "output_type": "stream",
     "text": [
      "GA Experiment Number: 24\n"
     ]
    },
    {
     "name": "stderr",
     "output_type": "stream",
     "text": [
      "100%|██████████████████████████████████████████████████████████████████████████████████████████████████| 500/500 [00:08<00:00, 59.49it/s]\n"
     ]
    },
    {
     "name": "stdout",
     "output_type": "stream",
     "text": [
      "GA Experiment Number: 25\n"
     ]
    },
    {
     "name": "stderr",
     "output_type": "stream",
     "text": [
      "100%|██████████████████████████████████████████████████████████████████████████████████████████████████| 500/500 [00:08<00:00, 57.62it/s]\n"
     ]
    },
    {
     "name": "stdout",
     "output_type": "stream",
     "text": [
      "GA Experiment Number: 26\n"
     ]
    },
    {
     "name": "stderr",
     "output_type": "stream",
     "text": [
      "100%|██████████████████████████████████████████████████████████████████████████████████████████████████| 500/500 [00:08<00:00, 59.67it/s]\n"
     ]
    },
    {
     "name": "stdout",
     "output_type": "stream",
     "text": [
      "GA Experiment Number: 27\n"
     ]
    },
    {
     "name": "stderr",
     "output_type": "stream",
     "text": [
      "100%|██████████████████████████████████████████████████████████████████████████████████████████████████| 500/500 [00:08<00:00, 60.52it/s]\n"
     ]
    },
    {
     "name": "stdout",
     "output_type": "stream",
     "text": [
      "GA Experiment Number: 28\n"
     ]
    },
    {
     "name": "stderr",
     "output_type": "stream",
     "text": [
      "100%|██████████████████████████████████████████████████████████████████████████████████████████████████| 500/500 [00:08<00:00, 59.06it/s]\n"
     ]
    },
    {
     "name": "stdout",
     "output_type": "stream",
     "text": [
      "GA Experiment Number: 29\n"
     ]
    },
    {
     "name": "stderr",
     "output_type": "stream",
     "text": [
      "100%|██████████████████████████████████████████████████████████████████████████████████████████████████| 500/500 [00:08<00:00, 58.44it/s]\n"
     ]
    },
    {
     "name": "stdout",
     "output_type": "stream",
     "text": [
      "GA Mean Scores: 91043.03937728265\n",
      "GA Median Scores: 91358.17264805219\n",
      "GA STD Scores: 4726.861231571725\n",
      "GA Time: 8.570086240768433\n",
      "Adaptive Genetic Algorithm Concluded\n",
      "\n",
      "GW Experiment Number: 0\n"
     ]
    },
    {
     "name": "stderr",
     "output_type": "stream",
     "text": [
      "100%|██████████████████████████████████████████████████████████████████████████████████████████████████| 500/500 [00:48<00:00, 10.28it/s]\n"
     ]
    },
    {
     "name": "stdout",
     "output_type": "stream",
     "text": [
      "GW Experiment Number: 1\n"
     ]
    },
    {
     "name": "stderr",
     "output_type": "stream",
     "text": [
      "100%|██████████████████████████████████████████████████████████████████████████████████████████████████| 500/500 [00:48<00:00, 10.34it/s]\n"
     ]
    },
    {
     "name": "stdout",
     "output_type": "stream",
     "text": [
      "GW Experiment Number: 2\n"
     ]
    },
    {
     "name": "stderr",
     "output_type": "stream",
     "text": [
      "100%|██████████████████████████████████████████████████████████████████████████████████████████████████| 500/500 [00:48<00:00, 10.28it/s]\n"
     ]
    },
    {
     "name": "stdout",
     "output_type": "stream",
     "text": [
      "GW Experiment Number: 3\n"
     ]
    },
    {
     "name": "stderr",
     "output_type": "stream",
     "text": [
      "100%|██████████████████████████████████████████████████████████████████████████████████████████████████| 500/500 [00:49<00:00, 10.12it/s]\n"
     ]
    },
    {
     "name": "stdout",
     "output_type": "stream",
     "text": [
      "GW Experiment Number: 4\n"
     ]
    },
    {
     "name": "stderr",
     "output_type": "stream",
     "text": [
      "100%|██████████████████████████████████████████████████████████████████████████████████████████████████| 500/500 [00:48<00:00, 10.23it/s]\n"
     ]
    },
    {
     "name": "stdout",
     "output_type": "stream",
     "text": [
      "GW Experiment Number: 5\n"
     ]
    },
    {
     "name": "stderr",
     "output_type": "stream",
     "text": [
      "100%|██████████████████████████████████████████████████████████████████████████████████████████████████| 500/500 [00:48<00:00, 10.30it/s]\n"
     ]
    },
    {
     "name": "stdout",
     "output_type": "stream",
     "text": [
      "GW Experiment Number: 6\n"
     ]
    },
    {
     "name": "stderr",
     "output_type": "stream",
     "text": [
      "100%|██████████████████████████████████████████████████████████████████████████████████████████████████| 500/500 [00:49<00:00, 10.17it/s]\n"
     ]
    },
    {
     "name": "stdout",
     "output_type": "stream",
     "text": [
      "GW Experiment Number: 7\n"
     ]
    },
    {
     "name": "stderr",
     "output_type": "stream",
     "text": [
      "100%|██████████████████████████████████████████████████████████████████████████████████████████████████| 500/500 [00:49<00:00, 10.07it/s]\n"
     ]
    },
    {
     "name": "stdout",
     "output_type": "stream",
     "text": [
      "GW Experiment Number: 8\n"
     ]
    },
    {
     "name": "stderr",
     "output_type": "stream",
     "text": [
      "100%|██████████████████████████████████████████████████████████████████████████████████████████████████| 500/500 [00:49<00:00, 10.07it/s]\n"
     ]
    },
    {
     "name": "stdout",
     "output_type": "stream",
     "text": [
      "GW Experiment Number: 9\n"
     ]
    },
    {
     "name": "stderr",
     "output_type": "stream",
     "text": [
      "100%|██████████████████████████████████████████████████████████████████████████████████████████████████| 500/500 [00:48<00:00, 10.22it/s]\n"
     ]
    },
    {
     "name": "stdout",
     "output_type": "stream",
     "text": [
      "GW Experiment Number: 10\n"
     ]
    },
    {
     "name": "stderr",
     "output_type": "stream",
     "text": [
      "100%|██████████████████████████████████████████████████████████████████████████████████████████████████| 500/500 [00:48<00:00, 10.27it/s]\n"
     ]
    },
    {
     "name": "stdout",
     "output_type": "stream",
     "text": [
      "GW Experiment Number: 11\n"
     ]
    },
    {
     "name": "stderr",
     "output_type": "stream",
     "text": [
      "100%|██████████████████████████████████████████████████████████████████████████████████████████████████| 500/500 [00:48<00:00, 10.25it/s]\n"
     ]
    },
    {
     "name": "stdout",
     "output_type": "stream",
     "text": [
      "GW Experiment Number: 12\n"
     ]
    },
    {
     "name": "stderr",
     "output_type": "stream",
     "text": [
      "100%|██████████████████████████████████████████████████████████████████████████████████████████████████| 500/500 [00:49<00:00, 10.15it/s]\n"
     ]
    },
    {
     "name": "stdout",
     "output_type": "stream",
     "text": [
      "GW Experiment Number: 13\n"
     ]
    },
    {
     "name": "stderr",
     "output_type": "stream",
     "text": [
      "100%|██████████████████████████████████████████████████████████████████████████████████████████████████| 500/500 [00:50<00:00,  9.87it/s]\n"
     ]
    },
    {
     "name": "stdout",
     "output_type": "stream",
     "text": [
      "GW Experiment Number: 14\n"
     ]
    },
    {
     "name": "stderr",
     "output_type": "stream",
     "text": [
      "100%|██████████████████████████████████████████████████████████████████████████████████████████████████| 500/500 [00:50<00:00,  9.83it/s]\n"
     ]
    },
    {
     "name": "stdout",
     "output_type": "stream",
     "text": [
      "GW Experiment Number: 15\n"
     ]
    },
    {
     "name": "stderr",
     "output_type": "stream",
     "text": [
      "100%|██████████████████████████████████████████████████████████████████████████████████████████████████| 500/500 [00:50<00:00,  9.81it/s]\n"
     ]
    },
    {
     "name": "stdout",
     "output_type": "stream",
     "text": [
      "GW Experiment Number: 16\n"
     ]
    },
    {
     "name": "stderr",
     "output_type": "stream",
     "text": [
      "100%|██████████████████████████████████████████████████████████████████████████████████████████████████| 500/500 [00:50<00:00,  9.89it/s]\n"
     ]
    },
    {
     "name": "stdout",
     "output_type": "stream",
     "text": [
      "GW Experiment Number: 17\n"
     ]
    },
    {
     "name": "stderr",
     "output_type": "stream",
     "text": [
      "100%|██████████████████████████████████████████████████████████████████████████████████████████████████| 500/500 [00:50<00:00,  9.87it/s]\n"
     ]
    },
    {
     "name": "stdout",
     "output_type": "stream",
     "text": [
      "GW Experiment Number: 18\n"
     ]
    },
    {
     "name": "stderr",
     "output_type": "stream",
     "text": [
      "100%|██████████████████████████████████████████████████████████████████████████████████████████████████| 500/500 [00:50<00:00,  9.95it/s]\n"
     ]
    },
    {
     "name": "stdout",
     "output_type": "stream",
     "text": [
      "GW Experiment Number: 19\n"
     ]
    },
    {
     "name": "stderr",
     "output_type": "stream",
     "text": [
      "100%|██████████████████████████████████████████████████████████████████████████████████████████████████| 500/500 [00:51<00:00,  9.74it/s]\n"
     ]
    },
    {
     "name": "stdout",
     "output_type": "stream",
     "text": [
      "GW Experiment Number: 20\n"
     ]
    },
    {
     "name": "stderr",
     "output_type": "stream",
     "text": [
      "100%|██████████████████████████████████████████████████████████████████████████████████████████████████| 500/500 [00:50<00:00,  9.84it/s]\n"
     ]
    },
    {
     "name": "stdout",
     "output_type": "stream",
     "text": [
      "GW Experiment Number: 21\n"
     ]
    },
    {
     "name": "stderr",
     "output_type": "stream",
     "text": [
      "100%|██████████████████████████████████████████████████████████████████████████████████████████████████| 500/500 [00:51<00:00,  9.80it/s]\n"
     ]
    },
    {
     "name": "stdout",
     "output_type": "stream",
     "text": [
      "GW Experiment Number: 22\n"
     ]
    },
    {
     "name": "stderr",
     "output_type": "stream",
     "text": [
      "100%|██████████████████████████████████████████████████████████████████████████████████████████████████| 500/500 [00:50<00:00,  9.99it/s]\n"
     ]
    },
    {
     "name": "stdout",
     "output_type": "stream",
     "text": [
      "GW Experiment Number: 23\n"
     ]
    },
    {
     "name": "stderr",
     "output_type": "stream",
     "text": [
      "100%|██████████████████████████████████████████████████████████████████████████████████████████████████| 500/500 [00:50<00:00,  9.86it/s]\n"
     ]
    },
    {
     "name": "stdout",
     "output_type": "stream",
     "text": [
      "GW Experiment Number: 24\n"
     ]
    },
    {
     "name": "stderr",
     "output_type": "stream",
     "text": [
      "100%|██████████████████████████████████████████████████████████████████████████████████████████████████| 500/500 [00:50<00:00,  9.95it/s]\n"
     ]
    },
    {
     "name": "stdout",
     "output_type": "stream",
     "text": [
      "GW Experiment Number: 25\n"
     ]
    },
    {
     "name": "stderr",
     "output_type": "stream",
     "text": [
      "100%|██████████████████████████████████████████████████████████████████████████████████████████████████| 500/500 [00:50<00:00,  9.84it/s]\n"
     ]
    },
    {
     "name": "stdout",
     "output_type": "stream",
     "text": [
      "GW Experiment Number: 26\n"
     ]
    },
    {
     "name": "stderr",
     "output_type": "stream",
     "text": [
      "100%|██████████████████████████████████████████████████████████████████████████████████████████████████| 500/500 [00:49<00:00, 10.05it/s]\n"
     ]
    },
    {
     "name": "stdout",
     "output_type": "stream",
     "text": [
      "GW Experiment Number: 27\n"
     ]
    },
    {
     "name": "stderr",
     "output_type": "stream",
     "text": [
      "100%|██████████████████████████████████████████████████████████████████████████████████████████████████| 500/500 [00:50<00:00,  9.88it/s]\n"
     ]
    },
    {
     "name": "stdout",
     "output_type": "stream",
     "text": [
      "GW Experiment Number: 28\n"
     ]
    },
    {
     "name": "stderr",
     "output_type": "stream",
     "text": [
      "100%|██████████████████████████████████████████████████████████████████████████████████████████████████| 500/500 [00:50<00:00,  9.94it/s]\n"
     ]
    },
    {
     "name": "stdout",
     "output_type": "stream",
     "text": [
      "GW Experiment Number: 29\n"
     ]
    },
    {
     "name": "stderr",
     "output_type": "stream",
     "text": [
      "100%|██████████████████████████████████████████████████████████████████████████████████████████████████| 500/500 [00:49<00:00, 10.04it/s]"
     ]
    },
    {
     "name": "stdout",
     "output_type": "stream",
     "text": [
      "GW Mean Scores: 109488.82133333334\n",
      "GW Median Scores: 110615.36\n",
      "GW STD Scores: 5847.079188779662\n",
      "GW Time: 49.945374488830566\n",
      "Grey Wolf Algorithm Concluded\n",
      "\n"
     ]
    },
    {
     "name": "stderr",
     "output_type": "stream",
     "text": [
      "\n"
     ]
    }
   ],
   "source": [
    "search_iterations = 500\n",
    "batch_size = 30\n",
    "# sample\n",
    "batchSA(drivers, riders, graph, eval_obj, search_iterations, batch_size, adaptive=False)\n",
    "print('Simulated Annealing Concluded\\n')\n",
    "batchSA(drivers, riders, graph, eval_obj, search_iterations, batch_size, adaptive=True)\n",
    "print('Adaptive Simulated Annealing Concluded\\n')\n",
    "batchGA(drivers, riders, graph, eval_obj, initial_pop_size=ga_population, iterations=search_iterations, \n",
    "        batch_size=batch_size, adaptive=False)\n",
    "print('Genetic Algorithm Concluded\\n')\n",
    "batchGA(drivers, riders, graph, eval_obj, initial_pop_size=ga_population, iterations=search_iterations, \n",
    "        batch_size=batch_size, adaptive=True)\n",
    "print('Adaptive Genetic Algorithm Concluded\\n')\n",
    "batchGW(drivers, riders, graph, eval_obj, pack_size=pack_size, max_hunt_range=max_hunt_range, iterations=search_iterations, batch_size=batch_size)\n",
    "print('Grey Wolf Algorithm Concluded\\n')"
   ]
  },
  {
   "cell_type": "markdown",
   "metadata": {
    "id": "yRVBkIJnz2Q8"
   },
   "source": [
    "## References\n",
    "\n",
    "Placeholder if needed"
   ]
  },
  {
   "cell_type": "code",
   "execution_count": null,
   "metadata": {},
   "outputs": [],
   "source": []
  },
  {
   "cell_type": "code",
   "execution_count": null,
   "metadata": {},
   "outputs": [],
   "source": []
  }
 ],
 "metadata": {
  "colab": {
   "name": "Notebook.ipynb",
   "provenance": []
  },
  "interpreter": {
   "hash": "54653ff6ace4599a1611ee9af81a6bbc133a83562bf322431a9e762b95f57a63"
  },
  "kernelspec": {
   "display_name": "Python 3",
   "language": "python",
   "name": "python3"
  },
  "language_info": {
   "codemirror_mode": {
    "name": "ipython",
    "version": 3
   },
   "file_extension": ".py",
   "mimetype": "text/x-python",
   "name": "python",
   "nbconvert_exporter": "python",
   "pygments_lexer": "ipython3",
   "version": "3.7.8"
  }
 },
 "nbformat": 4,
 "nbformat_minor": 1
}
