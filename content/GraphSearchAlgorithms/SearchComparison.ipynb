{
 "cells": [
  {
   "cell_type": "markdown",
   "source": [
    "# Search Algorithm Comparison"
   ],
   "metadata": {}
  }
 ],
 "metadata": {
  "orig_nbformat": 4,
  "language_info": {
   "name": "python"
  }
 },
 "nbformat": 4,
 "nbformat_minor": 2
}