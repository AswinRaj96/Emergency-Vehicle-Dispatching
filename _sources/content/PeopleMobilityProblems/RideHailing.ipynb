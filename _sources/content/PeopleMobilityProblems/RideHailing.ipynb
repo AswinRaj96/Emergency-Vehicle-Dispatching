{
 "cells": [
  {
   "cell_type": "markdown",
   "metadata": {},
   "source": [
    "# Ride-Hailing\n",
    "\n",
    "DeepPool: Distributed Model-free Algorithm for Ride-sharing using Deep Reinforcement Learning{cite}`deeppool`"
   ]
  }
 ],
 "metadata": {
  "language_info": {
   "name": "python"
  },
  "orig_nbformat": 4
 },
 "nbformat": 4,
 "nbformat_minor": 2
}
