{
 "cells": [
  {
   "cell_type": "markdown",
   "metadata": {},
   "source": [
    "# Car-Sharing Service\n",
    "\n",
    "Let's imagine a car-sharing service using Shared Autonomous Vehicles (SAVs) operating in Toronto.\n",
    "\n",
    "Under this SAV model, The car-sharing platform would dispatch its autonomous vehicles from **depots** to **pickup locations**, driving the passenger to a **dropoff location**, and then proceeding either to the next passenger, or returning to the depot."
   ]
  },
  {
   "cell_type": "markdown",
   "metadata": {},
   "source": [
    "Let's define the following parameters to our example problem:\n",
    "\n",
    "1. Let's assume there are 10 vehicle depots scattered around the city of Toronto.\n",
    "2. There are also 10 passengers at different locations all waiting for an SAV.\n",
    "3. The goal is to assign vehicles to passengers in such a way to optmize for some constraints.\n",
    "\n",
    "Additionally, let's consider the following:\n",
    "* Each SAV can seat 4 passengers, so multipassenger trips may be possible.\n",
    "* Each depot  can only accomodate one SAV at a time.\n",
    "* Gas costs 0.3 per unit of distance.\n",
    "* SAVs earn 0.8 per unit of distance.\n",
    "* SAVs travel at an average speed of 0.5 units of distance per unit of time."
   ]
  },
  {
   "cell_type": "markdown",
   "metadata": {},
   "source": [
    "For this example, we'll implement GA. For the time being, we'll also limit trips to single passenger only; this simplifies the solution."
   ]
  },
  {
   "cell_type": "code",
   "execution_count": 3,
   "metadata": {},
   "outputs": [],
   "source": [
    "import pandas as pd\n",
    "from smart_mobility_utilities.poi import poi\n",
    "\n",
    "# Import location data\n",
    "depots = pd.read_csv(\"carshare/carshare_depot.csv\")\n",
    "depot_nodes = [poi(row['address'],'canada',row['lat'],row['lng']) for index, row in depots.iterrows()]\n",
    "pickups = pd.read_csv(\"carshare/carshare_origin.csv\")\n",
    "pickup_nodes = [poi(row['address'],'canada',row['lat'],row['lng']) for index, row in pickups.iterrows()]\n",
    "dropoffs = pd.read_csv(\"carshare/carshare_dest.csv\")\n",
    "dropoff_nodes = [poi(row['address'],'canada',row['lat'],row['lng']) for index, row in dropoffs.iterrows()]"
   ]
  },
  {
   "cell_type": "markdown",
   "metadata": {},
   "source": [
    "## Utility Functions\n",
    "\n",
    "First, let's define some useful functions that will be used in our implementation."
   ]
  },
  {
   "cell_type": "markdown",
   "metadata": {},
   "source": [
    "### Crossover and Mutation\n",
    "We will use an Order 1 Crossover with a Swap Mutation for this implementation."
   ]
  },
  {
   "cell_type": "code",
   "execution_count": 4,
   "metadata": {},
   "outputs": [],
   "source": [
    "from smart_mobility_utilities.problem import ordOne_crossover, swap_mutation"
   ]
  },
  {
   "cell_type": "markdown",
   "metadata": {},
   "source": [
    "### Distance\n",
    "We can define the distance from one stop to the next as simply the driving distance, as calculated by `osrm`. "
   ]
  },
  {
   "cell_type": "code",
   "execution_count": 5,
   "metadata": {},
   "outputs": [],
   "source": [
    "from smart_mobility_utilities.poi import poi\n",
    "def distance(start,end):\n",
    "    # We can use the poi class that depends on osrm routing between two nodes\n",
    "    return start.route_to(end)['length']\n",
    "    "
   ]
  },
  {
   "cell_type": "markdown",
   "metadata": {},
   "source": [
    "We can, however, store these distances in a trip matrix, as `osrm` is rather slow."
   ]
  },
  {
   "cell_type": "code",
   "execution_count": 6,
   "metadata": {},
   "outputs": [],
   "source": [
    "tm = pd.read_csv(\"carshare/trip_matrix.csv\").values\n",
    "trip_matrix = {}\n",
    "all_points = depot_nodes + pickup_nodes + dropoff_nodes\n",
    "for point in all_points:\n",
    "    i = all_points.index(point)\n",
    "    trip_matrix[point] = {}\n",
    "    for point2 in all_points:\n",
    "        j = all_points.index(point2)\n",
    "        trip_matrix[point][point2] = tm[i][j+1]"
   ]
  },
  {
   "cell_type": "markdown",
   "metadata": {},
   "source": [
    "### Random Solution Generation\n",
    "We can generate a random \"solution\" by defining the number of passengers it needs to serve."
   ]
  },
  {
   "cell_type": "code",
   "execution_count": 7,
   "metadata": {},
   "outputs": [],
   "source": [
    "def find_depots(route): \n",
    "    start = route[0]\n",
    "    end = route[-1]\n",
    "    distances_to_start = [trip_matrix[x][start] for x in depot_nodes]\n",
    "    distances_from_end = [trip_matrix[end][x] for x in depot_nodes]\n",
    "    start_depot = depot_nodes[distances_to_start.index(min(distances_to_start))]\n",
    "    end_depot = depot_nodes[distances_from_end.index(min(distances_from_end))]\n",
    "    route = [start_depot] + route + [end_depot]\n",
    "    return route"
   ]
  },
  {
   "cell_type": "code",
   "execution_count": 8,
   "metadata": {},
   "outputs": [],
   "source": [
    "import random\n",
    "def random_solution(depots,pickups,dropoffs,n):\n",
    "    route = []\n",
    "    can_visit = pickups.copy()\n",
    "    for i in range(n):\n",
    "        # select a random pickup location\n",
    "        random_pickup = random.choice(can_visit)\n",
    "        route.append(random_pickup)\n",
    "        can_visit.pop(can_visit.index(random_pickup))\n",
    "        \n",
    "    # now we can choose the depot closest to starting and ending locations\n",
    "    route = find_depots(route)\n",
    "    return route\n",
    "            "
   ]
  },
  {
   "cell_type": "markdown",
   "metadata": {},
   "source": [
    "### Fitness\n",
    "\n",
    "We can define the fitness of a solution in terms of its real world cost. Since the only cost provided above is the cost of gas, which is directly related to distance travelled, we can consider total fleet distance as a variable to minimize. It may also be interesting to minimize overall mileage on the fleet for the purposes of maintenance, but this too is essentially a minimization of total fleet distance.\n",
    "\n",
    "Let's assume that the **number** of vehicles is not a cost driver. That is to say, driving 4 km on one vehicle is more costly than driving 1 km on two vehicles, and equivalent to driving 2 km on two vehicles. This favours using more vehicles whenever convenient, which also minimizes passengers per vehicle (the maximum is 4 per vehicle, but maybe we prefer less?).\n",
    "\n",
    "To that end, the cost of driving is as follows:\n",
    "\n",
    "$ C = g \\times \\sum_{n=1}^{N} \\sum_{j=1}^{S_n} \\sum_{k=1}^{len(S_n)-1} distance(S_n^k,S_n^{k+1})$\n",
    "\n",
    "Where\n",
    "* $N=$ total number of vehicles being used\n",
    "* $S_n=$ list of stops for vehicle $n$, where $S_n^k$ is the $k$ th stop for vehicle $n$\n",
    "* $g=$ the cost of fuel per distance\n",
    "\n",
    "However, we also *earn* money from driving, as long as we have a passenger in the vehicle. This means:\n",
    "\n",
    "$ R = r \\times \\sum_{n=1}^{N} \\sum_{j=1}^{S_n} \\sum_{k=1}^{len(S_n)-1} distance(S_n^k,S_n^{k+1})$\n",
    "\n",
    "Where\n",
    "* $N=$ total number of vehicles being used\n",
    "* $S_n=$ list of stops for vehicle $n$, where $S_n^k$ is the $k$ th stop for vehicle $n$ **AND** $S_n^k$ is a pickup, and $S_n^{k+1}$ is a dropoff. This means we *don't* make money when the car is going from dropoff to the next pickup, and we don't make money to and from the depots.\n",
    "* $g=$ the cost of fuel per distance"
   ]
  },
  {
   "cell_type": "markdown",
   "metadata": {},
   "source": [
    "Profit is the calculated as being $P=R-C$"
   ]
  },
  {
   "cell_type": "code",
   "execution_count": 9,
   "metadata": {},
   "outputs": [],
   "source": [
    "def expand_route(route, pickups, dropoffs):\n",
    "    actual_route = []\n",
    "    for stop in route:\n",
    "        if stop not in pickups:\n",
    "            # It is a depot\n",
    "            actual_route.append(stop)\n",
    "            continue\n",
    "        actual_route.append(stop)\n",
    "        drop = dropoffs[pickups.index(stop)]\n",
    "        actual_route.append(drop)\n",
    "    return actual_route"
   ]
  },
  {
   "cell_type": "code",
   "execution_count": 10,
   "metadata": {},
   "outputs": [],
   "source": [
    "def fitness(solutions, trip_matrix):\n",
    "    result = []\n",
    "    for vehicle_route in solutions:\n",
    "        # We need to expand the routes into pickup-dropoffs to calculate actual cost\n",
    "        expanded_route = expand_route(vehicle_route, pickup_nodes, dropoff_nodes)\n",
    "        total = 0\n",
    "        for stop, next_stop in zip(expanded_route[:-1], expanded_route[1:]):\n",
    "            if stop in pickup_nodes and next_stop in dropoff_nodes:\n",
    "                cost_factor = 0.5\n",
    "            else:\n",
    "                cost_factor = -0.3\n",
    "            total += cost_factor * trip_matrix[stop][next_stop]\n",
    "        result.append(total)\n",
    "    return result"
   ]
  },
  {
   "cell_type": "markdown",
   "metadata": {},
   "source": [
    "## Solution using Genetic Algorithm (Single Vehicle)"
   ]
  },
  {
   "cell_type": "code",
   "execution_count": 15,
   "metadata": {},
   "outputs": [],
   "source": [
    "# Initialize some parameters\n",
    "pop_size = 16\n",
    "iterations = 1000\n",
    "num_parents = 8\n",
    "mutation_prob = 0.3\n",
    "crossover_prob = 0.7"
   ]
  },
  {
   "cell_type": "markdown",
   "metadata": {},
   "source": [
    "The problem can be further defined as a problem of passenger allocation. For a one-vehicle solution, all 17 passengers are allocated to the lone vehicle. In this case, the vehicle must find the shortest route from the first depot, through all 17 pickup and dropoff locations, and finally back to a depot.\n",
    "\n",
    "For any solution with $n\\ge2$ vehicles, each vehicle gets one or more passengers assigned to it, and must go from its initial depot, through its assigned passengers, and terminate at an available station."
   ]
  },
  {
   "cell_type": "markdown",
   "metadata": {},
   "source": [
    "Let's try it first with only 1 vehicle:"
   ]
  },
  {
   "cell_type": "code",
   "execution_count": 16,
   "metadata": {},
   "outputs": [
    {
     "data": {
      "text/plain": [
       "[16.490000000002397,\n",
       " -4187.53,\n",
       " -1417.2099999999987,\n",
       " 13422.649999999998,\n",
       " 7920.830000000001,\n",
       " 2463.0499999999993,\n",
       " 5650.340000000002,\n",
       " 4735.219999999999,\n",
       " 10017.439999999999,\n",
       " 10417.430000000002,\n",
       " 3814.190000000004,\n",
       " 8336.75,\n",
       " 6662.540000000001,\n",
       " 4000.6100000000015,\n",
       " 4255.9400000000005,\n",
       " 5830.1]"
      ]
     },
     "execution_count": 16,
     "metadata": {},
     "output_type": "execute_result"
    }
   ],
   "source": [
    "# Generate initial population\n",
    "population = [random_solution(depot_nodes,pickup_nodes,dropoff_nodes,10) for _ in range(pop_size)]\n",
    "costs = fitness(population, trip_matrix)\n",
    "costs"
   ]
  },
  {
   "cell_type": "code",
   "execution_count": 17,
   "metadata": {},
   "outputs": [],
   "source": [
    "from heapq import nlargest\n",
    "\n",
    "states = []\n",
    "# The main genetic algorithm\n",
    "for _ in range(iterations):\n",
    "    costs = fitness(population, trip_matrix)\n",
    "    states.append(max(costs))\n",
    "    # Select the parents, we want to maximize the profit\n",
    "    parents = nlargest(num_parents,population, key=lambda x: costs[population.index(x)])\n",
    "    # Need to remove depots from the routes\n",
    "    parents = [x[1:-1] for x in parents]\n",
    "    offspring = []\n",
    "    new_population = []\n",
    "    for p1, p2 in zip(parents[:len(parents)//2],parents[len(parents)//2:]):\n",
    "        # Crossover probability\n",
    "        if random.random() < crossover_prob:\n",
    "            offspring.append(ordOne_crossover(p1,p2))\n",
    "            offspring.append(ordOne_crossover(p2,p1))\n",
    "        else:\n",
    "            offspring.append(p1)\n",
    "            offspring.append(p2)\n",
    "    for child in offspring:\n",
    "        if random.random() < mutation_prob:\n",
    "            new_population.append(swap_mutation(child))\n",
    "        else:\n",
    "            new_population.append(child)\n",
    "    new_population.extend(parents)\n",
    "    population = [find_depots(route) for route in new_population]\n",
    "    "
   ]
  },
  {
   "cell_type": "code",
   "execution_count": 18,
   "metadata": {},
   "outputs": [
    {
     "data": {
      "image/png": "[encoded data removed]",
      "text/plain": [
       "<Figure size 432x288 with 1 Axes>"
      ]
     },
     "metadata": {
      "needs_background": "light"
     },
     "output_type": "display_data"
    }
   ],
   "source": [
    "import matplotlib.pyplot as plt\n",
    "plt.plot(states)\n",
    "plt.xlabel(\"Iterations\")\n",
    "plt.ylabel(\"Cost\")\n",
    "plt.show()"
   ]
  },
  {
   "cell_type": "code",
   "execution_count": 19,
   "metadata": {},
   "outputs": [
    {
     "name": "stdout",
     "output_type": "stream",
     "text": [
      "Cost of route: 18265.37\n"
     ]
    },
    {
     "data": {
      "text/html": [
       "<div style=\"width:100%;\"><div style=\"position:relative;width:100%;height:0;padding-bottom:60%;\"><span style=\"color:#565656\">Make this Notebook Trusted to load map: File -> Trust Notebook</span><iframe src=\"about:blank\" style=\"position:absolute;width:100%;height:100%;left:0;top:0;border:none !important;\" data-html=%3C%21DOCTYPE%20html%3E%0A%3Chead%3E%20%20%20%20%0A%20%20%20%20%3Cmeta%20http-equiv%3D%22content-type%22%20content%3D%22text/html%3B%20charset%3DUTF-8%22%20/%3E%0A%20%20%20%20%0A%20%20%20%20%20%20%20%20%3Cscript%3E%0A%20%20%20%20%20%20%20%20%20%20%20%20L_NO_TOUCH%20%3D%20false%3B%0A%20%20%20%20%20%20%20%20%20%20%20%20L_DISABLE_3D%20%3D%20false%3B%0A%20%20%20%20%20%20%20%20%3C/script%3E%0A%20%20%20%20%0A%20%20%20%20%3Cstyle%3Ehtml%2C%20body%20%7Bwidth%3A%20100%25%3Bheight%3A%20100%25%3Bmargin%3A%200%3Bpadding%3A%200%3B%7D%3C/style%3E%0A%20%20%20%20%3Cstyle%3E%23map%20%7Bposition%3Aabsolute%3Btop%3A0%3Bbottom%3A0%3Bright%3A0%3Bleft%3A0%3B%7D%3C/style%3E%0A%20%20%20%20%3Cscript%20src%3D%22https%3A//cdn.jsdelivr.net/npm/leaflet%401.6.0/dist/leaflet.js%22%3E%3C/script%3E%0A%20%20%20%20%3Cscript%20src%3D%22https%3A//code.jquery.com/jquery-1.12.4.min.js%22%3E%3C/script%3E%0A%20%20%20%20%3Cscript%20src%3D%22https%3A//maxcdn.bootstrapcdn.com/bootstrap/3.2.0/js/bootstrap.min.js%22%3E%3C/script%3E%0A%20%20%20%20%3Cscript%20src%3D%22https%3A//cdnjs.cloudflare.com/ajax/libs/Leaflet.awesome-markers/2.0.2/leaflet.awesome-markers.js%22%3E%3C/script%3E%0A%20%20%20%20%3Clink%20rel%3D%22stylesheet%22%20href%3D%22https%3A//cdn.jsdelivr.net/npm/leaflet%401.6.0/dist/leaflet.css%22/%3E%0A%20%20%20%20%3Clink%20rel%3D%22stylesheet%22%20href%3D%22https%3A//maxcdn.bootstrapcdn.com/bootstrap/3.2.0/css/bootstrap.min.css%22/%3E%0A%20%20%20%20%3Clink%20rel%3D%22stylesheet%22%20href%3D%22https%3A//maxcdn.bootstrapcdn.com/bootstrap/3.2.0/css/bootstrap-theme.min.css%22/%3E%0A%20%20%20%20%3Clink%20rel%3D%22stylesheet%22%20href%3D%22https%3A//maxcdn.bootstrapcdn.com/font-awesome/4.6.3/css/font-awesome.min.css%22/%3E%0A%20%20%20%20%3Clink%20rel%3D%22stylesheet%22%20href%3D%22https%3A//cdnjs.cloudflare.com/ajax/libs/Leaflet.awesome-markers/2.0.2/leaflet.awesome-markers.css%22/%3E%0A%20%20%20%20%3Clink%20rel%3D%22stylesheet%22%20href%3D%22https%3A//cdn.jsdelivr.net/gh/python-visualization/folium/folium/templates/leaflet.awesome.rotate.min.css%22/%3E%0A%20%20%20%20%0A%20%20%20%20%20%20%20%20%20%20%20%20%3Cmeta%20name%3D%22viewport%22%20content%3D%22width%3Ddevice-width%2C%0A%20%20%20%20%20%20%20%20%20%20%20%20%20%20%20%20initial-scale%3D1.0%2C%20maximum-scale%3D1.0%2C%20user-scalable%3Dno%22%20/%3E%0A%20%20%20%20%20%20%20%20%20%20%20%20%3Cstyle%3E%0A%20%20%20%20%20%20%20%20%20%20%20%20%20%20%20%20%23map_10391a7165704a978e48dbe9406f07fe%20%7B%0A%20%20%20%20%20%20%20%20%20%20%20%20%20%20%20%20%20%20%20%20position%3A%20relative%3B%0A%20%20%20%20%20%20%20%20%20%20%20%20%20%20%20%20%20%20%20%20width%3A%20100.0%25%3B%0A%20%20%20%20%20%20%20%20%20%20%20%20%20%20%20%20%20%20%20%20height%3A%20100.0%25%3B%0A%20%20%20%20%20%20%20%20%20%20%20%20%20%20%20%20%20%20%20%20left%3A%200.0%25%3B%0A%20%20%20%20%20%20%20%20%20%20%20%20%20%20%20%20%20%20%20%20top%3A%200.0%25%3B%0A%20%20%20%20%20%20%20%20%20%20%20%20%20%20%20%20%7D%0A%20%20%20%20%20%20%20%20%20%20%20%20%3C/style%3E%0A%20%20%20%20%20%20%20%20%0A%20%20%20%20%3Cscript%20src%3D%22https%3A//cdn.jsdelivr.net/npm/leaflet-ant-path%401.1.2/dist/leaflet-ant-path.min.js%22%3E%3C/script%3E%0A%3C/head%3E%0A%3Cbody%3E%20%20%20%20%0A%20%20%20%20%0A%20%20%20%20%20%20%20%20%20%20%20%20%3Cdiv%20class%3D%22folium-map%22%20id%3D%22map_10391a7165704a978e48dbe9406f07fe%22%20%3E%3C/div%3E%0A%20%20%20%20%20%20%20%20%0A%3C/body%3E%0A%3Cscript%3E%20%20%20%20%0A%20%20%20%20%0A%20%20%20%20%20%20%20%20%20%20%20%20var%20map_10391a7165704a978e48dbe9406f07fe%20%3D%20L.map%28%0A%20%20%20%20%20%20%20%20%20%20%20%20%20%20%20%20%22map_10391a7165704a978e48dbe9406f07fe%22%2C%0A%20%20%20%20%20%20%20%20%20%20%20%20%20%20%20%20%7B%0A%20%20%20%20%20%20%20%20%20%20%20%20%20%20%20%20%20%20%20%20center%3A%20%5B0%2C%200%5D%2C%0A%20%20%20%20%20%20%20%20%20%20%20%20%20%20%20%20%20%20%20%20crs%3A%20L.CRS.EPSG3857%2C%0A%20%20%20%20%20%20%20%20%20%20%20%20%20%20%20%20%20%20%20%20zoom%3A%201%2C%0A%20%20%20%20%20%20%20%20%20%20%20%20%20%20%20%20%20%20%20%20zoomControl%3A%20true%2C%0A%20%20%20%20%20%20%20%20%20%20%20%20%20%20%20%20%20%20%20%20preferCanvas%3A%20false%2C%0A%20%20%20%20%20%20%20%20%20%20%20%20%20%20%20%20%7D%0A%20%20%20%20%20%20%20%20%20%20%20%20%29%3B%0A%0A%20%20%20%20%20%20%20%20%20%20%20%20%0A%0A%20%20%20%20%20%20%20%20%0A%20%20%20%20%0A%20%20%20%20%20%20%20%20%20%20%20%20var%20tile_layer_e97246eea89b48a6926a43a9f28c3574%20%3D%20L.tileLayer%28%0A%20%20%20%20%20%20%20%20%20%20%20%20%20%20%20%20%22https%3A//%7Bs%7D.tile.openstreetmap.org/%7Bz%7D/%7Bx%7D/%7By%7D.png%22%2C%0A%20%20%20%20%20%20%20%20%20%20%20%20%20%20%20%20%7B%22attribution%22%3A%20%22Data%20by%20%5Cu0026copy%3B%20%5Cu003ca%20href%3D%5C%22http%3A//openstreetmap.org%5C%22%5Cu003eOpenStreetMap%5Cu003c/a%5Cu003e%2C%20under%20%5Cu003ca%20href%3D%5C%22http%3A//www.openstreetmap.org/copyright%5C%22%5Cu003eODbL%5Cu003c/a%5Cu003e.%22%2C%20%22detectRetina%22%3A%20false%2C%20%22maxNativeZoom%22%3A%2018%2C%20%22maxZoom%22%3A%2018%2C%20%22minZoom%22%3A%200%2C%20%22noWrap%22%3A%20false%2C%20%22opacity%22%3A%201%2C%20%22subdomains%22%3A%20%22abc%22%2C%20%22tms%22%3A%20false%7D%0A%20%20%20%20%20%20%20%20%20%20%20%20%29.addTo%28map_10391a7165704a978e48dbe9406f07fe%29%3B%0A%20%20%20%20%20%20%20%20%0A%20%20%20%20%0A%20%20%20%20%20%20%20%20%20%20%20%20map_10391a7165704a978e48dbe9406f07fe.fitBounds%28%0A%20%20%20%20%20%20%20%20%20%20%20%20%20%20%20%20%5B%5B%5B43.6449819%2C%20-79.5213028%5D%2C%20%5B43.6449819%2C%20-79.5213028%5D%5D%2C%20%5B%5B43.7670769%2C%20-79.3874067%5D%2C%20%5B43.688151500000004%2C%20-79.30037132608695%5D%5D%5D%2C%0A%20%20%20%20%20%20%20%20%20%20%20%20%20%20%20%20%7B%7D%0A%20%20%20%20%20%20%20%20%20%20%20%20%29%3B%0A%20%20%20%20%20%20%20%20%0A%20%20%20%20%0A%20%20%20%20%20%20%20%20%20%20%20%20var%20marker_bbb763574a4f4dcbb8b049e494c20215%20%3D%20L.marker%28%0A%20%20%20%20%20%20%20%20%20%20%20%20%20%20%20%20%5B43.664537%2C%20-79.380571%5D%2C%0A%20%20%20%20%20%20%20%20%20%20%20%20%20%20%20%20%7B%7D%0A%20%20%20%20%20%20%20%20%20%20%20%20%29.addTo%28map_10391a7165704a978e48dbe9406f07fe%29%3B%0A%20%20%20%20%20%20%20%20%0A%20%20%20%20%0A%20%20%20%20%20%20%20%20%20%20%20%20var%20icon_6d1b083cad5741adb8220bdc5f95a543%20%3D%20L.AwesomeMarkers.icon%28%0A%20%20%20%20%20%20%20%20%20%20%20%20%20%20%20%20%7B%22extraClasses%22%3A%20%22fa-rotate-0%22%2C%20%22icon%22%3A%20%22info-sign%22%2C%20%22iconColor%22%3A%20%22white%22%2C%20%22markerColor%22%3A%20%22white%22%2C%20%22prefix%22%3A%20%22glyphicon%22%7D%0A%20%20%20%20%20%20%20%20%20%20%20%20%29%3B%0A%20%20%20%20%20%20%20%20%20%20%20%20marker_bbb763574a4f4dcbb8b049e494c20215.setIcon%28icon_6d1b083cad5741adb8220bdc5f95a543%29%3B%0A%20%20%20%20%20%20%20%20%0A%20%20%20%20%0A%20%20%20%20%20%20%20%20%20%20%20%20var%20marker_71000a5ce774472e9288b91951c32719%20%3D%20L.marker%28%0A%20%20%20%20%20%20%20%20%20%20%20%20%20%20%20%20%5B43.664537%2C%20-79.380571%5D%2C%0A%20%20%20%20%20%20%20%20%20%20%20%20%20%20%20%20%7B%7D%0A%20%20%20%20%20%20%20%20%20%20%20%20%29.addTo%28map_10391a7165704a978e48dbe9406f07fe%29%3B%0A%20%20%20%20%20%20%20%20%0A%20%20%20%20%0A%20%20%20%20%20%20%20%20%20%20%20%20var%20div_icon_88466087cecd402fb55d6ea815741a57%20%3D%20L.divIcon%28%7B%22className%22%3A%20%22empty%22%2C%20%22html%22%3A%20%22%5Cu003cspan%20class%3D%5C%22fa-stack%20%5C%22%20style%3D%5C%22font-size%3A%2012pt%5C%22%20%5Cu003e%5Cn%20%20%20%20%20%20%20%20%20%20%20%20%20%20%20%20%20%20%20%20%5Cu003cspan%20class%3D%5C%22fa%20fa-circle-o%20fa-stack-2x%5C%22%20style%3D%5C%22color%20%3A%20blue%5C%22%5Cu003e%5Cu003c/span%5Cu003e%5Cn%20%20%20%20%20%20%20%20%20%20%20%20%20%20%20%20%20%20%20%20%5Cu003cstrong%20class%3D%5C%22fa-stack-1x%5C%22%5Cu003e%5Cn%20%20%20%20%20%20%20%20%20%20%20%20%20%20%20%20%20%20%20%20%20%20%20%20%20%201%20%20%5Cn%20%20%20%20%20%20%20%20%20%20%20%20%20%20%20%20%20%20%20%20%5Cu003c/strong%5Cu003e%5Cn%20%20%20%20%20%20%20%20%20%20%20%20%20%20%20%20%5Cu003c/span%5Cu003e%22%2C%20%22iconAnchor%22%3A%20%5B12%2C%2040%5D%2C%20%22iconSize%22%3A%20%5B150%2C%2036%5D%7D%29%3B%0A%20%20%20%20%20%20%20%20%20%20%20%20marker_71000a5ce774472e9288b91951c32719.setIcon%28div_icon_88466087cecd402fb55d6ea815741a57%29%3B%0A%20%20%20%20%20%20%20%20%0A%20%20%20%20%0A%20%20%20%20%20%20%20%20%20%20%20%20var%20marker_dfb32fa440e44f24bdcc0a03ae199c4b%20%3D%20L.marker%28%0A%20%20%20%20%20%20%20%20%20%20%20%20%20%20%20%20%5B43.6650706%2C%20-79.4109354%5D%2C%0A%20%20%20%20%20%20%20%20%20%20%20%20%20%20%20%20%7B%7D%0A%20%20%20%20%20%20%20%20%20%20%20%20%29.addTo%28map_10391a7165704a978e48dbe9406f07fe%29%3B%0A%20%20%20%20%20%20%20%20%0A%20%20%20%20%0A%20%20%20%20%20%20%20%20%20%20%20%20var%20icon_592ca894c26f4931bb1801ec3dd49026%20%3D%20L.AwesomeMarkers.icon%28%0A%20%20%20%20%20%20%20%20%20%20%20%20%20%20%20%20%7B%22extraClasses%22%3A%20%22fa-rotate-0%22%2C%20%22icon%22%3A%20%22info-sign%22%2C%20%22iconColor%22%3A%20%22white%22%2C%20%22markerColor%22%3A%20%22white%22%2C%20%22prefix%22%3A%20%22glyphicon%22%7D%0A%20%20%20%20%20%20%20%20%20%20%20%20%29%3B%0A%20%20%20%20%20%20%20%20%20%20%20%20marker_dfb32fa440e44f24bdcc0a03ae199c4b.setIcon%28icon_592ca894c26f4931bb1801ec3dd49026%29%3B%0A%20%20%20%20%20%20%20%20%0A%20%20%20%20%0A%20%20%20%20%20%20%20%20%20%20%20%20var%20marker_2dfbbf73607841a69c462351f2f7299c%20%3D%20L.marker%28%0A%20%20%20%20%20%20%20%20%20%20%20%20%20%20%20%20%5B43.6650706%2C%20-79.4109354%5D%2C%0A%20%20%20%20%20%20%20%20%20%20%20%20%20%20%20%20%7B%7D%0A%20%20%20%20%20%20%20%20%20%20%20%20%29.addTo%28map_10391a7165704a978e48dbe9406f07fe%29%3B%0A%20%20%20%20%20%20%20%20%0A%20%20%20%20%0A%20%20%20%20%20%20%20%20%20%20%20%20var%20div_icon_7dd5b424e85b4438930d98a258bd3b0f%20%3D%20L.divIcon%28%7B%22className%22%3A%20%22empty%22%2C%20%22html%22%3A%20%22%5Cu003cspan%20class%3D%5C%22fa-stack%20%5C%22%20style%3D%5C%22font-size%3A%2012pt%5C%22%20%5Cu003e%5Cn%20%20%20%20%20%20%20%20%20%20%20%20%20%20%20%20%20%20%20%20%5Cu003cspan%20class%3D%5C%22fa%20fa-circle-o%20fa-stack-2x%5C%22%20style%3D%5C%22color%20%3A%20green%5C%22%5Cu003e%5Cu003c/span%5Cu003e%5Cn%20%20%20%20%20%20%20%20%20%20%20%20%20%20%20%20%20%20%20%20%5Cu003cstrong%20class%3D%5C%22fa-stack-1x%5C%22%5Cu003e%5Cn%20%20%20%20%20%20%20%20%20%20%20%20%20%20%20%20%20%20%20%20%20%20%20%20%20%202%20%20%5Cn%20%20%20%20%20%20%20%20%20%20%20%20%20%20%20%20%20%20%20%20%5Cu003c/strong%5Cu003e%5Cn%20%20%20%20%20%20%20%20%20%20%20%20%20%20%20%20%5Cu003c/span%5Cu003e%22%2C%20%22iconAnchor%22%3A%20%5B12%2C%2040%5D%2C%20%22iconSize%22%3A%20%5B150%2C%2036%5D%7D%29%3B%0A%20%20%20%20%20%20%20%20%20%20%20%20marker_2dfbbf73607841a69c462351f2f7299c.setIcon%28div_icon_7dd5b424e85b4438930d98a258bd3b0f%29%3B%0A%20%20%20%20%20%20%20%20%0A%20%20%20%20%0A%20%20%20%20%20%20%20%20%20%20%20%20var%20marker_869dafec4b0047ceb3029f63b34fb574%20%3D%20L.marker%28%0A%20%20%20%20%20%20%20%20%20%20%20%20%20%20%20%20%5B43.6832559%2C%20-79.3907628%5D%2C%0A%20%20%20%20%20%20%20%20%20%20%20%20%20%20%20%20%7B%7D%0A%20%20%20%20%20%20%20%20%20%20%20%20%29.addTo%28map_10391a7165704a978e48dbe9406f07fe%29%3B%0A%20%20%20%20%20%20%20%20%0A%20%20%20%20%0A%20%20%20%20%20%20%20%20%20%20%20%20var%20icon_e360086df508499ca8ed98a9bebcec2b%20%3D%20L.AwesomeMarkers.icon%28%0A%20%20%20%20%20%20%20%20%20%20%20%20%20%20%20%20%7B%22extraClasses%22%3A%20%22fa-rotate-0%22%2C%20%22icon%22%3A%20%22info-sign%22%2C%20%22iconColor%22%3A%20%22white%22%2C%20%22markerColor%22%3A%20%22white%22%2C%20%22prefix%22%3A%20%22glyphicon%22%7D%0A%20%20%20%20%20%20%20%20%20%20%20%20%29%3B%0A%20%20%20%20%20%20%20%20%20%20%20%20marker_869dafec4b0047ceb3029f63b34fb574.setIcon%28icon_e360086df508499ca8ed98a9bebcec2b%29%3B%0A%20%20%20%20%20%20%20%20%0A%20%20%20%20%0A%20%20%20%20%20%20%20%20%20%20%20%20var%20marker_dbc1247c73594c0b9ec65ef6febbe636%20%3D%20L.marker%28%0A%20%20%20%20%20%20%20%20%20%20%20%20%20%20%20%20%5B43.6832559%2C%20-79.3907628%5D%2C%0A%20%20%20%20%20%20%20%20%20%20%20%20%20%20%20%20%7B%7D%0A%20%20%20%20%20%20%20%20%20%20%20%20%29.addTo%28map_10391a7165704a978e48dbe9406f07fe%29%3B%0A%20%20%20%20%20%20%20%20%0A%20%20%20%20%0A%20%20%20%20%20%20%20%20%20%20%20%20var%20div_icon_6bd13e3a3c254949a932438a7c4fc20b%20%3D%20L.divIcon%28%7B%22className%22%3A%20%22empty%22%2C%20%22html%22%3A%20%22%5Cu003cspan%20class%3D%5C%22fa-stack%20%5C%22%20style%3D%5C%22font-size%3A%2012pt%5C%22%20%5Cu003e%5Cn%20%20%20%20%20%20%20%20%20%20%20%20%20%20%20%20%20%20%20%20%5Cu003cspan%20class%3D%5C%22fa%20fa-circle-o%20fa-stack-2x%5C%22%20style%3D%5C%22color%20%3A%20red%5C%22%5Cu003e%5Cu003c/span%5Cu003e%5Cn%20%20%20%20%20%20%20%20%20%20%20%20%20%20%20%20%20%20%20%20%5Cu003cstrong%20class%3D%5C%22fa-stack-1x%5C%22%5Cu003e%5Cn%20%20%20%20%20%20%20%20%20%20%20%20%20%20%20%20%20%20%20%20%20%20%20%20%20%203%20%20%5Cn%20%20%20%20%20%20%20%20%20%20%20%20%20%20%20%20%20%20%20%20%5Cu003c/strong%5Cu003e%5Cn%20%20%20%20%20%20%20%20%20%20%20%20%20%20%20%20%5Cu003c/span%5Cu003e%22%2C%20%22iconAnchor%22%3A%20%5B12%2C%2040%5D%2C%20%22iconSize%22%3A%20%5B150%2C%2036%5D%7D%29%3B%0A%20%20%20%20%20%20%20%20%20%20%20%20marker_dbc1247c73594c0b9ec65ef6febbe636.setIcon%28div_icon_6bd13e3a3c254949a932438a7c4fc20b%29%3B%0A%20%20%20%20%20%20%20%20%0A%20%20%20%20%0A%20%20%20%20%20%20%20%20%20%20%20%20var%20marker_e72304f6beda40b7ad70e9c5d62f61e3%20%3D%20L.marker%28%0A%20%20%20%20%20%20%20%20%20%20%20%20%20%20%20%20%5B43.7670769%2C%20-79.3874067%5D%2C%0A%20%20%20%20%20%20%20%20%20%20%20%20%20%20%20%20%7B%7D%0A%20%20%20%20%20%20%20%20%20%20%20%20%29.addTo%28map_10391a7165704a978e48dbe9406f07fe%29%3B%0A%20%20%20%20%20%20%20%20%0A%20%20%20%20%0A%20%20%20%20%20%20%20%20%20%20%20%20var%20icon_ce09103e7cfc4e01a0018f1e474265e0%20%3D%20L.AwesomeMarkers.icon%28%0A%20%20%20%20%20%20%20%20%20%20%20%20%20%20%20%20%7B%22extraClasses%22%3A%20%22fa-rotate-0%22%2C%20%22icon%22%3A%20%22info-sign%22%2C%20%22iconColor%22%3A%20%22white%22%2C%20%22markerColor%22%3A%20%22white%22%2C%20%22prefix%22%3A%20%22glyphicon%22%7D%0A%20%20%20%20%20%20%20%20%20%20%20%20%29%3B%0A%20%20%20%20%20%20%20%20%20%20%20%20marker_e72304f6beda40b7ad70e9c5d62f61e3.setIcon%28icon_ce09103e7cfc4e01a0018f1e474265e0%29%3B%0A%20%20%20%20%20%20%20%20%0A%20%20%20%20%0A%20%20%20%20%20%20%20%20%20%20%20%20var%20marker_b1adfe32c76d4fabbd5b118d12dc2b0c%20%3D%20L.marker%28%0A%20%20%20%20%20%20%20%20%20%20%20%20%20%20%20%20%5B43.7670769%2C%20-79.3874067%5D%2C%0A%20%20%20%20%20%20%20%20%20%20%20%20%20%20%20%20%7B%7D%0A%20%20%20%20%20%20%20%20%20%20%20%20%29.addTo%28map_10391a7165704a978e48dbe9406f07fe%29%3B%0A%20%20%20%20%20%20%20%20%0A%20%20%20%20%0A%20%20%20%20%20%20%20%20%20%20%20%20var%20div_icon_b3133d52c8924e4082899fa50f2fb92a%20%3D%20L.divIcon%28%7B%22className%22%3A%20%22empty%22%2C%20%22html%22%3A%20%22%5Cu003cspan%20class%3D%5C%22fa-stack%20%5C%22%20style%3D%5C%22font-size%3A%2012pt%5C%22%20%5Cu003e%5Cn%20%20%20%20%20%20%20%20%20%20%20%20%20%20%20%20%20%20%20%20%5Cu003cspan%20class%3D%5C%22fa%20fa-circle-o%20fa-stack-2x%5C%22%20style%3D%5C%22color%20%3A%20green%5C%22%5Cu003e%5Cu003c/span%5Cu003e%5Cn%20%20%20%20%20%20%20%20%20%20%20%20%20%20%20%20%20%20%20%20%5Cu003cstrong%20class%3D%5C%22fa-stack-1x%5C%22%5Cu003e%5Cn%20%20%20%20%20%20%20%20%20%20%20%20%20%20%20%20%20%20%20%20%20%20%20%20%20%204%20%20%5Cn%20%20%20%20%20%20%20%20%20%20%20%20%20%20%20%20%20%20%20%20%5Cu003c/strong%5Cu003e%5Cn%20%20%20%20%20%20%20%20%20%20%20%20%20%20%20%20%5Cu003c/span%5Cu003e%22%2C%20%22iconAnchor%22%3A%20%5B12%2C%2040%5D%2C%20%22iconSize%22%3A%20%5B150%2C%2036%5D%7D%29%3B%0A%20%20%20%20%20%20%20%20%20%20%20%20marker_b1adfe32c76d4fabbd5b118d12dc2b0c.setIcon%28div_icon_b3133d52c8924e4082899fa50f2fb92a%29%3B%0A%20%20%20%20%20%20%20%20%0A%20%20%20%20%0A%20%20%20%20%20%20%20%20%20%20%20%20var%20marker_54fca7382bed4b6a9bbd9c2c21e807a0%20%3D%20L.marker%28%0A%20%20%20%20%20%20%20%20%20%20%20%20%20%20%20%20%5B43.6779976%2C%20-79.3887175%5D%2C%0A%20%20%20%20%20%20%20%20%20%20%20%20%20%20%20%20%7B%7D%0A%20%20%20%20%20%20%20%20%20%20%20%20%29.addTo%28map_10391a7165704a978e48dbe9406f07fe%29%3B%0A%20%20%20%20%20%20%20%20%0A%20%20%20%20%0A%20%20%20%20%20%20%20%20%20%20%20%20var%20icon_56e2e382802c4a19ab04a2428a374c19%20%3D%20L.AwesomeMarkers.icon%28%0A%20%20%20%20%20%20%20%20%20%20%20%20%20%20%20%20%7B%22extraClasses%22%3A%20%22fa-rotate-0%22%2C%20%22icon%22%3A%20%22info-sign%22%2C%20%22iconColor%22%3A%20%22white%22%2C%20%22markerColor%22%3A%20%22white%22%2C%20%22prefix%22%3A%20%22glyphicon%22%7D%0A%20%20%20%20%20%20%20%20%20%20%20%20%29%3B%0A%20%20%20%20%20%20%20%20%20%20%20%20marker_54fca7382bed4b6a9bbd9c2c21e807a0.setIcon%28icon_56e2e382802c4a19ab04a2428a374c19%29%3B%0A%20%20%20%20%20%20%20%20%0A%20%20%20%20%0A%20%20%20%20%20%20%20%20%20%20%20%20var%20marker_5a7f756e08ef4882896d61f7025cd5fe%20%3D%20L.marker%28%0A%20%20%20%20%20%20%20%20%20%20%20%20%20%20%20%20%5B43.6779976%2C%20-79.3887175%5D%2C%0A%20%20%20%20%20%20%20%20%20%20%20%20%20%20%20%20%7B%7D%0A%20%20%20%20%20%20%20%20%20%20%20%20%29.addTo%28map_10391a7165704a978e48dbe9406f07fe%29%3B%0A%20%20%20%20%20%20%20%20%0A%20%20%20%20%0A%20%20%20%20%20%20%20%20%20%20%20%20var%20div_icon_b932ba657567457d9dd72d7064fb3b5d%20%3D%20L.divIcon%28%7B%22className%22%3A%20%22empty%22%2C%20%22html%22%3A%20%22%5Cu003cspan%20class%3D%5C%22fa-stack%20%5C%22%20style%3D%5C%22font-size%3A%2012pt%5C%22%20%5Cu003e%5Cn%20%20%20%20%20%20%20%20%20%20%20%20%20%20%20%20%20%20%20%20%5Cu003cspan%20class%3D%5C%22fa%20fa-circle-o%20fa-stack-2x%5C%22%20style%3D%5C%22color%20%3A%20red%5C%22%5Cu003e%5Cu003c/span%5Cu003e%5Cn%20%20%20%20%20%20%20%20%20%20%20%20%20%20%20%20%20%20%20%20%5Cu003cstrong%20class%3D%5C%22fa-stack-1x%5C%22%5Cu003e%5Cn%20%20%20%20%20%20%20%20%20%20%20%20%20%20%20%20%20%20%20%20%20%20%20%20%20%205%20%20%5Cn%20%20%20%20%20%20%20%20%20%20%20%20%20%20%20%20%20%20%20%20%5Cu003c/strong%5Cu003e%5Cn%20%20%20%20%20%20%20%20%20%20%20%20%20%20%20%20%5Cu003c/span%5Cu003e%22%2C%20%22iconAnchor%22%3A%20%5B12%2C%2040%5D%2C%20%22iconSize%22%3A%20%5B150%2C%2036%5D%7D%29%3B%0A%20%20%20%20%20%20%20%20%20%20%20%20marker_5a7f756e08ef4882896d61f7025cd5fe.setIcon%28div_icon_b932ba657567457d9dd72d7064fb3b5d%29%3B%0A%20%20%20%20%20%20%20%20%0A%20%20%20%20%0A%20%20%20%20%20%20%20%20%20%20%20%20var%20marker_33f89dbe852846fe91c6a4374e662be4%20%3D%20L.marker%28%0A%20%20%20%20%20%20%20%20%20%20%20%20%20%20%20%20%5B43.697851%2C%20-79.3964245%5D%2C%0A%20%20%20%20%20%20%20%20%20%20%20%20%20%20%20%20%7B%7D%0A%20%20%20%20%20%20%20%20%20%20%20%20%29.addTo%28map_10391a7165704a978e48dbe9406f07fe%29%3B%0A%20%20%20%20%20%20%20%20%0A%20%20%20%20%0A%20%20%20%20%20%20%20%20%20%20%20%20var%20icon_8c606f9d189747c3859e3f6df9ea0847%20%3D%20L.AwesomeMarkers.icon%28%0A%20%20%20%20%20%20%20%20%20%20%20%20%20%20%20%20%7B%22extraClasses%22%3A%20%22fa-rotate-0%22%2C%20%22icon%22%3A%20%22info-sign%22%2C%20%22iconColor%22%3A%20%22white%22%2C%20%22markerColor%22%3A%20%22white%22%2C%20%22prefix%22%3A%20%22glyphicon%22%7D%0A%20%20%20%20%20%20%20%20%20%20%20%20%29%3B%0A%20%20%20%20%20%20%20%20%20%20%20%20marker_33f89dbe852846fe91c6a4374e662be4.setIcon%28icon_8c606f9d189747c3859e3f6df9ea0847%29%3B%0A%20%20%20%20%20%20%20%20%0A%20%20%20%20%0A%20%20%20%20%20%20%20%20%20%20%20%20var%20marker_bcdf561b81fb4a759f7034472e4ff03f%20%3D%20L.marker%28%0A%20%20%20%20%20%20%20%20%20%20%20%20%20%20%20%20%5B43.697851%2C%20-79.3964245%5D%2C%0A%20%20%20%20%20%20%20%20%20%20%20%20%20%20%20%20%7B%7D%0A%20%20%20%20%20%20%20%20%20%20%20%20%29.addTo%28map_10391a7165704a978e48dbe9406f07fe%29%3B%0A%20%20%20%20%20%20%20%20%0A%20%20%20%20%0A%20%20%20%20%20%20%20%20%20%20%20%20var%20div_icon_f727220e28754a6192532ba4bf257ce1%20%3D%20L.divIcon%28%7B%22className%22%3A%20%22empty%22%2C%20%22html%22%3A%20%22%5Cu003cspan%20class%3D%5C%22fa-stack%20%5C%22%20style%3D%5C%22font-size%3A%2012pt%5C%22%20%5Cu003e%5Cn%20%20%20%20%20%20%20%20%20%20%20%20%20%20%20%20%20%20%20%20%5Cu003cspan%20class%3D%5C%22fa%20fa-circle-o%20fa-stack-2x%5C%22%20style%3D%5C%22color%20%3A%20green%5C%22%5Cu003e%5Cu003c/span%5Cu003e%5Cn%20%20%20%20%20%20%20%20%20%20%20%20%20%20%20%20%20%20%20%20%5Cu003cstrong%20class%3D%5C%22fa-stack-1x%5C%22%5Cu003e%5Cn%20%20%20%20%20%20%20%20%20%20%20%20%20%20%20%20%20%20%20%20%20%20%20%20%20%206%20%20%5Cn%20%20%20%20%20%20%20%20%20%20%20%20%20%20%20%20%20%20%20%20%5Cu003c/strong%5Cu003e%5Cn%20%20%20%20%20%20%20%20%20%20%20%20%20%20%20%20%5Cu003c/span%5Cu003e%22%2C%20%22iconAnchor%22%3A%20%5B12%2C%2040%5D%2C%20%22iconSize%22%3A%20%5B150%2C%2036%5D%7D%29%3B%0A%20%20%20%20%20%20%20%20%20%20%20%20marker_bcdf561b81fb4a759f7034472e4ff03f.setIcon%28div_icon_f727220e28754a6192532ba4bf257ce1%29%3B%0A%20%20%20%20%20%20%20%20%0A%20%20%20%20%0A%20%20%20%20%20%20%20%20%20%20%20%20var%20marker_4b3774c7062a4275a20cc44b287c66a1%20%3D%20L.marker%28%0A%20%20%20%20%20%20%20%20%20%20%20%20%20%20%20%20%5B43.688151500000004%2C%20-79.30037132608695%5D%2C%0A%20%20%20%20%20%20%20%20%20%20%20%20%20%20%20%20%7B%7D%0A%20%20%20%20%20%20%20%20%20%20%20%20%29.addTo%28map_10391a7165704a978e48dbe9406f07fe%29%3B%0A%20%20%20%20%20%20%20%20%0A%20%20%20%20%0A%20%20%20%20%20%20%20%20%20%20%20%20var%20icon_493dd719239d4e3ca58bd5970037eeec%20%3D%20L.AwesomeMarkers.icon%28%0A%20%20%20%20%20%20%20%20%20%20%20%20%20%20%20%20%7B%22extraClasses%22%3A%20%22fa-rotate-0%22%2C%20%22icon%22%3A%20%22info-sign%22%2C%20%22iconColor%22%3A%20%22white%22%2C%20%22markerColor%22%3A%20%22white%22%2C%20%22prefix%22%3A%20%22glyphicon%22%7D%0A%20%20%20%20%20%20%20%20%20%20%20%20%29%3B%0A%20%20%20%20%20%20%20%20%20%20%20%20marker_4b3774c7062a4275a20cc44b287c66a1.setIcon%28icon_493dd719239d4e3ca58bd5970037eeec%29%3B%0A%20%20%20%20%20%20%20%20%0A%20%20%20%20%0A%20%20%20%20%20%20%20%20%20%20%20%20var%20marker_1f683e4c573c40599bee8e8f01641809%20%3D%20L.marker%28%0A%20%20%20%20%20%20%20%20%20%20%20%20%20%20%20%20%5B43.688151500000004%2C%20-79.30037132608695%5D%2C%0A%20%20%20%20%20%20%20%20%20%20%20%20%20%20%20%20%7B%7D%0A%20%20%20%20%20%20%20%20%20%20%20%20%29.addTo%28map_10391a7165704a978e48dbe9406f07fe%29%3B%0A%20%20%20%20%20%20%20%20%0A%20%20%20%20%0A%20%20%20%20%20%20%20%20%20%20%20%20var%20div_icon_85a5fb21db5047da8b69a5cab59fa711%20%3D%20L.divIcon%28%7B%22className%22%3A%20%22empty%22%2C%20%22html%22%3A%20%22%5Cu003cspan%20class%3D%5C%22fa-stack%20%5C%22%20style%3D%5C%22font-size%3A%2012pt%5C%22%20%5Cu003e%5Cn%20%20%20%20%20%20%20%20%20%20%20%20%20%20%20%20%20%20%20%20%5Cu003cspan%20class%3D%5C%22fa%20fa-circle-o%20fa-stack-2x%5C%22%20style%3D%5C%22color%20%3A%20red%5C%22%5Cu003e%5Cu003c/span%5Cu003e%5Cn%20%20%20%20%20%20%20%20%20%20%20%20%20%20%20%20%20%20%20%20%5Cu003cstrong%20class%3D%5C%22fa-stack-1x%5C%22%5Cu003e%5Cn%20%20%20%20%20%20%20%20%20%20%20%20%20%20%20%20%20%20%20%20%20%20%20%20%20%207%20%20%5Cn%20%20%20%20%20%20%20%20%20%20%20%20%20%20%20%20%20%20%20%20%5Cu003c/strong%5Cu003e%5Cn%20%20%20%20%20%20%20%20%20%20%20%20%20%20%20%20%5Cu003c/span%5Cu003e%22%2C%20%22iconAnchor%22%3A%20%5B12%2C%2040%5D%2C%20%22iconSize%22%3A%20%5B150%2C%2036%5D%7D%29%3B%0A%20%20%20%20%20%20%20%20%20%20%20%20marker_1f683e4c573c40599bee8e8f01641809.setIcon%28div_icon_85a5fb21db5047da8b69a5cab59fa711%29%3B%0A%20%20%20%20%20%20%20%20%0A%20%20%20%20%0A%20%20%20%20%20%20%20%20%20%20%20%20var%20marker_f6659e6b26bb489c8b1f097388a8c368%20%3D%20L.marker%28%0A%20%20%20%20%20%20%20%20%20%20%20%20%20%20%20%20%5B43.6763669%2C%20-79.3586755%5D%2C%0A%20%20%20%20%20%20%20%20%20%20%20%20%20%20%20%20%7B%7D%0A%20%20%20%20%20%20%20%20%20%20%20%20%29.addTo%28map_10391a7165704a978e48dbe9406f07fe%29%3B%0A%20%20%20%20%20%20%20%20%0A%20%20%20%20%0A%20%20%20%20%20%20%20%20%20%20%20%20var%20icon_091f0d5f906d451b94fa0ac577c947d6%20%3D%20L.AwesomeMarkers.icon%28%0A%20%20%20%20%20%20%20%20%20%20%20%20%20%20%20%20%7B%22extraClasses%22%3A%20%22fa-rotate-0%22%2C%20%22icon%22%3A%20%22info-sign%22%2C%20%22iconColor%22%3A%20%22white%22%2C%20%22markerColor%22%3A%20%22white%22%2C%20%22prefix%22%3A%20%22glyphicon%22%7D%0A%20%20%20%20%20%20%20%20%20%20%20%20%29%3B%0A%20%20%20%20%20%20%20%20%20%20%20%20marker_f6659e6b26bb489c8b1f097388a8c368.setIcon%28icon_091f0d5f906d451b94fa0ac577c947d6%29%3B%0A%20%20%20%20%20%20%20%20%0A%20%20%20%20%0A%20%20%20%20%20%20%20%20%20%20%20%20var%20marker_f6cb78e9db944857b9d292a00b0b04ac%20%3D%20L.marker%28%0A%20%20%20%20%20%20%20%20%20%20%20%20%20%20%20%20%5B43.6763669%2C%20-79.3586755%5D%2C%0A%20%20%20%20%20%20%20%20%20%20%20%20%20%20%20%20%7B%7D%0A%20%20%20%20%20%20%20%20%20%20%20%20%29.addTo%28map_10391a7165704a978e48dbe9406f07fe%29%3B%0A%20%20%20%20%20%20%20%20%0A%20%20%20%20%0A%20%20%20%20%20%20%20%20%20%20%20%20var%20div_icon_7c98ed268f1748eb80362049b70ec8df%20%3D%20L.divIcon%28%7B%22className%22%3A%20%22empty%22%2C%20%22html%22%3A%20%22%5Cu003cspan%20class%3D%5C%22fa-stack%20%5C%22%20style%3D%5C%22font-size%3A%2012pt%5C%22%20%5Cu003e%5Cn%20%20%20%20%20%20%20%20%20%20%20%20%20%20%20%20%20%20%20%20%5Cu003cspan%20class%3D%5C%22fa%20fa-circle-o%20fa-stack-2x%5C%22%20style%3D%5C%22color%20%3A%20green%5C%22%5Cu003e%5Cu003c/span%5Cu003e%5Cn%20%20%20%20%20%20%20%20%20%20%20%20%20%20%20%20%20%20%20%20%5Cu003cstrong%20class%3D%5C%22fa-stack-1x%5C%22%5Cu003e%5Cn%20%20%20%20%20%20%20%20%20%20%20%20%20%20%20%20%20%20%20%20%20%20%20%20%20%208%20%20%5Cn%20%20%20%20%20%20%20%20%20%20%20%20%20%20%20%20%20%20%20%20%5Cu003c/strong%5Cu003e%5Cn%20%20%20%20%20%20%20%20%20%20%20%20%20%20%20%20%5Cu003c/span%5Cu003e%22%2C%20%22iconAnchor%22%3A%20%5B12%2C%2040%5D%2C%20%22iconSize%22%3A%20%5B150%2C%2036%5D%7D%29%3B%0A%20%20%20%20%20%20%20%20%20%20%20%20marker_f6cb78e9db944857b9d292a00b0b04ac.setIcon%28div_icon_7c98ed268f1748eb80362049b70ec8df%29%3B%0A%20%20%20%20%20%20%20%20%0A%20%20%20%20%0A%20%20%20%20%20%20%20%20%20%20%20%20var%20marker_379e037743984adb8939d276bd8e0bea%20%3D%20L.marker%28%0A%20%20%20%20%20%20%20%20%20%20%20%20%20%20%20%20%5B43.66579475%2C%20-79.38393381763527%5D%2C%0A%20%20%20%20%20%20%20%20%20%20%20%20%20%20%20%20%7B%7D%0A%20%20%20%20%20%20%20%20%20%20%20%20%29.addTo%28map_10391a7165704a978e48dbe9406f07fe%29%3B%0A%20%20%20%20%20%20%20%20%0A%20%20%20%20%0A%20%20%20%20%20%20%20%20%20%20%20%20var%20icon_5d57557a504146b181cb663d12dc7a98%20%3D%20L.AwesomeMarkers.icon%28%0A%20%20%20%20%20%20%20%20%20%20%20%20%20%20%20%20%7B%22extraClasses%22%3A%20%22fa-rotate-0%22%2C%20%22icon%22%3A%20%22info-sign%22%2C%20%22iconColor%22%3A%20%22white%22%2C%20%22markerColor%22%3A%20%22white%22%2C%20%22prefix%22%3A%20%22glyphicon%22%7D%0A%20%20%20%20%20%20%20%20%20%20%20%20%29%3B%0A%20%20%20%20%20%20%20%20%20%20%20%20marker_379e037743984adb8939d276bd8e0bea.setIcon%28icon_5d57557a504146b181cb663d12dc7a98%29%3B%0A%20%20%20%20%20%20%20%20%0A%20%20%20%20%0A%20%20%20%20%20%20%20%20%20%20%20%20var%20marker_9623e0cbc41342f3a4aad2753f3064a4%20%3D%20L.marker%28%0A%20%20%20%20%20%20%20%20%20%20%20%20%20%20%20%20%5B43.66579475%2C%20-79.38393381763527%5D%2C%0A%20%20%20%20%20%20%20%20%20%20%20%20%20%20%20%20%7B%7D%0A%20%20%20%20%20%20%20%20%20%20%20%20%29.addTo%28map_10391a7165704a978e48dbe9406f07fe%29%3B%0A%20%20%20%20%20%20%20%20%0A%20%20%20%20%0A%20%20%20%20%20%20%20%20%20%20%20%20var%20div_icon_64f46f1f289e4b2095cc768db9a13b15%20%3D%20L.divIcon%28%7B%22className%22%3A%20%22empty%22%2C%20%22html%22%3A%20%22%5Cu003cspan%20class%3D%5C%22fa-stack%20%5C%22%20style%3D%5C%22font-size%3A%2012pt%5C%22%20%5Cu003e%5Cn%20%20%20%20%20%20%20%20%20%20%20%20%20%20%20%20%20%20%20%20%5Cu003cspan%20class%3D%5C%22fa%20fa-circle-o%20fa-stack-2x%5C%22%20style%3D%5C%22color%20%3A%20red%5C%22%5Cu003e%5Cu003c/span%5Cu003e%5Cn%20%20%20%20%20%20%20%20%20%20%20%20%20%20%20%20%20%20%20%20%5Cu003cstrong%20class%3D%5C%22fa-stack-1x%5C%22%5Cu003e%5Cn%20%20%20%20%20%20%20%20%20%20%20%20%20%20%20%20%20%20%20%20%20%20%20%20%20%209%20%20%5Cn%20%20%20%20%20%20%20%20%20%20%20%20%20%20%20%20%20%20%20%20%5Cu003c/strong%5Cu003e%5Cn%20%20%20%20%20%20%20%20%20%20%20%20%20%20%20%20%5Cu003c/span%5Cu003e%22%2C%20%22iconAnchor%22%3A%20%5B12%2C%2040%5D%2C%20%22iconSize%22%3A%20%5B150%2C%2036%5D%7D%29%3B%0A%20%20%20%20%20%20%20%20%20%20%20%20marker_9623e0cbc41342f3a4aad2753f3064a4.setIcon%28div_icon_64f46f1f289e4b2095cc768db9a13b15%29%3B%0A%20%20%20%20%20%20%20%20%0A%20%20%20%20%0A%20%20%20%20%20%20%20%20%20%20%20%20var%20marker_9f63cb18eca34c35a7f51e15456c952c%20%3D%20L.marker%28%0A%20%20%20%20%20%20%20%20%20%20%20%20%20%20%20%20%5B43.661238%2C%20-79.383171%5D%2C%0A%20%20%20%20%20%20%20%20%20%20%20%20%20%20%20%20%7B%7D%0A%20%20%20%20%20%20%20%20%20%20%20%20%29.addTo%28map_10391a7165704a978e48dbe9406f07fe%29%3B%0A%20%20%20%20%20%20%20%20%0A%20%20%20%20%0A%20%20%20%20%20%20%20%20%20%20%20%20var%20icon_cc1d5a6ec97643028a9d6211f12bc04a%20%3D%20L.AwesomeMarkers.icon%28%0A%20%20%20%20%20%20%20%20%20%20%20%20%20%20%20%20%7B%22extraClasses%22%3A%20%22fa-rotate-0%22%2C%20%22icon%22%3A%20%22info-sign%22%2C%20%22iconColor%22%3A%20%22white%22%2C%20%22markerColor%22%3A%20%22white%22%2C%20%22prefix%22%3A%20%22glyphicon%22%7D%0A%20%20%20%20%20%20%20%20%20%20%20%20%29%3B%0A%20%20%20%20%20%20%20%20%20%20%20%20marker_9f63cb18eca34c35a7f51e15456c952c.setIcon%28icon_cc1d5a6ec97643028a9d6211f12bc04a%29%3B%0A%20%20%20%20%20%20%20%20%0A%20%20%20%20%0A%20%20%20%20%20%20%20%20%20%20%20%20var%20marker_d653dd43c0c44570a90fcc9fe5102733%20%3D%20L.marker%28%0A%20%20%20%20%20%20%20%20%20%20%20%20%20%20%20%20%5B43.661238%2C%20-79.383171%5D%2C%0A%20%20%20%20%20%20%20%20%20%20%20%20%20%20%20%20%7B%7D%0A%20%20%20%20%20%20%20%20%20%20%20%20%29.addTo%28map_10391a7165704a978e48dbe9406f07fe%29%3B%0A%20%20%20%20%20%20%20%20%0A%20%20%20%20%0A%20%20%20%20%20%20%20%20%20%20%20%20var%20div_icon_9c583d39f2aa459ab6076739231a52d1%20%3D%20L.divIcon%28%7B%22className%22%3A%20%22empty%22%2C%20%22html%22%3A%20%22%5Cu003cspan%20class%3D%5C%22fa-stack%20%5C%22%20style%3D%5C%22font-size%3A%2012pt%5C%22%20%5Cu003e%5Cn%20%20%20%20%20%20%20%20%20%20%20%20%20%20%20%20%20%20%20%20%5Cu003cspan%20class%3D%5C%22fa%20fa-circle-o%20fa-stack-2x%5C%22%20style%3D%5C%22color%20%3A%20green%5C%22%5Cu003e%5Cu003c/span%5Cu003e%5Cn%20%20%20%20%20%20%20%20%20%20%20%20%20%20%20%20%20%20%20%20%5Cu003cstrong%20class%3D%5C%22fa-stack-1x%5C%22%5Cu003e%5Cn%20%20%20%20%20%20%20%20%20%20%20%20%20%20%20%20%20%20%20%20%20%20%20%20%2010%20%20%5Cn%20%20%20%20%20%20%20%20%20%20%20%20%20%20%20%20%20%20%20%20%5Cu003c/strong%5Cu003e%5Cn%20%20%20%20%20%20%20%20%20%20%20%20%20%20%20%20%5Cu003c/span%5Cu003e%22%2C%20%22iconAnchor%22%3A%20%5B12%2C%2040%5D%2C%20%22iconSize%22%3A%20%5B150%2C%2036%5D%7D%29%3B%0A%20%20%20%20%20%20%20%20%20%20%20%20marker_d653dd43c0c44570a90fcc9fe5102733.setIcon%28div_icon_9c583d39f2aa459ab6076739231a52d1%29%3B%0A%20%20%20%20%20%20%20%20%0A%20%20%20%20%0A%20%20%20%20%20%20%20%20%20%20%20%20var%20marker_9015cb42cbf74fa1b834f868786d8625%20%3D%20L.marker%28%0A%20%20%20%20%20%20%20%20%20%20%20%20%20%20%20%20%5B43.679107283783786%2C%20-79.35265944594595%5D%2C%0A%20%20%20%20%20%20%20%20%20%20%20%20%20%20%20%20%7B%7D%0A%20%20%20%20%20%20%20%20%20%20%20%20%29.addTo%28map_10391a7165704a978e48dbe9406f07fe%29%3B%0A%20%20%20%20%20%20%20%20%0A%20%20%20%20%0A%20%20%20%20%20%20%20%20%20%20%20%20var%20icon_765ed503e1fd4e4b835d8a2806aad103%20%3D%20L.AwesomeMarkers.icon%28%0A%20%20%20%20%20%20%20%20%20%20%20%20%20%20%20%20%7B%22extraClasses%22%3A%20%22fa-rotate-0%22%2C%20%22icon%22%3A%20%22info-sign%22%2C%20%22iconColor%22%3A%20%22white%22%2C%20%22markerColor%22%3A%20%22white%22%2C%20%22prefix%22%3A%20%22glyphicon%22%7D%0A%20%20%20%20%20%20%20%20%20%20%20%20%29%3B%0A%20%20%20%20%20%20%20%20%20%20%20%20marker_9015cb42cbf74fa1b834f868786d8625.setIcon%28icon_765ed503e1fd4e4b835d8a2806aad103%29%3B%0A%20%20%20%20%20%20%20%20%0A%20%20%20%20%0A%20%20%20%20%20%20%20%20%20%20%20%20var%20marker_b82174f0562a465587cd0826685cbfbe%20%3D%20L.marker%28%0A%20%20%20%20%20%20%20%20%20%20%20%20%20%20%20%20%5B43.679107283783786%2C%20-79.35265944594595%5D%2C%0A%20%20%20%20%20%20%20%20%20%20%20%20%20%20%20%20%7B%7D%0A%20%20%20%20%20%20%20%20%20%20%20%20%29.addTo%28map_10391a7165704a978e48dbe9406f07fe%29%3B%0A%20%20%20%20%20%20%20%20%0A%20%20%20%20%0A%20%20%20%20%20%20%20%20%20%20%20%20var%20div_icon_d8210985cb424888b63b93b8b6ccc73f%20%3D%20L.divIcon%28%7B%22className%22%3A%20%22empty%22%2C%20%22html%22%3A%20%22%5Cu003cspan%20class%3D%5C%22fa-stack%20%5C%22%20style%3D%5C%22font-size%3A%2012pt%5C%22%20%5Cu003e%5Cn%20%20%20%20%20%20%20%20%20%20%20%20%20%20%20%20%20%20%20%20%5Cu003cspan%20class%3D%5C%22fa%20fa-circle-o%20fa-stack-2x%5C%22%20style%3D%5C%22color%20%3A%20red%5C%22%5Cu003e%5Cu003c/span%5Cu003e%5Cn%20%20%20%20%20%20%20%20%20%20%20%20%20%20%20%20%20%20%20%20%5Cu003cstrong%20class%3D%5C%22fa-stack-1x%5C%22%5Cu003e%5Cn%20%20%20%20%20%20%20%20%20%20%20%20%20%20%20%20%20%20%20%20%20%20%20%20%2011%20%20%5Cn%20%20%20%20%20%20%20%20%20%20%20%20%20%20%20%20%20%20%20%20%5Cu003c/strong%5Cu003e%5Cn%20%20%20%20%20%20%20%20%20%20%20%20%20%20%20%20%5Cu003c/span%5Cu003e%22%2C%20%22iconAnchor%22%3A%20%5B12%2C%2040%5D%2C%20%22iconSize%22%3A%20%5B150%2C%2036%5D%7D%29%3B%0A%20%20%20%20%20%20%20%20%20%20%20%20marker_b82174f0562a465587cd0826685cbfbe.setIcon%28div_icon_d8210985cb424888b63b93b8b6ccc73f%29%3B%0A%20%20%20%20%20%20%20%20%0A%20%20%20%20%0A%20%20%20%20%20%20%20%20%20%20%20%20var%20marker_929328c3ff1647ab9bb6bfc44fb1a186%20%3D%20L.marker%28%0A%20%20%20%20%20%20%20%20%20%20%20%20%20%20%20%20%5B43.677262400000004%2C%20-79.35233732169044%5D%2C%0A%20%20%20%20%20%20%20%20%20%20%20%20%20%20%20%20%7B%7D%0A%20%20%20%20%20%20%20%20%20%20%20%20%29.addTo%28map_10391a7165704a978e48dbe9406f07fe%29%3B%0A%20%20%20%20%20%20%20%20%0A%20%20%20%20%0A%20%20%20%20%20%20%20%20%20%20%20%20var%20icon_755c2037c7bb4a51af05afe6e541adaa%20%3D%20L.AwesomeMarkers.icon%28%0A%20%20%20%20%20%20%20%20%20%20%20%20%20%20%20%20%7B%22extraClasses%22%3A%20%22fa-rotate-0%22%2C%20%22icon%22%3A%20%22info-sign%22%2C%20%22iconColor%22%3A%20%22white%22%2C%20%22markerColor%22%3A%20%22white%22%2C%20%22prefix%22%3A%20%22glyphicon%22%7D%0A%20%20%20%20%20%20%20%20%20%20%20%20%29%3B%0A%20%20%20%20%20%20%20%20%20%20%20%20marker_929328c3ff1647ab9bb6bfc44fb1a186.setIcon%28icon_755c2037c7bb4a51af05afe6e541adaa%29%3B%0A%20%20%20%20%20%20%20%20%0A%20%20%20%20%0A%20%20%20%20%20%20%20%20%20%20%20%20var%20marker_cab5d2621b714ffea31c8953858df644%20%3D%20L.marker%28%0A%20%20%20%20%20%20%20%20%20%20%20%20%20%20%20%20%5B43.677262400000004%2C%20-79.35233732169044%5D%2C%0A%20%20%20%20%20%20%20%20%20%20%20%20%20%20%20%20%7B%7D%0A%20%20%20%20%20%20%20%20%20%20%20%20%29.addTo%28map_10391a7165704a978e48dbe9406f07fe%29%3B%0A%20%20%20%20%20%20%20%20%0A%20%20%20%20%0A%20%20%20%20%20%20%20%20%20%20%20%20var%20div_icon_afeb18e383a04b57a6fa373e11d11477%20%3D%20L.divIcon%28%7B%22className%22%3A%20%22empty%22%2C%20%22html%22%3A%20%22%5Cu003cspan%20class%3D%5C%22fa-stack%20%5C%22%20style%3D%5C%22font-size%3A%2012pt%5C%22%20%5Cu003e%5Cn%20%20%20%20%20%20%20%20%20%20%20%20%20%20%20%20%20%20%20%20%5Cu003cspan%20class%3D%5C%22fa%20fa-circle-o%20fa-stack-2x%5C%22%20style%3D%5C%22color%20%3A%20green%5C%22%5Cu003e%5Cu003c/span%5Cu003e%5Cn%20%20%20%20%20%20%20%20%20%20%20%20%20%20%20%20%20%20%20%20%5Cu003cstrong%20class%3D%5C%22fa-stack-1x%5C%22%5Cu003e%5Cn%20%20%20%20%20%20%20%20%20%20%20%20%20%20%20%20%20%20%20%20%20%20%20%20%2012%20%20%5Cn%20%20%20%20%20%20%20%20%20%20%20%20%20%20%20%20%20%20%20%20%5Cu003c/strong%5Cu003e%5Cn%20%20%20%20%20%20%20%20%20%20%20%20%20%20%20%20%5Cu003c/span%5Cu003e%22%2C%20%22iconAnchor%22%3A%20%5B12%2C%2040%5D%2C%20%22iconSize%22%3A%20%5B150%2C%2036%5D%7D%29%3B%0A%20%20%20%20%20%20%20%20%20%20%20%20marker_cab5d2621b714ffea31c8953858df644.setIcon%28div_icon_afeb18e383a04b57a6fa373e11d11477%29%3B%0A%20%20%20%20%20%20%20%20%0A%20%20%20%20%0A%20%20%20%20%20%20%20%20%20%20%20%20var%20marker_adc68947822a4d6a95e4fd5add0bd997%20%3D%20L.marker%28%0A%20%20%20%20%20%20%20%20%20%20%20%20%20%20%20%20%5B43.6467388%2C%20-79.38039017624855%5D%2C%0A%20%20%20%20%20%20%20%20%20%20%20%20%20%20%20%20%7B%7D%0A%20%20%20%20%20%20%20%20%20%20%20%20%29.addTo%28map_10391a7165704a978e48dbe9406f07fe%29%3B%0A%20%20%20%20%20%20%20%20%0A%20%20%20%20%0A%20%20%20%20%20%20%20%20%20%20%20%20var%20icon_daec5d9ad7ff42cba436d1080ae3b529%20%3D%20L.AwesomeMarkers.icon%28%0A%20%20%20%20%20%20%20%20%20%20%20%20%20%20%20%20%7B%22extraClasses%22%3A%20%22fa-rotate-0%22%2C%20%22icon%22%3A%20%22info-sign%22%2C%20%22iconColor%22%3A%20%22white%22%2C%20%22markerColor%22%3A%20%22white%22%2C%20%22prefix%22%3A%20%22glyphicon%22%7D%0A%20%20%20%20%20%20%20%20%20%20%20%20%29%3B%0A%20%20%20%20%20%20%20%20%20%20%20%20marker_adc68947822a4d6a95e4fd5add0bd997.setIcon%28icon_daec5d9ad7ff42cba436d1080ae3b529%29%3B%0A%20%20%20%20%20%20%20%20%0A%20%20%20%20%0A%20%20%20%20%20%20%20%20%20%20%20%20var%20marker_03d74dbd6db8490e8b98c3fafcf4dddb%20%3D%20L.marker%28%0A%20%20%20%20%20%20%20%20%20%20%20%20%20%20%20%20%5B43.6467388%2C%20-79.38039017624855%5D%2C%0A%20%20%20%20%20%20%20%20%20%20%20%20%20%20%20%20%7B%7D%0A%20%20%20%20%20%20%20%20%20%20%20%20%29.addTo%28map_10391a7165704a978e48dbe9406f07fe%29%3B%0A%20%20%20%20%20%20%20%20%0A%20%20%20%20%0A%20%20%20%20%20%20%20%20%20%20%20%20var%20div_icon_c5aff994db27409192dd5ae2693ad1f6%20%3D%20L.divIcon%28%7B%22className%22%3A%20%22empty%22%2C%20%22html%22%3A%20%22%5Cu003cspan%20class%3D%5C%22fa-stack%20%5C%22%20style%3D%5C%22font-size%3A%2012pt%5C%22%20%5Cu003e%5Cn%20%20%20%20%20%20%20%20%20%20%20%20%20%20%20%20%20%20%20%20%5Cu003cspan%20class%3D%5C%22fa%20fa-circle-o%20fa-stack-2x%5C%22%20style%3D%5C%22color%20%3A%20red%5C%22%5Cu003e%5Cu003c/span%5Cu003e%5Cn%20%20%20%20%20%20%20%20%20%20%20%20%20%20%20%20%20%20%20%20%5Cu003cstrong%20class%3D%5C%22fa-stack-1x%5C%22%5Cu003e%5Cn%20%20%20%20%20%20%20%20%20%20%20%20%20%20%20%20%20%20%20%20%20%20%20%20%2013%20%20%5Cn%20%20%20%20%20%20%20%20%20%20%20%20%20%20%20%20%20%20%20%20%5Cu003c/strong%5Cu003e%5Cn%20%20%20%20%20%20%20%20%20%20%20%20%20%20%20%20%5Cu003c/span%5Cu003e%22%2C%20%22iconAnchor%22%3A%20%5B12%2C%2040%5D%2C%20%22iconSize%22%3A%20%5B150%2C%2036%5D%7D%29%3B%0A%20%20%20%20%20%20%20%20%20%20%20%20marker_03d74dbd6db8490e8b98c3fafcf4dddb.setIcon%28div_icon_c5aff994db27409192dd5ae2693ad1f6%29%3B%0A%20%20%20%20%20%20%20%20%0A%20%20%20%20%0A%20%20%20%20%20%20%20%20%20%20%20%20var%20marker_87000e7a605348029c359d0be40de21f%20%3D%20L.marker%28%0A%20%20%20%20%20%20%20%20%20%20%20%20%20%20%20%20%5B43.6582505%2C%20-79.4426223%5D%2C%0A%20%20%20%20%20%20%20%20%20%20%20%20%20%20%20%20%7B%7D%0A%20%20%20%20%20%20%20%20%20%20%20%20%29.addTo%28map_10391a7165704a978e48dbe9406f07fe%29%3B%0A%20%20%20%20%20%20%20%20%0A%20%20%20%20%0A%20%20%20%20%20%20%20%20%20%20%20%20var%20icon_f2d7c00653214215946ebf00d994646b%20%3D%20L.AwesomeMarkers.icon%28%0A%20%20%20%20%20%20%20%20%20%20%20%20%20%20%20%20%7B%22extraClasses%22%3A%20%22fa-rotate-0%22%2C%20%22icon%22%3A%20%22info-sign%22%2C%20%22iconColor%22%3A%20%22white%22%2C%20%22markerColor%22%3A%20%22white%22%2C%20%22prefix%22%3A%20%22glyphicon%22%7D%0A%20%20%20%20%20%20%20%20%20%20%20%20%29%3B%0A%20%20%20%20%20%20%20%20%20%20%20%20marker_87000e7a605348029c359d0be40de21f.setIcon%28icon_f2d7c00653214215946ebf00d994646b%29%3B%0A%20%20%20%20%20%20%20%20%0A%20%20%20%20%0A%20%20%20%20%20%20%20%20%20%20%20%20var%20marker_b84f8f2b87634586a6975bb081bcb29a%20%3D%20L.marker%28%0A%20%20%20%20%20%20%20%20%20%20%20%20%20%20%20%20%5B43.6582505%2C%20-79.4426223%5D%2C%0A%20%20%20%20%20%20%20%20%20%20%20%20%20%20%20%20%7B%7D%0A%20%20%20%20%20%20%20%20%20%20%20%20%29.addTo%28map_10391a7165704a978e48dbe9406f07fe%29%3B%0A%20%20%20%20%20%20%20%20%0A%20%20%20%20%0A%20%20%20%20%20%20%20%20%20%20%20%20var%20div_icon_b9741cce296842f1a2447de2cbb0abbb%20%3D%20L.divIcon%28%7B%22className%22%3A%20%22empty%22%2C%20%22html%22%3A%20%22%5Cu003cspan%20class%3D%5C%22fa-stack%20%5C%22%20style%3D%5C%22font-size%3A%2012pt%5C%22%20%5Cu003e%5Cn%20%20%20%20%20%20%20%20%20%20%20%20%20%20%20%20%20%20%20%20%5Cu003cspan%20class%3D%5C%22fa%20fa-circle-o%20fa-stack-2x%5C%22%20style%3D%5C%22color%20%3A%20green%5C%22%5Cu003e%5Cu003c/span%5Cu003e%5Cn%20%20%20%20%20%20%20%20%20%20%20%20%20%20%20%20%20%20%20%20%5Cu003cstrong%20class%3D%5C%22fa-stack-1x%5C%22%5Cu003e%5Cn%20%20%20%20%20%20%20%20%20%20%20%20%20%20%20%20%20%20%20%20%20%20%20%20%2014%20%20%5Cn%20%20%20%20%20%20%20%20%20%20%20%20%20%20%20%20%20%20%20%20%5Cu003c/strong%5Cu003e%5Cn%20%20%20%20%20%20%20%20%20%20%20%20%20%20%20%20%5Cu003c/span%5Cu003e%22%2C%20%22iconAnchor%22%3A%20%5B12%2C%2040%5D%2C%20%22iconSize%22%3A%20%5B150%2C%2036%5D%7D%29%3B%0A%20%20%20%20%20%20%20%20%20%20%20%20marker_b84f8f2b87634586a6975bb081bcb29a.setIcon%28div_icon_b9741cce296842f1a2447de2cbb0abbb%29%3B%0A%20%20%20%20%20%20%20%20%0A%20%20%20%20%0A%20%20%20%20%20%20%20%20%20%20%20%20var%20marker_83361b167aac4c7ca247d2648e89293c%20%3D%20L.marker%28%0A%20%20%20%20%20%20%20%20%20%20%20%20%20%20%20%20%5B43.64984029542103%2C%20-79.51107377152971%5D%2C%0A%20%20%20%20%20%20%20%20%20%20%20%20%20%20%20%20%7B%7D%0A%20%20%20%20%20%20%20%20%20%20%20%20%29.addTo%28map_10391a7165704a978e48dbe9406f07fe%29%3B%0A%20%20%20%20%20%20%20%20%0A%20%20%20%20%0A%20%20%20%20%20%20%20%20%20%20%20%20var%20icon_254eb490ac914709a2ee7e2ced0bceb1%20%3D%20L.AwesomeMarkers.icon%28%0A%20%20%20%20%20%20%20%20%20%20%20%20%20%20%20%20%7B%22extraClasses%22%3A%20%22fa-rotate-0%22%2C%20%22icon%22%3A%20%22info-sign%22%2C%20%22iconColor%22%3A%20%22white%22%2C%20%22markerColor%22%3A%20%22white%22%2C%20%22prefix%22%3A%20%22glyphicon%22%7D%0A%20%20%20%20%20%20%20%20%20%20%20%20%29%3B%0A%20%20%20%20%20%20%20%20%20%20%20%20marker_83361b167aac4c7ca247d2648e89293c.setIcon%28icon_254eb490ac914709a2ee7e2ced0bceb1%29%3B%0A%20%20%20%20%20%20%20%20%0A%20%20%20%20%0A%20%20%20%20%20%20%20%20%20%20%20%20var%20marker_53b3fcc509d140b4818775dcddd94f09%20%3D%20L.marker%28%0A%20%20%20%20%20%20%20%20%20%20%20%20%20%20%20%20%5B43.64984029542103%2C%20-79.51107377152971%5D%2C%0A%20%20%20%20%20%20%20%20%20%20%20%20%20%20%20%20%7B%7D%0A%20%20%20%20%20%20%20%20%20%20%20%20%29.addTo%28map_10391a7165704a978e48dbe9406f07fe%29%3B%0A%20%20%20%20%20%20%20%20%0A%20%20%20%20%0A%20%20%20%20%20%20%20%20%20%20%20%20var%20div_icon_116fe4c361044475993c88606ba10c44%20%3D%20L.divIcon%28%7B%22className%22%3A%20%22empty%22%2C%20%22html%22%3A%20%22%5Cu003cspan%20class%3D%5C%22fa-stack%20%5C%22%20style%3D%5C%22font-size%3A%2012pt%5C%22%20%5Cu003e%5Cn%20%20%20%20%20%20%20%20%20%20%20%20%20%20%20%20%20%20%20%20%5Cu003cspan%20class%3D%5C%22fa%20fa-circle-o%20fa-stack-2x%5C%22%20style%3D%5C%22color%20%3A%20red%5C%22%5Cu003e%5Cu003c/span%5Cu003e%5Cn%20%20%20%20%20%20%20%20%20%20%20%20%20%20%20%20%20%20%20%20%5Cu003cstrong%20class%3D%5C%22fa-stack-1x%5C%22%5Cu003e%5Cn%20%20%20%20%20%20%20%20%20%20%20%20%20%20%20%20%20%20%20%20%20%20%20%20%2015%20%20%5Cn%20%20%20%20%20%20%20%20%20%20%20%20%20%20%20%20%20%20%20%20%5Cu003c/strong%5Cu003e%5Cn%20%20%20%20%20%20%20%20%20%20%20%20%20%20%20%20%5Cu003c/span%5Cu003e%22%2C%20%22iconAnchor%22%3A%20%5B12%2C%2040%5D%2C%20%22iconSize%22%3A%20%5B150%2C%2036%5D%7D%29%3B%0A%20%20%20%20%20%20%20%20%20%20%20%20marker_53b3fcc509d140b4818775dcddd94f09.setIcon%28div_icon_116fe4c361044475993c88606ba10c44%29%3B%0A%20%20%20%20%20%20%20%20%0A%20%20%20%20%0A%20%20%20%20%20%20%20%20%20%20%20%20var%20marker_fbcf529ebbeb49cdaf3c07aea47ed972%20%3D%20L.marker%28%0A%20%20%20%20%20%20%20%20%20%20%20%20%20%20%20%20%5B43.6449819%2C%20-79.5213028%5D%2C%0A%20%20%20%20%20%20%20%20%20%20%20%20%20%20%20%20%7B%7D%0A%20%20%20%20%20%20%20%20%20%20%20%20%29.addTo%28map_10391a7165704a978e48dbe9406f07fe%29%3B%0A%20%20%20%20%20%20%20%20%0A%20%20%20%20%0A%20%20%20%20%20%20%20%20%20%20%20%20var%20icon_b2fd9a5929d84c2b977ddc865ed5f7ac%20%3D%20L.AwesomeMarkers.icon%28%0A%20%20%20%20%20%20%20%20%20%20%20%20%20%20%20%20%7B%22extraClasses%22%3A%20%22fa-rotate-0%22%2C%20%22icon%22%3A%20%22info-sign%22%2C%20%22iconColor%22%3A%20%22white%22%2C%20%22markerColor%22%3A%20%22white%22%2C%20%22prefix%22%3A%20%22glyphicon%22%7D%0A%20%20%20%20%20%20%20%20%20%20%20%20%29%3B%0A%20%20%20%20%20%20%20%20%20%20%20%20marker_fbcf529ebbeb49cdaf3c07aea47ed972.setIcon%28icon_b2fd9a5929d84c2b977ddc865ed5f7ac%29%3B%0A%20%20%20%20%20%20%20%20%0A%20%20%20%20%0A%20%20%20%20%20%20%20%20%20%20%20%20var%20marker_ab2548b31e8e4d3d83456877d75be84f%20%3D%20L.marker%28%0A%20%20%20%20%20%20%20%20%20%20%20%20%20%20%20%20%5B43.6449819%2C%20-79.5213028%5D%2C%0A%20%20%20%20%20%20%20%20%20%20%20%20%20%20%20%20%7B%7D%0A%20%20%20%20%20%20%20%20%20%20%20%20%29.addTo%28map_10391a7165704a978e48dbe9406f07fe%29%3B%0A%20%20%20%20%20%20%20%20%0A%20%20%20%20%0A%20%20%20%20%20%20%20%20%20%20%20%20var%20div_icon_8720b5888c3d4c67942acaf0aa08060f%20%3D%20L.divIcon%28%7B%22className%22%3A%20%22empty%22%2C%20%22html%22%3A%20%22%5Cu003cspan%20class%3D%5C%22fa-stack%20%5C%22%20style%3D%5C%22font-size%3A%2012pt%5C%22%20%5Cu003e%5Cn%20%20%20%20%20%20%20%20%20%20%20%20%20%20%20%20%20%20%20%20%5Cu003cspan%20class%3D%5C%22fa%20fa-circle-o%20fa-stack-2x%5C%22%20style%3D%5C%22color%20%3A%20green%5C%22%5Cu003e%5Cu003c/span%5Cu003e%5Cn%20%20%20%20%20%20%20%20%20%20%20%20%20%20%20%20%20%20%20%20%5Cu003cstrong%20class%3D%5C%22fa-stack-1x%5C%22%5Cu003e%5Cn%20%20%20%20%20%20%20%20%20%20%20%20%20%20%20%20%20%20%20%20%20%20%20%20%2016%20%20%5Cn%20%20%20%20%20%20%20%20%20%20%20%20%20%20%20%20%20%20%20%20%5Cu003c/strong%5Cu003e%5Cn%20%20%20%20%20%20%20%20%20%20%20%20%20%20%20%20%5Cu003c/span%5Cu003e%22%2C%20%22iconAnchor%22%3A%20%5B12%2C%2040%5D%2C%20%22iconSize%22%3A%20%5B150%2C%2036%5D%7D%29%3B%0A%20%20%20%20%20%20%20%20%20%20%20%20marker_ab2548b31e8e4d3d83456877d75be84f.setIcon%28div_icon_8720b5888c3d4c67942acaf0aa08060f%29%3B%0A%20%20%20%20%20%20%20%20%0A%20%20%20%20%0A%20%20%20%20%20%20%20%20%20%20%20%20var%20marker_1e4218b413214940a4cb569d3477363e%20%3D%20L.marker%28%0A%20%20%20%20%20%20%20%20%20%20%20%20%20%20%20%20%5B43.6542138%2C%20-79.4671539%5D%2C%0A%20%20%20%20%20%20%20%20%20%20%20%20%20%20%20%20%7B%7D%0A%20%20%20%20%20%20%20%20%20%20%20%20%29.addTo%28map_10391a7165704a978e48dbe9406f07fe%29%3B%0A%20%20%20%20%20%20%20%20%0A%20%20%20%20%0A%20%20%20%20%20%20%20%20%20%20%20%20var%20icon_74ac2928eee1458ab118d9bed3a2c15a%20%3D%20L.AwesomeMarkers.icon%28%0A%20%20%20%20%20%20%20%20%20%20%20%20%20%20%20%20%7B%22extraClasses%22%3A%20%22fa-rotate-0%22%2C%20%22icon%22%3A%20%22info-sign%22%2C%20%22iconColor%22%3A%20%22white%22%2C%20%22markerColor%22%3A%20%22white%22%2C%20%22prefix%22%3A%20%22glyphicon%22%7D%0A%20%20%20%20%20%20%20%20%20%20%20%20%29%3B%0A%20%20%20%20%20%20%20%20%20%20%20%20marker_1e4218b413214940a4cb569d3477363e.setIcon%28icon_74ac2928eee1458ab118d9bed3a2c15a%29%3B%0A%20%20%20%20%20%20%20%20%0A%20%20%20%20%0A%20%20%20%20%20%20%20%20%20%20%20%20var%20marker_3dfb1e53e0254a0b9e6a809952d22e5a%20%3D%20L.marker%28%0A%20%20%20%20%20%20%20%20%20%20%20%20%20%20%20%20%5B43.6542138%2C%20-79.4671539%5D%2C%0A%20%20%20%20%20%20%20%20%20%20%20%20%20%20%20%20%7B%7D%0A%20%20%20%20%20%20%20%20%20%20%20%20%29.addTo%28map_10391a7165704a978e48dbe9406f07fe%29%3B%0A%20%20%20%20%20%20%20%20%0A%20%20%20%20%0A%20%20%20%20%20%20%20%20%20%20%20%20var%20div_icon_0643614598e84117872193c9f2b487e9%20%3D%20L.divIcon%28%7B%22className%22%3A%20%22empty%22%2C%20%22html%22%3A%20%22%5Cu003cspan%20class%3D%5C%22fa-stack%20%5C%22%20style%3D%5C%22font-size%3A%2012pt%5C%22%20%5Cu003e%5Cn%20%20%20%20%20%20%20%20%20%20%20%20%20%20%20%20%20%20%20%20%5Cu003cspan%20class%3D%5C%22fa%20fa-circle-o%20fa-stack-2x%5C%22%20style%3D%5C%22color%20%3A%20red%5C%22%5Cu003e%5Cu003c/span%5Cu003e%5Cn%20%20%20%20%20%20%20%20%20%20%20%20%20%20%20%20%20%20%20%20%5Cu003cstrong%20class%3D%5C%22fa-stack-1x%5C%22%5Cu003e%5Cn%20%20%20%20%20%20%20%20%20%20%20%20%20%20%20%20%20%20%20%20%20%20%20%20%2017%20%20%5Cn%20%20%20%20%20%20%20%20%20%20%20%20%20%20%20%20%20%20%20%20%5Cu003c/strong%5Cu003e%5Cn%20%20%20%20%20%20%20%20%20%20%20%20%20%20%20%20%5Cu003c/span%5Cu003e%22%2C%20%22iconAnchor%22%3A%20%5B12%2C%2040%5D%2C%20%22iconSize%22%3A%20%5B150%2C%2036%5D%7D%29%3B%0A%20%20%20%20%20%20%20%20%20%20%20%20marker_3dfb1e53e0254a0b9e6a809952d22e5a.setIcon%28div_icon_0643614598e84117872193c9f2b487e9%29%3B%0A%20%20%20%20%20%20%20%20%0A%20%20%20%20%0A%20%20%20%20%20%20%20%20%20%20%20%20var%20marker_4ba74beee1434bd68b6570f5b2c30403%20%3D%20L.marker%28%0A%20%20%20%20%20%20%20%20%20%20%20%20%20%20%20%20%5B43.6546108%2C%20-79.4597546%5D%2C%0A%20%20%20%20%20%20%20%20%20%20%20%20%20%20%20%20%7B%7D%0A%20%20%20%20%20%20%20%20%20%20%20%20%29.addTo%28map_10391a7165704a978e48dbe9406f07fe%29%3B%0A%20%20%20%20%20%20%20%20%0A%20%20%20%20%0A%20%20%20%20%20%20%20%20%20%20%20%20var%20icon_77853ec8ba1a435ab5d5043f289c7653%20%3D%20L.AwesomeMarkers.icon%28%0A%20%20%20%20%20%20%20%20%20%20%20%20%20%20%20%20%7B%22extraClasses%22%3A%20%22fa-rotate-0%22%2C%20%22icon%22%3A%20%22info-sign%22%2C%20%22iconColor%22%3A%20%22white%22%2C%20%22markerColor%22%3A%20%22white%22%2C%20%22prefix%22%3A%20%22glyphicon%22%7D%0A%20%20%20%20%20%20%20%20%20%20%20%20%29%3B%0A%20%20%20%20%20%20%20%20%20%20%20%20marker_4ba74beee1434bd68b6570f5b2c30403.setIcon%28icon_77853ec8ba1a435ab5d5043f289c7653%29%3B%0A%20%20%20%20%20%20%20%20%0A%20%20%20%20%0A%20%20%20%20%20%20%20%20%20%20%20%20var%20marker_6f73b95ab37a4b18b9acf291f9d16954%20%3D%20L.marker%28%0A%20%20%20%20%20%20%20%20%20%20%20%20%20%20%20%20%5B43.6546108%2C%20-79.4597546%5D%2C%0A%20%20%20%20%20%20%20%20%20%20%20%20%20%20%20%20%7B%7D%0A%20%20%20%20%20%20%20%20%20%20%20%20%29.addTo%28map_10391a7165704a978e48dbe9406f07fe%29%3B%0A%20%20%20%20%20%20%20%20%0A%20%20%20%20%0A%20%20%20%20%20%20%20%20%20%20%20%20var%20div_icon_c88de740f54a4512b796dce4f1c4f428%20%3D%20L.divIcon%28%7B%22className%22%3A%20%22empty%22%2C%20%22html%22%3A%20%22%5Cu003cspan%20class%3D%5C%22fa-stack%20%5C%22%20style%3D%5C%22font-size%3A%2012pt%5C%22%20%5Cu003e%5Cn%20%20%20%20%20%20%20%20%20%20%20%20%20%20%20%20%20%20%20%20%5Cu003cspan%20class%3D%5C%22fa%20fa-circle-o%20fa-stack-2x%5C%22%20style%3D%5C%22color%20%3A%20green%5C%22%5Cu003e%5Cu003c/span%5Cu003e%5Cn%20%20%20%20%20%20%20%20%20%20%20%20%20%20%20%20%20%20%20%20%5Cu003cstrong%20class%3D%5C%22fa-stack-1x%5C%22%5Cu003e%5Cn%20%20%20%20%20%20%20%20%20%20%20%20%20%20%20%20%20%20%20%20%20%20%20%20%2018%20%20%5Cn%20%20%20%20%20%20%20%20%20%20%20%20%20%20%20%20%20%20%20%20%5Cu003c/strong%5Cu003e%5Cn%20%20%20%20%20%20%20%20%20%20%20%20%20%20%20%20%5Cu003c/span%5Cu003e%22%2C%20%22iconAnchor%22%3A%20%5B12%2C%2040%5D%2C%20%22iconSize%22%3A%20%5B150%2C%2036%5D%7D%29%3B%0A%20%20%20%20%20%20%20%20%20%20%20%20marker_6f73b95ab37a4b18b9acf291f9d16954.setIcon%28div_icon_c88de740f54a4512b796dce4f1c4f428%29%3B%0A%20%20%20%20%20%20%20%20%0A%20%20%20%20%0A%20%20%20%20%20%20%20%20%20%20%20%20var%20marker_282ff4e6404547709c6566b950eda6a5%20%3D%20L.marker%28%0A%20%20%20%20%20%20%20%20%20%20%20%20%20%20%20%20%5B43.65115131549358%2C%20-79.49490353351202%5D%2C%0A%20%20%20%20%20%20%20%20%20%20%20%20%20%20%20%20%7B%7D%0A%20%20%20%20%20%20%20%20%20%20%20%20%29.addTo%28map_10391a7165704a978e48dbe9406f07fe%29%3B%0A%20%20%20%20%20%20%20%20%0A%20%20%20%20%0A%20%20%20%20%20%20%20%20%20%20%20%20var%20icon_6ddb50e44eb0448b972ae03d69542277%20%3D%20L.AwesomeMarkers.icon%28%0A%20%20%20%20%20%20%20%20%20%20%20%20%20%20%20%20%7B%22extraClasses%22%3A%20%22fa-rotate-0%22%2C%20%22icon%22%3A%20%22info-sign%22%2C%20%22iconColor%22%3A%20%22white%22%2C%20%22markerColor%22%3A%20%22white%22%2C%20%22prefix%22%3A%20%22glyphicon%22%7D%0A%20%20%20%20%20%20%20%20%20%20%20%20%29%3B%0A%20%20%20%20%20%20%20%20%20%20%20%20marker_282ff4e6404547709c6566b950eda6a5.setIcon%28icon_6ddb50e44eb0448b972ae03d69542277%29%3B%0A%20%20%20%20%20%20%20%20%0A%20%20%20%20%0A%20%20%20%20%20%20%20%20%20%20%20%20var%20marker_5b40fbbbcf1e4b01868e267e02453693%20%3D%20L.marker%28%0A%20%20%20%20%20%20%20%20%20%20%20%20%20%20%20%20%5B43.65115131549358%2C%20-79.49490353351202%5D%2C%0A%20%20%20%20%20%20%20%20%20%20%20%20%20%20%20%20%7B%7D%0A%20%20%20%20%20%20%20%20%20%20%20%20%29.addTo%28map_10391a7165704a978e48dbe9406f07fe%29%3B%0A%20%20%20%20%20%20%20%20%0A%20%20%20%20%0A%20%20%20%20%20%20%20%20%20%20%20%20var%20div_icon_d6aa3c49b69948e3a7e8272071cf8f8c%20%3D%20L.divIcon%28%7B%22className%22%3A%20%22empty%22%2C%20%22html%22%3A%20%22%5Cu003cspan%20class%3D%5C%22fa-stack%20%5C%22%20style%3D%5C%22font-size%3A%2012pt%5C%22%20%5Cu003e%5Cn%20%20%20%20%20%20%20%20%20%20%20%20%20%20%20%20%20%20%20%20%5Cu003cspan%20class%3D%5C%22fa%20fa-circle-o%20fa-stack-2x%5C%22%20style%3D%5C%22color%20%3A%20red%5C%22%5Cu003e%5Cu003c/span%5Cu003e%5Cn%20%20%20%20%20%20%20%20%20%20%20%20%20%20%20%20%20%20%20%20%5Cu003cstrong%20class%3D%5C%22fa-stack-1x%5C%22%5Cu003e%5Cn%20%20%20%20%20%20%20%20%20%20%20%20%20%20%20%20%20%20%20%20%20%20%20%20%2019%20%20%5Cn%20%20%20%20%20%20%20%20%20%20%20%20%20%20%20%20%20%20%20%20%5Cu003c/strong%5Cu003e%5Cn%20%20%20%20%20%20%20%20%20%20%20%20%20%20%20%20%5Cu003c/span%5Cu003e%22%2C%20%22iconAnchor%22%3A%20%5B12%2C%2040%5D%2C%20%22iconSize%22%3A%20%5B150%2C%2036%5D%7D%29%3B%0A%20%20%20%20%20%20%20%20%20%20%20%20marker_5b40fbbbcf1e4b01868e267e02453693.setIcon%28div_icon_d6aa3c49b69948e3a7e8272071cf8f8c%29%3B%0A%20%20%20%20%20%20%20%20%0A%20%20%20%20%0A%20%20%20%20%20%20%20%20%20%20%20%20var%20marker_65bca6baa0d24086a586b3510a759e47%20%3D%20L.marker%28%0A%20%20%20%20%20%20%20%20%20%20%20%20%20%20%20%20%5B43.709132583333336%2C%20-79.44271533333333%5D%2C%0A%20%20%20%20%20%20%20%20%20%20%20%20%20%20%20%20%7B%7D%0A%20%20%20%20%20%20%20%20%20%20%20%20%29.addTo%28map_10391a7165704a978e48dbe9406f07fe%29%3B%0A%20%20%20%20%20%20%20%20%0A%20%20%20%20%0A%20%20%20%20%20%20%20%20%20%20%20%20var%20icon_dac8789ca15a41dcae425dc292ffb0f2%20%3D%20L.AwesomeMarkers.icon%28%0A%20%20%20%20%20%20%20%20%20%20%20%20%20%20%20%20%7B%22extraClasses%22%3A%20%22fa-rotate-0%22%2C%20%22icon%22%3A%20%22info-sign%22%2C%20%22iconColor%22%3A%20%22white%22%2C%20%22markerColor%22%3A%20%22white%22%2C%20%22prefix%22%3A%20%22glyphicon%22%7D%0A%20%20%20%20%20%20%20%20%20%20%20%20%29%3B%0A%20%20%20%20%20%20%20%20%20%20%20%20marker_65bca6baa0d24086a586b3510a759e47.setIcon%28icon_dac8789ca15a41dcae425dc292ffb0f2%29%3B%0A%20%20%20%20%20%20%20%20%0A%20%20%20%20%0A%20%20%20%20%20%20%20%20%20%20%20%20var%20marker_49484dd2fa0a4f14a4098200dbefdc4d%20%3D%20L.marker%28%0A%20%20%20%20%20%20%20%20%20%20%20%20%20%20%20%20%5B43.709132583333336%2C%20-79.44271533333333%5D%2C%0A%20%20%20%20%20%20%20%20%20%20%20%20%20%20%20%20%7B%7D%0A%20%20%20%20%20%20%20%20%20%20%20%20%29.addTo%28map_10391a7165704a978e48dbe9406f07fe%29%3B%0A%20%20%20%20%20%20%20%20%0A%20%20%20%20%0A%20%20%20%20%20%20%20%20%20%20%20%20var%20div_icon_f20902cacd424059a13a4890bdcf6718%20%3D%20L.divIcon%28%7B%22className%22%3A%20%22empty%22%2C%20%22html%22%3A%20%22%5Cu003cspan%20class%3D%5C%22fa-stack%20%5C%22%20style%3D%5C%22font-size%3A%2012pt%5C%22%20%5Cu003e%5Cn%20%20%20%20%20%20%20%20%20%20%20%20%20%20%20%20%20%20%20%20%5Cu003cspan%20class%3D%5C%22fa%20fa-circle-o%20fa-stack-2x%5C%22%20style%3D%5C%22color%20%3A%20green%5C%22%5Cu003e%5Cu003c/span%5Cu003e%5Cn%20%20%20%20%20%20%20%20%20%20%20%20%20%20%20%20%20%20%20%20%5Cu003cstrong%20class%3D%5C%22fa-stack-1x%5C%22%5Cu003e%5Cn%20%20%20%20%20%20%20%20%20%20%20%20%20%20%20%20%20%20%20%20%20%20%20%20%2020%20%20%5Cn%20%20%20%20%20%20%20%20%20%20%20%20%20%20%20%20%20%20%20%20%5Cu003c/strong%5Cu003e%5Cn%20%20%20%20%20%20%20%20%20%20%20%20%20%20%20%20%5Cu003c/span%5Cu003e%22%2C%20%22iconAnchor%22%3A%20%5B12%2C%2040%5D%2C%20%22iconSize%22%3A%20%5B150%2C%2036%5D%7D%29%3B%0A%20%20%20%20%20%20%20%20%20%20%20%20marker_49484dd2fa0a4f14a4098200dbefdc4d.setIcon%28div_icon_f20902cacd424059a13a4890bdcf6718%29%3B%0A%20%20%20%20%20%20%20%20%0A%20%20%20%20%0A%20%20%20%20%20%20%20%20%20%20%20%20var%20marker_89ba14ecb2014c8eaffadb117136a074%20%3D%20L.marker%28%0A%20%20%20%20%20%20%20%20%20%20%20%20%20%20%20%20%5B43.6743544%2C%20-79.3687215%5D%2C%0A%20%20%20%20%20%20%20%20%20%20%20%20%20%20%20%20%7B%7D%0A%20%20%20%20%20%20%20%20%20%20%20%20%29.addTo%28map_10391a7165704a978e48dbe9406f07fe%29%3B%0A%20%20%20%20%20%20%20%20%0A%20%20%20%20%0A%20%20%20%20%20%20%20%20%20%20%20%20var%20icon_0cde2ff048de43fbbcb6626540bcfa51%20%3D%20L.AwesomeMarkers.icon%28%0A%20%20%20%20%20%20%20%20%20%20%20%20%20%20%20%20%7B%22extraClasses%22%3A%20%22fa-rotate-0%22%2C%20%22icon%22%3A%20%22info-sign%22%2C%20%22iconColor%22%3A%20%22white%22%2C%20%22markerColor%22%3A%20%22white%22%2C%20%22prefix%22%3A%20%22glyphicon%22%7D%0A%20%20%20%20%20%20%20%20%20%20%20%20%29%3B%0A%20%20%20%20%20%20%20%20%20%20%20%20marker_89ba14ecb2014c8eaffadb117136a074.setIcon%28icon_0cde2ff048de43fbbcb6626540bcfa51%29%3B%0A%20%20%20%20%20%20%20%20%0A%20%20%20%20%0A%20%20%20%20%20%20%20%20%20%20%20%20var%20marker_63c3433e7aa34f058da8fa65643b815b%20%3D%20L.marker%28%0A%20%20%20%20%20%20%20%20%20%20%20%20%20%20%20%20%5B43.6743544%2C%20-79.3687215%5D%2C%0A%20%20%20%20%20%20%20%20%20%20%20%20%20%20%20%20%7B%7D%0A%20%20%20%20%20%20%20%20%20%20%20%20%29.addTo%28map_10391a7165704a978e48dbe9406f07fe%29%3B%0A%20%20%20%20%20%20%20%20%0A%20%20%20%20%0A%20%20%20%20%20%20%20%20%20%20%20%20var%20div_icon_a1bcd3ba85a1420db1a4c05d439ad8ef%20%3D%20L.divIcon%28%7B%22className%22%3A%20%22empty%22%2C%20%22html%22%3A%20%22%5Cu003cspan%20class%3D%5C%22fa-stack%20%5C%22%20style%3D%5C%22font-size%3A%2012pt%5C%22%20%5Cu003e%5Cn%20%20%20%20%20%20%20%20%20%20%20%20%20%20%20%20%20%20%20%20%5Cu003cspan%20class%3D%5C%22fa%20fa-circle-o%20fa-stack-2x%5C%22%20style%3D%5C%22color%20%3A%20red%5C%22%5Cu003e%5Cu003c/span%5Cu003e%5Cn%20%20%20%20%20%20%20%20%20%20%20%20%20%20%20%20%20%20%20%20%5Cu003cstrong%20class%3D%5C%22fa-stack-1x%5C%22%5Cu003e%5Cn%20%20%20%20%20%20%20%20%20%20%20%20%20%20%20%20%20%20%20%20%20%20%20%20%2021%20%20%5Cn%20%20%20%20%20%20%20%20%20%20%20%20%20%20%20%20%20%20%20%20%5Cu003c/strong%5Cu003e%5Cn%20%20%20%20%20%20%20%20%20%20%20%20%20%20%20%20%5Cu003c/span%5Cu003e%22%2C%20%22iconAnchor%22%3A%20%5B12%2C%2040%5D%2C%20%22iconSize%22%3A%20%5B150%2C%2036%5D%7D%29%3B%0A%20%20%20%20%20%20%20%20%20%20%20%20marker_63c3433e7aa34f058da8fa65643b815b.setIcon%28div_icon_a1bcd3ba85a1420db1a4c05d439ad8ef%29%3B%0A%20%20%20%20%20%20%20%20%0A%20%20%20%20%0A%20%20%20%20%20%20%20%20%20%20%20%20var%20marker_3d468c7650c9475d8978f5bd59290d14%20%3D%20L.marker%28%0A%20%20%20%20%20%20%20%20%20%20%20%20%20%20%20%20%5B43.664537%2C%20-79.380571%5D%2C%0A%20%20%20%20%20%20%20%20%20%20%20%20%20%20%20%20%7B%7D%0A%20%20%20%20%20%20%20%20%20%20%20%20%29.addTo%28map_10391a7165704a978e48dbe9406f07fe%29%3B%0A%20%20%20%20%20%20%20%20%0A%20%20%20%20%0A%20%20%20%20%20%20%20%20%20%20%20%20var%20icon_1bd57334e56f420d977e6ffc64044137%20%3D%20L.AwesomeMarkers.icon%28%0A%20%20%20%20%20%20%20%20%20%20%20%20%20%20%20%20%7B%22extraClasses%22%3A%20%22fa-rotate-0%22%2C%20%22icon%22%3A%20%22info-sign%22%2C%20%22iconColor%22%3A%20%22white%22%2C%20%22markerColor%22%3A%20%22white%22%2C%20%22prefix%22%3A%20%22glyphicon%22%7D%0A%20%20%20%20%20%20%20%20%20%20%20%20%29%3B%0A%20%20%20%20%20%20%20%20%20%20%20%20marker_3d468c7650c9475d8978f5bd59290d14.setIcon%28icon_1bd57334e56f420d977e6ffc64044137%29%3B%0A%20%20%20%20%20%20%20%20%0A%20%20%20%20%0A%20%20%20%20%20%20%20%20%20%20%20%20var%20marker_5564c9a0381c4342b8b52b085a8ec38a%20%3D%20L.marker%28%0A%20%20%20%20%20%20%20%20%20%20%20%20%20%20%20%20%5B43.664537%2C%20-79.380571%5D%2C%0A%20%20%20%20%20%20%20%20%20%20%20%20%20%20%20%20%7B%7D%0A%20%20%20%20%20%20%20%20%20%20%20%20%29.addTo%28map_10391a7165704a978e48dbe9406f07fe%29%3B%0A%20%20%20%20%20%20%20%20%0A%20%20%20%20%0A%20%20%20%20%20%20%20%20%20%20%20%20var%20div_icon_a4d05ce92c00473798e1f7f16466390a%20%3D%20L.divIcon%28%7B%22className%22%3A%20%22empty%22%2C%20%22html%22%3A%20%22%5Cu003cspan%20class%3D%5C%22fa-stack%20%5C%22%20style%3D%5C%22font-size%3A%2012pt%5C%22%20%5Cu003e%5Cn%20%20%20%20%20%20%20%20%20%20%20%20%20%20%20%20%20%20%20%20%5Cu003cspan%20class%3D%5C%22fa%20fa-circle-o%20fa-stack-2x%5C%22%20style%3D%5C%22color%20%3A%20blue%5C%22%5Cu003e%5Cu003c/span%5Cu003e%5Cn%20%20%20%20%20%20%20%20%20%20%20%20%20%20%20%20%20%20%20%20%5Cu003cstrong%20class%3D%5C%22fa-stack-1x%5C%22%5Cu003e%5Cn%20%20%20%20%20%20%20%20%20%20%20%20%20%20%20%20%20%20%20%20%20%20%20%20%2022%20%20%5Cn%20%20%20%20%20%20%20%20%20%20%20%20%20%20%20%20%20%20%20%20%5Cu003c/strong%5Cu003e%5Cn%20%20%20%20%20%20%20%20%20%20%20%20%20%20%20%20%5Cu003c/span%5Cu003e%22%2C%20%22iconAnchor%22%3A%20%5B12%2C%2040%5D%2C%20%22iconSize%22%3A%20%5B150%2C%2036%5D%7D%29%3B%0A%20%20%20%20%20%20%20%20%20%20%20%20marker_5564c9a0381c4342b8b52b085a8ec38a.setIcon%28div_icon_a4d05ce92c00473798e1f7f16466390a%29%3B%0A%20%20%20%20%20%20%20%20%0A%20%20%20%20%0A%20%20%20%20%20%20%20%20%20%20%20%20ant_path_d73312c47bcb4325bca7a638bae6eedb%20%3D%20L.polyline.antPath%28%0A%20%20%20%20%20%20%20%20%20%20%20%20%20%20%5B%5B43.66461%2C%20-79.3806%5D%2C%20%5B43.66337%2C%20-79.38674%5D%2C%20%5B43.66972%2C%20-79.38947%5D%2C%20%5B43.66518%2C%20-79.41098%5D%2C%20%5B43.66518%2C%20-79.41098%5D%2C%20%5B43.66521%2C%20-79.41124%5D%2C%20%5B43.67315%2C%20-79.41433%5D%2C%20%5B43.67415%2C%20-79.40959%5D%2C%20%5B43.67452%2C%20-79.40876%5D%2C%20%5B43.67597%2C%20-79.40191%5D%2C%20%5B43.67678%2C%20-79.3996%5D%2C%20%5B43.6772%2C%20-79.39758%5D%2C%20%5B43.67759%2C%20-79.39773%5D%2C%20%5B43.67912%2C%20-79.39041%5D%2C%20%5B43.68308%2C%20-79.39203%5D%2C%20%5B43.68333%2C%20-79.39079%5D%2C%20%5B43.68333%2C%20-79.39079%5D%2C%20%5B43.68308%2C%20-79.39203%5D%2C%20%5B43.69%2C%20-79.39487%5D%2C%20%5B43.75252%2C%20-79.40802%5D%2C%20%5B43.76047%2C%20-79.39622%5D%2C%20%5B43.7618%2C%20-79.39228%5D%2C%20%5B43.76197%2C%20-79.38679%5D%2C%20%5B43.76658%2C%20-79.38792%5D%2C%20%5B43.76735%2C%20-79.38493%5D%2C%20%5B43.76695%2C%20-79.38731%5D%2C%20%5B43.76695%2C%20-79.38732%5D%2C%20%5B43.73303%2C%20-79.38123%5D%2C%20%5B43.72734%2C%20-79.3819%5D%2C%20%5B43.72464%2C%20-79.37967%5D%2C%20%5B43.71096%2C%20-79.37716%5D%2C%20%5B43.69676%2C%20-79.37181%5D%2C%20%5B43.69357%2C%20-79.38461%5D%2C%20%5B43.68955%2C%20-79.383%5D%2C%20%5B43.68609%2C%20-79.38433%5D%2C%20%5B43.67965%2C%20-79.38146%5D%2C%20%5B43.67809%2C%20-79.38876%5D%2C%20%5B43.67809%2C%20-79.38876%5D%2C%20%5B43.67784%2C%20-79.38989%5D%2C%20%5B43.68918%2C%20-79.39455%5D%2C%20%5B43.69784%2C%20-79.39651%5D%2C%20%5B43.69784%2C%20-79.39651%5D%2C%20%5B43.69831%2C%20-79.3966%5D%2C%20%5B43.70299%2C%20-79.3741%5D%2C%20%5B43.70427%2C%20-79.37459%5D%2C%20%5B43.70495%2C%20-79.37037%5D%2C%20%5B43.70448%2C%20-79.3667%5D%2C%20%5B43.70258%2C%20-79.36197%5D%2C%20%5B43.70294%2C%20-79.36047%5D%2C%20%5B43.70188%2C%20-79.35846%5D%2C%20%5B43.70174%2C%20-79.35266%5D%2C%20%5B43.70092%2C%20-79.35152%5D%2C%20%5B43.69717%2C%20-79.34927%5D%2C%20%5B43.69566%2C%20-79.34388%5D%2C%20%5B43.69472%2C%20-79.3431%5D%2C%20%5B43.70007%2C%20-79.31913%5D%2C%20%5B43.6857%2C%20-79.31278%5D%2C%20%5B43.68846%2C%20-79.30051%5D%2C%20%5B43.68846%2C%20-79.30051%5D%2C%20%5B43.68042%2C%20-79.33729%5D%2C%20%5B43.67626%2C%20-79.35864%5D%2C%20%5B43.67626%2C%20-79.35864%5D%2C%20%5B43.67469%2C%20-79.3667%5D%2C%20%5B43.67196%2C%20-79.37084%5D%2C%20%5B43.67155%2C%20-79.37091%5D%2C%20%5B43.66818%2C%20-79.36955%5D%2C%20%5B43.66711%2C%20-79.37456%5D%2C%20%5B43.66649%2C%20-79.37584%5D%2C%20%5B43.66652%2C%20-79.3773%5D%2C%20%5B43.66505%2C%20-79.38395%5D%2C%20%5B43.66574%2C%20-79.38423%5D%2C%20%5B43.66574%2C%20-79.38423%5D%2C%20%5B43.66595%2C%20-79.38431%5D%2C%20%5B43.66582%2C%20-79.38493%5D%2C%20%5B43.66148%2C%20-79.38312%5D%2C%20%5B43.66126%2C%20-79.38307%5D%2C%20%5B43.66126%2C%20-79.38307%5D%2C%20%5B43.65974%2C%20-79.38239%5D%2C%20%5B43.66494%2C%20-79.38456%5D%2C%20%5B43.66652%2C%20-79.3773%5D%2C%20%5B43.66649%2C%20-79.37584%5D%2C%20%5B43.66708%2C%20-79.37467%5D%2C%20%5B43.66818%2C%20-79.36955%5D%2C%20%5B43.67177%2C%20-79.37092%5D%2C%20%5B43.67196%2C%20-79.37084%5D%2C%20%5B43.67449%2C%20-79.36715%5D%2C%20%5B43.67469%2C%20-79.3667%5D%2C%20%5B43.67755%2C%20-79.35195%5D%2C%20%5B43.67913%2C%20-79.35255%5D%2C%20%5B43.67913%2C%20-79.35255%5D%2C%20%5B43.6818%2C%20-79.35355%5D%2C%20%5B43.68203%2C%20-79.35233%5D%2C%20%5B43.6778%2C%20-79.35074%5D%2C%20%5B43.67746%2C%20-79.35241%5D%2C%20%5B43.67746%2C%20-79.35241%5D%2C%20%5B43.67714%2C%20-79.35404%5D%2C%20%5B43.67403%2C%20-79.35274%5D%2C%20%5B43.67391%2C%20-79.35336%5D%2C%20%5B43.67257%2C%20-79.35289%5D%2C%20%5B43.67199%2C%20-79.35491%5D%2C%20%5B43.66946%2C%20-79.35302%5D%2C%20%5B43.66739%2C%20-79.35342%5D%2C%20%5B43.65702%2C%20-79.34925%5D%2C%20%5B43.65702%2C%20-79.35129%5D%2C%20%5B43.65657%2C%20-79.35315%5D%2C%20%5B43.65468%2C%20-79.35715%5D%2C%20%5B43.65282%2C%20-79.36038%5D%2C%20%5B43.65195%2C%20-79.3612%5D%2C%20%5B43.64986%2C%20-79.37021%5D%2C%20%5B43.64877%2C%20-79.37325%5D%2C%20%5B43.64785%2C%20-79.37735%5D%2C%20%5B43.64686%2C%20-79.37694%5D%2C%20%5B43.64651%2C%20-79.37756%5D%2C%20%5B43.64529%2C%20-79.38253%5D%2C%20%5B43.64597%2C%20-79.38274%5D%2C%20%5B43.64645%2C%20-79.38061%5D%2C%20%5B43.64668%2C%20-79.38069%5D%2C%20%5B43.64668%2C%20-79.38069%5D%2C%20%5B43.64709%2C%20-79.38084%5D%2C%20%5B43.64639%2C%20-79.38409%5D%2C%20%5B43.64565%2C%20-79.38357%5D%2C%20%5B43.64518%2C%20-79.38242%5D%2C%20%5B43.64179%2C%20-79.38101%5D%2C%20%5B43.64008%2C%20-79.38519%5D%2C%20%5B43.63795%2C%20-79.39738%5D%2C%20%5B43.63807%2C%20-79.40247%5D%2C%20%5B43.63737%2C%20-79.41261%5D%2C%20%5B43.63311%2C%20-79.42832%5D%2C%20%5B43.63289%2C%20-79.43124%5D%2C%20%5B43.63337%2C%20-79.43459%5D%2C%20%5B43.64047%2C%20-79.43726%5D%2C%20%5B43.64059%2C%20-79.43665%5D%2C%20%5B43.6469%2C%20-79.43909%5D%2C%20%5B43.65029%2C%20-79.43976%5D%2C%20%5B43.65825%2C%20-79.44275%5D%2C%20%5B43.65825%2C%20-79.44275%5D%2C%20%5B43.64966%2C%20-79.48305%5D%2C%20%5B43.64925%2C%20-79.48464%5D%2C%20%5B43.64812%2C%20-79.48611%5D%2C%20%5B43.64776%2C%20-79.48773%5D%2C%20%5B43.64789%2C%20-79.49017%5D%2C%20%5B43.64976%2C%20-79.49596%5D%2C%20%5B43.65012%2C%20-79.49889%5D%2C%20%5B43.6477%2C%20-79.51001%5D%2C%20%5B43.64987%2C%20-79.51097%5D%2C%20%5B43.64987%2C%20-79.51097%5D%2C%20%5B43.6477%2C%20-79.51001%5D%2C%20%5B43.64601%2C%20-79.51742%5D%2C%20%5B43.64555%2C%20-79.51978%5D%2C%20%5B43.64545%2C%20-79.51993%5D%2C%20%5B43.64519%2C%20-79.52116%5D%2C%20%5B43.64503%2C%20-79.52109%5D%2C%20%5B43.64503%2C%20-79.52109%5D%2C%20%5B43.64519%2C%20-79.52116%5D%2C%20%5B43.65008%2C%20-79.49877%5D%2C%20%5B43.64976%2C%20-79.49596%5D%2C%20%5B43.64789%2C%20-79.49017%5D%2C%20%5B43.6478%2C%20-79.4874%5D%2C%20%5B43.64824%2C%20-79.48588%5D%2C%20%5B43.64932%2C%20-79.48444%5D%2C%20%5B43.65321%2C%20-79.46687%5D%2C%20%5B43.65418%2C%20-79.4673%5D%2C%20%5B43.65418%2C%20-79.4673%5D%2C%20%5B43.65321%2C%20-79.46687%5D%2C%20%5B43.65475%2C%20-79.45981%5D%2C%20%5B43.65475%2C%20-79.45981%5D%2C%20%5B43.64938%2C%20-79.48421%5D%2C%20%5B43.64911%2C%20-79.48488%5D%2C%20%5B43.64812%2C%20-79.48611%5D%2C%20%5B43.64776%2C%20-79.48773%5D%2C%20%5B43.64789%2C%20-79.49017%5D%2C%20%5B43.64958%2C%20-79.49533%5D%2C%20%5B43.64981%2C%20-79.49525%5D%2C%20%5B43.65055%2C%20-79.49555%5D%2C%20%5B43.65126%2C%20-79.49552%5D%2C%20%5B43.65125%2C%20-79.4949%5D%2C%20%5B43.65125%2C%20-79.4949%5D%2C%20%5B43.65161%2C%20-79.48979%5D%2C%20%5B43.6508%2C%20-79.48958%5D%2C%20%5B43.65108%2C%20-79.48825%5D%2C%20%5B43.65345%2C%20-79.48905%5D%2C%20%5B43.65401%2C%20-79.48641%5D%2C%20%5B43.66719%2C%20-79.49176%5D%2C%20%5B43.67788%2C%20-79.44304%5D%2C%20%5B43.69626%2C%20-79.45074%5D%2C%20%5B43.70702%2C%20-79.45321%5D%2C%20%5B43.70922%2C%20-79.44275%5D%2C%20%5B43.70922%2C%20-79.44275%5D%2C%20%5B43.709%2C%20-79.4438%5D%2C%20%5B43.69802%2C%20-79.43935%5D%2C%20%5B43.69783%2C%20-79.44022%5D%2C%20%5B43.6908%2C%20-79.43749%5D%2C%20%5B43.68951%2C%20-79.43501%5D%2C%20%5B43.68881%2C%20-79.43213%5D%2C%20%5B43.68878%2C%20-79.42666%5D%2C%20%5B43.68741%2C%20-79.42313%5D%2C%20%5B43.68662%2C%20-79.42233%5D%2C%20%5B43.68343%2C%20-79.42098%5D%2C%20%5B43.68272%2C%20-79.42001%5D%2C%20%5B43.68804%2C%20-79.39408%5D%2C%20%5B43.67287%2C%20-79.38784%5D%2C%20%5B43.67215%2C%20-79.38531%5D%2C%20%5B43.67221%2C%20-79.38385%5D%2C%20%5B43.67104%2C%20-79.38314%5D%2C%20%5B43.67246%2C%20-79.37625%5D%2C%20%5B43.6719%2C%20-79.37121%5D%2C%20%5B43.67381%2C%20-79.36815%5D%2C%20%5B43.67436%2C%20-79.36862%5D%2C%20%5B43.67435%2C%20-79.36862%5D%2C%20%5B43.67393%2C%20-79.36832%5D%2C%20%5B43.67381%2C%20-79.36815%5D%2C%20%5B43.67196%2C%20-79.37084%5D%2C%20%5B43.67177%2C%20-79.37092%5D%2C%20%5B43.67155%2C%20-79.37091%5D%2C%20%5B43.66818%2C%20-79.36955%5D%2C%20%5B43.66711%2C%20-79.37456%5D%2C%20%5B43.66704%2C%20-79.37478%5D%2C%20%5B43.66662%2C%20-79.37544%5D%2C%20%5B43.66649%2C%20-79.37584%5D%2C%20%5B43.66644%2C%20-79.37649%5D%2C%20%5B43.66652%2C%20-79.3773%5D%2C%20%5B43.66571%2C%20-79.38094%5D%2C%20%5B43.66464%2C%20-79.3805%5D%2C%20%5B43.66461%2C%20-79.3806%5D%5D%2C%0A%20%20%20%20%20%20%20%20%20%20%20%20%20%20%7B%22bubblingMouseEvents%22%3A%20true%2C%20%22color%22%3A%20%22red%22%2C%20%22dashArray%22%3A%20%5B1%2C%2010%5D%2C%20%22dashOffset%22%3A%20null%2C%20%22delay%22%3A%201000%2C%20%22fill%22%3A%20false%2C%20%22fillColor%22%3A%20%22red%22%2C%20%22fillOpacity%22%3A%200.2%2C%20%22fillRule%22%3A%20%22evenodd%22%2C%20%22hardwareAcceleration%22%3A%20false%2C%20%22lineCap%22%3A%20%22round%22%2C%20%22lineJoin%22%3A%20%22round%22%2C%20%22noClip%22%3A%20false%2C%20%22opacity%22%3A%200.5%2C%20%22paused%22%3A%20false%2C%20%22pulseColor%22%3A%20%22orange%22%2C%20%22reverse%22%3A%20false%2C%20%22smoothFactor%22%3A%201.0%2C%20%22stroke%22%3A%20true%2C%20%22weight%22%3A%205%7D%0A%20%20%20%20%20%20%20%20%29.addTo%28map_10391a7165704a978e48dbe9406f07fe%29%3B%0A%20%20%20%20%20%20%20%20%0A%3C/script%3E onload=\"this.contentDocument.open();this.contentDocument.write(    decodeURIComponent(this.getAttribute('data-html')));this.contentDocument.close();\" allowfullscreen webkitallowfullscreen mozallowfullscreen></iframe></div></div>"
      ],
      "text/plain": [
       "<folium.folium.Map at 0x7f43ad22c340>"
      ]
     },
     "execution_count": 19,
     "metadata": {},
     "output_type": "execute_result"
    }
   ],
   "source": [
    "costs = fitness(population, trip_matrix)\n",
    "route = max(population,key= lambda x: costs[population.index(x)])\n",
    "print(\"Cost of route:\", costs[population.index(route)])\n",
    "# expand the route\n",
    "route = expand_route(route,pickup_nodes,dropoff_nodes)\n",
    "\n",
    "from smart_mobility_utilities.poi import drawRouteOrder\n",
    "# define marker colors\n",
    "colors = []\n",
    "for stop in route:\n",
    "    if stop in depot_nodes:\n",
    "        colors.append('blue')\n",
    "    if stop in pickup_nodes:\n",
    "        colors.append('green')\n",
    "    if stop in dropoff_nodes:\n",
    "        colors.append('red')\n",
    "drawRouteOrder([x.coordinates[::-1] for x in route],route,range(1,len(route)+1), colors=colors)\n",
    "\n"
   ]
  },
  {
   "cell_type": "markdown",
   "metadata": {},
   "source": [
    "As you can see, this solution prioritizes finding pickup locations that are close to previous dropoff locations, thus minimizing time driving without a passenger."
   ]
  },
  {
   "cell_type": "markdown",
   "metadata": {},
   "source": [
    "## Solution using genetic algorithm (n vehicles, n>1)\n",
    "\n",
    "If we approach this problem using $n$ vehicles, it is essentially a problem of:\n",
    "* how to allocate trips to each vehicle\n",
    "* how to order the trips for each vehicle to maximize profit.\n",
    "\n",
    "Additionally, we now need to respect the limitation that once a vehicle is parked at a depot, the depot is considered \"full\" and cannot accomodate another vehicle. This means that the $n$ vehicles must start at different locations and end at different locations."
   ]
  },
  {
   "cell_type": "markdown",
   "metadata": {},
   "source": [
    "### Random Solution Generation (Initial Population)\n",
    "There are some challenges to generating the initial population when using multiple vehicles. We are constrained by the available depots, as well as the fact that for $n$ vehicles, each vehicle must have at least one trip (otherwise the solution would not contain $n$ active vehicles).\n"
   ]
  },
  {
   "cell_type": "code",
   "execution_count": 64,
   "metadata": {},
   "outputs": [],
   "source": [
    "# Distribute the stops across n vehicles\n",
    "from pprint import pprint\n",
    "def distribute_stops(n, stops):\n",
    "    vehicles = []\n",
    "    allocated = 0\n",
    "    available_stops = stops.copy()\n",
    "    maximum = len(stops) - n + 1 # We initially can't allocate more than this to one stop\n",
    "    for i in range(n):\n",
    "        to_allocate = random.randint(1,maximum)\n",
    "        if i == n-1:\n",
    "            to_allocate = len(available_stops)\n",
    "        chosen = random.sample(available_stops,to_allocate)\n",
    "        [available_stops.pop(available_stops.index(x)) for x in chosen]\n",
    "        vehicles.append(chosen)\n",
    "        allocated += to_allocate\n",
    "        maximum = maximum-to_allocate+1\n",
    "    return vehicles\n"
   ]
  }
 ],
 "metadata": {
  "interpreter": {
   "hash": "a405b721b341898b1c612734a812e53b99bd4311cd409aa0073bcfbe1e3bbb80"
  },
  "kernelspec": {
   "display_name": "Python 3.8.10 64-bit ('book-env': venv)",
   "name": "python3"
  },
  "language_info": {
   "codemirror_mode": {
    "name": "ipython",
    "version": 3
   },
   "file_extension": ".py",
   "mimetype": "text/x-python",
   "name": "python",
   "nbconvert_exporter": "python",
   "pygments_lexer": "ipython3",
   "version": "3.8.10"
  },
  "orig_nbformat": 4
 },
 "nbformat": 4,
 "nbformat_minor": 2
}
